{
 "cells": [
  {
   "cell_type": "code",
   "execution_count": 1,
   "id": "a62e4fb5",
   "metadata": {},
   "outputs": [
    {
     "name": "stdout",
     "output_type": "stream",
     "text": [
      "Starting path:/Users/gregory/PROJECT_ML/PROJECT_AMINE/image-to-tex-OCR/Jupyter_Notebooks\n",
      "Current path:/Users/gregory/PROJECT_ML/PROJECT_AMINE/image-to-tex-OCR\n"
     ]
    }
   ],
   "source": [
    "# Here we take care of paths.\n",
    "\n",
    "from pathlib import Path\n",
    "import os\n",
    "print('Starting path:' + os.getcwd())\n",
    "if os.getcwd()[-16:] == 'image-to-tex-OCR':\n",
    "    pass\n",
    "else:\n",
    "    PATH = Path().resolve().parents[0]\n",
    "    os.chdir(PATH)\n",
    "\n",
    "# make sure you are in Paragraph_to_Tex folder\n",
    "print('Current path:' + os.getcwd())"
   ]
  },
  {
   "cell_type": "code",
   "execution_count": 2,
   "id": "9908b1c2",
   "metadata": {},
   "outputs": [],
   "source": [
    "from Data.Data_Module import Data_Module\n",
    "from Models.Printed_Tex_Transformer import ResNetTransformer\n",
    "from Lightning_Models.Printed_Tex_Lit_Model import LitResNetTransformer\n",
    "import numpy as np\n",
    "import pytorch_lightning as pl\n",
    "from pytorch_lightning import Trainer\n",
    "from PIL import Image\n",
    "import torch\n",
    "from pytorch_lightning.loggers import TensorBoardLogger\n",
    "from torchvision import transforms\n",
    "from PIL import Image\n",
    "from IPython.display import display, Math\n",
    "from Data.image_transforms import Image_Transforms\n",
    "import cv2\n",
    "import cv2\n",
    "import PIL\n",
    "import numpy as np\n",
    "transform = transforms.ToPILImage()\n",
    "\n",
    "\n",
    "dev = torch.device(\"cuda\") if torch.cuda.is_available() else torch.device(\"cpu\")\n"
   ]
  },
  {
   "cell_type": "code",
   "execution_count": 3,
   "id": "60d4cc7a",
   "metadata": {},
   "outputs": [],
   "source": [
    "# Generate Data Module by uploading images and formulas\n",
    "# images need to be in the folder Data/Data_Bank/generated_png_images\n",
    "# formulas need to be in Data/Data_Bank/final_png_formulas.txt\n",
    "# image filenames need to be in Data/Data_Bank/corresponding_png_images.txt\n",
    "\n",
    "dataset = Data_Module(stage = 'fit',\n",
    "                 set_max_label_length = 128,\n",
    "                 number_png_images_to_use_in_dataset=250*1000,\n",
    "                 labels_transform='default',\n",
    "                image_transform_name ='alb',\n",
    "                 train_val_fraction = 0.999,\n",
    "                   vocabulary_path = 'Data/Data_Bank/230k.json',\n",
    "                load_vocabulary = True,\n",
    "                      image_padding = True,\n",
    "                      max_width = 700,\n",
    "\n",
    "\n",
    "                 batch_size = 128,\n",
    "                num_workers = 8,\n",
    "                data_on_gpu = True,\n",
    "                )\n",
    "\n"
   ]
  },
  {
   "cell_type": "code",
   "execution_count": 4,
   "id": "8803846b",
   "metadata": {},
   "outputs": [
    {
     "name": "stdout",
     "output_type": "stream",
     "text": [
      "Vocabulary size: 579 \n",
      "Max label length: 130 \n",
      "Start <S> goes to index  0 \n",
      "End <E> goes to index  1 \n",
      "Padding <P> goes to index  2\n"
     ]
    }
   ],
   "source": [
    "print( \n",
    "    'Vocabulary size:',len(dataset.vocabulary),\n",
    "    '\\nMax label length:', dataset.max_label_length,\n",
    "    \"\\nStart <S> goes to index \",dataset.vocabulary['<S>'],\n",
    "      \"\\nEnd <E> goes to index \",dataset.vocabulary['<E>'],\n",
    "      \"\\nPadding <P> goes to index \",dataset.vocabulary['<P>'],\n",
    ")"
   ]
  },
  {
   "cell_type": "code",
   "execution_count": 5,
   "id": "1fb2d8ac",
   "metadata": {},
   "outputs": [],
   "source": [
    "MAX_RATIO = 15\n",
    "\n",
    "\n",
    "# HELPER FUNCTIONS\n",
    "def token_to_strings(tokens):\n",
    "    mapping = dataset.vocabulary\n",
    "    inverse_mapping =dataset.inverse_vocabulary\n",
    "    s=''\n",
    "    if tokens.shape[0] ==1:\n",
    "        tokens = tokens[0]\n",
    "    for number in tokens:\n",
    "        letter = inverse_mapping[number.item()]\n",
    "        s= s +\" \" + str(letter)\n",
    "    return s"
   ]
  },
  {
   "cell_type": "code",
   "execution_count": 6,
   "id": "2ac66c78",
   "metadata": {},
   "outputs": [
    {
     "name": "stderr",
     "output_type": "stream",
     "text": [
      "/Users/gregory/opt/anaconda3/lib/python3.9/site-packages/torchvision/models/_utils.py:208: UserWarning: The parameter 'pretrained' is deprecated since 0.13 and may be removed in the future, please use 'weights' instead.\n",
      "  warnings.warn(\n",
      "/Users/gregory/opt/anaconda3/lib/python3.9/site-packages/torchvision/models/_utils.py:223: UserWarning: Arguments other than a weight enum or `None` for 'weights' are deprecated since 0.13 and may be removed in the future. The current behavior is equivalent to passing `weights=None`.\n",
      "  warnings.warn(msg)\n"
     ]
    },
    {
     "ename": "RuntimeError",
     "evalue": "Error(s) in loading state_dict for ResNetTransformer:\n\tMissing key(s) in state_dict: \"backbone.4.2.conv1.weight\", \"backbone.4.2.bn1.weight\", \"backbone.4.2.bn1.bias\", \"backbone.4.2.bn1.running_mean\", \"backbone.4.2.bn1.running_var\", \"backbone.4.2.conv2.weight\", \"backbone.4.2.bn2.weight\", \"backbone.4.2.bn2.bias\", \"backbone.4.2.bn2.running_mean\", \"backbone.4.2.bn2.running_var\", \"backbone.5.2.conv1.weight\", \"backbone.5.2.bn1.weight\", \"backbone.5.2.bn1.bias\", \"backbone.5.2.bn1.running_mean\", \"backbone.5.2.bn1.running_var\", \"backbone.5.2.conv2.weight\", \"backbone.5.2.bn2.weight\", \"backbone.5.2.bn2.bias\", \"backbone.5.2.bn2.running_mean\", \"backbone.5.2.bn2.running_var\", \"backbone.5.3.conv1.weight\", \"backbone.5.3.bn1.weight\", \"backbone.5.3.bn1.bias\", \"backbone.5.3.bn1.running_mean\", \"backbone.5.3.bn1.running_var\", \"backbone.5.3.conv2.weight\", \"backbone.5.3.bn2.weight\", \"backbone.5.3.bn2.bias\", \"backbone.5.3.bn2.running_mean\", \"backbone.5.3.bn2.running_var\", \"backbone.6.2.conv1.weight\", \"backbone.6.2.bn1.weight\", \"backbone.6.2.bn1.bias\", \"backbone.6.2.bn1.running_mean\", \"backbone.6.2.bn1.running_var\", \"backbone.6.2.conv2.weight\", \"backbone.6.2.bn2.weight\", \"backbone.6.2.bn2.bias\", \"backbone.6.2.bn2.running_mean\", \"backbone.6.2.bn2.running_var\", \"backbone.6.3.conv1.weight\", \"backbone.6.3.bn1.weight\", \"backbone.6.3.bn1.bias\", \"backbone.6.3.bn1.running_mean\", \"backbone.6.3.bn1.running_var\", \"backbone.6.3.conv2.weight\", \"backbone.6.3.bn2.weight\", \"backbone.6.3.bn2.bias\", \"backbone.6.3.bn2.running_mean\", \"backbone.6.3.bn2.running_var\", \"backbone.6.4.conv1.weight\", \"backbone.6.4.bn1.weight\", \"backbone.6.4.bn1.bias\", \"backbone.6.4.bn1.running_mean\", \"backbone.6.4.bn1.running_var\", \"backbone.6.4.conv2.weight\", \"backbone.6.4.bn2.weight\", \"backbone.6.4.bn2.bias\", \"backbone.6.4.bn2.running_mean\", \"backbone.6.4.bn2.running_var\", \"backbone.6.5.conv1.weight\", \"backbone.6.5.bn1.weight\", \"backbone.6.5.bn1.bias\", \"backbone.6.5.bn1.running_mean\", \"backbone.6.5.bn1.running_var\", \"backbone.6.5.conv2.weight\", \"backbone.6.5.bn2.weight\", \"backbone.6.5.bn2.bias\", \"backbone.6.5.bn2.running_mean\", \"backbone.6.5.bn2.running_var\". \n\tsize mismatch for image_positional_encoder.pe: copying a param with shape torch.Size([128, 1920, 1920]) from checkpoint, the shape in current model is torch.Size([128, 1024, 1024]).",
     "output_type": "error",
     "traceback": [
      "\u001b[0;31m---------------------------------------------------------------------------\u001b[0m",
      "\u001b[0;31mRuntimeError\u001b[0m                              Traceback (most recent call last)",
      "Input \u001b[0;32mIn [6]\u001b[0m, in \u001b[0;36m<cell line: 2>\u001b[0;34m()\u001b[0m\n\u001b[1;32m      1\u001b[0m model \u001b[38;5;241m=\u001b[39m ResNetTransformer(dataset\u001b[38;5;241m=\u001b[39mdataset)\u001b[38;5;241m.\u001b[39mto(dev)\n\u001b[0;32m----> 2\u001b[0m \u001b[43mmodel\u001b[49m\u001b[38;5;241;43m.\u001b[39;49m\u001b[43mload_state_dict\u001b[49m\u001b[43m(\u001b[49m\u001b[43mtorch\u001b[49m\u001b[38;5;241;43m.\u001b[39;49m\u001b[43mload\u001b[49m\u001b[43m(\u001b[49m\u001b[43m(\u001b[49m\u001b[38;5;124;43m\"\u001b[39;49m\u001b[38;5;124;43mModels_Parameters_Log/Collate2_final.pth\u001b[39;49m\u001b[38;5;124;43m\"\u001b[39;49m\u001b[43m)\u001b[49m\u001b[43m,\u001b[49m\u001b[43m \u001b[49m\u001b[43mmap_location\u001b[49m\u001b[38;5;241;43m=\u001b[39;49m\u001b[43mtorch\u001b[49m\u001b[38;5;241;43m.\u001b[39;49m\u001b[43mdevice\u001b[49m\u001b[43m(\u001b[49m\u001b[38;5;124;43m'\u001b[39;49m\u001b[38;5;124;43mcpu\u001b[39;49m\u001b[38;5;124;43m'\u001b[39;49m\u001b[43m)\u001b[49m\u001b[43m)\u001b[49m\u001b[43m)\u001b[49m\n\u001b[1;32m      3\u001b[0m lit_model \u001b[38;5;241m=\u001b[39m LitResNetTransformer(model\u001b[38;5;241m=\u001b[39mmodel, WandB\u001b[38;5;241m=\u001b[39m\u001b[38;5;28;01mFalse\u001b[39;00m)\n\u001b[1;32m      4\u001b[0m lit_model\u001b[38;5;241m.\u001b[39mfreeze()\n",
      "File \u001b[0;32m~/opt/anaconda3/lib/python3.9/site-packages/torch/nn/modules/module.py:1671\u001b[0m, in \u001b[0;36mModule.load_state_dict\u001b[0;34m(self, state_dict, strict)\u001b[0m\n\u001b[1;32m   1666\u001b[0m         error_msgs\u001b[38;5;241m.\u001b[39minsert(\n\u001b[1;32m   1667\u001b[0m             \u001b[38;5;241m0\u001b[39m, \u001b[38;5;124m'\u001b[39m\u001b[38;5;124mMissing key(s) in state_dict: \u001b[39m\u001b[38;5;132;01m{}\u001b[39;00m\u001b[38;5;124m. \u001b[39m\u001b[38;5;124m'\u001b[39m\u001b[38;5;241m.\u001b[39mformat(\n\u001b[1;32m   1668\u001b[0m                 \u001b[38;5;124m'\u001b[39m\u001b[38;5;124m, \u001b[39m\u001b[38;5;124m'\u001b[39m\u001b[38;5;241m.\u001b[39mjoin(\u001b[38;5;124m'\u001b[39m\u001b[38;5;124m\"\u001b[39m\u001b[38;5;132;01m{}\u001b[39;00m\u001b[38;5;124m\"\u001b[39m\u001b[38;5;124m'\u001b[39m\u001b[38;5;241m.\u001b[39mformat(k) \u001b[38;5;28;01mfor\u001b[39;00m k \u001b[38;5;129;01min\u001b[39;00m missing_keys)))\n\u001b[1;32m   1670\u001b[0m \u001b[38;5;28;01mif\u001b[39;00m \u001b[38;5;28mlen\u001b[39m(error_msgs) \u001b[38;5;241m>\u001b[39m \u001b[38;5;241m0\u001b[39m:\n\u001b[0;32m-> 1671\u001b[0m     \u001b[38;5;28;01mraise\u001b[39;00m \u001b[38;5;167;01mRuntimeError\u001b[39;00m(\u001b[38;5;124m'\u001b[39m\u001b[38;5;124mError(s) in loading state_dict for \u001b[39m\u001b[38;5;132;01m{}\u001b[39;00m\u001b[38;5;124m:\u001b[39m\u001b[38;5;130;01m\\n\u001b[39;00m\u001b[38;5;130;01m\\t\u001b[39;00m\u001b[38;5;132;01m{}\u001b[39;00m\u001b[38;5;124m'\u001b[39m\u001b[38;5;241m.\u001b[39mformat(\n\u001b[1;32m   1672\u001b[0m                        \u001b[38;5;28mself\u001b[39m\u001b[38;5;241m.\u001b[39m\u001b[38;5;18m__class__\u001b[39m\u001b[38;5;241m.\u001b[39m\u001b[38;5;18m__name__\u001b[39m, \u001b[38;5;124m\"\u001b[39m\u001b[38;5;130;01m\\n\u001b[39;00m\u001b[38;5;130;01m\\t\u001b[39;00m\u001b[38;5;124m\"\u001b[39m\u001b[38;5;241m.\u001b[39mjoin(error_msgs)))\n\u001b[1;32m   1673\u001b[0m \u001b[38;5;28;01mreturn\u001b[39;00m _IncompatibleKeys(missing_keys, unexpected_keys)\n",
      "\u001b[0;31mRuntimeError\u001b[0m: Error(s) in loading state_dict for ResNetTransformer:\n\tMissing key(s) in state_dict: \"backbone.4.2.conv1.weight\", \"backbone.4.2.bn1.weight\", \"backbone.4.2.bn1.bias\", \"backbone.4.2.bn1.running_mean\", \"backbone.4.2.bn1.running_var\", \"backbone.4.2.conv2.weight\", \"backbone.4.2.bn2.weight\", \"backbone.4.2.bn2.bias\", \"backbone.4.2.bn2.running_mean\", \"backbone.4.2.bn2.running_var\", \"backbone.5.2.conv1.weight\", \"backbone.5.2.bn1.weight\", \"backbone.5.2.bn1.bias\", \"backbone.5.2.bn1.running_mean\", \"backbone.5.2.bn1.running_var\", \"backbone.5.2.conv2.weight\", \"backbone.5.2.bn2.weight\", \"backbone.5.2.bn2.bias\", \"backbone.5.2.bn2.running_mean\", \"backbone.5.2.bn2.running_var\", \"backbone.5.3.conv1.weight\", \"backbone.5.3.bn1.weight\", \"backbone.5.3.bn1.bias\", \"backbone.5.3.bn1.running_mean\", \"backbone.5.3.bn1.running_var\", \"backbone.5.3.conv2.weight\", \"backbone.5.3.bn2.weight\", \"backbone.5.3.bn2.bias\", \"backbone.5.3.bn2.running_mean\", \"backbone.5.3.bn2.running_var\", \"backbone.6.2.conv1.weight\", \"backbone.6.2.bn1.weight\", \"backbone.6.2.bn1.bias\", \"backbone.6.2.bn1.running_mean\", \"backbone.6.2.bn1.running_var\", \"backbone.6.2.conv2.weight\", \"backbone.6.2.bn2.weight\", \"backbone.6.2.bn2.bias\", \"backbone.6.2.bn2.running_mean\", \"backbone.6.2.bn2.running_var\", \"backbone.6.3.conv1.weight\", \"backbone.6.3.bn1.weight\", \"backbone.6.3.bn1.bias\", \"backbone.6.3.bn1.running_mean\", \"backbone.6.3.bn1.running_var\", \"backbone.6.3.conv2.weight\", \"backbone.6.3.bn2.weight\", \"backbone.6.3.bn2.bias\", \"backbone.6.3.bn2.running_mean\", \"backbone.6.3.bn2.running_var\", \"backbone.6.4.conv1.weight\", \"backbone.6.4.bn1.weight\", \"backbone.6.4.bn1.bias\", \"backbone.6.4.bn1.running_mean\", \"backbone.6.4.bn1.running_var\", \"backbone.6.4.conv2.weight\", \"backbone.6.4.bn2.weight\", \"backbone.6.4.bn2.bias\", \"backbone.6.4.bn2.running_mean\", \"backbone.6.4.bn2.running_var\", \"backbone.6.5.conv1.weight\", \"backbone.6.5.bn1.weight\", \"backbone.6.5.bn1.bias\", \"backbone.6.5.bn1.running_mean\", \"backbone.6.5.bn1.running_var\", \"backbone.6.5.conv2.weight\", \"backbone.6.5.bn2.weight\", \"backbone.6.5.bn2.bias\", \"backbone.6.5.bn2.running_mean\", \"backbone.6.5.bn2.running_var\". \n\tsize mismatch for image_positional_encoder.pe: copying a param with shape torch.Size([128, 1920, 1920]) from checkpoint, the shape in current model is torch.Size([128, 1024, 1024])."
     ]
    }
   ],
   "source": [
    "model = ResNetTransformer(dataset=dataset).to(dev)\n",
    "model.load_state_dict(torch.load((\"Models_Parameters_Log/Collate2_final.pth\"), map_location=torch.device('cpu')))\n",
    "lit_model = LitResNetTransformer(model=model, WandB=False)\n",
    "lit_model.eval()\n",
    "lit_model.freeze()\n",
    "scripted_save = lit_model.to_torchscript()\n",
    "torch.jit.save(scripted_save, \"Models_Parameters_Log/scripted_model1.pt\")\n"
   ]
  },
  {
   "cell_type": "code",
   "execution_count": null,
   "id": "8ac25f7d",
   "metadata": {},
   "outputs": [],
   "source": [
    "scripted = torch.jit.load(\"Models_Parameters_Log/scripted_model1.pt\")"
   ]
  },
  {
   "cell_type": "code",
   "execution_count": null,
   "id": "e841b9c8",
   "metadata": {},
   "outputs": [],
   "source": [
    "image_path= \"Jupyter_Notebooks/test_photos/0a0df4c4229b725.png\"\n",
    "image = Image.open(image_path).convert('RGB')\n",
    "\n",
    "\n",
    "\n",
    "h, w, c = image.shape\n",
    "print(h,w,c)\n",
    "\n",
    "\n",
    "image_tensor = Image_Transforms.test_transform_with_padding(image=np.array(image))['image'][:1]\n",
    "\n",
    "print(image_tensor.shape)\n",
    "print(display(transform(image_tensor))) \n",
    "c, h, w = image_tensor.shape\n",
    "\n",
    "\n",
    "\n",
    "padded_images = torch.zeros(( 1, h, w))\n",
    "padded_images[ :,  :  h,  :  w] = image_tensor\n",
    "image_tensor = padded_images\n",
    "print(display(transform(image_tensor)))\n",
    "\n",
    "\n",
    "\n",
    "\n",
    "#prediction =  scripted_model(my_image_tensor.unsqueeze(0).to(dev))\n",
    "print('\\nPredicted formula:')\n",
    "prediction =  scripted(image_tensor.unsqueeze(0))\n",
    "print(token_to_strings(prediction))\n",
    "print(display(Math(token_to_strings(prediction))))"
   ]
  },
  {
   "cell_type": "code",
   "execution_count": 7,
   "id": "9f340dfd",
   "metadata": {},
   "outputs": [
    {
     "name": "stdout",
     "output_type": "stream",
     "text": [
      "116 516 3\n",
      "58\n",
      "torch.Size([1, 58, 258])\n"
     ]
    },
    {
     "data": {
      "image/png": "[encoded data removed]",
      "text/plain": [
       "<PIL.Image.Image image mode=L size=258x58>"
      ]
     },
     "metadata": {},
     "output_type": "display_data"
    },
    {
     "name": "stdout",
     "output_type": "stream",
     "text": [
      "None\n",
      "\n",
      "Predicted formula:\n"
     ]
    },
    {
     "ename": "NameError",
     "evalue": "name 'scripted' is not defined",
     "output_type": "error",
     "traceback": [
      "\u001b[0;31m---------------------------------------------------------------------------\u001b[0m",
      "\u001b[0;31mNameError\u001b[0m                                 Traceback (most recent call last)",
      "Input \u001b[0;32mIn [7]\u001b[0m, in \u001b[0;36m<cell line: 33>\u001b[0;34m()\u001b[0m\n\u001b[1;32m     23\u001b[0m \u001b[38;5;66;03m#padded_images = torch.zeros(( 1, h, w))\u001b[39;00m\n\u001b[1;32m     24\u001b[0m \u001b[38;5;66;03m#padded_images[ :,  :  h,  :  w] = image_tensor\u001b[39;00m\n\u001b[1;32m     25\u001b[0m \n\u001b[0;32m   (...)\u001b[0m\n\u001b[1;32m     30\u001b[0m \n\u001b[1;32m     31\u001b[0m \u001b[38;5;66;03m#prediction =  scripted_model(my_image_tensor.unsqueeze(0).to(dev))\u001b[39;00m\n\u001b[1;32m     32\u001b[0m \u001b[38;5;28mprint\u001b[39m(\u001b[38;5;124m'\u001b[39m\u001b[38;5;130;01m\\n\u001b[39;00m\u001b[38;5;124mPredicted formula:\u001b[39m\u001b[38;5;124m'\u001b[39m)\n\u001b[0;32m---> 33\u001b[0m prediction \u001b[38;5;241m=\u001b[39m  \u001b[43mscripted\u001b[49m(image_tensor\u001b[38;5;241m.\u001b[39munsqueeze(\u001b[38;5;241m0\u001b[39m))\n\u001b[1;32m     34\u001b[0m \u001b[38;5;28mprint\u001b[39m(token_to_strings(prediction))\n\u001b[1;32m     35\u001b[0m \u001b[38;5;28mprint\u001b[39m(display(Math(token_to_strings(prediction))))\n",
      "\u001b[0;31mNameError\u001b[0m: name 'scripted' is not defined"
     ]
    }
   ],
   "source": [
    "image_path= \"Jupyter_Notebooks/test_photos/zarhin.png\"\n",
    "image = Image.open(image_path).convert('RGB')\n",
    "image = np.asarray(image)\n",
    "\n",
    "\n",
    "h, w, c = image.shape\n",
    "print(h,w,c)\n",
    "\n",
    "ratio = int(w/h)\n",
    "h_new  = h//2\n",
    "w_new = w//2\n",
    "print(h_new)\n",
    "image = cv2.resize(image, (w_new, h_new), interpolation=cv2.INTER_LINEAR)\n",
    "\n",
    "image_tensor = Image_Transforms.test_transform_with_padding(image=np.array(image))['image'][:1]\n",
    "\n",
    "print(image_tensor.shape)\n",
    "print(display(transform(image_tensor))) \n",
    "c, h, w = image_tensor.shape\n",
    "\n",
    "\n",
    "\n",
    "#padded_images = torch.zeros(( 1, h, w))\n",
    "#padded_images[ :,  :  h,  :  w] = image_tensor\n",
    "\n",
    "#print(display(transform(padded_images)))\n",
    "\n",
    "\n",
    "\n",
    "\n",
    "#prediction =  scripted_model(my_image_tensor.unsqueeze(0).to(dev))\n",
    "print('\\nPredicted formula:')\n",
    "prediction =  scripted(image_tensor.unsqueeze(0))\n",
    "print(token_to_strings(prediction))\n",
    "print(display(Math(token_to_strings(prediction))))"
   ]
  },
  {
   "cell_type": "code",
   "execution_count": null,
   "id": "26a7297a",
   "metadata": {},
   "outputs": [],
   "source": [
    "image_path= \"Jupyter_Notebooks/test_photos/zarhin.png\"\n",
    "image = Image.open(image_path).convert('RGB')\n",
    "image = np.asarray(image)\n",
    "\n",
    "\n",
    "h, w, c = image.shape\n",
    "print(h,w,c)\n",
    "\n",
    "image =  cv2.resize(image, (0, 0), fx=.5, fy=.5,  interpolation=cv2.INTER_AREA)\n",
    "\n",
    "image_tensor = Image_Transforms.test_transform_with_padding(image=np.array(image))['image'][:1]\n",
    "\n",
    "print(image_tensor.shape)\n",
    "print(display(transform(image_tensor))) \n",
    "c, h, w = image_tensor.shape\n",
    "\n",
    "\n",
    "\n",
    "#padded_images = torch.zeros(( 1, h, w))\n",
    "#padded_images[ :,  :  h,  :  w] = image_tensor\n",
    "\n",
    "#print(display(transform(padded_images)))\n",
    "\n",
    "\n",
    "\n",
    "\n",
    "#prediction =  scripted_model(my_image_tensor.unsqueeze(0).to(dev))\n",
    "print('\\nPredicted formula:')\n",
    "prediction =  scripted(image_tensor.unsqueeze(0))\n",
    "print(token_to_strings(prediction))\n",
    "print(display(Math(token_to_strings(prediction))))"
   ]
  },
  {
   "cell_type": "code",
   "execution_count": null,
   "id": "d941a43d",
   "metadata": {},
   "outputs": [],
   "source": [
    "image_path= \"Jupyter_Notebooks/test_photos/screenshot_1.png\"\n",
    "image = Image.open(image_path).convert('RGB')\n",
    "image = np.asarray(image)\n",
    "\n",
    "\n",
    "h, w, c = image.shape\n",
    "print(h,w,c)\n",
    "\n",
    "ratio = int(w/h)\n",
    "h_new  = h//2\n",
    "w_new = w//2\n",
    "print(h_new)\n",
    "image = cv2.resize(image, (w_new, h_new), interpolation=cv2.INTER_LINEAR)\n",
    "\n",
    "image_tensor = Image_Transforms.test_transform_with_padding(image=np.array(image))['image'][:1]\n",
    "\n",
    "print(image_tensor.shape)\n",
    "print(display(transform(image_tensor))) \n",
    "c, h, w = image_tensor.shape\n",
    "\n",
    "\n",
    "\n",
    "#padded_images = torch.zeros(( 1, h, w))\n",
    "#padded_images[ :,  :  h,  :  w] = image_tensor\n",
    "\n",
    "#print(display(transform(padded_images)))\n",
    "\n",
    "\n",
    "\n",
    "\n",
    "#prediction =  scripted_model(my_image_tensor.unsqueeze(0).to(dev))\n",
    "print('\\nPredicted formula:')\n",
    "prediction =  scripted(image_tensor.unsqueeze(0))\n",
    "print(token_to_strings(prediction))\n",
    "print(display(Math(token_to_strings(prediction))))"
   ]
  },
  {
   "cell_type": "code",
   "execution_count": null,
   "id": "364a4f45",
   "metadata": {},
   "outputs": [],
   "source": [
    "image_path= \"Jupyter_Notebooks/test_photos/0a0df4c4229b725.png\"\n",
    "image = Image.open(image_path).convert('RGB')\n",
    "image = np.asarray(image)\n",
    "\n",
    "\n",
    "h, w, c = image.shape\n",
    "print(h,w,c)\n",
    "\n",
    "ratio = int(w/h)\n",
    "h_new  = 64\n",
    "w_new = int(h_new*ratio)\n",
    "print(h_new)\n",
    "image = cv2.resize(image, (w_new, h_new), interpolation=cv2.INTER_AREA)\n",
    "\n",
    "image_tensor = Image_Transforms.test_transform_with_padding(image=np.array(image))['image'][:1]\n",
    "\n",
    "print(image_tensor.shape)\n",
    "print(display(transform(image_tensor))) \n",
    "c, h, w = image_tensor.shape\n",
    "\n",
    "\n",
    "\n",
    "padded_images = torch.zeros(( 1, h, w))\n",
    "padded_images[ :,  :  h,  :  w] = image_tensor\n",
    "\n",
    "print(display(transform(padded_images)))\n",
    "\n",
    "\n",
    "\n",
    "\n",
    "#prediction =  scripted_model(my_image_tensor.unsqueeze(0).to(dev))\n",
    "print('\\nPredicted formula:')\n",
    "prediction =  scripted(padded_images.unsqueeze(0))\n",
    "print(token_to_strings(prediction))\n",
    "print(display(Math(token_to_strings(prediction))))"
   ]
  },
  {
   "cell_type": "code",
   "execution_count": null,
   "id": "22ec13ab",
   "metadata": {},
   "outputs": [],
   "source": [
    "image_path= \"Jupyter_Notebooks/test_photos/screenshot_3.png\"\n",
    "image = Image.open(image_path).convert('RGB')\n",
    "image = np.asarray(image)\n",
    "\n",
    "\n",
    "h, w, c = image.shape\n",
    "print(h,w,c)\n",
    "\n",
    "ratio = int(w/h)\n",
    "h_new  = h//3\n",
    "w_new = w//3\n",
    "print(h_new)\n",
    "image = cv2.resize(image, (w_new, h_new), interpolation=cv2.INTER_LINEAR)\n",
    "\n",
    "image_tensor = Image_Transforms.train_transform_with_padding(image=np.array(image))['image'][:1]\n",
    "\n",
    "print(image_tensor.shape)\n",
    "print(display(transform(image_tensor))) \n",
    "c, h, w = image_tensor.shape\n",
    "\n",
    "\n",
    "\n",
    "padded_images = torch.zeros(( 1, h, w))\n",
    "padded_images[ :,  :  h,  :  w] = image_tensor\n",
    "\n",
    "print(display(transform(padded_images)))\n",
    "\n",
    "\n",
    "\n",
    "\n",
    "#prediction =  scripted_model(my_image_tensor.unsqueeze(0).to(dev))\n",
    "print('\\nPredicted formula:')\n",
    "prediction =  scripted(padded_images.unsqueeze(0))\n",
    "print(token_to_strings(prediction))\n",
    "print(display(Math(token_to_strings(prediction))))"
   ]
  },
  {
   "cell_type": "code",
   "execution_count": null,
   "id": "32324406",
   "metadata": {},
   "outputs": [],
   "source": [
    "image_path= \"Jupyter_Notebooks/test_photos/0a0ebebfb1f6ab3.png\"\n",
    "image = Image.open(image_path).convert('RGB')\n",
    "image = np.asarray(image)\n",
    "print(display(transform(image)))\n",
    "\n",
    "\n",
    "h, w, c = image.shape\n",
    "ratio = int(w/h)\n",
    "h_new  = 64\n",
    "w_new = int(h_new*ratio)\n",
    "print(h_new)\n",
    "image = cv2.resize(image, (w_new, h_new), interpolation=cv2.INTER_AREA)\n",
    "\n",
    "    \n",
    "image_tensor = Image_Transforms.test_transform_with_padding(image=np.array(image))['image'][:1]\n",
    "print(image_tensor.shape)\n",
    "print(display(transform(image_tensor))) \n",
    "\n",
    "#prediction =  scripted_model(my_image_tensor.unsqueeze(0).to(dev))\n",
    "print('\\nPredicted formula:')\n",
    "prediction =  scripted(image_tensor.unsqueeze(0))\n",
    "print(token_to_strings(prediction))\n",
    "print(display(Math(token_to_strings(prediction))))"
   ]
  },
  {
   "cell_type": "code",
   "execution_count": null,
   "id": "144414e1",
   "metadata": {},
   "outputs": [],
   "source": [
    "image_path=  \"Jupyter_Notebooks/test_photos/Screen Shot_11.png\"\n",
    "image = Image.open(image_path).convert('RGB')\n",
    "image = np.asarray(image)\n",
    "\n",
    "\n",
    "h, w, c = image.shape\n",
    "print(h,w,c)\n",
    "\n",
    "ratio = int(w/h)\n",
    "h_new  = h//2\n",
    "w_new = w//2\n",
    "print(h_new)\n",
    "image = cv2.resize(image, (w_new, h_new), interpolation=cv2.INTER_AREA)\n",
    "\n",
    "image_tensor = Image_Transforms.test_transform_with_padding(image=np.array(image))['image'][:1]\n",
    "\n",
    "print(image_tensor.shape)\n",
    "print(display(transform(image_tensor))) \n",
    "c, h, w = image_tensor.shape\n",
    "\n",
    "\n",
    "\n",
    "padded_images = torch.zeros(( 1, h, w))\n",
    "padded_images[ :,  :  h,  :  w] = image_tensor\n",
    "\n",
    "print(display(transform(padded_images)))\n",
    "\n",
    "\n",
    "\n",
    "\n",
    "#prediction =  scripted_model(my_image_tensor.unsqueeze(0).to(dev))\n",
    "print('\\nPredicted formula:')\n",
    "prediction =  scripted(padded_images.unsqueeze(0))\n",
    "print(token_to_strings(prediction))\n",
    "print(display(Math(token_to_strings(prediction))))"
   ]
  },
  {
   "cell_type": "code",
   "execution_count": null,
   "id": "5b64a871",
   "metadata": {},
   "outputs": [],
   "source": [
    "image_path= \"Jupyter_Notebooks/test_photos/Screen Shot_14.png\"\n",
    "image = Image.open(image_path).convert('RGB')\n",
    "image = np.asarray(image)\n",
    "\n",
    "\n",
    "h, w, c = image.shape\n",
    "print(h,w,c)\n",
    "\n",
    "ratio = int(w/h)\n",
    "h_new  = h//2\n",
    "w_new = w//2\n",
    "print(h_new)\n",
    "image = cv2.resize(image, (w_new, h_new), interpolation=cv2.INTER_AREA)\n",
    "\n",
    "image_tensor = Image_Transforms.test_transform_with_padding(image=np.array(image))['image'][:1]\n",
    "\n",
    "print(image_tensor.shape)\n",
    "print(display(transform(image_tensor))) \n",
    "c, h, w = image_tensor.shape\n",
    "\n",
    "\n",
    "\n",
    "#padded_images = torch.zeros(( 1, h, w))\n",
    "#padded_images[ :,  :  h,  :  w] = image_tensor\n",
    "\n",
    "#print(display(transform(padded_images)))\n",
    "\n",
    "\n",
    "\n",
    "\n",
    "#prediction =  scripted_model(my_image_tensor.unsqueeze(0).to(dev))\n",
    "print('\\nPredicted formula:')\n",
    "prediction =  scripted(image_tensor.unsqueeze(0))\n",
    "print(token_to_strings(prediction))\n",
    "print(display(Math(token_to_strings(prediction))))"
   ]
  },
  {
   "cell_type": "code",
   "execution_count": null,
   "id": "d672cdb9",
   "metadata": {},
   "outputs": [],
   "source": [
    "image_path= \"Jupyter_Notebooks/test_photos/Screen Shot_12.png\"\n",
    "image = Image.open(image_path).convert('RGB')\n",
    "image = np.asarray(image)\n",
    "print(display(transform(image)))\n",
    "\n",
    "\n",
    "h, w, c = image.shape\n",
    "\n",
    "\n",
    "    \n",
    "image_tensor = Image_Transforms.test_transform_with_padding(image=np.array(image))['image'][:1]\n",
    "print(image_tensor.shape)\n",
    "print(display(transform(image_tensor))) \n",
    "\n",
    "#prediction =  scripted_model(my_image_tensor.unsqueeze(0).to(dev))\n",
    "print('\\nPredicted formula:')\n",
    "prediction =  scripted(image_tensor.unsqueeze(0))\n",
    "print(token_to_strings(prediction))\n",
    "print(display(Math(token_to_strings(prediction))))"
   ]
  },
  {
   "cell_type": "code",
   "execution_count": null,
   "id": "1ecb913d",
   "metadata": {},
   "outputs": [],
   "source": [
    "image_path= \"Jupyter_Notebooks/test_photos/Screen Shot_13.png\"\n",
    "image = Image.open(image_path).convert('RGB')\n",
    "image = np.asarray(image)\n",
    "\n",
    "\n",
    "h, w, c = image.shape\n",
    "print(h,w,c)\n",
    "\n",
    "#ratio = int(w/h)\n",
    "#h_new  = 64\n",
    "#w_new = int(h_new*ratio)\n",
    "#print(h_new)\n",
    "#image = cv2.resize(image, (w_new, h_new), interpolation=cv2.INTER_AREA)\n",
    "\n",
    "image_tensor = Image_Transforms.test_transform_with_padding(image=np.array(image))['image'][:1]\n",
    "\n",
    "print(image_tensor.shape)\n",
    "print(display(transform(image_tensor))) \n",
    "c, h, w = image_tensor.shape\n",
    "\n",
    "\n",
    "\n",
    "padded_images = torch.zeros(( 1, h, w))\n",
    "padded_images[ :,  :  h,  :  w] = image_tensor\n",
    "\n",
    "print(display(transform(padded_images)))\n",
    "\n",
    "\n",
    "\n",
    "\n",
    "#prediction =  scripted_model(my_image_tensor.unsqueeze(0).to(dev))\n",
    "print('\\nPredicted formula:')\n",
    "prediction =  scripted(padded_images.unsqueeze(0))\n",
    "print(token_to_strings(prediction))\n",
    "print(display(Math(token_to_strings(prediction))))"
   ]
  },
  {
   "cell_type": "code",
   "execution_count": null,
   "id": "13967559",
   "metadata": {},
   "outputs": [],
   "source": [
    "image_path= \"Jupyter_Notebooks/test_photos/Screen Shot_10.png\"\n",
    "image = Image.open(image_path).convert('RGB')\n",
    "image = np.asarray(image)\n",
    "\n",
    "\n",
    "h, w, c = image.shape\n",
    "print(h,w,c)\n",
    "\n",
    "ratio = int(w/h)\n",
    "h_new  = 100\n",
    "w_new = int(h_new*ratio)\n",
    "print(h_new)\n",
    "image = cv2.resize(image, (w_new, h_new), interpolation=cv2.INTER_AREA)\n",
    "\n",
    "image_tensor = Image_Transforms.test_transform_with_padding(image=np.array(image))['image'][:1]\n",
    "\n",
    "print(image_tensor.shape)\n",
    "print(display(transform(image_tensor))) \n",
    "c, h, w = image_tensor.shape\n",
    "\n",
    "\n",
    "\n",
    "padded_images = torch.zeros(( 1, h, w))\n",
    "padded_images[ :,  :  h,  :  w] = image_tensor\n",
    "\n",
    "print(display(transform(padded_images)))\n",
    "\n",
    "\n",
    "\n",
    "\n",
    "#prediction =  scripted_model(my_image_tensor.unsqueeze(0).to(dev))\n",
    "print('\\nPredicted formula:')\n",
    "prediction =  scripted(padded_images.unsqueeze(0))\n",
    "print(token_to_strings(prediction))\n",
    "print(display(Math(token_to_strings(prediction))))"
   ]
  },
  {
   "cell_type": "code",
   "execution_count": null,
   "id": "0937814e",
   "metadata": {},
   "outputs": [],
   "source": [
    "image_path= \"Jupyter_Notebooks/test_photos/Screen Shot_13.png\"\n",
    "image = Image.open(image_path).convert('RGB')\n",
    "image = np.asarray(image)\n",
    "\n",
    "\n",
    "h, w, c = image.shape\n",
    "print(h,w,c)\n",
    "\n",
    "#ratio = int(w/h)\n",
    "#h_new  = 100\n",
    "#w_new = h_new*ratio\n",
    "#print(h_new)\n",
    "#image = cv2.resize(image, (w_new, h_new), interpolation=cv2.INTER_LINEAR)\n",
    "\n",
    "image_tensor = Image_Transforms.test_transform_with_padding(image=np.array(image))['image'][:1]\n",
    "\n",
    "print(image_tensor.shape)\n",
    "print(display(transform(image_tensor))) \n",
    "#c, h, w = image_tensor.shape\n",
    "\n",
    "\n",
    "\n",
    "#padded_images = torch.zeros(( 1, h, w))\n",
    "#padded_images[ :,  :  h,  :  w] = image_tensor\n",
    "\n",
    "#print(display(transform(padded_images)))\n",
    "\n",
    "\n",
    "\n",
    "\n",
    "#prediction =  scripted_model(my_image_tensor.unsqueeze(0).to(dev))\n",
    "print('\\nPredicted formula:')\n",
    "prediction =  scripted(image_tensor.unsqueeze(0))\n",
    "print(token_to_strings(prediction))\n",
    "print(display(Math(token_to_strings(prediction))))"
   ]
  },
  {
   "cell_type": "code",
   "execution_count": null,
   "id": "35fb8d07",
   "metadata": {},
   "outputs": [],
   "source": [
    "image_path= \"Jupyter_Notebooks/test_photos/Screen Shot_13.png\"\n",
    "image = Image.open(image_path).convert('RGB')\n",
    "image.size\n",
    "print(image.size)\n",
    "w_new = w//2\n",
    "h_new = h//2\n",
    "image = image.resize((w_new, h_new), resample=Image.Resampling.BILINEAR)\n",
    "print(image.size)\n",
    "print(display(image)) \n"
   ]
  },
  {
   "cell_type": "code",
   "execution_count": 32,
   "id": "29502cc7",
   "metadata": {},
   "outputs": [
    {
     "name": "stdout",
     "output_type": "stream",
     "text": [
      "(202, 1774, 3)\n",
      "(101, 887, 3)\n",
      "torch.Size([1, 101, 887])\n"
     ]
    },
    {
     "data": {
      "image/png": "[encoded data removed]",
      "text/plain": [
       "<PIL.Image.Image image mode=L size=887x101>"
      ]
     },
     "metadata": {},
     "output_type": "display_data"
    },
    {
     "name": "stdout",
     "output_type": "stream",
     "text": [
      "None\n"
     ]
    }
   ],
   "source": [
    "image_path= \"Jupyter_Notebooks/test_photos/Screen Shot_13.png\"\n",
    "image = cv2.imread(image_path)\n",
    "image = cv2.cvtColor(image, cv2.COLOR_BGR2RGB)\n",
    "print(image.shape)\n",
    "image = cv2.resize(image, (0,0), fx=0.5, fy=0.5,interpolation=cv2.INTER_LINEAR)\n",
    "print(image.shape)\n",
    "\n",
    "image_tensor = Image_Transforms.test_transform_with_padding(image=np.array(image))['image'][:1]\n",
    "print(image_tensor.shape)\n",
    "print(display(transform(image_tensor))) "
   ]
  },
  {
   "cell_type": "code",
   "execution_count": 38,
   "id": "f7a731a4",
   "metadata": {},
   "outputs": [
    {
     "name": "stdout",
     "output_type": "stream",
     "text": [
      "(23, 57, 3)\n",
      "(69, 171, 3)\n",
      "torch.Size([1, 69, 171])\n"
     ]
    },
    {
     "data": {
      "image/png": "[encoded data removed]",
      "text/plain": [
       "<PIL.Image.Image image mode=L size=171x69>"
      ]
     },
     "metadata": {},
     "output_type": "display_data"
    },
    {
     "name": "stdout",
     "output_type": "stream",
     "text": [
      "None\n"
     ]
    }
   ],
   "source": [
    "image_path= image_path= \"Jupyter_Notebooks/test_photos/0a0ebebfb1f6ab3.png\"\n",
    "image = cv2.imread(image_path)\n",
    "image = cv2.cvtColor(image, cv2.COLOR_BGR2RGB)\n",
    "print(image.shape)\n",
    "image = cv2.resize(image, (0,0), fx=3, fy=3, interpolation=cv2.INTER_CUBIC)\n",
    "print(image.shape)\n",
    "\n",
    "image_tensor = Image_Transforms.test_transform_with_padding(image=np.array(image))['image'][:1]\n",
    "print(image_tensor.shape)\n",
    "print(display(transform(image_tensor)))"
   ]
  },
  {
   "cell_type": "code",
   "execution_count": null,
   "id": "fd592595",
   "metadata": {},
   "outputs": [],
   "source": [
    "import torchvision"
   ]
  },
  {
   "cell_type": "code",
   "execution_count": null,
   "id": "b8a3499c",
   "metadata": {},
   "outputs": [],
   "source": [
    "from torchvision import models\n",
    "from torch import nn"
   ]
  },
  {
   "cell_type": "code",
   "execution_count": null,
   "id": "7a366cdd",
   "metadata": {},
   "outputs": [],
   "source": [
    "resnet = models.resnet34(pretrained=False)"
   ]
  },
  {
   "cell_type": "code",
   "execution_count": null,
   "id": "94a1e139",
   "metadata": {},
   "outputs": [],
   "source": [
    "backbone1 = nn.Sequential(\n",
    "            resnet.conv1,\n",
    "            resnet.bn1,\n",
    "            resnet.relu,\n",
    "            resnet.maxpool,\n",
    "            resnet.layer1,\n",
    "            resnet.layer2,\n",
    "            resnet.layer3,\n",
    ")\n",
    "\n",
    "backbone2 = nn.Sequential(\n",
    "            resnet.conv1,\n",
    "            resnet.bn1,\n",
    "            resnet.relu,\n",
    "            resnet.maxpool,\n",
    "            resnet.layer1,\n",
    "            resnet.layer2,\n",
    "            resnet.layer3,\n",
    "    resnet.layer4\n",
    ")"
   ]
  },
  {
   "cell_type": "code",
   "execution_count": null,
   "id": "745d6355",
   "metadata": {},
   "outputs": [],
   "source": []
  },
  {
   "cell_type": "code",
   "execution_count": null,
   "id": "e90795fa",
   "metadata": {
    "scrolled": false
   },
   "outputs": [],
   "source": [
    "backbone1"
   ]
  },
  {
   "cell_type": "code",
   "execution_count": null,
   "id": "566e8933",
   "metadata": {},
   "outputs": [],
   "source": []
  }
 ],
 "metadata": {
  "kernelspec": {
   "display_name": "Python 3 (ipykernel)",
   "language": "python",
   "name": "python3"
  },
  "language_info": {
   "codemirror_mode": {
    "name": "ipython",
    "version": 3
   },
   "file_extension": ".py",
   "mimetype": "text/x-python",
   "name": "python",
   "nbconvert_exporter": "python",
   "pygments_lexer": "ipython3",
   "version": "3.9.13"
  }
 },
 "nbformat": 4,
 "nbformat_minor": 5
}
