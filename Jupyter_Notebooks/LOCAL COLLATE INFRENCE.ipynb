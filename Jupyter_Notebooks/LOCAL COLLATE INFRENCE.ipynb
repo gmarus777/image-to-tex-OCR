{
 "cells": [
  {
   "cell_type": "code",
   "execution_count": 1,
   "id": "81ba7fd5",
   "metadata": {},
   "outputs": [
    {
     "name": "stdout",
     "output_type": "stream",
     "text": [
      "Starting path:/Users/gregory/PROJECT_ML/PROJECT_AMINE/image-to-tex-OCR/Jupyter_Notebooks\n",
      "Current path:/Users/gregory/PROJECT_ML/PROJECT_AMINE/image-to-tex-OCR\n"
     ]
    }
   ],
   "source": [
    "# Here we take care of paths.\n",
    "\n",
    "from pathlib import Path\n",
    "import os\n",
    "print('Starting path:' + os.getcwd())\n",
    "if os.getcwd()[-16:] == 'image-to-tex-OCR':\n",
    "    pass\n",
    "else:\n",
    "    PATH = Path().resolve().parents[0]\n",
    "    os.chdir(PATH)\n",
    "\n",
    "# make sure you are in Paragraph_to_Tex folder\n",
    "print('Current path:' + os.getcwd())"
   ]
  },
  {
   "cell_type": "code",
   "execution_count": 65,
   "id": "6efb900f",
   "metadata": {},
   "outputs": [],
   "source": [
    "from Data.Data_Module import Data_Module\n",
    "from Models.Printed_Tex_Transformer import ResNetTransformer\n",
    "from Lightning_Models.Printed_Tex_Lit_Model import LitResNetTransformer\n",
    "import numpy as np\n",
    "import pytorch_lightning as pl\n",
    "from pytorch_lightning import Trainer\n",
    "from PIL import Image\n",
    "import torch\n",
    "from pytorch_lightning.loggers import TensorBoardLogger\n",
    "from torchvision import transforms\n",
    "from PIL import Image\n",
    "from IPython.display import display, Math\n",
    "from Data.image_transforms import Image_Transforms\n",
    "import cv2\n",
    "import cv2\n",
    "import PIL\n",
    "import numpy as np\n",
    "transform = transforms.ToPILImage()\n",
    "import imutils\n",
    "\n",
    "\n",
    "dev = torch.device(\"cuda\") if torch.cuda.is_available() else torch.device(\"cpu\")\n"
   ]
  },
  {
   "cell_type": "code",
   "execution_count": 3,
   "id": "07147099",
   "metadata": {},
   "outputs": [],
   "source": [
    "# Generate Data Module by uploading images and formulas\n",
    "# images need to be in the folder Data/Data_Bank/generated_png_images\n",
    "# formulas need to be in Data/Data_Bank/final_png_formulas.txt\n",
    "# image filenames need to be in Data/Data_Bank/corresponding_png_images.txt\n",
    "\n",
    "dataset = Data_Module(stage = 'fit',\n",
    "                 set_max_label_length = 128,\n",
    "                 number_png_images_to_use_in_dataset=250*1000,\n",
    "                 labels_transform='default',\n",
    "                image_transform_name ='alb',\n",
    "                 train_val_fraction = 0.999,\n",
    "                   vocabulary_path = 'Data/Data_Bank/230k.json',\n",
    "                load_vocabulary = True,\n",
    "                      image_padding = True,\n",
    "                      max_width = 700,\n",
    "\n",
    "\n",
    "                 batch_size = 128,\n",
    "                num_workers = 8,\n",
    "                data_on_gpu = True,\n",
    "                )\n",
    "\n"
   ]
  },
  {
   "cell_type": "code",
   "execution_count": 4,
   "id": "b3d3db68",
   "metadata": {},
   "outputs": [
    {
     "name": "stdout",
     "output_type": "stream",
     "text": [
      "Vocabulary size: 579 \n",
      "Max label length: 130 \n",
      "Start <S> goes to index  0 \n",
      "End <E> goes to index  1 \n",
      "Padding <P> goes to index  2\n"
     ]
    }
   ],
   "source": [
    "print( \n",
    "    'Vocabulary size:',len(dataset.vocabulary),\n",
    "    '\\nMax label length:', dataset.max_label_length,\n",
    "    \"\\nStart <S> goes to index \",dataset.vocabulary['<S>'],\n",
    "      \"\\nEnd <E> goes to index \",dataset.vocabulary['<E>'],\n",
    "      \"\\nPadding <P> goes to index \",dataset.vocabulary['<P>'],\n",
    ")"
   ]
  },
  {
   "cell_type": "code",
   "execution_count": 5,
   "id": "1bcc9727",
   "metadata": {},
   "outputs": [],
   "source": [
    "MAX_RATIO = 15\n",
    "\n",
    "\n",
    "# HELPER FUNCTIONS\n",
    "def token_to_strings(tokens):\n",
    "    mapping = dataset.vocabulary\n",
    "    inverse_mapping =dataset.inverse_vocabulary\n",
    "    s=''\n",
    "    if tokens.shape[0] ==1:\n",
    "        tokens = tokens[0]\n",
    "    for number in tokens:\n",
    "        letter = inverse_mapping[number.item()]\n",
    "        s= s +\" \" + str(letter)\n",
    "    return s"
   ]
  },
  {
   "cell_type": "code",
   "execution_count": 6,
   "id": "6f635465",
   "metadata": {},
   "outputs": [
    {
     "name": "stderr",
     "output_type": "stream",
     "text": [
      "/Users/gregory/opt/anaconda3/lib/python3.9/site-packages/torchvision/models/_utils.py:208: UserWarning: The parameter 'pretrained' is deprecated since 0.13 and may be removed in the future, please use 'weights' instead.\n",
      "  warnings.warn(\n",
      "/Users/gregory/opt/anaconda3/lib/python3.9/site-packages/torchvision/models/_utils.py:223: UserWarning: Arguments other than a weight enum or `None` for 'weights' are deprecated since 0.13 and may be removed in the future. The current behavior is equivalent to passing `weights=None`.\n",
      "  warnings.warn(msg)\n",
      "/Users/gregory/opt/anaconda3/lib/python3.9/site-packages/torch/jit/_recursive.py:262: UserWarning: 'batch_first' was found in ScriptModule constants, but was not actually set in __init__. Consider removing it.\n",
      "  warnings.warn(\"'{}' was found in ScriptModule constants, \"\n"
     ]
    }
   ],
   "source": [
    "model = ResNetTransformer(dataset=dataset).to(dev)\n",
    "model.load_state_dict(torch.load((\"Models_Parameters_Log/1024Collate1__mycollate_inverted.pth\"), map_location=torch.device('cpu')))\n",
    "lit_model = LitResNetTransformer(model=model, WandB=False)\n",
    "lit_model.eval()\n",
    "lit_model.freeze()\n",
    "scripted_save = lit_model.to_torchscript()\n",
    "torch.jit.save(scripted_save, \"Models_Parameters_Log/scripted_model1.pt\")\n"
   ]
  },
  {
   "cell_type": "code",
   "execution_count": 7,
   "id": "d59e62cf",
   "metadata": {},
   "outputs": [],
   "source": [
    "scripted = torch.jit.load(\"Models_Parameters_Log/scripted_model1.pt\")"
   ]
  },
  {
   "cell_type": "code",
   "execution_count": 8,
   "id": "b867e638",
   "metadata": {},
   "outputs": [
    {
     "name": "stdout",
     "output_type": "stream",
     "text": [
      "torch.Size([1, 41, 178])\n"
     ]
    },
    {
     "data": {
      "image/png": "[encoded data removed]",
      "text/plain": [
       "<PIL.Image.Image image mode=L size=178x41>"
      ]
     },
     "metadata": {},
     "output_type": "display_data"
    },
    {
     "name": "stdout",
     "output_type": "stream",
     "text": [
      "None\n",
      "\n",
      "Predicted formula:\n",
      " <S> h ( a , b , c ; \\eta ) = \\sum _ { n = 0 } ^ { \\infty } \\frac { ( a ) _ { n } ( b ) _ { n } ( b ) _ { n } } { n ! ( c ) _ { n } } \\eta ^ { n } , <E> <P> <P> <P> <P> <P> <P> <P> <P> <P> <P> <P> <P> <P> <P> <P> <P> <P> <P> <P> <P> <P> <P> <P> <P> <P> <P> <P> <P> <P> <P> <P> <P> <P> <P> <P> <P> <P> <P> <P> <P> <P> <P> <P> <P> <P> <P> <P> <P> <P> <P> <P> <P> <P> <P> <P> <P> <P> <P> <P> <P> <P> <P> <P> <P> <P>\n"
     ]
    },
    {
     "data": {
      "text/latex": [
       "$\\displaystyle  <S> h ( a , b , c ; \\eta ) = \\sum _ { n = 0 } ^ { \\infty } \\frac { ( a ) _ { n } ( b ) _ { n } ( b ) _ { n } } { n ! ( c ) _ { n } } \\eta ^ { n } , <E> <P> <P> <P> <P> <P> <P> <P> <P> <P> <P> <P> <P> <P> <P> <P> <P> <P> <P> <P> <P> <P> <P> <P> <P> <P> <P> <P> <P> <P> <P> <P> <P> <P> <P> <P> <P> <P> <P> <P> <P> <P> <P> <P> <P> <P> <P> <P> <P> <P> <P> <P> <P> <P> <P> <P> <P> <P> <P> <P> <P> <P> <P> <P> <P> <P>$"
      ],
      "text/plain": [
       "<IPython.core.display.Math object>"
      ]
     },
     "metadata": {},
     "output_type": "display_data"
    },
    {
     "name": "stdout",
     "output_type": "stream",
     "text": [
      "None\n"
     ]
    }
   ],
   "source": [
    "image_path= \"Jupyter_Notebooks/test_photos/0a0df4c4229b725.png\"\n",
    "image = Image.open(image_path).convert('RGB')\n",
    "image = np.asarray(image)\n",
    "image = cv2.bitwise_not(image)\n",
    "\n",
    "h, w, c = image.shape\n",
    "\n",
    "\n",
    "\n",
    "\n",
    "image_tensor = Image_Transforms.test_transform_with_padding(image=np.array(image))['image'][:1]\n",
    "\n",
    "print(image_tensor.shape)\n",
    "print(display(transform(image_tensor))) \n",
    "c, h, w = image_tensor.shape\n",
    "\n",
    "\n",
    "\n",
    "\n",
    "\n",
    "#prediction =  scripted_model(my_image_tensor.unsqueeze(0).to(dev))\n",
    "print('\\nPredicted formula:')\n",
    "prediction =  scripted(image_tensor.unsqueeze(0))\n",
    "print(token_to_strings(prediction))\n",
    "print(display(Math(token_to_strings(prediction))))"
   ]
  },
  {
   "cell_type": "code",
   "execution_count": 41,
   "id": "9458d39d",
   "metadata": {},
   "outputs": [
    {
     "name": "stdout",
     "output_type": "stream",
     "text": [
      "(116, 516, 3)\n",
      "0\n",
      "(116, 516, 3)\n",
      "torch.Size([1, 36, 160])\n"
     ]
    },
    {
     "data": {
      "image/png": "[encoded data removed]",
      "text/plain": [
       "<PIL.Image.Image image mode=L size=160x36>"
      ]
     },
     "metadata": {},
     "output_type": "display_data"
    },
    {
     "name": "stdout",
     "output_type": "stream",
     "text": [
      "None\n",
      "\n",
      "Predicted formula:\n",
      " <S> \\mathrm { P e r m } ( S ) \\cong S _ { n } . <E> <P> <P> <P> <P> <P> <P> <P> <P> <P> <P> <P> <P> <P> <P> <P> <P> <P> <P> <P> <P> <P> <P> <P> <P> <P> <P> <P> <P> <P> <P> <P> <P> <P> <P> <P> <P> <P> <P> <P> <P> <P> <P> <P> <P> <P> <P> <P> <P> <P> <P> <P> <P> <P> <P> <P> <P> <P> <P> <P> <P> <P> <P> <P> <P> <P> <P> <P> <P> <P> <P> <P> <P> <P> <P> <P> <P> <P> <P> <P> <P> <P> <P> <P> <P> <P> <P> <P> <P> <P> <P> <P> <P> <P> <P> <P> <P> <P> <P> <P> <P> <P> <P> <P> <P> <P> <P> <P> <P> <P> <P> <P>\n"
     ]
    },
    {
     "data": {
      "text/latex": [
       "$\\displaystyle  <S> \\mathrm { P e r m } ( S ) \\cong S _ { n } . <E> <P> <P> <P> <P> <P> <P> <P> <P> <P> <P> <P> <P> <P> <P> <P> <P> <P> <P> <P> <P> <P> <P> <P> <P> <P> <P> <P> <P> <P> <P> <P> <P> <P> <P> <P> <P> <P> <P> <P> <P> <P> <P> <P> <P> <P> <P> <P> <P> <P> <P> <P> <P> <P> <P> <P> <P> <P> <P> <P> <P> <P> <P> <P> <P> <P> <P> <P> <P> <P> <P> <P> <P> <P> <P> <P> <P> <P> <P> <P> <P> <P> <P> <P> <P> <P> <P> <P> <P> <P> <P> <P> <P> <P> <P> <P> <P> <P> <P> <P> <P> <P> <P> <P> <P> <P> <P> <P> <P> <P> <P> <P>$"
      ],
      "text/plain": [
       "<IPython.core.display.Math object>"
      ]
     },
     "metadata": {},
     "output_type": "display_data"
    },
    {
     "name": "stdout",
     "output_type": "stream",
     "text": [
      "None\n",
      " <S> \\mathrm { P e r m } ( S ) \\cong S _ { n } . <E> <P> <P> <P> <P> <P> <P> <P> <P> <P> <P> <P> <P> <P> <P> <P> <P> <P> <P> <P> <P> <P> <P> <P> <P> <P> <P> <P> <P> <P> <P> <P> <P> <P> <P> <P> <P> <P> <P> <P> <P> <P> <P> <P> <P> <P> <P> <P> <P> <P> <P> <P> <P> <P> <P> <P> <P> <P> <P> <P> <P> <P> <P> <P> <P> <P> <P> <P> <P> <P> <P> <P> <P> <P> <P> <P> <P> <P> <P> <P> <P> <P> <P> <P> <P> <P> <P> <P> <P> <P> <P> <P> <P> <P> <P> <P> <P> <P> <P> <P> <P> <P> <P> <P> <P> <P> <P> <P> <P> <P> <P> <P>\n"
     ]
    },
    {
     "data": {
      "text/latex": [
       "$\\displaystyle  <S> \\mathrm { P e r m } ( S ) \\cong S _ { n } . <E> <P> <P> <P> <P> <P> <P> <P> <P> <P> <P> <P> <P> <P> <P> <P> <P> <P> <P> <P> <P> <P> <P> <P> <P> <P> <P> <P> <P> <P> <P> <P> <P> <P> <P> <P> <P> <P> <P> <P> <P> <P> <P> <P> <P> <P> <P> <P> <P> <P> <P> <P> <P> <P> <P> <P> <P> <P> <P> <P> <P> <P> <P> <P> <P> <P> <P> <P> <P> <P> <P> <P> <P> <P> <P> <P> <P> <P> <P> <P> <P> <P> <P> <P> <P> <P> <P> <P> <P> <P> <P> <P> <P> <P> <P> <P> <P> <P> <P> <P> <P> <P> <P> <P> <P> <P> <P> <P> <P> <P> <P> <P>$"
      ],
      "text/plain": [
       "<IPython.core.display.Math object>"
      ]
     },
     "metadata": {},
     "output_type": "display_data"
    },
    {
     "name": "stdout",
     "output_type": "stream",
     "text": [
      "None\n"
     ]
    }
   ],
   "source": [
    "image_path= \"Jupyter_Notebooks/test_photos/zarhin.png\"\n",
    "image = Image.open(image_path).convert('RGB')\n",
    "image = np.asarray(image)\n",
    "image = cv2.bitwise_not(image)\n",
    "\n",
    "h, w, c = image.shape\n",
    "h, w, c = image.shape\n",
    "print(image.shape)\n",
    "nonzero_indices = np.nonzero(image)\n",
    "top = np.min(nonzero_indices[0])\n",
    "left = np.min(nonzero_indices[1])\n",
    "bottom = np.max(nonzero_indices[0])\n",
    "right = np.max(nonzero_indices[1])\n",
    "print(top)\n",
    "# Crop image\n",
    "cropped_image = image[top:bottom+1, left:right+1]\n",
    "print(cropped_image.shape)\n",
    "image = cropped_image\n",
    "\n",
    "image = cv2.resize(image, (0, 0), fx=.31, fy=.31,  interpolation=cv2.INTER_AREA)\n",
    "\n",
    "\n",
    "image_tensor = Image_Transforms.test_transform_with_padding(image=np.array(image))['image'][:1]\n",
    "\n",
    "print(image_tensor.shape)\n",
    "print(display(transform(image_tensor))) \n",
    "c, h, w = image_tensor.shape\n",
    "\n",
    "\n",
    "\n",
    "\n",
    "\n",
    "#prediction =  scripted_model(my_image_tensor.unsqueeze(0).to(dev))\n",
    "print('\\nPredicted formula:')\n",
    "prediction =  scripted(image_tensor.unsqueeze(0))\n",
    "print(token_to_strings(prediction))\n",
    "print(display(Math(token_to_strings(prediction))))\n",
    "\n",
    "\n",
    "with torch.no_grad():\n",
    "    model.eval()\n",
    "    my_prediction =  model.predict(image_tensor.unsqueeze(0).to(dev))\n",
    "print(token_to_strings(my_prediction))\n",
    "print(display(Math(token_to_strings(my_prediction))))"
   ]
  },
  {
   "cell_type": "code",
   "execution_count": 42,
   "id": "119d52a1",
   "metadata": {},
   "outputs": [
    {
     "name": "stdout",
     "output_type": "stream",
     "text": [
      "torch.Size([1, 47, 204])\n"
     ]
    },
    {
     "data": {
      "image/png": "[encoded data removed]",
      "text/plain": [
       "<PIL.Image.Image image mode=L size=204x47>"
      ]
     },
     "metadata": {},
     "output_type": "display_data"
    },
    {
     "name": "stdout",
     "output_type": "stream",
     "text": [
      "None\n",
      "\n",
      "Predicted formula:\n",
      " <S> p ( X = x _ { i } ) = \\sum _ { j = 1 } ^ { L } p ( X = x _ { i } , Y = y _ { i } , Y = y _ { j } ) <E> <P> <P> <P> <P> <P> <P> <P> <P> <P> <P> <P> <P> <P> <P> <P> <P> <P> <P> <P> <P> <P> <P> <P> <P> <P> <P> <P> <P> <P> <P> <P> <P> <P> <P> <P> <P> <P> <P> <P> <P> <P> <P> <P> <P> <P> <P> <P> <P> <P> <P> <P> <P> <P> <P> <P> <P> <P> <P> <P> <P> <P> <P> <P> <P> <P> <P> <P> <P> <P> <P> <P> <P> <P> <P> <P> <P> <P> <P> <P> <P>\n"
     ]
    },
    {
     "data": {
      "text/latex": [
       "$\\displaystyle  <S> p ( X = x _ { i } ) = \\sum _ { j = 1 } ^ { L } p ( X = x _ { i } , Y = y _ { i } , Y = y _ { j } ) <E> <P> <P> <P> <P> <P> <P> <P> <P> <P> <P> <P> <P> <P> <P> <P> <P> <P> <P> <P> <P> <P> <P> <P> <P> <P> <P> <P> <P> <P> <P> <P> <P> <P> <P> <P> <P> <P> <P> <P> <P> <P> <P> <P> <P> <P> <P> <P> <P> <P> <P> <P> <P> <P> <P> <P> <P> <P> <P> <P> <P> <P> <P> <P> <P> <P> <P> <P> <P> <P> <P> <P> <P> <P> <P> <P> <P> <P> <P> <P> <P>$"
      ],
      "text/plain": [
       "<IPython.core.display.Math object>"
      ]
     },
     "metadata": {},
     "output_type": "display_data"
    },
    {
     "name": "stdout",
     "output_type": "stream",
     "text": [
      "None\n",
      " <S> p ( X = x _ { i } ) = \\sum _ { j = 1 } ^ { L } p ( X = x _ { i } , Y = y _ { i } , Y = y _ { j } ) <E> <P> <P> <P> <P> <P> <P> <P> <P> <P> <P> <P> <P> <P> <P> <P> <P> <P> <P> <P> <P> <P> <P> <P> <P> <P> <P> <P> <P> <P> <P> <P> <P> <P> <P> <P> <P> <P> <P> <P> <P> <P> <P> <P> <P> <P> <P> <P> <P> <P> <P> <P> <P> <P> <P> <P> <P> <P> <P> <P> <P> <P> <P> <P> <P> <P> <P> <P> <P> <P> <P> <P> <P> <P> <P> <P> <P> <P> <P> <P> <P>\n"
     ]
    },
    {
     "data": {
      "text/latex": [
       "$\\displaystyle  <S> p ( X = x _ { i } ) = \\sum _ { j = 1 } ^ { L } p ( X = x _ { i } , Y = y _ { i } , Y = y _ { j } ) <E> <P> <P> <P> <P> <P> <P> <P> <P> <P> <P> <P> <P> <P> <P> <P> <P> <P> <P> <P> <P> <P> <P> <P> <P> <P> <P> <P> <P> <P> <P> <P> <P> <P> <P> <P> <P> <P> <P> <P> <P> <P> <P> <P> <P> <P> <P> <P> <P> <P> <P> <P> <P> <P> <P> <P> <P> <P> <P> <P> <P> <P> <P> <P> <P> <P> <P> <P> <P> <P> <P> <P> <P> <P> <P> <P> <P> <P> <P> <P> <P>$"
      ],
      "text/plain": [
       "<IPython.core.display.Math object>"
      ]
     },
     "metadata": {},
     "output_type": "display_data"
    },
    {
     "name": "stdout",
     "output_type": "stream",
     "text": [
      "None\n"
     ]
    }
   ],
   "source": [
    "image_path= \"Jupyter_Notebooks/test_photos/screenshot_1.png\"\n",
    "image = Image.open(image_path).convert('RGB')\n",
    "image = np.asarray(image)\n",
    "image = cv2.bitwise_not(image)\n",
    "\n",
    "h, w, c = image.shape\n",
    "\n",
    "\n",
    "image = cv2.resize(image, (0, 0), fx=.31, fy=.31,  interpolation=cv2.INTER_AREA)\n",
    "\n",
    "\n",
    "image_tensor = Image_Transforms.test_transform_with_padding(image=np.array(image))['image'][:1]\n",
    "\n",
    "print(image_tensor.shape)\n",
    "print(display(transform(image_tensor))) \n",
    "c, h, w = image_tensor.shape\n",
    "\n",
    "\n",
    "\n",
    "\n",
    "\n",
    "#prediction =  scripted_model(my_image_tensor.unsqueeze(0).to(dev))\n",
    "print('\\nPredicted formula:')\n",
    "prediction =  scripted(image_tensor.unsqueeze(0))\n",
    "print(token_to_strings(prediction))\n",
    "print(display(Math(token_to_strings(prediction))))\n",
    "\n",
    "\n",
    "with torch.no_grad():\n",
    "    model.eval()\n",
    "    my_prediction =  model.predict(image_tensor.unsqueeze(0).to(dev))\n",
    "print(token_to_strings(my_prediction))\n",
    "print(display(Math(token_to_strings(my_prediction))))"
   ]
  },
  {
   "cell_type": "code",
   "execution_count": 76,
   "id": "f1ffe103",
   "metadata": {},
   "outputs": [
    {
     "name": "stdout",
     "output_type": "stream",
     "text": [
      "(320, 1080, 3)\n",
      "(320, 1080, 3)\n",
      "torch.Size([1, 37, 124])\n"
     ]
    },
    {
     "data": {
      "image/png": "[encoded data removed]",
      "text/plain": [
       "<PIL.Image.Image image mode=L size=124x37>"
      ]
     },
     "metadata": {},
     "output_type": "display_data"
    },
    {
     "name": "stdout",
     "output_type": "stream",
     "text": [
      "None\n",
      "\n",
      "Predicted formula:\n",
      " <S> \\rho \\left( \\frac { \\partial v } { \\partial v } + v _ { v } \\right) = - v _ { p } + \\eta _ { p } + \\eta \\cdot \\tau + \\gamma + <E> <P> <P> <P> <P> <P> <P> <P> <P> <P> <P> <P> <P> <P> <P> <P> <P> <P> <P> <P> <P> <P> <P> <P> <P> <P> <P> <P> <P> <P> <P> <P> <P> <P> <P> <P> <P> <P> <P> <P> <P> <P> <P> <P> <P> <P> <P> <P> <P> <P> <P> <P> <P> <P> <P> <P> <P> <P> <P> <P> <P> <P> <P> <P> <P> <P> <P> <P> <P> <P> <P> <P> <P> <P> <P> <P> <P> <P> <P> <P> <P> <P> <P> <P> <P> <P> <P> <P> <P> <P> <P>\n"
     ]
    },
    {
     "data": {
      "text/latex": [
       "$\\displaystyle  <S> \\rho \\left( \\frac { \\partial v } { \\partial v } + v _ { v } \\right) = - v _ { p } + \\eta _ { p } + \\eta \\cdot \\tau + \\gamma + <E> <P> <P> <P> <P> <P> <P> <P> <P> <P> <P> <P> <P> <P> <P> <P> <P> <P> <P> <P> <P> <P> <P> <P> <P> <P> <P> <P> <P> <P> <P> <P> <P> <P> <P> <P> <P> <P> <P> <P> <P> <P> <P> <P> <P> <P> <P> <P> <P> <P> <P> <P> <P> <P> <P> <P> <P> <P> <P> <P> <P> <P> <P> <P> <P> <P> <P> <P> <P> <P> <P> <P> <P> <P> <P> <P> <P> <P> <P> <P> <P> <P> <P> <P> <P> <P> <P> <P> <P> <P> <P>$"
      ],
      "text/plain": [
       "<IPython.core.display.Math object>"
      ]
     },
     "metadata": {},
     "output_type": "display_data"
    },
    {
     "name": "stdout",
     "output_type": "stream",
     "text": [
      "None\n",
      " <S> \\rho \\left( \\frac { \\partial v } { \\partial v } + v _ { v } \\right) = - v _ { p } + \\eta _ { p } + \\eta \\cdot \\tau + \\gamma + <E> <P> <P> <P> <P> <P> <P> <P> <P> <P> <P> <P> <P> <P> <P> <P> <P> <P> <P> <P> <P> <P> <P> <P> <P> <P> <P> <P> <P> <P> <P> <P> <P> <P> <P> <P> <P> <P> <P> <P> <P> <P> <P> <P> <P> <P> <P> <P> <P> <P> <P> <P> <P> <P> <P> <P> <P> <P> <P> <P> <P> <P> <P> <P> <P> <P> <P> <P> <P> <P> <P> <P> <P> <P> <P> <P> <P> <P> <P> <P> <P> <P> <P> <P> <P> <P> <P> <P> <P> <P> <P>\n"
     ]
    },
    {
     "data": {
      "text/latex": [
       "$\\displaystyle  <S> \\rho \\left( \\frac { \\partial v } { \\partial v } + v _ { v } \\right) = - v _ { p } + \\eta _ { p } + \\eta \\cdot \\tau + \\gamma + <E> <P> <P> <P> <P> <P> <P> <P> <P> <P> <P> <P> <P> <P> <P> <P> <P> <P> <P> <P> <P> <P> <P> <P> <P> <P> <P> <P> <P> <P> <P> <P> <P> <P> <P> <P> <P> <P> <P> <P> <P> <P> <P> <P> <P> <P> <P> <P> <P> <P> <P> <P> <P> <P> <P> <P> <P> <P> <P> <P> <P> <P> <P> <P> <P> <P> <P> <P> <P> <P> <P> <P> <P> <P> <P> <P> <P> <P> <P> <P> <P> <P> <P> <P> <P> <P> <P> <P> <P> <P> <P>$"
      ],
      "text/plain": [
       "<IPython.core.display.Math object>"
      ]
     },
     "metadata": {},
     "output_type": "display_data"
    },
    {
     "name": "stdout",
     "output_type": "stream",
     "text": [
      "None\n"
     ]
    }
   ],
   "source": [
    "image_path= \"Jupyter_Notebooks/test_photos/screenshot_3.png\"\n",
    "image = Image.open(image_path).convert('RGB')\n",
    "image = np.asarray(image)\n",
    "image = cv2.bitwise_not(image)\n",
    "\n",
    "h, w, c = image.shape\n",
    "\n",
    "print(image.shape)\n",
    "nonzero_indices = np.nonzero(image)\n",
    "top = np.min(nonzero_indices[0])\n",
    "left = np.min(nonzero_indices[1])\n",
    "bottom = np.max(nonzero_indices[0])\n",
    "right = np.max(nonzero_indices[1])\n",
    "\n",
    "# Crop image\n",
    "cropped_image = image[top:bottom+1, left:right+1]\n",
    "print(cropped_image.shape)\n",
    "image = cropped_image\n",
    "a=.9\n",
    "#image = cv2.resize(image, (0, 0), fx=a, fy=a,  interpolation=cv2.INTER_AREA)\n",
    "image = imutils.resize(image, height=37)\n",
    "\n",
    "\n",
    "image_tensor = Image_Transforms.test_transform_with_padding(image=np.array(image))['image'][:1]\n",
    "\n",
    "print(image_tensor.shape)\n",
    "print(display(transform(image_tensor))) \n",
    "c, h, w = image_tensor.shape\n",
    "\n",
    "\n",
    "\n",
    "\n",
    "#prediction =  scripted_model(my_image_tensor.unsqueeze(0).to(dev))\n",
    "print('\\nPredicted formula:')\n",
    "prediction =  scripted(image_tensor.unsqueeze(0))\n",
    "print(token_to_strings(prediction))\n",
    "print(display(Math(token_to_strings(prediction))))\n",
    "\n",
    "\n",
    "with torch.no_grad():\n",
    "    model.eval()\n",
    "    my_prediction =  model.predict(image_tensor.unsqueeze(0).to(dev))\n",
    "print(token_to_strings(my_prediction))\n",
    "print(display(Math(token_to_strings(my_prediction))))"
   ]
  },
  {
   "cell_type": "code",
   "execution_count": 12,
   "id": "115bfbb5",
   "metadata": {},
   "outputs": [
    {
     "name": "stdout",
     "output_type": "stream",
     "text": [
      "torch.Size([1, 28, 68])\n"
     ]
    },
    {
     "data": {
      "image/png": "[encoded data removed]",
      "text/plain": [
       "<PIL.Image.Image image mode=L size=68x28>"
      ]
     },
     "metadata": {},
     "output_type": "display_data"
    },
    {
     "name": "stdout",
     "output_type": "stream",
     "text": [
      "None\n",
      "\n",
      "Predicted formula:\n",
      " <S> A \\, = \\, \\theta \\, = \\, \\theta \\, \\frac { - \\gamma - 2 } { \\sqrt { \\gamma - 2 } } \\, 2 \\, 2 } \\, = \\, 2 \\, 2 \\, 2 \\, 2 \\, 2 \\, 2 \\, = \\, \\, \\, \\, A \\, \\, \\, A \\, \\, \\, A \\, = \\, \\, A \\, \\, A \\, \\, A \\, \\, A \\, \\, \\, A \\, \\, A \\, \\, A \\, \\, A \\, \\, A \\, \\, A \\, \\, A \\, \\, \\, A \\, \\, \\, A \\, \\, \\, A \\, \\, A \\, \\, A \\, \\, \\, A \\, \\, \\, A \\, \\, \\, \\, A \\, \\, \\,\n"
     ]
    },
    {
     "data": {
      "text/latex": [
       "$\\displaystyle  <S> A \\, = \\, \\theta \\, = \\, \\theta \\, \\frac { - \\gamma - 2 } { \\sqrt { \\gamma - 2 } } \\, 2 \\, 2 } \\, = \\, 2 \\, 2 \\, 2 \\, 2 \\, 2 \\, 2 \\, = \\, \\, \\, \\, A \\, \\, \\, A \\, \\, \\, A \\, = \\, \\, A \\, \\, A \\, \\, A \\, \\, A \\, \\, \\, A \\, \\, A \\, \\, A \\, \\, A \\, \\, A \\, \\, A \\, \\, A \\, \\, \\, A \\, \\, \\, A \\, \\, \\, A \\, \\, A \\, \\, A \\, \\, \\, A \\, \\, \\, A \\, \\, \\, \\, A \\, \\, \\,$"
      ],
      "text/plain": [
       "<IPython.core.display.Math object>"
      ]
     },
     "metadata": {},
     "output_type": "display_data"
    },
    {
     "name": "stdout",
     "output_type": "stream",
     "text": [
      "None\n",
      " <S> A \\, = \\, \\theta \\, = \\, \\theta \\, \\frac { - \\gamma - 2 } { \\sqrt { \\gamma - 2 } } \\, 2 \\, 2 } \\, = \\, 2 \\, 2 \\, 2 \\, 2 \\, 2 \\, 2 \\, = \\, \\, \\, \\, A \\, \\, \\, A \\, \\, \\, A \\, = \\, \\, A \\, \\, A \\, \\, A \\, \\, A \\, \\, \\, A \\, \\, A \\, \\, A \\, \\, A \\, \\, A \\, \\, A \\, \\, A \\, \\, \\, A \\, \\, \\, A \\, \\, \\, A \\, \\, A \\, \\, A \\, \\, \\, A \\, \\, \\, A \\, \\, \\, \\, A \\, \\, \\,\n"
     ]
    },
    {
     "data": {
      "text/latex": [
       "$\\displaystyle  <S> A \\, = \\, \\theta \\, = \\, \\theta \\, \\frac { - \\gamma - 2 } { \\sqrt { \\gamma - 2 } } \\, 2 \\, 2 } \\, = \\, 2 \\, 2 \\, 2 \\, 2 \\, 2 \\, 2 \\, = \\, \\, \\, \\, A \\, \\, \\, A \\, \\, \\, A \\, = \\, \\, A \\, \\, A \\, \\, A \\, \\, A \\, \\, \\, A \\, \\, A \\, \\, A \\, \\, A \\, \\, A \\, \\, A \\, \\, A \\, \\, \\, A \\, \\, \\, A \\, \\, \\, A \\, \\, A \\, \\, A \\, \\, \\, A \\, \\, \\, A \\, \\, \\, \\, A \\, \\, \\,$"
      ],
      "text/plain": [
       "<IPython.core.display.Math object>"
      ]
     },
     "metadata": {},
     "output_type": "display_data"
    },
    {
     "name": "stdout",
     "output_type": "stream",
     "text": [
      "None\n"
     ]
    }
   ],
   "source": [
    "image_path= \"Jupyter_Notebooks/test_photos/0a0ebebfb1f6ab3.png\"\n",
    "image = Image.open(image_path).convert('RGB')\n",
    "image = np.asarray(image)\n",
    "image = cv2.bitwise_not(image)\n",
    "\n",
    "h, w, c = image.shape\n",
    "\n",
    "\n",
    "image = cv2.resize(image, (0, 0), fx=1.2, fy=1.2,  interpolation=cv2.INTER_AREA)\n",
    "\n",
    "\n",
    "image_tensor = Image_Transforms.test_transform_with_padding(image=np.array(image))['image'][:1]\n",
    "\n",
    "print(image_tensor.shape)\n",
    "print(display(transform(image_tensor))) \n",
    "c, h, w = image_tensor.shape\n",
    "\n",
    "\n",
    "\n",
    "\n",
    "\n",
    "#prediction =  scripted_model(my_image_tensor.unsqueeze(0).to(dev))\n",
    "print('\\nPredicted formula:')\n",
    "prediction =  scripted(image_tensor.unsqueeze(0))\n",
    "print(token_to_strings(prediction))\n",
    "print(display(Math(token_to_strings(prediction))))\n",
    "\n",
    "\n",
    "with torch.no_grad():\n",
    "    model.eval()\n",
    "    my_prediction =  model.predict(image_tensor.unsqueeze(0).to(dev))\n",
    "print(token_to_strings(my_prediction))\n",
    "print(display(Math(token_to_strings(my_prediction))))"
   ]
  },
  {
   "cell_type": "code",
   "execution_count": 13,
   "id": "7db8641e",
   "metadata": {},
   "outputs": [
    {
     "name": "stdout",
     "output_type": "stream",
     "text": [
      "(200, 1424, 3)\n",
      "(131, 1240, 3)\n",
      "torch.Size([1, 45, 422])\n"
     ]
    },
    {
     "data": {
      "image/png": "[encoded data removed]",
      "text/plain": [
       "<PIL.Image.Image image mode=L size=422x45>"
      ]
     },
     "metadata": {},
     "output_type": "display_data"
    },
    {
     "name": "stdout",
     "output_type": "stream",
     "text": [
      "None\n",
      "\n",
      "Predicted formula:\n",
      " <S> X ( t _ { 0 } ) = T _ { m - 1 } [ X ; t _ { 0 } ] ( t _ { 0 } ) + \\frac { 1 } { \\Gamma ( \\beta ) } \\sum _ { r = 0 } ^ { p - 1 } \\int _ { \\ell _ { r } } ^ { t _ { r + 1 } } ( t _ { R } - \\tau ) ^ { \\beta - 1 } F ( \\tau , X ( \\tau ) ) d \\tau \\, , <E> <P> <P> <P> <P> <P> <P> <P> <P> <P> <P> <P> <P> <P> <P> <P> <P> <P> <P> <P> <P> <P> <P> <P> <P> <P>\n"
     ]
    },
    {
     "data": {
      "text/latex": [
       "$\\displaystyle  <S> X ( t _ { 0 } ) = T _ { m - 1 } [ X ; t _ { 0 } ] ( t _ { 0 } ) + \\frac { 1 } { \\Gamma ( \\beta ) } \\sum _ { r = 0 } ^ { p - 1 } \\int _ { \\ell _ { r } } ^ { t _ { r + 1 } } ( t _ { R } - \\tau ) ^ { \\beta - 1 } F ( \\tau , X ( \\tau ) ) d \\tau \\, , <E> <P> <P> <P> <P> <P> <P> <P> <P> <P> <P> <P> <P> <P> <P> <P> <P> <P> <P> <P> <P> <P> <P> <P> <P> <P>$"
      ],
      "text/plain": [
       "<IPython.core.display.Math object>"
      ]
     },
     "metadata": {},
     "output_type": "display_data"
    },
    {
     "name": "stdout",
     "output_type": "stream",
     "text": [
      "None\n",
      " <S> X ( t _ { 0 } ) = T _ { m - 1 } [ X ; t _ { 0 } ] ( t _ { 0 } ) + \\frac { 1 } { \\Gamma ( \\beta ) } \\sum _ { r = 0 } ^ { p - 1 } \\int _ { \\ell _ { r } } ^ { t _ { r + 1 } } ( t _ { R } - \\tau ) ^ { \\beta - 1 } F ( \\tau , X ( \\tau ) ) d \\tau \\, , <E> <P> <P> <P> <P> <P> <P> <P> <P> <P> <P> <P> <P> <P> <P> <P> <P> <P> <P> <P> <P> <P> <P> <P> <P> <P>\n"
     ]
    },
    {
     "data": {
      "text/latex": [
       "$\\displaystyle  <S> X ( t _ { 0 } ) = T _ { m - 1 } [ X ; t _ { 0 } ] ( t _ { 0 } ) + \\frac { 1 } { \\Gamma ( \\beta ) } \\sum _ { r = 0 } ^ { p - 1 } \\int _ { \\ell _ { r } } ^ { t _ { r + 1 } } ( t _ { R } - \\tau ) ^ { \\beta - 1 } F ( \\tau , X ( \\tau ) ) d \\tau \\, , <E> <P> <P> <P> <P> <P> <P> <P> <P> <P> <P> <P> <P> <P> <P> <P> <P> <P> <P> <P> <P> <P> <P> <P> <P> <P>$"
      ],
      "text/plain": [
       "<IPython.core.display.Math object>"
      ]
     },
     "metadata": {},
     "output_type": "display_data"
    },
    {
     "name": "stdout",
     "output_type": "stream",
     "text": [
      "None\n"
     ]
    }
   ],
   "source": [
    "image_path= \"Jupyter_Notebooks/test_photos/Screen Shot_14.png\"\n",
    "image = Image.open(image_path).convert('RGB')\n",
    "image = np.asarray(image)\n",
    "image = cv2.bitwise_not(image)\n",
    "\n",
    "h, w, c = image.shape\n",
    "print(image.shape)\n",
    "nonzero_indices = np.nonzero(image)\n",
    "top = np.min(nonzero_indices[0])\n",
    "left = np.min(nonzero_indices[1])\n",
    "bottom = np.max(nonzero_indices[0])\n",
    "right = np.max(nonzero_indices[1])\n",
    "\n",
    "# Crop image\n",
    "cropped_image = image[top:bottom+1, left:right+1]\n",
    "print(cropped_image.shape)\n",
    "image = cropped_image\n",
    "\n",
    "image = cv2.resize(image, (0, 0), fx=.34, fy=.34,  interpolation=cv2.INTER_AREA)\n",
    "\n",
    "\n",
    "image_tensor = Image_Transforms.test_transform_with_padding(image=np.array(image))['image'][:1]\n",
    "\n",
    "print(image_tensor.shape)\n",
    "print(display(transform(image_tensor))) \n",
    "c, h, w = image_tensor.shape\n",
    "\n",
    "\n",
    "\n",
    "\n",
    "\n",
    "#prediction =  scripted_model(my_image_tensor.unsqueeze(0).to(dev))\n",
    "print('\\nPredicted formula:')\n",
    "prediction =  scripted(image_tensor.unsqueeze(0))\n",
    "print(token_to_strings(prediction))\n",
    "print(display(Math(token_to_strings(prediction))))\n",
    "\n",
    "\n",
    "with torch.no_grad():\n",
    "    model.eval()\n",
    "    my_prediction =  model.predict(image_tensor.unsqueeze(0).to(dev))\n",
    "print(token_to_strings(my_prediction))\n",
    "print(display(Math(token_to_strings(my_prediction))))"
   ]
  },
  {
   "cell_type": "code",
   "execution_count": 14,
   "id": "f6ee7f81",
   "metadata": {},
   "outputs": [
    {
     "name": "stdout",
     "output_type": "stream",
     "text": [
      "(188, 1950, 3)\n",
      "(139, 1826, 3)\n",
      "torch.Size([1, 51, 676])\n"
     ]
    },
    {
     "data": {
      "image/png": "[encoded data removed]",
      "text/plain": [
       "<PIL.Image.Image image mode=L size=676x51>"
      ]
     },
     "metadata": {},
     "output_type": "display_data"
    },
    {
     "name": "stdout",
     "output_type": "stream",
     "text": [
      "None\n",
      "\n",
      "Predicted formula:\n",
      " <S> Y _ { q } = Y _ { 1 } ^ { 2 r } + Y _ { 2 r } ^ { 3 r } + Y _ { 2 r } ^ { 6 } = \\sum _ { j = 1 } ^ { 2 r } d _ { q - j } ^ { 2 r } d _ { q - j f } ( X _ { j } ) + \\sum _ { j = 2 r } ^ { 3 r } d _ { q - j } f _ { i } ( X _ { j } ) + \\sum _ { j = 3 r + 1 , 3 f _ { j }\n"
     ]
    },
    {
     "data": {
      "text/latex": [
       "$\\displaystyle  <S> Y _ { q } = Y _ { 1 } ^ { 2 r } + Y _ { 2 r } ^ { 3 r } + Y _ { 2 r } ^ { 6 } = \\sum _ { j = 1 } ^ { 2 r } d _ { q - j } ^ { 2 r } d _ { q - j f } ( X _ { j } ) + \\sum _ { j = 2 r } ^ { 3 r } d _ { q - j } f _ { i } ( X _ { j } ) + \\sum _ { j = 3 r + 1 , 3 f _ { j }$"
      ],
      "text/plain": [
       "<IPython.core.display.Math object>"
      ]
     },
     "metadata": {},
     "output_type": "display_data"
    },
    {
     "name": "stdout",
     "output_type": "stream",
     "text": [
      "None\n",
      " <S> Y _ { q } = Y _ { 1 } ^ { 2 r } + Y _ { 2 r } ^ { 3 r } + Y _ { 2 r } ^ { 6 } = \\sum _ { j = 1 } ^ { 2 r } d _ { q - j } ^ { 2 r } d _ { q - j f } ( X _ { j } ) + \\sum _ { j = 2 r } ^ { 3 r } d _ { q - j } f _ { i } ( X _ { j } ) + \\sum _ { j = 3 r + 1 , 3 f _ { j }\n"
     ]
    },
    {
     "data": {
      "text/latex": [
       "$\\displaystyle  <S> Y _ { q } = Y _ { 1 } ^ { 2 r } + Y _ { 2 r } ^ { 3 r } + Y _ { 2 r } ^ { 6 } = \\sum _ { j = 1 } ^ { 2 r } d _ { q - j } ^ { 2 r } d _ { q - j f } ( X _ { j } ) + \\sum _ { j = 2 r } ^ { 3 r } d _ { q - j } f _ { i } ( X _ { j } ) + \\sum _ { j = 3 r + 1 , 3 f _ { j }$"
      ],
      "text/plain": [
       "<IPython.core.display.Math object>"
      ]
     },
     "metadata": {},
     "output_type": "display_data"
    },
    {
     "name": "stdout",
     "output_type": "stream",
     "text": [
      "None\n"
     ]
    }
   ],
   "source": [
    " \n",
    "image_path= \"Jupyter_Notebooks/test_photos/Screen Shot_10.png\"\n",
    "image = Image.open(image_path).convert('RGB')\n",
    "image = np.asarray(image)\n",
    "image = cv2.bitwise_not(image)\n",
    "\n",
    "h, w, c = image.shape\n",
    "print(image.shape)\n",
    "nonzero_indices = np.nonzero(image)\n",
    "top = np.min(nonzero_indices[0])\n",
    "left = np.min(nonzero_indices[1])\n",
    "bottom = np.max(nonzero_indices[0])\n",
    "right = np.max(nonzero_indices[1])\n",
    "\n",
    "# Crop image\n",
    "cropped_image = image[top:bottom+1, left:right+1]\n",
    "print(cropped_image.shape)\n",
    "image = cropped_image\n",
    "\n",
    "image = cv2.resize(image, (0, 0), fx=.37, fy=.37,  interpolation=cv2.INTER_AREA)\n",
    "\n",
    "\n",
    "image_tensor = Image_Transforms.test_transform_with_padding(image=np.array(image))['image'][:1]\n",
    "\n",
    "print(image_tensor.shape)\n",
    "print(display(transform(image_tensor))) \n",
    "c, h, w = image_tensor.shape\n",
    "\n",
    "\n",
    "\n",
    "\n",
    "\n",
    "#prediction =  scripted_model(my_image_tensor.unsqueeze(0).to(dev))\n",
    "print('\\nPredicted formula:')\n",
    "prediction =  scripted(image_tensor.unsqueeze(0))\n",
    "print(token_to_strings(prediction))\n",
    "print(display(Math(token_to_strings(prediction))))\n",
    "\n",
    "\n",
    "with torch.no_grad():\n",
    "    model.eval()\n",
    "    my_prediction =  model.predict(image_tensor.unsqueeze(0).to(dev))\n",
    "print(token_to_strings(my_prediction))\n",
    "print(display(Math(token_to_strings(my_prediction))))"
   ]
  },
  {
   "cell_type": "code",
   "execution_count": 15,
   "id": "a2a7dac1",
   "metadata": {},
   "outputs": [
    {
     "name": "stdout",
     "output_type": "stream",
     "text": [
      "(202, 1774, 3)\n",
      "(156, 1692, 3)\n",
      "torch.Size([1, 58, 626])\n"
     ]
    },
    {
     "data": {
      "image/png": "[encoded data removed]",
      "text/plain": [
       "<PIL.Image.Image image mode=L size=626x58>"
      ]
     },
     "metadata": {},
     "output_type": "display_data"
    },
    {
     "name": "stdout",
     "output_type": "stream",
     "text": [
      "None\n",
      "\n",
      "Predicted formula:\n",
      " <S> { \\cal X } ( t _ { R } ) = T _ { D - 1 } [ X ; t _ { 0 } ] ( t _ { 0 } ) + \\frac { 1 } { \\Gamma ( \\beta ) } \\sum _ { F = 0 } ^ { R - 1 } \\int _ { I _ { r } } ^ { I _ { r + 1 } } ( t _ { R } - \\tau ) ^ { \\beta - 1 } F ( \\tau , X ( r ) ) d \\tau . \\tag { 6 } <E> <P> <P> <P> <P> <P> <P> <P> <P> <P> <P> <P> <P> <P> <P> <P> <P> <P> <P> <P>\n"
     ]
    },
    {
     "data": {
      "text/latex": [
       "$\\displaystyle  <S> { \\cal X } ( t _ { R } ) = T _ { D - 1 } [ X ; t _ { 0 } ] ( t _ { 0 } ) + \\frac { 1 } { \\Gamma ( \\beta ) } \\sum _ { F = 0 } ^ { R - 1 } \\int _ { I _ { r } } ^ { I _ { r + 1 } } ( t _ { R } - \\tau ) ^ { \\beta - 1 } F ( \\tau , X ( r ) ) d \\tau . \\tag { 6 } <E> <P> <P> <P> <P> <P> <P> <P> <P> <P> <P> <P> <P> <P> <P> <P> <P> <P> <P> <P>$"
      ],
      "text/plain": [
       "<IPython.core.display.Math object>"
      ]
     },
     "metadata": {},
     "output_type": "display_data"
    },
    {
     "name": "stdout",
     "output_type": "stream",
     "text": [
      "None\n",
      " <S> { \\cal X } ( t _ { R } ) = T _ { D - 1 } [ X ; t _ { 0 } ] ( t _ { 0 } ) + \\frac { 1 } { \\Gamma ( \\beta ) } \\sum _ { F = 0 } ^ { R - 1 } \\int _ { I _ { r } } ^ { I _ { r + 1 } } ( t _ { R } - \\tau ) ^ { \\beta - 1 } F ( \\tau , X ( r ) ) d \\tau . \\tag { 6 } <E> <P> <P> <P> <P> <P> <P> <P> <P> <P> <P> <P> <P> <P> <P> <P> <P> <P> <P> <P>\n"
     ]
    },
    {
     "data": {
      "text/latex": [
       "$\\displaystyle  <S> { \\cal X } ( t _ { R } ) = T _ { D - 1 } [ X ; t _ { 0 } ] ( t _ { 0 } ) + \\frac { 1 } { \\Gamma ( \\beta ) } \\sum _ { F = 0 } ^ { R - 1 } \\int _ { I _ { r } } ^ { I _ { r + 1 } } ( t _ { R } - \\tau ) ^ { \\beta - 1 } F ( \\tau , X ( r ) ) d \\tau . \\tag { 6 } <E> <P> <P> <P> <P> <P> <P> <P> <P> <P> <P> <P> <P> <P> <P> <P> <P> <P> <P> <P>$"
      ],
      "text/plain": [
       "<IPython.core.display.Math object>"
      ]
     },
     "metadata": {},
     "output_type": "display_data"
    },
    {
     "name": "stdout",
     "output_type": "stream",
     "text": [
      "None\n"
     ]
    }
   ],
   "source": [
    "image_path= \"Jupyter_Notebooks/test_photos/Screen Shot_13.png\"\n",
    "image = Image.open(image_path).convert('RGB')\n",
    "image = np.asarray(image)\n",
    "image = cv2.bitwise_not(image)\n",
    "\n",
    "h, w, c = image.shape\n",
    "\n",
    "\n",
    "h, w, c = image.shape\n",
    "print(image.shape)\n",
    "nonzero_indices = np.nonzero(image)\n",
    "top = np.min(nonzero_indices[0])\n",
    "left = np.min(nonzero_indices[1])\n",
    "bottom = np.max(nonzero_indices[0])\n",
    "right = np.max(nonzero_indices[1])\n",
    "\n",
    "# Crop image\n",
    "cropped_image = image[top:bottom+1, left:right+1]\n",
    "print(cropped_image.shape)\n",
    "image = cropped_image\n",
    "\n",
    "image = cv2.resize(image, (0, 0), fx=.37, fy=.37,  interpolation=cv2.INTER_AREA)\n",
    "\n",
    "image_tensor = Image_Transforms.test_transform_with_padding(image=np.array(image))['image'][:1]\n",
    "\n",
    "print(image_tensor.shape)\n",
    "print(display(transform(image_tensor))) \n",
    "c, h, w = image_tensor.shape\n",
    "\n",
    "\n",
    "\n",
    "\n",
    "\n",
    "#prediction =  scripted_model(my_image_tensor.unsqueeze(0).to(dev))\n",
    "print('\\nPredicted formula:')\n",
    "prediction =  scripted(image_tensor.unsqueeze(0))\n",
    "print(token_to_strings(prediction))\n",
    "print(display(Math(token_to_strings(prediction))))\n",
    "\n",
    "\n",
    "with torch.no_grad():\n",
    "    model.eval()\n",
    "    my_prediction =  model.predict(image_tensor.unsqueeze(0).to(dev))\n",
    "print(token_to_strings(my_prediction))\n",
    "print(display(Math(token_to_strings(my_prediction))))"
   ]
  },
  {
   "cell_type": "code",
   "execution_count": 16,
   "id": "d6716105",
   "metadata": {},
   "outputs": [
    {
     "name": "stdout",
     "output_type": "stream",
     "text": [
      "(384, 812, 3)\n",
      "(302, 548, 3)\n",
      "torch.Size([1, 112, 203])\n"
     ]
    },
    {
     "data": {
      "image/png": "[encoded data removed]",
      "text/plain": [
       "<PIL.Image.Image image mode=L size=203x112>"
      ]
     },
     "metadata": {},
     "output_type": "display_data"
    },
    {
     "name": "stdout",
     "output_type": "stream",
     "text": [
      "None\n",
      "\n",
      "Predicted formula:\n",
      " <S> \\begin{array} { c c c } { a _ { 0 } F _ { n } = \\left[ \\begin{array} { c c } { d _ { 1 , 0 } \\times f _ { 1 } ( X _ { m } ^ { I \\mu - 1 } ) } \\\\ { d _ { 3 , 0 } \\times j \\leq j \\leq ( X _ { 0 } ^ { I \\mu } - 1 ) } \\\\ { d _ { 3 , 0 } \\times j \\leq j \\leq } \\\\ \\end{array} \\right] , <E> <P> <P> <P> <P> <P> <P> <P> <P> <P> <P> <P> <P> <P> <P> <P> <P> <P> <P> <P> <P> <P> <P> <P> <P> <P> <P> <P>\n"
     ]
    },
    {
     "data": {
      "text/latex": [
       "$\\displaystyle  <S> \\begin{array} { c c c } { a _ { 0 } F _ { n } = \\left[ \\begin{array} { c c } { d _ { 1 , 0 } \\times f _ { 1 } ( X _ { m } ^ { I \\mu - 1 } ) } \\\\ { d _ { 3 , 0 } \\times j \\leq j \\leq ( X _ { 0 } ^ { I \\mu } - 1 ) } \\\\ { d _ { 3 , 0 } \\times j \\leq j \\leq } \\\\ \\end{array} \\right] , <E> <P> <P> <P> <P> <P> <P> <P> <P> <P> <P> <P> <P> <P> <P> <P> <P> <P> <P> <P> <P> <P> <P> <P> <P> <P> <P> <P>$"
      ],
      "text/plain": [
       "<IPython.core.display.Math object>"
      ]
     },
     "metadata": {},
     "output_type": "display_data"
    },
    {
     "name": "stdout",
     "output_type": "stream",
     "text": [
      "None\n",
      " <S> \\begin{array} { c c c } { a _ { 0 } F _ { n } = \\left[ \\begin{array} { c c } { d _ { 1 , 0 } \\times f _ { 1 } ( X _ { m } ^ { I \\mu - 1 } ) } \\\\ { d _ { 3 , 0 } \\times j \\leq j \\leq ( X _ { 0 } ^ { I \\mu } - 1 ) } \\\\ { d _ { 3 , 0 } \\times j \\leq j \\leq } \\\\ \\end{array} \\right] , <E> <P> <P> <P> <P> <P> <P> <P> <P> <P> <P> <P> <P> <P> <P> <P> <P> <P> <P> <P> <P> <P> <P> <P> <P> <P> <P> <P>\n"
     ]
    },
    {
     "data": {
      "text/latex": [
       "$\\displaystyle  <S> \\begin{array} { c c c } { a _ { 0 } F _ { n } = \\left[ \\begin{array} { c c } { d _ { 1 , 0 } \\times f _ { 1 } ( X _ { m } ^ { I \\mu - 1 } ) } \\\\ { d _ { 3 , 0 } \\times j \\leq j \\leq ( X _ { 0 } ^ { I \\mu } - 1 ) } \\\\ { d _ { 3 , 0 } \\times j \\leq j \\leq } \\\\ \\end{array} \\right] , <E> <P> <P> <P> <P> <P> <P> <P> <P> <P> <P> <P> <P> <P> <P> <P> <P> <P> <P> <P> <P> <P> <P> <P> <P> <P> <P> <P>$"
      ],
      "text/plain": [
       "<IPython.core.display.Math object>"
      ]
     },
     "metadata": {},
     "output_type": "display_data"
    },
    {
     "name": "stdout",
     "output_type": "stream",
     "text": [
      "None\n"
     ]
    }
   ],
   "source": [
    "image_path=  \"Jupyter_Notebooks/test_photos/Screen Shot_11.png\"\n",
    "image = Image.open(image_path).convert('RGB')\n",
    "image = np.asarray(image)\n",
    "image = cv2.bitwise_not(image)\n",
    "\n",
    "h, w, c = image.shape\n",
    "\n",
    "\n",
    "h, w, c = image.shape\n",
    "print(image.shape)\n",
    "nonzero_indices = np.nonzero(image)\n",
    "top = np.min(nonzero_indices[0])\n",
    "left = np.min(nonzero_indices[1])\n",
    "bottom = np.max(nonzero_indices[0])\n",
    "right = np.max(nonzero_indices[1])\n",
    "\n",
    "# Crop image\n",
    "cropped_image = image[top:bottom+1, left:right+1]\n",
    "print(cropped_image.shape)\n",
    "image = cropped_image\n",
    "\n",
    "image = cv2.resize(image, (0, 0), fx=.37, fy=.37,  interpolation=cv2.INTER_AREA)\n",
    "\n",
    "image_tensor = Image_Transforms.test_transform_with_padding(image=np.array(image))['image'][:1]\n",
    "\n",
    "print(image_tensor.shape)\n",
    "print(display(transform(image_tensor))) \n",
    "c, h, w = image_tensor.shape\n",
    "\n",
    "\n",
    "\n",
    "\n",
    "\n",
    "#prediction =  scripted_model(my_image_tensor.unsqueeze(0).to(dev))\n",
    "print('\\nPredicted formula:')\n",
    "prediction =  scripted(image_tensor.unsqueeze(0))\n",
    "print(token_to_strings(prediction))\n",
    "print(display(Math(token_to_strings(prediction))))\n",
    "\n",
    "\n",
    "with torch.no_grad():\n",
    "    model.eval()\n",
    "    my_prediction =  model.predict(image_tensor.unsqueeze(0).to(dev))\n",
    "print(token_to_strings(my_prediction))\n",
    "print(display(Math(token_to_strings(my_prediction))))"
   ]
  },
  {
   "cell_type": "code",
   "execution_count": 17,
   "id": "4d38cf98",
   "metadata": {},
   "outputs": [
    {
     "name": "stdout",
     "output_type": "stream",
     "text": [
      "(224, 1020, 3)\n",
      "(205, 961, 3)\n",
      "torch.Size([1, 76, 356])\n"
     ]
    },
    {
     "data": {
      "image/png": "[encoded data removed]",
      "text/plain": [
       "<PIL.Image.Image image mode=L size=356x76>"
      ]
     },
     "metadata": {},
     "output_type": "display_data"
    },
    {
     "name": "stdout",
     "output_type": "stream",
     "text": [
      "None\n",
      "\n",
      "Predicted formula:\n",
      " <S> \\mathrm { f o m } \\left( 1 , S \\right) \\mathrm { a n d } \\left( 1 , Q \\right) \\mathrm { o o o v e } } \\\\ { } & { } & { p ( X = x _ { i } ) = \\sum _ { i = 1 } ^ { L } p ( X = x _ { i } , Y = y _ { j } \\right) <E> <P> <P> <P> <P> <P> <P> <P> <P> <P> <P> <P> <P> <P> <P> <P> <P> <P> <P> <P> <P> <P> <P> <P> <P> <P> <P> <P> <P> <P> <P> <P> <P> <P> <P> <P> <P> <P> <P> <P> <P> <P> <P> <P> <P> <P> <P> <P> <P> <P>\n"
     ]
    },
    {
     "data": {
      "text/latex": [
       "$\\displaystyle  <S> \\mathrm { f o m } \\left( 1 , S \\right) \\mathrm { a n d } \\left( 1 , Q \\right) \\mathrm { o o o v e } } \\\\ { } & { } & { p ( X = x _ { i } ) = \\sum _ { i = 1 } ^ { L } p ( X = x _ { i } , Y = y _ { j } \\right) <E> <P> <P> <P> <P> <P> <P> <P> <P> <P> <P> <P> <P> <P> <P> <P> <P> <P> <P> <P> <P> <P> <P> <P> <P> <P> <P> <P> <P> <P> <P> <P> <P> <P> <P> <P> <P> <P> <P> <P> <P> <P> <P> <P> <P> <P> <P> <P> <P> <P>$"
      ],
      "text/plain": [
       "<IPython.core.display.Math object>"
      ]
     },
     "metadata": {},
     "output_type": "display_data"
    },
    {
     "name": "stdout",
     "output_type": "stream",
     "text": [
      "None\n",
      " <S> \\mathrm { f o m } \\left( 1 , S \\right) \\mathrm { a n d } \\left( 1 , Q \\right) \\mathrm { o o o v e } } \\\\ { } & { } & { p ( X = x _ { i } ) = \\sum _ { i = 1 } ^ { L } p ( X = x _ { i } , Y = y _ { j } \\right) <E> <P> <P> <P> <P> <P> <P> <P> <P> <P> <P> <P> <P> <P> <P> <P> <P> <P> <P> <P> <P> <P> <P> <P> <P> <P> <P> <P> <P> <P> <P> <P> <P> <P> <P> <P> <P> <P> <P> <P> <P> <P> <P> <P> <P> <P> <P> <P> <P> <P>\n"
     ]
    },
    {
     "data": {
      "text/latex": [
       "$\\displaystyle  <S> \\mathrm { f o m } \\left( 1 , S \\right) \\mathrm { a n d } \\left( 1 , Q \\right) \\mathrm { o o o v e } } \\\\ { } & { } & { p ( X = x _ { i } ) = \\sum _ { i = 1 } ^ { L } p ( X = x _ { i } , Y = y _ { j } \\right) <E> <P> <P> <P> <P> <P> <P> <P> <P> <P> <P> <P> <P> <P> <P> <P> <P> <P> <P> <P> <P> <P> <P> <P> <P> <P> <P> <P> <P> <P> <P> <P> <P> <P> <P> <P> <P> <P> <P> <P> <P> <P> <P> <P> <P> <P> <P> <P> <P> <P>$"
      ],
      "text/plain": [
       "<IPython.core.display.Math object>"
      ]
     },
     "metadata": {},
     "output_type": "display_data"
    },
    {
     "name": "stdout",
     "output_type": "stream",
     "text": [
      "None\n"
     ]
    }
   ],
   "source": [
    "image_path= \"Jupyter_Notebooks/test_photos/screenshot_2.png\"\n",
    "image = Image.open(image_path).convert('RGB')\n",
    "image = np.asarray(image)\n",
    "image = cv2.bitwise_not(image)\n",
    "\n",
    "h, w, c = image.shape\n",
    "\n",
    "\n",
    "h, w, c = image.shape\n",
    "print(image.shape)\n",
    "nonzero_indices = np.nonzero(image)\n",
    "top = np.min(nonzero_indices[0])\n",
    "left = np.min(nonzero_indices[1])\n",
    "bottom = np.max(nonzero_indices[0])\n",
    "right = np.max(nonzero_indices[1])\n",
    "\n",
    "# Crop image\n",
    "cropped_image = image[top:bottom+1, left:right+1]\n",
    "print(cropped_image.shape)\n",
    "image = cropped_image\n",
    "\n",
    "image = cv2.resize(image, (0, 0), fx=.37, fy=.37,  interpolation=cv2.INTER_AREA)\n",
    "\n",
    "image_tensor = Image_Transforms.test_transform_with_padding(image=np.array(image))['image'][:1]\n",
    "\n",
    "print(image_tensor.shape)\n",
    "print(display(transform(image_tensor))) \n",
    "c, h, w = image_tensor.shape\n",
    "\n",
    "\n",
    "\n",
    "\n",
    "\n",
    "#prediction =  scripted_model(my_image_tensor.unsqueeze(0).to(dev))\n",
    "print('\\nPredicted formula:')\n",
    "prediction =  scripted(image_tensor.unsqueeze(0))\n",
    "print(token_to_strings(prediction))\n",
    "print(display(Math(token_to_strings(prediction))))\n",
    "\n",
    "\n",
    "with torch.no_grad():\n",
    "    model.eval()\n",
    "    my_prediction =  model.predict(image_tensor.unsqueeze(0).to(dev))\n",
    "print(token_to_strings(my_prediction))\n",
    "print(display(Math(token_to_strings(my_prediction))))"
   ]
  },
  {
   "cell_type": "code",
   "execution_count": 18,
   "id": "b2f6fe3c",
   "metadata": {},
   "outputs": [
    {
     "name": "stdout",
     "output_type": "stream",
     "text": [
      "(100, 600, 3)\n",
      "(49, 517, 3)\n",
      "torch.Size([1, 49, 517])\n"
     ]
    },
    {
     "data": {
      "image/png": "[encoded data removed]",
      "text/plain": [
       "<PIL.Image.Image image mode=L size=517x49>"
      ]
     },
     "metadata": {},
     "output_type": "display_data"
    },
    {
     "name": "stdout",
     "output_type": "stream",
     "text": [
      "None\n",
      "\n",
      "Predicted formula:\n",
      " <S> \\left( \\begin{array} { c c c } { } \\\\ { } & { } \\\\ { } & { } \\\\ { } & { } \\\\ { } & { } \\\\ \\end{array} { = } \\\\ \\end{array} \\left\\{ \\begin{array} { c c } { { \\mathbb { E } } \\left\\{ { \\mathbb { X } } _ { } { } ^ { \\dagger } , { \\cal { Y } } ^ { \\dagger } \\\\ \\end{array} \\right. _ { s } { \\cal { Y } } ^ { \\dagger } { } \\\\ \\end{array} \\right. _ { s } & { { \\cal { Y } } ^ { \\dagger } \\\\ \\end{array} \\right\\} _ { s } \\\\ \\end{array} \\right. <E>\n"
     ]
    },
    {
     "data": {
      "text/latex": [
       "$\\displaystyle  <S> \\left( \\begin{array} { c c c } { } \\\\ { } & { } \\\\ { } & { } \\\\ { } & { } \\\\ { } & { } \\\\ \\end{array} { = } \\\\ \\end{array} \\left\\{ \\begin{array} { c c } { { \\mathbb { E } } \\left\\{ { \\mathbb { X } } _ { } { } ^ { \\dagger } , { \\cal { Y } } ^ { \\dagger } \\\\ \\end{array} \\right. _ { s } { \\cal { Y } } ^ { \\dagger } { } \\\\ \\end{array} \\right. _ { s } & { { \\cal { Y } } ^ { \\dagger } \\\\ \\end{array} \\right\\} _ { s } \\\\ \\end{array} \\right. <E>$"
      ],
      "text/plain": [
       "<IPython.core.display.Math object>"
      ]
     },
     "metadata": {},
     "output_type": "display_data"
    },
    {
     "name": "stdout",
     "output_type": "stream",
     "text": [
      "None\n",
      " <S> \\left( \\begin{array} { c c c } { } \\\\ { } & { } \\\\ { } & { } \\\\ { } & { } \\\\ { } & { } \\\\ \\end{array} { = } \\\\ \\end{array} \\left\\{ \\begin{array} { c c } { { \\mathbb { E } } \\left\\{ { \\mathbb { X } } _ { } { } ^ { \\dagger } , { \\cal { Y } } ^ { \\dagger } \\\\ \\end{array} \\right. _ { s } { \\cal { Y } } ^ { \\dagger } { } \\\\ \\end{array} \\right. _ { s } & { { \\cal { Y } } ^ { \\dagger } \\\\ \\end{array} \\right\\} _ { s } \\\\ \\end{array} \\right. <E>\n"
     ]
    },
    {
     "data": {
      "text/latex": [
       "$\\displaystyle  <S> \\left( \\begin{array} { c c c } { } \\\\ { } & { } \\\\ { } & { } \\\\ { } & { } \\\\ { } & { } \\\\ \\end{array} { = } \\\\ \\end{array} \\left\\{ \\begin{array} { c c } { { \\mathbb { E } } \\left\\{ { \\mathbb { X } } _ { } { } ^ { \\dagger } , { \\cal { Y } } ^ { \\dagger } \\\\ \\end{array} \\right. _ { s } { \\cal { Y } } ^ { \\dagger } { } \\\\ \\end{array} \\right. _ { s } & { { \\cal { Y } } ^ { \\dagger } \\\\ \\end{array} \\right\\} _ { s } \\\\ \\end{array} \\right. <E>$"
      ],
      "text/plain": [
       "<IPython.core.display.Math object>"
      ]
     },
     "metadata": {},
     "output_type": "display_data"
    },
    {
     "name": "stdout",
     "output_type": "stream",
     "text": [
      "None\n"
     ]
    }
   ],
   "source": [
    "image_path= \"Jupyter_Notebooks/test_photos/Screen Shot_18.png\"\n",
    "image = Image.open(image_path).convert('RGB')\n",
    "image = np.asarray(image)\n",
    "image = cv2.bitwise_not(image)\n",
    "\n",
    "h, w, c = image.shape\n",
    "\n",
    "\n",
    "h, w, c = image.shape\n",
    "print(image.shape)\n",
    "nonzero_indices = np.nonzero(image)\n",
    "top = np.min(nonzero_indices[0])\n",
    "left = np.min(nonzero_indices[1])\n",
    "bottom = np.max(nonzero_indices[0])\n",
    "right = np.max(nonzero_indices[1])\n",
    "\n",
    "# Crop image\n",
    "cropped_image = image[top:bottom+1, left:right+1]\n",
    "print(cropped_image.shape)\n",
    "image = cropped_image\n",
    "\n",
    "#image = cv2.resize(image, (0, 0), fx=.37, fy=.37,  interpolation=cv2.INTER_AREA)\n",
    "\n",
    "image_tensor = Image_Transforms.test_transform_with_padding(image=np.array(image))['image'][:1]\n",
    "\n",
    "print(image_tensor.shape)\n",
    "print(display(transform(image_tensor))) \n",
    "c, h, w = image_tensor.shape\n",
    "\n",
    "\n",
    "\n",
    "\n",
    "\n",
    "#prediction =  scripted_model(my_image_tensor.unsqueeze(0).to(dev))\n",
    "print('\\nPredicted formula:')\n",
    "prediction =  scripted(image_tensor.unsqueeze(0))\n",
    "print(token_to_strings(prediction))\n",
    "print(display(Math(token_to_strings(prediction))))\n",
    "\n",
    "\n",
    "with torch.no_grad():\n",
    "    model.eval()\n",
    "    my_prediction =  model.predict(image_tensor.unsqueeze(0).to(dev))\n",
    "print(token_to_strings(my_prediction))\n",
    "print(display(Math(token_to_strings(my_prediction))))"
   ]
  },
  {
   "cell_type": "code",
   "execution_count": null,
   "id": "f15345e8",
   "metadata": {},
   "outputs": [],
   "source": []
  },
  {
   "cell_type": "code",
   "execution_count": null,
   "id": "943331cc",
   "metadata": {},
   "outputs": [],
   "source": []
  },
  {
   "cell_type": "code",
   "execution_count": null,
   "id": "d59cd5b3",
   "metadata": {},
   "outputs": [],
   "source": []
  },
  {
   "cell_type": "code",
   "execution_count": null,
   "id": "21d8d231",
   "metadata": {},
   "outputs": [],
   "source": []
  },
  {
   "cell_type": "code",
   "execution_count": 19,
   "id": "12f77cbc",
   "metadata": {},
   "outputs": [
    {
     "name": "stdout",
     "output_type": "stream",
     "text": [
      "152 658 3\n",
      "76\n",
      "torch.Size([1, 76, 329])\n"
     ]
    },
    {
     "data": {
      "image/png": "[encoded data removed]",
      "text/plain": [
       "<PIL.Image.Image image mode=L size=329x76>"
      ]
     },
     "metadata": {},
     "output_type": "display_data"
    },
    {
     "name": "stdout",
     "output_type": "stream",
     "text": [
      "None\n",
      "\n",
      "Predicted formula:\n",
      " <S> \\oplus \\oplus \\oplus \\oplus \\oplus \\oplus \\oplus \\oplus \\oplus \\oplus \\oplus \\oplus \\oplus \\oplus \\oplus \\oplus \\oplus \\oplus \\oplus \\oplus \\oplus \\oplus \\oplus \\oplus \\oplus \\oplus \\oplus \\oplus \\oplus \\oplus \\oplus \\oplus \\oplus \\oplus \\oplus \\oplus \\oplus \\oplus \\oplus \\oplus \\oplus \\oplus \\oplus \\oplus \\oplus \\oplus \\oplus \\oplus \\oplus \\oplus \\oplus \\oplus \\oplus \\oplus \\oplus \\oplus \\oplus \\oplus \\oplus \\oplus \\oplus \\oplus \\oplus \\oplus \\oplus \\oplus \\oplus \\oplus \\oplus \\oplus \\oplus \\oplus \\oplus \\oplus \\oplus \\oplus \\oplus \\oplus \\oplus \\oplus \\oplus \\oplus \\oplus \\oplus \\oplus \\oplus \\oplus \\oplus \\oplus \\oplus \\oplus \\oplus \\oplus \\oplus \\oplus \\oplus \\oplus \\oplus \\oplus \\oplus \\oplus \\oplus \\oplus \\oplus \\oplus \\oplus \\oplus \\oplus \\oplus \\oplus \\oplus \\oplus \\oplus \\oplus \\oplus \\oplus \\oplus \\oplus \\oplus \\oplus \\oplus \\oplus \\oplus \\oplus \\oplus \\oplus \\oplus \\oplus \\oplus\n"
     ]
    },
    {
     "data": {
      "text/latex": [
       "$\\displaystyle  <S> \\oplus \\oplus \\oplus \\oplus \\oplus \\oplus \\oplus \\oplus \\oplus \\oplus \\oplus \\oplus \\oplus \\oplus \\oplus \\oplus \\oplus \\oplus \\oplus \\oplus \\oplus \\oplus \\oplus \\oplus \\oplus \\oplus \\oplus \\oplus \\oplus \\oplus \\oplus \\oplus \\oplus \\oplus \\oplus \\oplus \\oplus \\oplus \\oplus \\oplus \\oplus \\oplus \\oplus \\oplus \\oplus \\oplus \\oplus \\oplus \\oplus \\oplus \\oplus \\oplus \\oplus \\oplus \\oplus \\oplus \\oplus \\oplus \\oplus \\oplus \\oplus \\oplus \\oplus \\oplus \\oplus \\oplus \\oplus \\oplus \\oplus \\oplus \\oplus \\oplus \\oplus \\oplus \\oplus \\oplus \\oplus \\oplus \\oplus \\oplus \\oplus \\oplus \\oplus \\oplus \\oplus \\oplus \\oplus \\oplus \\oplus \\oplus \\oplus \\oplus \\oplus \\oplus \\oplus \\oplus \\oplus \\oplus \\oplus \\oplus \\oplus \\oplus \\oplus \\oplus \\oplus \\oplus \\oplus \\oplus \\oplus \\oplus \\oplus \\oplus \\oplus \\oplus \\oplus \\oplus \\oplus \\oplus \\oplus \\oplus \\oplus \\oplus \\oplus \\oplus \\oplus \\oplus \\oplus \\oplus \\oplus$"
      ],
      "text/plain": [
       "<IPython.core.display.Math object>"
      ]
     },
     "metadata": {},
     "output_type": "display_data"
    },
    {
     "name": "stdout",
     "output_type": "stream",
     "text": [
      "None\n"
     ]
    }
   ],
   "source": [
    "image_path= \"Jupyter_Notebooks/test_photos/screenshot_1.png\"\n",
    "image = Image.open(image_path).convert('RGB')\n",
    "image = np.asarray(image)\n",
    "\n",
    "\n",
    "h, w, c = image.shape\n",
    "print(h,w,c)\n",
    "\n",
    "ratio = int(w/h)\n",
    "h_new  = h//2\n",
    "w_new = w//2\n",
    "print(h_new)\n",
    "image = cv2.resize(image, (w_new, h_new), interpolation=cv2.INTER_LINEAR)\n",
    "\n",
    "image_tensor = Image_Transforms.test_transform_with_padding(image=np.array(image))['image'][:1]\n",
    "\n",
    "print(image_tensor.shape)\n",
    "print(display(transform(image_tensor))) \n",
    "c, h, w = image_tensor.shape\n",
    "\n",
    "\n",
    "\n",
    "#padded_images = torch.zeros(( 1, h, w))\n",
    "#padded_images[ :,  :  h,  :  w] = image_tensor\n",
    "\n",
    "#print(display(transform(padded_images)))\n",
    "\n",
    "\n",
    "\n",
    "\n",
    "#prediction =  scripted_model(my_image_tensor.unsqueeze(0).to(dev))\n",
    "print('\\nPredicted formula:')\n",
    "prediction =  scripted(image_tensor.unsqueeze(0))\n",
    "print(token_to_strings(prediction))\n",
    "print(display(Math(token_to_strings(prediction))))"
   ]
  },
  {
   "cell_type": "code",
   "execution_count": 20,
   "id": "cd82aea4",
   "metadata": {},
   "outputs": [
    {
     "name": "stdout",
     "output_type": "stream",
     "text": [
      "41 178 3\n",
      "64\n",
      "torch.Size([1, 64, 256])\n"
     ]
    },
    {
     "data": {
      "image/png": "[encoded data removed]",
      "text/plain": [
       "<PIL.Image.Image image mode=L size=256x64>"
      ]
     },
     "metadata": {},
     "output_type": "display_data"
    },
    {
     "name": "stdout",
     "output_type": "stream",
     "text": [
      "None\n"
     ]
    },
    {
     "data": {
      "image/png": "[encoded data removed]",
      "text/plain": [
       "<PIL.Image.Image image mode=L size=256x64>"
      ]
     },
     "metadata": {},
     "output_type": "display_data"
    },
    {
     "name": "stdout",
     "output_type": "stream",
     "text": [
      "None\n",
      "\n",
      "Predicted formula:\n",
      " <S> \\oplus \\oplus \\oplus \\oplus \\oplus \\oplus \\oplus \\oplus \\oplus \\oplus \\oplus \\oplus \\oplus \\oplus \\oplus \\oplus \\oplus \\oplus \\oplus \\oplus \\oplus \\oplus \\oplus \\oplus \\oplus \\oplus \\oplus \\oplus \\oplus \\oplus \\oplus \\oplus \\oplus \\oplus \\oplus \\oplus \\oplus \\oplus \\oplus \\oplus \\oplus \\oplus \\oplus \\oplus \\oplus \\oplus \\oplus \\oplus \\oplus \\oplus \\oplus \\oplus \\oplus \\oplus \\oplus \\oplus \\oplus \\oplus \\oplus \\oplus \\oplus \\oplus \\oplus \\oplus \\oplus \\oplus \\oplus \\oplus \\oplus \\oplus \\oplus \\oplus \\oplus \\oplus \\oplus \\oplus \\oplus \\oplus \\oplus \\oplus \\oplus \\oplus \\oplus \\oplus \\oplus \\oplus \\oplus \\oplus \\oplus \\oplus \\oplus \\oplus \\oplus \\oplus \\oplus \\oplus \\oplus \\oplus \\oplus \\oplus \\oplus \\oplus \\oplus \\oplus \\oplus \\oplus \\oplus \\oplus \\oplus \\oplus \\oplus \\oplus \\oplus \\oplus \\oplus \\oplus \\oplus \\oplus \\oplus \\oplus \\oplus \\oplus \\oplus \\oplus \\oplus \\oplus \\oplus \\oplus \\oplus\n"
     ]
    },
    {
     "data": {
      "text/latex": [
       "$\\displaystyle  <S> \\oplus \\oplus \\oplus \\oplus \\oplus \\oplus \\oplus \\oplus \\oplus \\oplus \\oplus \\oplus \\oplus \\oplus \\oplus \\oplus \\oplus \\oplus \\oplus \\oplus \\oplus \\oplus \\oplus \\oplus \\oplus \\oplus \\oplus \\oplus \\oplus \\oplus \\oplus \\oplus \\oplus \\oplus \\oplus \\oplus \\oplus \\oplus \\oplus \\oplus \\oplus \\oplus \\oplus \\oplus \\oplus \\oplus \\oplus \\oplus \\oplus \\oplus \\oplus \\oplus \\oplus \\oplus \\oplus \\oplus \\oplus \\oplus \\oplus \\oplus \\oplus \\oplus \\oplus \\oplus \\oplus \\oplus \\oplus \\oplus \\oplus \\oplus \\oplus \\oplus \\oplus \\oplus \\oplus \\oplus \\oplus \\oplus \\oplus \\oplus \\oplus \\oplus \\oplus \\oplus \\oplus \\oplus \\oplus \\oplus \\oplus \\oplus \\oplus \\oplus \\oplus \\oplus \\oplus \\oplus \\oplus \\oplus \\oplus \\oplus \\oplus \\oplus \\oplus \\oplus \\oplus \\oplus \\oplus \\oplus \\oplus \\oplus \\oplus \\oplus \\oplus \\oplus \\oplus \\oplus \\oplus \\oplus \\oplus \\oplus \\oplus \\oplus \\oplus \\oplus \\oplus \\oplus \\oplus \\oplus \\oplus$"
      ],
      "text/plain": [
       "<IPython.core.display.Math object>"
      ]
     },
     "metadata": {},
     "output_type": "display_data"
    },
    {
     "name": "stdout",
     "output_type": "stream",
     "text": [
      "None\n"
     ]
    }
   ],
   "source": [
    "image_path= \"Jupyter_Notebooks/test_photos/0a0df4c4229b725.png\"\n",
    "image = Image.open(image_path).convert('RGB')\n",
    "image = np.asarray(image)\n",
    "\n",
    "\n",
    "h, w, c = image.shape\n",
    "print(h,w,c)\n",
    "\n",
    "ratio = int(w/h)\n",
    "h_new  = 64\n",
    "w_new = int(h_new*ratio)\n",
    "print(h_new)\n",
    "image = cv2.resize(image, (w_new, h_new), interpolation=cv2.INTER_AREA)\n",
    "\n",
    "image_tensor = Image_Transforms.test_transform_with_padding(image=np.array(image))['image'][:1]\n",
    "\n",
    "print(image_tensor.shape)\n",
    "print(display(transform(image_tensor))) \n",
    "c, h, w = image_tensor.shape\n",
    "\n",
    "\n",
    "\n",
    "padded_images = torch.zeros(( 1, h, w))\n",
    "padded_images[ :,  :  h,  :  w] = image_tensor\n",
    "\n",
    "print(display(transform(padded_images)))\n",
    "\n",
    "\n",
    "\n",
    "\n",
    "#prediction =  scripted_model(my_image_tensor.unsqueeze(0).to(dev))\n",
    "print('\\nPredicted formula:')\n",
    "prediction =  scripted(padded_images.unsqueeze(0))\n",
    "print(token_to_strings(prediction))\n",
    "print(display(Math(token_to_strings(prediction))))"
   ]
  },
  {
   "cell_type": "code",
   "execution_count": 21,
   "id": "a455d702",
   "metadata": {},
   "outputs": [
    {
     "name": "stdout",
     "output_type": "stream",
     "text": [
      "320 1080 3\n",
      "106\n",
      "torch.Size([1, 106, 360])\n"
     ]
    },
    {
     "data": {
      "image/png": "[encoded data removed]",
      "text/plain": [
       "<PIL.Image.Image image mode=L size=360x106>"
      ]
     },
     "metadata": {},
     "output_type": "display_data"
    },
    {
     "name": "stdout",
     "output_type": "stream",
     "text": [
      "None\n"
     ]
    },
    {
     "data": {
      "image/png": "[encoded data removed]",
      "text/plain": [
       "<PIL.Image.Image image mode=L size=360x106>"
      ]
     },
     "metadata": {},
     "output_type": "display_data"
    },
    {
     "name": "stdout",
     "output_type": "stream",
     "text": [
      "None\n",
      "\n",
      "Predicted formula:\n",
      " <S> \\underbrace { \\prod \\underbrace { \\oplus \\underbrace { \\oplus \\oplus \\oplus \\oplus \\oplus \\oplus \\oplus \\oplus \\oplus \\oplus \\oplus \\oplus \\oplus \\oplus \\oplus \\oplus \\oplus \\oplus \\oplus \\oplus \\oplus \\oplus \\oplus \\oplus \\oplus \\oplus \\oplus \\oplus \\oplus \\oplus \\oplus \\oplus \\oplus \\oplus \\oplus \\oplus \\oplus \\oplus \\oplus \\oplus \\oplus \\oplus \\oplus \\oplus \\oplus \\oplus \\oplus \\oplus \\oplus \\oplus \\oplus \\oplus \\oplus \\oplus \\oplus \\oplus \\oplus \\oplus \\oplus \\oplus \\oplus \\oplus \\oplus \\oplus \\oplus \\oplus \\oplus \\oplus \\oplus \\oplus \\oplus \\oplus \\oplus \\oplus \\oplus \\oplus \\oplus \\oplus \\oplus \\oplus \\oplus \\oplus \\oplus \\oplus \\oplus \\oplus \\oplus \\oplus \\oplus \\oplus \\oplus \\oplus \\oplus \\oplus \\oplus \\oplus \\oplus \\oplus \\oplus \\oplus \\oplus \\oplus \\oplus \\oplus \\oplus \\oplus \\oplus \\oplus \\oplus \\oplus \\oplus \\oplus \\oplus \\oplus \\oplus \\oplus \\oplus \\oplus \\oplus \\oplus \\oplus\n"
     ]
    },
    {
     "data": {
      "text/latex": [
       "$\\displaystyle  <S> \\underbrace { \\prod \\underbrace { \\oplus \\underbrace { \\oplus \\oplus \\oplus \\oplus \\oplus \\oplus \\oplus \\oplus \\oplus \\oplus \\oplus \\oplus \\oplus \\oplus \\oplus \\oplus \\oplus \\oplus \\oplus \\oplus \\oplus \\oplus \\oplus \\oplus \\oplus \\oplus \\oplus \\oplus \\oplus \\oplus \\oplus \\oplus \\oplus \\oplus \\oplus \\oplus \\oplus \\oplus \\oplus \\oplus \\oplus \\oplus \\oplus \\oplus \\oplus \\oplus \\oplus \\oplus \\oplus \\oplus \\oplus \\oplus \\oplus \\oplus \\oplus \\oplus \\oplus \\oplus \\oplus \\oplus \\oplus \\oplus \\oplus \\oplus \\oplus \\oplus \\oplus \\oplus \\oplus \\oplus \\oplus \\oplus \\oplus \\oplus \\oplus \\oplus \\oplus \\oplus \\oplus \\oplus \\oplus \\oplus \\oplus \\oplus \\oplus \\oplus \\oplus \\oplus \\oplus \\oplus \\oplus \\oplus \\oplus \\oplus \\oplus \\oplus \\oplus \\oplus \\oplus \\oplus \\oplus \\oplus \\oplus \\oplus \\oplus \\oplus \\oplus \\oplus \\oplus \\oplus \\oplus \\oplus \\oplus \\oplus \\oplus \\oplus \\oplus \\oplus \\oplus \\oplus \\oplus$"
      ],
      "text/plain": [
       "<IPython.core.display.Math object>"
      ]
     },
     "metadata": {},
     "output_type": "display_data"
    },
    {
     "name": "stdout",
     "output_type": "stream",
     "text": [
      "None\n"
     ]
    }
   ],
   "source": [
    "image_path= \"Jupyter_Notebooks/test_photos/screenshot_3.png\"\n",
    "image = Image.open(image_path).convert('RGB')\n",
    "image = np.asarray(image)\n",
    "\n",
    "\n",
    "h, w, c = image.shape\n",
    "print(h,w,c)\n",
    "\n",
    "ratio = int(w/h)\n",
    "h_new  = h//3\n",
    "w_new = w//3\n",
    "print(h_new)\n",
    "image = cv2.resize(image, (w_new, h_new), interpolation=cv2.INTER_LINEAR)\n",
    "\n",
    "image_tensor = Image_Transforms.train_transform_with_padding(image=np.array(image))['image'][:1]\n",
    "\n",
    "print(image_tensor.shape)\n",
    "print(display(transform(image_tensor))) \n",
    "c, h, w = image_tensor.shape\n",
    "\n",
    "\n",
    "\n",
    "padded_images = torch.zeros(( 1, h, w))\n",
    "padded_images[ :,  :  h,  :  w] = image_tensor\n",
    "\n",
    "print(display(transform(padded_images)))\n",
    "\n",
    "\n",
    "\n",
    "\n",
    "#prediction =  scripted_model(my_image_tensor.unsqueeze(0).to(dev))\n",
    "print('\\nPredicted formula:')\n",
    "prediction =  scripted(padded_images.unsqueeze(0))\n",
    "print(token_to_strings(prediction))\n",
    "print(display(Math(token_to_strings(prediction))))"
   ]
  },
  {
   "cell_type": "code",
   "execution_count": 22,
   "id": "a3fc31e7",
   "metadata": {},
   "outputs": [
    {
     "data": {
      "image/png": "[encoded data removed]",
      "text/plain": [
       "<PIL.Image.Image image mode=RGB size=57x23>"
      ]
     },
     "metadata": {},
     "output_type": "display_data"
    },
    {
     "name": "stdout",
     "output_type": "stream",
     "text": [
      "None\n",
      "64\n",
      "torch.Size([1, 64, 128])\n"
     ]
    },
    {
     "data": {
      "image/png": "[encoded data removed]",
      "text/plain": [
       "<PIL.Image.Image image mode=L size=128x64>"
      ]
     },
     "metadata": {},
     "output_type": "display_data"
    },
    {
     "name": "stdout",
     "output_type": "stream",
     "text": [
      "None\n",
      "\n",
      "Predicted formula:\n",
      " <S> \\oplus \\underbrace \\oplus \\oplus \\oplus \\oplus \\oplus \\oplus \\oplus \\oplus \\oplus \\oplus \\oplus \\oplus \\oplus \\oplus \\oplus \\oplus \\oplus \\oplus \\oplus \\oplus \\oplus \\oplus \\oplus \\oplus \\oplus \\oplus \\oplus \\oplus \\oplus \\oplus \\oplus \\oplus \\oplus \\oplus \\oplus \\oplus \\oplus \\oplus \\oplus \\oplus \\oplus \\oplus \\oplus \\oplus \\oplus \\oplus \\oplus \\oplus \\oplus \\oplus \\oplus \\oplus \\oplus \\oplus \\oplus \\oplus \\oplus \\oplus \\oplus \\oplus \\oplus \\oplus \\oplus \\oplus \\oplus \\oplus \\oplus \\oplus \\oplus \\oplus \\oplus \\oplus \\oplus \\oplus \\oplus \\oplus \\oplus \\oplus \\oplus \\oplus \\oplus \\oplus \\oplus \\oplus \\oplus \\oplus \\oplus \\oplus \\oplus \\oplus \\oplus \\oplus \\oplus \\oplus \\oplus \\oplus \\oplus \\oplus \\oplus \\oplus \\oplus \\oplus \\oplus \\oplus \\oplus \\oplus \\oplus \\oplus \\oplus \\oplus \\oplus \\oplus \\oplus \\oplus \\oplus \\oplus \\oplus \\oplus \\oplus \\oplus \\oplus \\oplus \\oplus \\oplus \\oplus \\oplus \\oplus\n"
     ]
    },
    {
     "data": {
      "text/latex": [
       "$\\displaystyle  <S> \\oplus \\underbrace \\oplus \\oplus \\oplus \\oplus \\oplus \\oplus \\oplus \\oplus \\oplus \\oplus \\oplus \\oplus \\oplus \\oplus \\oplus \\oplus \\oplus \\oplus \\oplus \\oplus \\oplus \\oplus \\oplus \\oplus \\oplus \\oplus \\oplus \\oplus \\oplus \\oplus \\oplus \\oplus \\oplus \\oplus \\oplus \\oplus \\oplus \\oplus \\oplus \\oplus \\oplus \\oplus \\oplus \\oplus \\oplus \\oplus \\oplus \\oplus \\oplus \\oplus \\oplus \\oplus \\oplus \\oplus \\oplus \\oplus \\oplus \\oplus \\oplus \\oplus \\oplus \\oplus \\oplus \\oplus \\oplus \\oplus \\oplus \\oplus \\oplus \\oplus \\oplus \\oplus \\oplus \\oplus \\oplus \\oplus \\oplus \\oplus \\oplus \\oplus \\oplus \\oplus \\oplus \\oplus \\oplus \\oplus \\oplus \\oplus \\oplus \\oplus \\oplus \\oplus \\oplus \\oplus \\oplus \\oplus \\oplus \\oplus \\oplus \\oplus \\oplus \\oplus \\oplus \\oplus \\oplus \\oplus \\oplus \\oplus \\oplus \\oplus \\oplus \\oplus \\oplus \\oplus \\oplus \\oplus \\oplus \\oplus \\oplus \\oplus \\oplus \\oplus \\oplus \\oplus \\oplus \\oplus \\oplus$"
      ],
      "text/plain": [
       "<IPython.core.display.Math object>"
      ]
     },
     "metadata": {},
     "output_type": "display_data"
    },
    {
     "name": "stdout",
     "output_type": "stream",
     "text": [
      "None\n"
     ]
    }
   ],
   "source": [
    "image_path= \"Jupyter_Notebooks/test_photos/0a0ebebfb1f6ab3.png\"\n",
    "image = Image.open(image_path).convert('RGB')\n",
    "image = np.asarray(image)\n",
    "print(display(transform(image)))\n",
    "\n",
    "\n",
    "h, w, c = image.shape\n",
    "ratio = int(w/h)\n",
    "h_new  = 64\n",
    "w_new = int(h_new*ratio)\n",
    "print(h_new)\n",
    "image = cv2.resize(image, (w_new, h_new), interpolation=cv2.INTER_AREA)\n",
    "\n",
    "    \n",
    "image_tensor = Image_Transforms.test_transform_with_padding(image=np.array(image))['image'][:1]\n",
    "print(image_tensor.shape)\n",
    "print(display(transform(image_tensor))) \n",
    "\n",
    "#prediction =  scripted_model(my_image_tensor.unsqueeze(0).to(dev))\n",
    "print('\\nPredicted formula:')\n",
    "prediction =  scripted(image_tensor.unsqueeze(0))\n",
    "print(token_to_strings(prediction))\n",
    "print(display(Math(token_to_strings(prediction))))"
   ]
  },
  {
   "cell_type": "code",
   "execution_count": 23,
   "id": "51353870",
   "metadata": {},
   "outputs": [
    {
     "name": "stdout",
     "output_type": "stream",
     "text": [
      "384 812 3\n",
      "192\n",
      "torch.Size([1, 192, 406])\n"
     ]
    },
    {
     "data": {
      "image/png": "[encoded data removed]",
      "text/plain": [
       "<PIL.Image.Image image mode=L size=406x192>"
      ]
     },
     "metadata": {},
     "output_type": "display_data"
    },
    {
     "name": "stdout",
     "output_type": "stream",
     "text": [
      "None\n"
     ]
    },
    {
     "data": {
      "image/png": "[encoded data removed]",
      "text/plain": [
       "<PIL.Image.Image image mode=L size=406x192>"
      ]
     },
     "metadata": {},
     "output_type": "display_data"
    },
    {
     "name": "stdout",
     "output_type": "stream",
     "text": [
      "None\n",
      "\n",
      "Predicted formula:\n",
      " <S> \\oplus \\oplus \\oplus \\oplus \\oplus \\oplus \\oplus \\oplus \\oplus \\oplus \\oplus \\oplus \\oplus \\oplus \\oplus \\oplus \\oplus \\oplus \\oplus \\oplus \\oplus \\oplus \\oplus \\oplus \\oplus \\oplus \\oplus \\oplus \\oplus \\oplus \\oplus \\oplus \\oplus \\oplus \\oplus \\oplus \\oplus \\oplus \\oplus \\oplus \\oplus \\oplus \\oplus \\oplus \\oplus \\oplus \\oplus \\oplus \\oplus \\oplus \\oplus \\oplus \\oplus \\oplus \\oplus \\oplus \\oplus \\oplus \\oplus \\oplus \\oplus \\oplus \\oplus \\oplus \\oplus \\oplus \\oplus \\oplus \\oplus \\oplus \\oplus \\oplus \\oplus \\oplus \\oplus \\oplus \\oplus \\oplus \\oplus \\oplus \\oplus \\oplus \\oplus \\oplus \\oplus \\oplus \\oplus \\oplus \\oplus \\oplus \\oplus \\oplus \\oplus \\oplus \\oplus \\oplus \\oplus \\oplus \\oplus \\oplus \\oplus \\oplus \\oplus \\oplus \\oplus \\oplus \\oplus \\oplus \\oplus \\oplus \\oplus \\oplus \\oplus \\oplus \\oplus \\oplus \\oplus \\oplus \\oplus \\oplus \\oplus \\oplus \\oplus \\oplus \\oplus \\oplus \\oplus \\oplus \\oplus\n"
     ]
    },
    {
     "data": {
      "text/latex": [
       "$\\displaystyle  <S> \\oplus \\oplus \\oplus \\oplus \\oplus \\oplus \\oplus \\oplus \\oplus \\oplus \\oplus \\oplus \\oplus \\oplus \\oplus \\oplus \\oplus \\oplus \\oplus \\oplus \\oplus \\oplus \\oplus \\oplus \\oplus \\oplus \\oplus \\oplus \\oplus \\oplus \\oplus \\oplus \\oplus \\oplus \\oplus \\oplus \\oplus \\oplus \\oplus \\oplus \\oplus \\oplus \\oplus \\oplus \\oplus \\oplus \\oplus \\oplus \\oplus \\oplus \\oplus \\oplus \\oplus \\oplus \\oplus \\oplus \\oplus \\oplus \\oplus \\oplus \\oplus \\oplus \\oplus \\oplus \\oplus \\oplus \\oplus \\oplus \\oplus \\oplus \\oplus \\oplus \\oplus \\oplus \\oplus \\oplus \\oplus \\oplus \\oplus \\oplus \\oplus \\oplus \\oplus \\oplus \\oplus \\oplus \\oplus \\oplus \\oplus \\oplus \\oplus \\oplus \\oplus \\oplus \\oplus \\oplus \\oplus \\oplus \\oplus \\oplus \\oplus \\oplus \\oplus \\oplus \\oplus \\oplus \\oplus \\oplus \\oplus \\oplus \\oplus \\oplus \\oplus \\oplus \\oplus \\oplus \\oplus \\oplus \\oplus \\oplus \\oplus \\oplus \\oplus \\oplus \\oplus \\oplus \\oplus \\oplus \\oplus$"
      ],
      "text/plain": [
       "<IPython.core.display.Math object>"
      ]
     },
     "metadata": {},
     "output_type": "display_data"
    },
    {
     "name": "stdout",
     "output_type": "stream",
     "text": [
      "None\n"
     ]
    }
   ],
   "source": [
    "image_path=  \"Jupyter_Notebooks/test_photos/Screen Shot_11.png\"\n",
    "image = Image.open(image_path).convert('RGB')\n",
    "image = np.asarray(image)\n",
    "\n",
    "\n",
    "h, w, c = image.shape\n",
    "print(h,w,c)\n",
    "\n",
    "ratio = int(w/h)\n",
    "h_new  = h//2\n",
    "w_new = w//2\n",
    "print(h_new)\n",
    "image = cv2.resize(image, (w_new, h_new), interpolation=cv2.INTER_AREA)\n",
    "\n",
    "image_tensor = Image_Transforms.test_transform_with_padding(image=np.array(image))['image'][:1]\n",
    "\n",
    "print(image_tensor.shape)\n",
    "print(display(transform(image_tensor))) \n",
    "c, h, w = image_tensor.shape\n",
    "\n",
    "\n",
    "\n",
    "padded_images = torch.zeros(( 1, h, w))\n",
    "padded_images[ :,  :  h,  :  w] = image_tensor\n",
    "\n",
    "print(display(transform(padded_images)))\n",
    "\n",
    "\n",
    "\n",
    "\n",
    "#prediction =  scripted_model(my_image_tensor.unsqueeze(0).to(dev))\n",
    "print('\\nPredicted formula:')\n",
    "prediction =  scripted(padded_images.unsqueeze(0))\n",
    "print(token_to_strings(prediction))\n",
    "print(display(Math(token_to_strings(prediction))))"
   ]
  },
  {
   "cell_type": "code",
   "execution_count": 24,
   "id": "a4e107eb",
   "metadata": {},
   "outputs": [
    {
     "name": "stdout",
     "output_type": "stream",
     "text": [
      "200 1424 3\n",
      "100\n",
      "torch.Size([1, 100, 712])\n"
     ]
    },
    {
     "data": {
      "image/png": "[encoded data removed]",
      "text/plain": [
       "<PIL.Image.Image image mode=L size=712x100>"
      ]
     },
     "metadata": {},
     "output_type": "display_data"
    },
    {
     "name": "stdout",
     "output_type": "stream",
     "text": [
      "None\n",
      "\n",
      "Predicted formula:\n",
      " <S> \\oplus \\oplus \\oplus \\oplus \\oplus \\oplus \\oplus \\oplus \\oplus \\oplus \\oplus \\oplus \\oplus \\oplus \\oplus \\oplus \\oplus \\oplus \\oplus \\oplus \\oplus \\oplus \\oplus \\oplus \\oplus \\oplus \\oplus \\oplus \\oplus \\oplus \\oplus \\oplus \\oplus \\oplus \\oplus \\oplus \\oplus \\oplus \\oplus \\oplus \\oplus \\oplus \\oplus \\oplus \\oplus \\oplus \\oplus \\oplus \\oplus \\oplus \\oplus \\oplus \\oplus \\oplus \\oplus \\oplus \\oplus \\oplus \\oplus \\oplus \\oplus \\oplus \\oplus \\oplus \\oplus \\oplus \\oplus \\oplus \\oplus \\oplus \\oplus \\oplus \\oplus \\oplus \\oplus \\oplus \\oplus \\oplus \\oplus \\oplus \\oplus \\oplus \\oplus \\oplus \\oplus \\oplus \\oplus \\oplus \\oplus \\oplus \\oplus \\oplus \\oplus \\oplus \\oplus \\oplus \\oplus \\oplus \\oplus \\oplus \\oplus \\oplus \\oplus \\oplus \\oplus \\oplus \\oplus \\oplus \\oplus \\oplus \\oplus \\oplus \\oplus \\oplus \\oplus \\oplus \\oplus \\oplus \\oplus \\oplus \\oplus \\oplus \\oplus \\oplus \\oplus \\oplus \\oplus \\oplus \\oplus\n"
     ]
    },
    {
     "data": {
      "text/latex": [
       "$\\displaystyle  <S> \\oplus \\oplus \\oplus \\oplus \\oplus \\oplus \\oplus \\oplus \\oplus \\oplus \\oplus \\oplus \\oplus \\oplus \\oplus \\oplus \\oplus \\oplus \\oplus \\oplus \\oplus \\oplus \\oplus \\oplus \\oplus \\oplus \\oplus \\oplus \\oplus \\oplus \\oplus \\oplus \\oplus \\oplus \\oplus \\oplus \\oplus \\oplus \\oplus \\oplus \\oplus \\oplus \\oplus \\oplus \\oplus \\oplus \\oplus \\oplus \\oplus \\oplus \\oplus \\oplus \\oplus \\oplus \\oplus \\oplus \\oplus \\oplus \\oplus \\oplus \\oplus \\oplus \\oplus \\oplus \\oplus \\oplus \\oplus \\oplus \\oplus \\oplus \\oplus \\oplus \\oplus \\oplus \\oplus \\oplus \\oplus \\oplus \\oplus \\oplus \\oplus \\oplus \\oplus \\oplus \\oplus \\oplus \\oplus \\oplus \\oplus \\oplus \\oplus \\oplus \\oplus \\oplus \\oplus \\oplus \\oplus \\oplus \\oplus \\oplus \\oplus \\oplus \\oplus \\oplus \\oplus \\oplus \\oplus \\oplus \\oplus \\oplus \\oplus \\oplus \\oplus \\oplus \\oplus \\oplus \\oplus \\oplus \\oplus \\oplus \\oplus \\oplus \\oplus \\oplus \\oplus \\oplus \\oplus \\oplus \\oplus$"
      ],
      "text/plain": [
       "<IPython.core.display.Math object>"
      ]
     },
     "metadata": {},
     "output_type": "display_data"
    },
    {
     "name": "stdout",
     "output_type": "stream",
     "text": [
      "None\n"
     ]
    }
   ],
   "source": [
    "image_path= \"Jupyter_Notebooks/test_photos/Screen Shot_14.png\"\n",
    "image = Image.open(image_path).convert('RGB')\n",
    "image = np.asarray(image)\n",
    "\n",
    "\n",
    "h, w, c = image.shape\n",
    "print(h,w,c)\n",
    "\n",
    "ratio = int(w/h)\n",
    "h_new  = h//2\n",
    "w_new = w//2\n",
    "print(h_new)\n",
    "image = cv2.resize(image, (w_new, h_new), interpolation=cv2.INTER_AREA)\n",
    "\n",
    "image_tensor = Image_Transforms.test_transform_with_padding(image=np.array(image))['image'][:1]\n",
    "\n",
    "print(image_tensor.shape)\n",
    "print(display(transform(image_tensor))) \n",
    "c, h, w = image_tensor.shape\n",
    "\n",
    "\n",
    "\n",
    "#padded_images = torch.zeros(( 1, h, w))\n",
    "#padded_images[ :,  :  h,  :  w] = image_tensor\n",
    "\n",
    "#print(display(transform(padded_images)))\n",
    "\n",
    "\n",
    "\n",
    "\n",
    "#prediction =  scripted_model(my_image_tensor.unsqueeze(0).to(dev))\n",
    "print('\\nPredicted formula:')\n",
    "prediction =  scripted(image_tensor.unsqueeze(0))\n",
    "print(token_to_strings(prediction))\n",
    "print(display(Math(token_to_strings(prediction))))"
   ]
  },
  {
   "cell_type": "code",
   "execution_count": 25,
   "id": "d4699bd6",
   "metadata": {},
   "outputs": [
    {
     "data": {
      "image/png": "[encoded data removed]",
      "text/plain": [
       "<PIL.Image.Image image mode=RGB size=1904x392>"
      ]
     },
     "metadata": {},
     "output_type": "display_data"
    },
    {
     "name": "stdout",
     "output_type": "stream",
     "text": [
      "None\n",
      "torch.Size([1, 392, 1904])\n"
     ]
    },
    {
     "data": {
      "image/png": "[encoded data removed]",
      "text/plain": [
       "<PIL.Image.Image image mode=L size=1904x392>"
      ]
     },
     "metadata": {},
     "output_type": "display_data"
    },
    {
     "name": "stdout",
     "output_type": "stream",
     "text": [
      "None\n",
      "\n",
      "Predicted formula:\n",
      " <S> \\oplus \\oplus \\oplus \\oplus \\oplus \\oplus \\oplus \\oplus \\oplus \\oplus \\oplus \\oplus \\oplus \\oplus \\oplus \\oplus \\oplus \\oplus \\oplus \\oplus \\oplus \\oplus \\oplus \\oplus \\oplus \\oplus \\oplus \\oplus \\oplus \\oplus \\oplus \\oplus \\oplus \\oplus \\oplus \\oplus \\oplus \\oplus \\oplus \\oplus \\oplus \\oplus \\oplus \\oplus \\oplus \\oplus \\oplus \\oplus \\oplus \\oplus \\oplus \\oplus \\oplus \\oplus \\oplus \\oplus \\oplus \\oplus \\oplus \\oplus \\oplus \\oplus \\oplus \\oplus \\oplus \\oplus \\oplus \\oplus \\oplus \\oplus \\oplus \\oplus \\oplus \\oplus \\oplus \\oplus \\oplus \\oplus \\oplus \\oplus \\oplus \\oplus \\oplus \\oplus \\oplus \\oplus \\oplus \\oplus \\oplus \\oplus \\oplus \\oplus \\oplus \\oplus \\oplus \\oplus \\oplus \\oplus \\oplus \\oplus \\oplus \\oplus \\oplus \\oplus \\oplus \\oplus \\oplus \\oplus \\oplus \\oplus \\oplus \\oplus \\oplus \\oplus \\oplus \\oplus \\oplus \\oplus \\oplus \\oplus \\oplus \\oplus \\oplus \\oplus \\oplus \\oplus \\oplus \\oplus \\oplus\n"
     ]
    },
    {
     "data": {
      "text/latex": [
       "$\\displaystyle  <S> \\oplus \\oplus \\oplus \\oplus \\oplus \\oplus \\oplus \\oplus \\oplus \\oplus \\oplus \\oplus \\oplus \\oplus \\oplus \\oplus \\oplus \\oplus \\oplus \\oplus \\oplus \\oplus \\oplus \\oplus \\oplus \\oplus \\oplus \\oplus \\oplus \\oplus \\oplus \\oplus \\oplus \\oplus \\oplus \\oplus \\oplus \\oplus \\oplus \\oplus \\oplus \\oplus \\oplus \\oplus \\oplus \\oplus \\oplus \\oplus \\oplus \\oplus \\oplus \\oplus \\oplus \\oplus \\oplus \\oplus \\oplus \\oplus \\oplus \\oplus \\oplus \\oplus \\oplus \\oplus \\oplus \\oplus \\oplus \\oplus \\oplus \\oplus \\oplus \\oplus \\oplus \\oplus \\oplus \\oplus \\oplus \\oplus \\oplus \\oplus \\oplus \\oplus \\oplus \\oplus \\oplus \\oplus \\oplus \\oplus \\oplus \\oplus \\oplus \\oplus \\oplus \\oplus \\oplus \\oplus \\oplus \\oplus \\oplus \\oplus \\oplus \\oplus \\oplus \\oplus \\oplus \\oplus \\oplus \\oplus \\oplus \\oplus \\oplus \\oplus \\oplus \\oplus \\oplus \\oplus \\oplus \\oplus \\oplus \\oplus \\oplus \\oplus \\oplus \\oplus \\oplus \\oplus \\oplus \\oplus \\oplus$"
      ],
      "text/plain": [
       "<IPython.core.display.Math object>"
      ]
     },
     "metadata": {},
     "output_type": "display_data"
    },
    {
     "name": "stdout",
     "output_type": "stream",
     "text": [
      "None\n"
     ]
    }
   ],
   "source": [
    "image_path= \"Jupyter_Notebooks/test_photos/Screen Shot_12.png\"\n",
    "image = Image.open(image_path).convert('RGB')\n",
    "image = np.asarray(image)\n",
    "print(display(transform(image)))\n",
    "\n",
    "\n",
    "h, w, c = image.shape\n",
    "\n",
    "\n",
    "    \n",
    "image_tensor = Image_Transforms.test_transform_with_padding(image=np.array(image))['image'][:1]\n",
    "print(image_tensor.shape)\n",
    "print(display(transform(image_tensor))) \n",
    "\n",
    "#prediction =  scripted_model(my_image_tensor.unsqueeze(0).to(dev))\n",
    "print('\\nPredicted formula:')\n",
    "prediction =  scripted(image_tensor.unsqueeze(0))\n",
    "print(token_to_strings(prediction))\n",
    "print(display(Math(token_to_strings(prediction))))"
   ]
  },
  {
   "cell_type": "code",
   "execution_count": 26,
   "id": "9f9d82aa",
   "metadata": {},
   "outputs": [
    {
     "name": "stdout",
     "output_type": "stream",
     "text": [
      "202 1774 3\n",
      "torch.Size([1, 202, 1774])\n"
     ]
    },
    {
     "data": {
      "image/png": "[encoded data removed]",
      "text/plain": [
       "<PIL.Image.Image image mode=L size=1774x202>"
      ]
     },
     "metadata": {},
     "output_type": "display_data"
    },
    {
     "name": "stdout",
     "output_type": "stream",
     "text": [
      "None\n"
     ]
    },
    {
     "data": {
      "image/png": "[encoded data removed]",
      "text/plain": [
       "<PIL.Image.Image image mode=L size=1774x202>"
      ]
     },
     "metadata": {},
     "output_type": "display_data"
    },
    {
     "name": "stdout",
     "output_type": "stream",
     "text": [
      "None\n",
      "\n",
      "Predicted formula:\n",
      " <S> \\oplus \\oplus \\oplus \\oplus \\oplus \\oplus \\oplus \\oplus \\oplus \\oplus \\oplus \\oplus \\oplus \\oplus \\oplus \\oplus \\oplus \\oplus \\oplus \\oplus \\oplus \\oplus \\oplus \\oplus \\oplus \\oplus \\oplus \\oplus \\oplus \\oplus \\oplus \\oplus \\oplus \\oplus \\oplus \\oplus \\oplus \\oplus \\oplus \\oplus \\oplus \\oplus \\oplus \\oplus \\oplus \\oplus \\oplus \\oplus \\oplus \\oplus \\oplus \\oplus \\oplus \\oplus \\oplus \\oplus \\oplus \\oplus \\oplus \\oplus \\oplus \\oplus \\oplus \\oplus \\oplus \\oplus \\oplus \\oplus \\oplus \\oplus \\oplus \\oplus \\oplus \\oplus \\oplus \\oplus \\oplus \\oplus \\oplus \\oplus \\oplus \\oplus \\oplus \\oplus \\oplus \\oplus \\oplus \\oplus \\oplus \\oplus \\oplus \\oplus \\oplus \\oplus \\oplus \\oplus \\oplus \\oplus \\oplus \\oplus \\oplus \\oplus \\oplus \\oplus \\oplus \\oplus \\oplus \\oplus \\oplus \\oplus \\oplus \\oplus \\oplus \\oplus \\oplus \\oplus \\oplus \\oplus \\oplus \\oplus \\oplus \\oplus \\oplus \\oplus \\oplus \\oplus \\oplus \\oplus \\oplus\n"
     ]
    },
    {
     "data": {
      "text/latex": [
       "$\\displaystyle  <S> \\oplus \\oplus \\oplus \\oplus \\oplus \\oplus \\oplus \\oplus \\oplus \\oplus \\oplus \\oplus \\oplus \\oplus \\oplus \\oplus \\oplus \\oplus \\oplus \\oplus \\oplus \\oplus \\oplus \\oplus \\oplus \\oplus \\oplus \\oplus \\oplus \\oplus \\oplus \\oplus \\oplus \\oplus \\oplus \\oplus \\oplus \\oplus \\oplus \\oplus \\oplus \\oplus \\oplus \\oplus \\oplus \\oplus \\oplus \\oplus \\oplus \\oplus \\oplus \\oplus \\oplus \\oplus \\oplus \\oplus \\oplus \\oplus \\oplus \\oplus \\oplus \\oplus \\oplus \\oplus \\oplus \\oplus \\oplus \\oplus \\oplus \\oplus \\oplus \\oplus \\oplus \\oplus \\oplus \\oplus \\oplus \\oplus \\oplus \\oplus \\oplus \\oplus \\oplus \\oplus \\oplus \\oplus \\oplus \\oplus \\oplus \\oplus \\oplus \\oplus \\oplus \\oplus \\oplus \\oplus \\oplus \\oplus \\oplus \\oplus \\oplus \\oplus \\oplus \\oplus \\oplus \\oplus \\oplus \\oplus \\oplus \\oplus \\oplus \\oplus \\oplus \\oplus \\oplus \\oplus \\oplus \\oplus \\oplus \\oplus \\oplus \\oplus \\oplus \\oplus \\oplus \\oplus \\oplus \\oplus \\oplus$"
      ],
      "text/plain": [
       "<IPython.core.display.Math object>"
      ]
     },
     "metadata": {},
     "output_type": "display_data"
    },
    {
     "name": "stdout",
     "output_type": "stream",
     "text": [
      "None\n"
     ]
    }
   ],
   "source": [
    "image_path= \"Jupyter_Notebooks/test_photos/Screen Shot_13.png\"\n",
    "image = Image.open(image_path).convert('RGB')\n",
    "image = np.asarray(image)\n",
    "\n",
    "\n",
    "h, w, c = image.shape\n",
    "print(h,w,c)\n",
    "\n",
    "#ratio = int(w/h)\n",
    "#h_new  = 64\n",
    "#w_new = int(h_new*ratio)\n",
    "#print(h_new)\n",
    "#image = cv2.resize(image, (w_new, h_new), interpolation=cv2.INTER_AREA)\n",
    "\n",
    "image_tensor = Image_Transforms.test_transform_with_padding(image=np.array(image))['image'][:1]\n",
    "\n",
    "print(image_tensor.shape)\n",
    "print(display(transform(image_tensor))) \n",
    "c, h, w = image_tensor.shape\n",
    "\n",
    "\n",
    "\n",
    "padded_images = torch.zeros(( 1, h, w))\n",
    "padded_images[ :,  :  h,  :  w] = image_tensor\n",
    "\n",
    "print(display(transform(padded_images)))\n",
    "\n",
    "\n",
    "\n",
    "\n",
    "#prediction =  scripted_model(my_image_tensor.unsqueeze(0).to(dev))\n",
    "print('\\nPredicted formula:')\n",
    "prediction =  scripted(padded_images.unsqueeze(0))\n",
    "print(token_to_strings(prediction))\n",
    "print(display(Math(token_to_strings(prediction))))"
   ]
  },
  {
   "cell_type": "code",
   "execution_count": 27,
   "id": "22723b75",
   "metadata": {},
   "outputs": [
    {
     "name": "stdout",
     "output_type": "stream",
     "text": [
      "188 1950 3\n",
      "100\n",
      "torch.Size([1, 100, 1000])\n"
     ]
    },
    {
     "data": {
      "image/png": "[encoded data removed]",
      "text/plain": [
       "<PIL.Image.Image image mode=L size=1000x100>"
      ]
     },
     "metadata": {},
     "output_type": "display_data"
    },
    {
     "name": "stdout",
     "output_type": "stream",
     "text": [
      "None\n"
     ]
    },
    {
     "data": {
      "image/png": "[encoded data removed]",
      "text/plain": [
       "<PIL.Image.Image image mode=L size=1000x100>"
      ]
     },
     "metadata": {},
     "output_type": "display_data"
    },
    {
     "name": "stdout",
     "output_type": "stream",
     "text": [
      "None\n",
      "\n",
      "Predicted formula:\n",
      " <S> \\oplus \\oplus \\oplus \\oplus \\oplus \\oplus \\oplus \\oplus \\oplus \\oplus \\oplus \\oplus \\oplus \\oplus \\oplus \\oplus \\oplus \\oplus \\oplus \\oplus \\oplus \\oplus \\oplus \\oplus \\oplus \\oplus \\oplus \\oplus \\oplus \\oplus \\oplus \\oplus \\oplus \\oplus \\oplus \\oplus \\oplus \\oplus \\oplus \\oplus \\oplus \\oplus \\oplus \\oplus \\oplus \\oplus \\oplus \\oplus \\oplus \\oplus \\oplus \\oplus \\oplus \\oplus \\oplus \\oplus \\oplus \\oplus \\oplus \\oplus \\oplus \\oplus \\oplus \\oplus \\oplus \\oplus \\oplus \\oplus \\oplus \\oplus \\oplus \\oplus \\oplus \\oplus \\oplus \\oplus \\oplus \\oplus \\oplus \\oplus \\oplus \\oplus \\oplus \\oplus \\oplus \\oplus \\oplus \\oplus \\oplus \\oplus \\oplus \\oplus \\oplus \\oplus \\oplus \\oplus \\oplus \\oplus \\oplus \\oplus \\oplus \\oplus \\oplus \\oplus \\oplus \\oplus \\oplus \\oplus \\oplus \\oplus \\oplus \\oplus \\oplus \\oplus \\oplus \\oplus \\oplus \\oplus \\oplus \\oplus \\oplus \\oplus \\oplus \\oplus \\oplus \\oplus \\oplus \\oplus \\oplus\n"
     ]
    },
    {
     "data": {
      "text/latex": [
       "$\\displaystyle  <S> \\oplus \\oplus \\oplus \\oplus \\oplus \\oplus \\oplus \\oplus \\oplus \\oplus \\oplus \\oplus \\oplus \\oplus \\oplus \\oplus \\oplus \\oplus \\oplus \\oplus \\oplus \\oplus \\oplus \\oplus \\oplus \\oplus \\oplus \\oplus \\oplus \\oplus \\oplus \\oplus \\oplus \\oplus \\oplus \\oplus \\oplus \\oplus \\oplus \\oplus \\oplus \\oplus \\oplus \\oplus \\oplus \\oplus \\oplus \\oplus \\oplus \\oplus \\oplus \\oplus \\oplus \\oplus \\oplus \\oplus \\oplus \\oplus \\oplus \\oplus \\oplus \\oplus \\oplus \\oplus \\oplus \\oplus \\oplus \\oplus \\oplus \\oplus \\oplus \\oplus \\oplus \\oplus \\oplus \\oplus \\oplus \\oplus \\oplus \\oplus \\oplus \\oplus \\oplus \\oplus \\oplus \\oplus \\oplus \\oplus \\oplus \\oplus \\oplus \\oplus \\oplus \\oplus \\oplus \\oplus \\oplus \\oplus \\oplus \\oplus \\oplus \\oplus \\oplus \\oplus \\oplus \\oplus \\oplus \\oplus \\oplus \\oplus \\oplus \\oplus \\oplus \\oplus \\oplus \\oplus \\oplus \\oplus \\oplus \\oplus \\oplus \\oplus \\oplus \\oplus \\oplus \\oplus \\oplus \\oplus \\oplus$"
      ],
      "text/plain": [
       "<IPython.core.display.Math object>"
      ]
     },
     "metadata": {},
     "output_type": "display_data"
    },
    {
     "name": "stdout",
     "output_type": "stream",
     "text": [
      "None\n"
     ]
    }
   ],
   "source": [
    "image_path= \"Jupyter_Notebooks/test_photos/Screen Shot_10.png\"\n",
    "image = Image.open(image_path).convert('RGB')\n",
    "image = np.asarray(image)\n",
    "\n",
    "\n",
    "h, w, c = image.shape\n",
    "print(h,w,c)\n",
    "\n",
    "ratio = int(w/h)\n",
    "h_new  = 100\n",
    "w_new = int(h_new*ratio)\n",
    "print(h_new)\n",
    "image = cv2.resize(image, (w_new, h_new), interpolation=cv2.INTER_AREA)\n",
    "\n",
    "image_tensor = Image_Transforms.test_transform_with_padding(image=np.array(image))['image'][:1]\n",
    "\n",
    "print(image_tensor.shape)\n",
    "print(display(transform(image_tensor))) \n",
    "c, h, w = image_tensor.shape\n",
    "\n",
    "\n",
    "\n",
    "padded_images = torch.zeros(( 1, h, w))\n",
    "padded_images[ :,  :  h,  :  w] = image_tensor\n",
    "\n",
    "print(display(transform(padded_images)))\n",
    "\n",
    "\n",
    "\n",
    "\n",
    "#prediction =  scripted_model(my_image_tensor.unsqueeze(0).to(dev))\n",
    "print('\\nPredicted formula:')\n",
    "prediction =  scripted(padded_images.unsqueeze(0))\n",
    "print(token_to_strings(prediction))\n",
    "print(display(Math(token_to_strings(prediction))))"
   ]
  },
  {
   "cell_type": "code",
   "execution_count": 28,
   "id": "91718771",
   "metadata": {},
   "outputs": [
    {
     "name": "stdout",
     "output_type": "stream",
     "text": [
      "202 1774 3\n",
      "torch.Size([1, 202, 1774])\n"
     ]
    },
    {
     "data": {
      "image/png": "[encoded data removed]",
      "text/plain": [
       "<PIL.Image.Image image mode=L size=1774x202>"
      ]
     },
     "metadata": {},
     "output_type": "display_data"
    },
    {
     "name": "stdout",
     "output_type": "stream",
     "text": [
      "None\n",
      "\n",
      "Predicted formula:\n",
      " <S> \\oplus \\oplus \\oplus \\oplus \\oplus \\oplus \\oplus \\oplus \\oplus \\oplus \\oplus \\oplus \\oplus \\oplus \\oplus \\oplus \\oplus \\oplus \\oplus \\oplus \\oplus \\oplus \\oplus \\oplus \\oplus \\oplus \\oplus \\oplus \\oplus \\oplus \\oplus \\oplus \\oplus \\oplus \\oplus \\oplus \\oplus \\oplus \\oplus \\oplus \\oplus \\oplus \\oplus \\oplus \\oplus \\oplus \\oplus \\oplus \\oplus \\oplus \\oplus \\oplus \\oplus \\oplus \\oplus \\oplus \\oplus \\oplus \\oplus \\oplus \\oplus \\oplus \\oplus \\oplus \\oplus \\oplus \\oplus \\oplus \\oplus \\oplus \\oplus \\oplus \\oplus \\oplus \\oplus \\oplus \\oplus \\oplus \\oplus \\oplus \\oplus \\oplus \\oplus \\oplus \\oplus \\oplus \\oplus \\oplus \\oplus \\oplus \\oplus \\oplus \\oplus \\oplus \\oplus \\oplus \\oplus \\oplus \\oplus \\oplus \\oplus \\oplus \\oplus \\oplus \\oplus \\oplus \\oplus \\oplus \\oplus \\oplus \\oplus \\oplus \\oplus \\oplus \\oplus \\oplus \\oplus \\oplus \\oplus \\oplus \\oplus \\oplus \\oplus \\oplus \\oplus \\oplus \\oplus \\oplus \\oplus\n"
     ]
    },
    {
     "data": {
      "text/latex": [
       "$\\displaystyle  <S> \\oplus \\oplus \\oplus \\oplus \\oplus \\oplus \\oplus \\oplus \\oplus \\oplus \\oplus \\oplus \\oplus \\oplus \\oplus \\oplus \\oplus \\oplus \\oplus \\oplus \\oplus \\oplus \\oplus \\oplus \\oplus \\oplus \\oplus \\oplus \\oplus \\oplus \\oplus \\oplus \\oplus \\oplus \\oplus \\oplus \\oplus \\oplus \\oplus \\oplus \\oplus \\oplus \\oplus \\oplus \\oplus \\oplus \\oplus \\oplus \\oplus \\oplus \\oplus \\oplus \\oplus \\oplus \\oplus \\oplus \\oplus \\oplus \\oplus \\oplus \\oplus \\oplus \\oplus \\oplus \\oplus \\oplus \\oplus \\oplus \\oplus \\oplus \\oplus \\oplus \\oplus \\oplus \\oplus \\oplus \\oplus \\oplus \\oplus \\oplus \\oplus \\oplus \\oplus \\oplus \\oplus \\oplus \\oplus \\oplus \\oplus \\oplus \\oplus \\oplus \\oplus \\oplus \\oplus \\oplus \\oplus \\oplus \\oplus \\oplus \\oplus \\oplus \\oplus \\oplus \\oplus \\oplus \\oplus \\oplus \\oplus \\oplus \\oplus \\oplus \\oplus \\oplus \\oplus \\oplus \\oplus \\oplus \\oplus \\oplus \\oplus \\oplus \\oplus \\oplus \\oplus \\oplus \\oplus \\oplus \\oplus$"
      ],
      "text/plain": [
       "<IPython.core.display.Math object>"
      ]
     },
     "metadata": {},
     "output_type": "display_data"
    },
    {
     "name": "stdout",
     "output_type": "stream",
     "text": [
      "None\n"
     ]
    }
   ],
   "source": [
    "image_path= \"Jupyter_Notebooks/test_photos/Screen Shot_13.png\"\n",
    "image = Image.open(image_path).convert('RGB')\n",
    "image = np.asarray(image)\n",
    "\n",
    "\n",
    "h, w, c = image.shape\n",
    "print(h,w,c)\n",
    "\n",
    "#ratio = int(w/h)\n",
    "#h_new  = 100\n",
    "#w_new = h_new*ratio\n",
    "#print(h_new)\n",
    "#image = cv2.resize(image, (w_new, h_new), interpolation=cv2.INTER_LINEAR)\n",
    "\n",
    "image_tensor = Image_Transforms.test_transform_with_padding(image=np.array(image))['image'][:1]\n",
    "\n",
    "print(image_tensor.shape)\n",
    "print(display(transform(image_tensor))) \n",
    "#c, h, w = image_tensor.shape\n",
    "\n",
    "\n",
    "\n",
    "#padded_images = torch.zeros(( 1, h, w))\n",
    "#padded_images[ :,  :  h,  :  w] = image_tensor\n",
    "\n",
    "#print(display(transform(padded_images)))\n",
    "\n",
    "\n",
    "\n",
    "\n",
    "#prediction =  scripted_model(my_image_tensor.unsqueeze(0).to(dev))\n",
    "print('\\nPredicted formula:')\n",
    "prediction =  scripted(image_tensor.unsqueeze(0))\n",
    "print(token_to_strings(prediction))\n",
    "print(display(Math(token_to_strings(prediction))))"
   ]
  },
  {
   "cell_type": "code",
   "execution_count": 29,
   "id": "59457a2e",
   "metadata": {},
   "outputs": [
    {
     "name": "stdout",
     "output_type": "stream",
     "text": [
      "(1774, 202)\n",
      "(887, 101)\n"
     ]
    },
    {
     "data": {
      "image/png": "[encoded data removed]",
      "text/plain": [
       "<PIL.Image.Image image mode=RGB size=887x101>"
      ]
     },
     "metadata": {},
     "output_type": "display_data"
    },
    {
     "name": "stdout",
     "output_type": "stream",
     "text": [
      "None\n"
     ]
    }
   ],
   "source": [
    "image_path= \"Jupyter_Notebooks/test_photos/Screen Shot_13.png\"\n",
    "image = Image.open(image_path).convert('RGB')\n",
    "image.size\n",
    "print(image.size)\n",
    "w_new = w//2\n",
    "h_new = h//2\n",
    "image = image.resize((w_new, h_new), resample=Image.Resampling.BILINEAR)\n",
    "print(image.size)\n",
    "print(display(image)) \n"
   ]
  },
  {
   "cell_type": "code",
   "execution_count": 30,
   "id": "a5744d70",
   "metadata": {},
   "outputs": [
    {
     "name": "stdout",
     "output_type": "stream",
     "text": [
      "(202, 1774, 3)\n",
      "(101, 887, 3)\n",
      "torch.Size([1, 101, 887])\n"
     ]
    },
    {
     "data": {
      "image/png": "[encoded data removed]",
      "text/plain": [
       "<PIL.Image.Image image mode=L size=887x101>"
      ]
     },
     "metadata": {},
     "output_type": "display_data"
    },
    {
     "name": "stdout",
     "output_type": "stream",
     "text": [
      "None\n"
     ]
    }
   ],
   "source": [
    "image_path= \"Jupyter_Notebooks/test_photos/Screen Shot_13.png\"\n",
    "image = cv2.imread(image_path)\n",
    "image = cv2.cvtColor(image, cv2.COLOR_BGR2RGB)\n",
    "print(image.shape)\n",
    "image = cv2.resize(image, (0,0), fx=0.5, fy=0.5,interpolation=cv2.INTER_LINEAR)\n",
    "print(image.shape)\n",
    "\n",
    "image_tensor = Image_Transforms.test_transform_with_padding(image=np.array(image))['image'][:1]\n",
    "print(image_tensor.shape)\n",
    "print(display(transform(image_tensor))) "
   ]
  },
  {
   "cell_type": "code",
   "execution_count": 31,
   "id": "658d4205",
   "metadata": {},
   "outputs": [
    {
     "name": "stdout",
     "output_type": "stream",
     "text": [
      "(23, 57, 3)\n",
      "(69, 171, 3)\n",
      "torch.Size([1, 69, 171])\n"
     ]
    },
    {
     "data": {
      "image/png": "[encoded data removed]",
      "text/plain": [
       "<PIL.Image.Image image mode=L size=171x69>"
      ]
     },
     "metadata": {},
     "output_type": "display_data"
    },
    {
     "name": "stdout",
     "output_type": "stream",
     "text": [
      "None\n"
     ]
    }
   ],
   "source": [
    "image_path= image_path= \"Jupyter_Notebooks/test_photos/0a0ebebfb1f6ab3.png\"\n",
    "image = cv2.imread(image_path)\n",
    "image = cv2.cvtColor(image, cv2.COLOR_BGR2RGB)\n",
    "print(image.shape)\n",
    "image = cv2.resize(image, (0,0), fx=3, fy=3, interpolation=cv2.INTER_CUBIC)\n",
    "print(image.shape)\n",
    "\n",
    "image_tensor = Image_Transforms.test_transform_with_padding(image=np.array(image))['image'][:1]\n",
    "print(image_tensor.shape)\n",
    "print(display(transform(image_tensor)))"
   ]
  },
  {
   "cell_type": "code",
   "execution_count": 32,
   "id": "f29b0c9c",
   "metadata": {},
   "outputs": [],
   "source": [
    "import torchvision"
   ]
  },
  {
   "cell_type": "code",
   "execution_count": 33,
   "id": "297ff89a",
   "metadata": {},
   "outputs": [],
   "source": [
    "from torchvision import models\n",
    "from torch import nn"
   ]
  },
  {
   "cell_type": "code",
   "execution_count": 34,
   "id": "ca6ec44d",
   "metadata": {},
   "outputs": [],
   "source": [
    "resnet = models.resnet34(pretrained=False)"
   ]
  },
  {
   "cell_type": "code",
   "execution_count": 35,
   "id": "91021cec",
   "metadata": {},
   "outputs": [],
   "source": [
    "backbone1 = nn.Sequential(\n",
    "            resnet.conv1,\n",
    "            resnet.bn1,\n",
    "            resnet.relu,\n",
    "            resnet.maxpool,\n",
    "            resnet.layer1,\n",
    "            resnet.layer2,\n",
    "            resnet.layer3,\n",
    ")\n",
    "\n",
    "backbone2 = nn.Sequential(\n",
    "            resnet.conv1,\n",
    "            resnet.bn1,\n",
    "            resnet.relu,\n",
    "            resnet.maxpool,\n",
    "            resnet.layer1,\n",
    "            resnet.layer2,\n",
    "            resnet.layer3,\n",
    "    resnet.layer4\n",
    ")"
   ]
  },
  {
   "cell_type": "code",
   "execution_count": null,
   "id": "f9c29649",
   "metadata": {},
   "outputs": [],
   "source": []
  },
  {
   "cell_type": "code",
   "execution_count": 36,
   "id": "4a26c45e",
   "metadata": {
    "scrolled": false
   },
   "outputs": [
    {
     "data": {
      "text/plain": [
       "Sequential(\n",
       "  (0): Conv2d(3, 64, kernel_size=(7, 7), stride=(2, 2), padding=(3, 3), bias=False)\n",
       "  (1): BatchNorm2d(64, eps=1e-05, momentum=0.1, affine=True, track_running_stats=True)\n",
       "  (2): ReLU(inplace=True)\n",
       "  (3): MaxPool2d(kernel_size=3, stride=2, padding=1, dilation=1, ceil_mode=False)\n",
       "  (4): Sequential(\n",
       "    (0): BasicBlock(\n",
       "      (conv1): Conv2d(64, 64, kernel_size=(3, 3), stride=(1, 1), padding=(1, 1), bias=False)\n",
       "      (bn1): BatchNorm2d(64, eps=1e-05, momentum=0.1, affine=True, track_running_stats=True)\n",
       "      (relu): ReLU(inplace=True)\n",
       "      (conv2): Conv2d(64, 64, kernel_size=(3, 3), stride=(1, 1), padding=(1, 1), bias=False)\n",
       "      (bn2): BatchNorm2d(64, eps=1e-05, momentum=0.1, affine=True, track_running_stats=True)\n",
       "    )\n",
       "    (1): BasicBlock(\n",
       "      (conv1): Conv2d(64, 64, kernel_size=(3, 3), stride=(1, 1), padding=(1, 1), bias=False)\n",
       "      (bn1): BatchNorm2d(64, eps=1e-05, momentum=0.1, affine=True, track_running_stats=True)\n",
       "      (relu): ReLU(inplace=True)\n",
       "      (conv2): Conv2d(64, 64, kernel_size=(3, 3), stride=(1, 1), padding=(1, 1), bias=False)\n",
       "      (bn2): BatchNorm2d(64, eps=1e-05, momentum=0.1, affine=True, track_running_stats=True)\n",
       "    )\n",
       "    (2): BasicBlock(\n",
       "      (conv1): Conv2d(64, 64, kernel_size=(3, 3), stride=(1, 1), padding=(1, 1), bias=False)\n",
       "      (bn1): BatchNorm2d(64, eps=1e-05, momentum=0.1, affine=True, track_running_stats=True)\n",
       "      (relu): ReLU(inplace=True)\n",
       "      (conv2): Conv2d(64, 64, kernel_size=(3, 3), stride=(1, 1), padding=(1, 1), bias=False)\n",
       "      (bn2): BatchNorm2d(64, eps=1e-05, momentum=0.1, affine=True, track_running_stats=True)\n",
       "    )\n",
       "  )\n",
       "  (5): Sequential(\n",
       "    (0): BasicBlock(\n",
       "      (conv1): Conv2d(64, 128, kernel_size=(3, 3), stride=(2, 2), padding=(1, 1), bias=False)\n",
       "      (bn1): BatchNorm2d(128, eps=1e-05, momentum=0.1, affine=True, track_running_stats=True)\n",
       "      (relu): ReLU(inplace=True)\n",
       "      (conv2): Conv2d(128, 128, kernel_size=(3, 3), stride=(1, 1), padding=(1, 1), bias=False)\n",
       "      (bn2): BatchNorm2d(128, eps=1e-05, momentum=0.1, affine=True, track_running_stats=True)\n",
       "      (downsample): Sequential(\n",
       "        (0): Conv2d(64, 128, kernel_size=(1, 1), stride=(2, 2), bias=False)\n",
       "        (1): BatchNorm2d(128, eps=1e-05, momentum=0.1, affine=True, track_running_stats=True)\n",
       "      )\n",
       "    )\n",
       "    (1): BasicBlock(\n",
       "      (conv1): Conv2d(128, 128, kernel_size=(3, 3), stride=(1, 1), padding=(1, 1), bias=False)\n",
       "      (bn1): BatchNorm2d(128, eps=1e-05, momentum=0.1, affine=True, track_running_stats=True)\n",
       "      (relu): ReLU(inplace=True)\n",
       "      (conv2): Conv2d(128, 128, kernel_size=(3, 3), stride=(1, 1), padding=(1, 1), bias=False)\n",
       "      (bn2): BatchNorm2d(128, eps=1e-05, momentum=0.1, affine=True, track_running_stats=True)\n",
       "    )\n",
       "    (2): BasicBlock(\n",
       "      (conv1): Conv2d(128, 128, kernel_size=(3, 3), stride=(1, 1), padding=(1, 1), bias=False)\n",
       "      (bn1): BatchNorm2d(128, eps=1e-05, momentum=0.1, affine=True, track_running_stats=True)\n",
       "      (relu): ReLU(inplace=True)\n",
       "      (conv2): Conv2d(128, 128, kernel_size=(3, 3), stride=(1, 1), padding=(1, 1), bias=False)\n",
       "      (bn2): BatchNorm2d(128, eps=1e-05, momentum=0.1, affine=True, track_running_stats=True)\n",
       "    )\n",
       "    (3): BasicBlock(\n",
       "      (conv1): Conv2d(128, 128, kernel_size=(3, 3), stride=(1, 1), padding=(1, 1), bias=False)\n",
       "      (bn1): BatchNorm2d(128, eps=1e-05, momentum=0.1, affine=True, track_running_stats=True)\n",
       "      (relu): ReLU(inplace=True)\n",
       "      (conv2): Conv2d(128, 128, kernel_size=(3, 3), stride=(1, 1), padding=(1, 1), bias=False)\n",
       "      (bn2): BatchNorm2d(128, eps=1e-05, momentum=0.1, affine=True, track_running_stats=True)\n",
       "    )\n",
       "  )\n",
       "  (6): Sequential(\n",
       "    (0): BasicBlock(\n",
       "      (conv1): Conv2d(128, 256, kernel_size=(3, 3), stride=(2, 2), padding=(1, 1), bias=False)\n",
       "      (bn1): BatchNorm2d(256, eps=1e-05, momentum=0.1, affine=True, track_running_stats=True)\n",
       "      (relu): ReLU(inplace=True)\n",
       "      (conv2): Conv2d(256, 256, kernel_size=(3, 3), stride=(1, 1), padding=(1, 1), bias=False)\n",
       "      (bn2): BatchNorm2d(256, eps=1e-05, momentum=0.1, affine=True, track_running_stats=True)\n",
       "      (downsample): Sequential(\n",
       "        (0): Conv2d(128, 256, kernel_size=(1, 1), stride=(2, 2), bias=False)\n",
       "        (1): BatchNorm2d(256, eps=1e-05, momentum=0.1, affine=True, track_running_stats=True)\n",
       "      )\n",
       "    )\n",
       "    (1): BasicBlock(\n",
       "      (conv1): Conv2d(256, 256, kernel_size=(3, 3), stride=(1, 1), padding=(1, 1), bias=False)\n",
       "      (bn1): BatchNorm2d(256, eps=1e-05, momentum=0.1, affine=True, track_running_stats=True)\n",
       "      (relu): ReLU(inplace=True)\n",
       "      (conv2): Conv2d(256, 256, kernel_size=(3, 3), stride=(1, 1), padding=(1, 1), bias=False)\n",
       "      (bn2): BatchNorm2d(256, eps=1e-05, momentum=0.1, affine=True, track_running_stats=True)\n",
       "    )\n",
       "    (2): BasicBlock(\n",
       "      (conv1): Conv2d(256, 256, kernel_size=(3, 3), stride=(1, 1), padding=(1, 1), bias=False)\n",
       "      (bn1): BatchNorm2d(256, eps=1e-05, momentum=0.1, affine=True, track_running_stats=True)\n",
       "      (relu): ReLU(inplace=True)\n",
       "      (conv2): Conv2d(256, 256, kernel_size=(3, 3), stride=(1, 1), padding=(1, 1), bias=False)\n",
       "      (bn2): BatchNorm2d(256, eps=1e-05, momentum=0.1, affine=True, track_running_stats=True)\n",
       "    )\n",
       "    (3): BasicBlock(\n",
       "      (conv1): Conv2d(256, 256, kernel_size=(3, 3), stride=(1, 1), padding=(1, 1), bias=False)\n",
       "      (bn1): BatchNorm2d(256, eps=1e-05, momentum=0.1, affine=True, track_running_stats=True)\n",
       "      (relu): ReLU(inplace=True)\n",
       "      (conv2): Conv2d(256, 256, kernel_size=(3, 3), stride=(1, 1), padding=(1, 1), bias=False)\n",
       "      (bn2): BatchNorm2d(256, eps=1e-05, momentum=0.1, affine=True, track_running_stats=True)\n",
       "    )\n",
       "    (4): BasicBlock(\n",
       "      (conv1): Conv2d(256, 256, kernel_size=(3, 3), stride=(1, 1), padding=(1, 1), bias=False)\n",
       "      (bn1): BatchNorm2d(256, eps=1e-05, momentum=0.1, affine=True, track_running_stats=True)\n",
       "      (relu): ReLU(inplace=True)\n",
       "      (conv2): Conv2d(256, 256, kernel_size=(3, 3), stride=(1, 1), padding=(1, 1), bias=False)\n",
       "      (bn2): BatchNorm2d(256, eps=1e-05, momentum=0.1, affine=True, track_running_stats=True)\n",
       "    )\n",
       "    (5): BasicBlock(\n",
       "      (conv1): Conv2d(256, 256, kernel_size=(3, 3), stride=(1, 1), padding=(1, 1), bias=False)\n",
       "      (bn1): BatchNorm2d(256, eps=1e-05, momentum=0.1, affine=True, track_running_stats=True)\n",
       "      (relu): ReLU(inplace=True)\n",
       "      (conv2): Conv2d(256, 256, kernel_size=(3, 3), stride=(1, 1), padding=(1, 1), bias=False)\n",
       "      (bn2): BatchNorm2d(256, eps=1e-05, momentum=0.1, affine=True, track_running_stats=True)\n",
       "    )\n",
       "  )\n",
       ")"
      ]
     },
     "execution_count": 36,
     "metadata": {},
     "output_type": "execute_result"
    }
   ],
   "source": [
    "backbone1"
   ]
  },
  {
   "cell_type": "code",
   "execution_count": null,
   "id": "7b61c217",
   "metadata": {},
   "outputs": [],
   "source": []
  }
 ],
 "metadata": {
  "kernelspec": {
   "display_name": "Python 3 (ipykernel)",
   "language": "python",
   "name": "python3"
  },
  "language_info": {
   "codemirror_mode": {
    "name": "ipython",
    "version": 3
   },
   "file_extension": ".py",
   "mimetype": "text/x-python",
   "name": "python",
   "nbconvert_exporter": "python",
   "pygments_lexer": "ipython3",
   "version": "3.9.13"
  }
 },
 "nbformat": 4,
 "nbformat_minor": 5
}
