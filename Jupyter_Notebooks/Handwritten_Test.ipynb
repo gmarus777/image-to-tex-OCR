{
 "cells": [
  {
   "cell_type": "code",
   "execution_count": 1,
   "id": "d87fd429",
   "metadata": {},
   "outputs": [
    {
     "name": "stdout",
     "output_type": "stream",
     "text": [
      "Starting path:/Users/gregory/PROJECT_ML/PROJECT_AMINE/image-to-tex-OCR/Jupyter_Notebooks\n",
      "Current path:/Users/gregory/PROJECT_ML/PROJECT_AMINE/image-to-tex-OCR\n"
     ]
    }
   ],
   "source": [
    "# Here we take care of paths.\n",
    "\n",
    "from pathlib import Path\n",
    "import os\n",
    "print('Starting path:' + os.getcwd())\n",
    "if os.getcwd()[-16:] == 'image-to-tex-OCR':\n",
    "    pass\n",
    "else:\n",
    "    PATH = Path().resolve().parents[0]\n",
    "    os.chdir(PATH)\n",
    "\n",
    "# make sure you are in Paragraph_to_Tex folder\n",
    "print('Current path:' + os.getcwd())"
   ]
  },
  {
   "cell_type": "code",
   "execution_count": 2,
   "id": "6c75584e",
   "metadata": {},
   "outputs": [],
   "source": [
    "# Import the Printed_Tex_Data_Module\n",
    "\n",
    "from Data.Handwritten_tex_experiment import Handwritten_Data_Module\n",
    "import seaborn as sns\n",
    "import matplotlib.pyplot as plt\n",
    "from PIL import Image\n",
    "import torch\n",
    "from torchvision import transforms\n",
    "from IPython.display import display, Math"
   ]
  },
  {
   "cell_type": "code",
   "execution_count": 3,
   "id": "50fe7e38",
   "metadata": {},
   "outputs": [],
   "source": [
    "'''\n",
    "path_to_formulas = 'Data/Data_Bank/formulas.lst',\n",
    "                  path_to_image_names= 'Data/Data_Bank/images',\n",
    "\n",
    "\n",
    "'''\n",
    "\n",
    "\n",
    "dataset = Handwritten_Data_Module(stage = 'fit',\n",
    "                 set_max_label_length = 256,\n",
    "                 number_png_images_to_use_in_dataset=200*1000,\n",
    "                 labels_transform='default',\n",
    "                image_transform_name ='alb',\n",
    "                 train_val_fraction = 0.95,\n",
    "                \n",
    "                load_vocabulary = False,\n",
    "                 \n",
    "\n",
    "\n",
    "                 batch_size = 64,\n",
    "                num_workers = 10,\n",
    "                data_on_gpu = False,\n",
    "                )\n",
    "\n",
    "\n",
    "\n",
    "# Generates the dataframe from the images and formulas\n",
    "# images need to be in the folder Data/Data_Bank/generated_png_images\n",
    "# formulas need to be in Data/Data_Bank/final_png_formulas.txt\n",
    "# image filenames need to be in Data/Data_Bank/corresponding_png_images.txt\n",
    "dataset.prepare_data()\n",
    "\n",
    "# if one wants to load a vocabulary do not use data.prepare_dataframe(), \n",
    "# but instead set load_vocabulary = True\n"
   ]
  },
  {
   "cell_type": "code",
   "execution_count": 4,
   "id": "78131567",
   "metadata": {},
   "outputs": [
    {
     "name": "stdout",
     "output_type": "stream",
     "text": [
      "Train/Val Data is ready for Model loading.\n"
     ]
    }
   ],
   "source": [
    "dataset.setup()"
   ]
  },
  {
   "cell_type": "code",
   "execution_count": 5,
   "id": "57ae973d",
   "metadata": {},
   "outputs": [
    {
     "name": "stdout",
     "output_type": "stream",
     "text": [
      "Vocabulary size: 550 \n",
      "Train-Dataset size: 9445 \n",
      "Validation-Dataset size: 498 \n",
      "Max label length: 258 \n",
      "Start <S> goes to index  0 \n",
      "End <E> goes to index  1 \n",
      "Padding <P> goes to index  2\n"
     ]
    }
   ],
   "source": [
    "print( \n",
    "    'Vocabulary size:',len(dataset.vocabulary),\n",
    "    \"\\nTrain-Dataset size:\", len(dataset.data_train),\n",
    "    \"\\nValidation-Dataset size:\", len(dataset.data_val),\n",
    "    '\\nMax label length:', dataset.max_label_length,\n",
    "    \"\\nStart <S> goes to index \",dataset.vocabulary['<S>'],\n",
    "      \"\\nEnd <E> goes to index \",dataset.vocabulary['<E>'],\n",
    "      \"\\nPadding <P> goes to index \",dataset.vocabulary['<P>'],\n",
    ")"
   ]
  },
  {
   "cell_type": "code",
   "execution_count": 6,
   "id": "5cedd4ba",
   "metadata": {},
   "outputs": [
    {
     "data": {
      "text/html": [
       "<div>\n",
       "<style scoped>\n",
       "    .dataframe tbody tr th:only-of-type {\n",
       "        vertical-align: middle;\n",
       "    }\n",
       "\n",
       "    .dataframe tbody tr th {\n",
       "        vertical-align: top;\n",
       "    }\n",
       "\n",
       "    .dataframe thead th {\n",
       "        text-align: right;\n",
       "    }\n",
       "</style>\n",
       "<table border=\"1\" class=\"dataframe\">\n",
       "  <thead>\n",
       "    <tr style=\"text-align: right;\">\n",
       "      <th></th>\n",
       "      <th>formula</th>\n",
       "      <th>image_name</th>\n",
       "      <th>height</th>\n",
       "      <th>width</th>\n",
       "      <th>formula_length</th>\n",
       "      <th>latex_tokenized</th>\n",
       "      <th>tokenized_len</th>\n",
       "    </tr>\n",
       "  </thead>\n",
       "  <tbody>\n",
       "    <tr>\n",
       "      <th>554</th>\n",
       "      <td>r = Q , \\qquad R = q - \\frac { i } { \\kappa } ...</td>\n",
       "      <td>45949.png</td>\n",
       "      <td>60</td>\n",
       "      <td>360</td>\n",
       "      <td>86</td>\n",
       "      <td>[r, =, Q, ,, \\qquad, R, =, q, -, \\frac, {, i, ...</td>\n",
       "      <td>32</td>\n",
       "    </tr>\n",
       "    <tr>\n",
       "      <th>555</th>\n",
       "      <td>H _ { R } ^ { \\prime } = \\left\\{ h ^ { \\prime ...</td>\n",
       "      <td>100827.png</td>\n",
       "      <td>50</td>\n",
       "      <td>400</td>\n",
       "      <td>162</td>\n",
       "      <td>[H, _, {, R, }, ^, {, \\prime, }, =, \\left\\{, h...</td>\n",
       "      <td>59</td>\n",
       "    </tr>\n",
       "    <tr>\n",
       "      <th>556</th>\n",
       "      <td>I ( Q ^ { 2 } ) = v _ { 4 } \\frac { k ^ { 2 } ...</td>\n",
       "      <td>91134.png</td>\n",
       "      <td>100</td>\n",
       "      <td>500</td>\n",
       "      <td>239</td>\n",
       "      <td>[I, (, Q, ^, {, 2, }, ), =, v, _, {, 4, }, \\fr...</td>\n",
       "      <td>105</td>\n",
       "    </tr>\n",
       "    <tr>\n",
       "      <th>557</th>\n",
       "      <td>\\langle [ A _ { 2 } ] _ { N } ( { \\bf x } ) \\r...</td>\n",
       "      <td>99355.png</td>\n",
       "      <td>100</td>\n",
       "      <td>800</td>\n",
       "      <td>309</td>\n",
       "      <td>[\\langle, [, A, _, {, 2, }, ], _, {, N, }, (, ...</td>\n",
       "      <td>116</td>\n",
       "    </tr>\n",
       "    <tr>\n",
       "      <th>558</th>\n",
       "      <td>\\nabla _ { t } f ( t ) = \\frac { 1 } { \\tau } ...</td>\n",
       "      <td>76930.png</td>\n",
       "      <td>50</td>\n",
       "      <td>240</td>\n",
       "      <td>71</td>\n",
       "      <td>[\\nabla, _, {, t, }, f, (, t, ), =, \\frac, {, ...</td>\n",
       "      <td>30</td>\n",
       "    </tr>\n",
       "  </tbody>\n",
       "</table>\n",
       "</div>"
      ],
      "text/plain": [
       "                                               formula  image_name  height  \\\n",
       "554  r = Q , \\qquad R = q - \\frac { i } { \\kappa } ...   45949.png      60   \n",
       "555  H _ { R } ^ { \\prime } = \\left\\{ h ^ { \\prime ...  100827.png      50   \n",
       "556  I ( Q ^ { 2 } ) = v _ { 4 } \\frac { k ^ { 2 } ...   91134.png     100   \n",
       "557  \\langle [ A _ { 2 } ] _ { N } ( { \\bf x } ) \\r...   99355.png     100   \n",
       "558  \\nabla _ { t } f ( t ) = \\frac { 1 } { \\tau } ...   76930.png      50   \n",
       "\n",
       "     width  formula_length                                    latex_tokenized  \\\n",
       "554    360              86  [r, =, Q, ,, \\qquad, R, =, q, -, \\frac, {, i, ...   \n",
       "555    400             162  [H, _, {, R, }, ^, {, \\prime, }, =, \\left\\{, h...   \n",
       "556    500             239  [I, (, Q, ^, {, 2, }, ), =, v, _, {, 4, }, \\fr...   \n",
       "557    800             309  [\\langle, [, A, _, {, 2, }, ], _, {, N, }, (, ...   \n",
       "558    240              71  [\\nabla, _, {, t, }, f, (, t, ), =, \\frac, {, ...   \n",
       "\n",
       "     tokenized_len  \n",
       "554             32  \n",
       "555             59  \n",
       "556            105  \n",
       "557            116  \n",
       "558             30  "
      ]
     },
     "execution_count": 6,
     "metadata": {},
     "output_type": "execute_result"
    }
   ],
   "source": [
    "dataset.df[550:555]"
   ]
  },
  {
   "cell_type": "code",
   "execution_count": null,
   "id": "761f80e9",
   "metadata": {},
   "outputs": [],
   "source": []
  },
  {
   "cell_type": "code",
   "execution_count": null,
   "id": "ed12f7f5",
   "metadata": {},
   "outputs": [],
   "source": []
  },
  {
   "cell_type": "code",
   "execution_count": null,
   "id": "20ca68f0",
   "metadata": {},
   "outputs": [],
   "source": []
  },
  {
   "cell_type": "code",
   "execution_count": null,
   "id": "54191856",
   "metadata": {},
   "outputs": [],
   "source": []
  },
  {
   "cell_type": "code",
   "execution_count": null,
   "id": "962ce890",
   "metadata": {},
   "outputs": [],
   "source": []
  },
  {
   "cell_type": "code",
   "execution_count": null,
   "id": "1849d291",
   "metadata": {},
   "outputs": [],
   "source": []
  },
  {
   "cell_type": "code",
   "execution_count": null,
   "id": "3e0706d4",
   "metadata": {},
   "outputs": [],
   "source": []
  },
  {
   "cell_type": "code",
   "execution_count": null,
   "id": "791c9fea",
   "metadata": {},
   "outputs": [],
   "source": []
  },
  {
   "cell_type": "code",
   "execution_count": null,
   "id": "d472f624",
   "metadata": {},
   "outputs": [],
   "source": []
  },
  {
   "cell_type": "code",
   "execution_count": null,
   "id": "5d17ab96",
   "metadata": {},
   "outputs": [],
   "source": []
  }
 ],
 "metadata": {
  "kernelspec": {
   "display_name": "Python 3 (ipykernel)",
   "language": "python",
   "name": "python3"
  },
  "language_info": {
   "codemirror_mode": {
    "name": "ipython",
    "version": 3
   },
   "file_extension": ".py",
   "mimetype": "text/x-python",
   "name": "python",
   "nbconvert_exporter": "python",
   "pygments_lexer": "ipython3",
   "version": "3.9.13"
  }
 },
 "nbformat": 4,
 "nbformat_minor": 5
}
