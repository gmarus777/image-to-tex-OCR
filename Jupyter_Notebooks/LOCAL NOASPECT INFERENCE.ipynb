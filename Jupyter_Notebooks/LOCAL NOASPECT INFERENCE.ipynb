{
 "cells": [
  {
   "cell_type": "code",
   "execution_count": 1,
   "id": "baff27d8",
   "metadata": {},
   "outputs": [
    {
     "name": "stdout",
     "output_type": "stream",
     "text": [
      "Starting path:/Users/gregory/PROJECT_ML/PROJECT_AMINE/image-to-tex-OCR/Jupyter_Notebooks\n",
      "Current path:/Users/gregory/PROJECT_ML/PROJECT_AMINE/image-to-tex-OCR\n"
     ]
    }
   ],
   "source": [
    "# Here we take care of paths.\n",
    "\n",
    "from pathlib import Path\n",
    "import os\n",
    "print('Starting path:' + os.getcwd())\n",
    "if os.getcwd()[-16:] == 'image-to-tex-OCR':\n",
    "    pass\n",
    "else:\n",
    "    PATH = Path().resolve().parents[0]\n",
    "    os.chdir(PATH)\n",
    "\n",
    "# make sure you are in Paragraph_to_Tex folder\n",
    "print('Current path:' + os.getcwd())\n"
   ]
  },
  {
   "cell_type": "code",
   "execution_count": 2,
   "id": "b8367ad8",
   "metadata": {},
   "outputs": [],
   "source": [
    "from Data.Data_Module import Data_Module\n",
    "from Models.Printed_Tex_Transformer import ResNetTransformer\n",
    "from Lightning_Models.Printed_Tex_Lit_Model import LitResNetTransformer\n",
    "import numpy as np\n",
    "import pytorch_lightning as pl\n",
    "from pytorch_lightning import Trainer\n",
    "from PIL import Image\n",
    "import torch\n",
    "from pytorch_lightning.loggers import TensorBoardLogger\n",
    "from torchvision import transforms\n",
    "from PIL import Image\n",
    "from IPython.display import display, Math\n",
    "from Data.image_transforms import Image_Transforms\n",
    "import cv2\n",
    "import cv2\n",
    "import PIL\n",
    "import numpy as np\n",
    "transform = transforms.ToPILImage()\n",
    "import imutils\n",
    "\n",
    "\n",
    "dev = torch.device(\"cuda\") if torch.cuda.is_available() else torch.device(\"cpu\")\n"
   ]
  },
  {
   "cell_type": "code",
   "execution_count": 3,
   "id": "ce49461b",
   "metadata": {},
   "outputs": [],
   "source": [
    "# Generate Data Module by uploading images and formulas\n",
    "# images need to be in the folder Data/Data_Bank/generated_png_images\n",
    "# formulas need to be in Data/Data_Bank/final_png_formulas.txt\n",
    "# image filenames need to be in Data/Data_Bank/corresponding_png_images.txt\n",
    "\n",
    "dataset = Data_Module(stage = 'fit',\n",
    "                 set_max_label_length = 128,\n",
    "                 number_png_images_to_use_in_dataset=250*1000,\n",
    "                 labels_transform='default',\n",
    "                image_transform_name ='alb',\n",
    "                 train_val_fraction = 0.999,\n",
    "                   vocabulary_path = 'Data/Data_Bank/230k.json',\n",
    "                load_vocabulary = True,\n",
    "                      image_padding = True,\n",
    "                      max_width = 700,\n",
    "\n",
    "\n",
    "                 batch_size = 128,\n",
    "                num_workers = 8,\n",
    "                data_on_gpu = True,\n",
    "                )\n",
    "\n"
   ]
  },
  {
   "cell_type": "code",
   "execution_count": 4,
   "id": "c1aea3a9",
   "metadata": {},
   "outputs": [
    {
     "name": "stdout",
     "output_type": "stream",
     "text": [
      "Vocabulary size: 579 \n",
      "Max label length: 130 \n",
      "Start <S> goes to index  0 \n",
      "End <E> goes to index  1 \n",
      "Padding <P> goes to index  2\n"
     ]
    }
   ],
   "source": [
    "print( \n",
    "    'Vocabulary size:',len(dataset.vocabulary),\n",
    "    '\\nMax label length:', dataset.max_label_length,\n",
    "    \"\\nStart <S> goes to index \",dataset.vocabulary['<S>'],\n",
    "      \"\\nEnd <E> goes to index \",dataset.vocabulary['<E>'],\n",
    "      \"\\nPadding <P> goes to index \",dataset.vocabulary['<P>'],\n",
    ")"
   ]
  },
  {
   "cell_type": "code",
   "execution_count": 5,
   "id": "7891340f",
   "metadata": {},
   "outputs": [],
   "source": [
    "\n",
    "\n",
    "\n",
    "# HELPER FUNCTIONS\n",
    "def token_to_strings(tokens):\n",
    "    mapping = dataset.vocabulary\n",
    "    inverse_mapping =dataset.inverse_vocabulary\n",
    "    s=''\n",
    "    if tokens.shape[0] ==1:\n",
    "        tokens = tokens[0]\n",
    "    for number in tokens:\n",
    "        letter = inverse_mapping[number.item()]\n",
    "        s= s +\" \" + str(letter)\n",
    "    return s"
   ]
  },
  {
   "cell_type": "code",
   "execution_count": 6,
   "id": "19d138a9",
   "metadata": {},
   "outputs": [
    {
     "name": "stderr",
     "output_type": "stream",
     "text": [
      "/Users/gregory/opt/anaconda3/lib/python3.9/site-packages/torchvision/models/_utils.py:208: UserWarning: The parameter 'pretrained' is deprecated since 0.13 and may be removed in the future, please use 'weights' instead.\n",
      "  warnings.warn(\n",
      "/Users/gregory/opt/anaconda3/lib/python3.9/site-packages/torchvision/models/_utils.py:223: UserWarning: Arguments other than a weight enum or `None` for 'weights' are deprecated since 0.13 and may be removed in the future. The current behavior is equivalent to passing `weights=None`.\n",
      "  warnings.warn(msg)\n",
      "/Users/gregory/opt/anaconda3/lib/python3.9/site-packages/torch/jit/_recursive.py:262: UserWarning: 'batch_first' was found in ScriptModule constants, but was not actually set in __init__. Consider removing it.\n",
      "  warnings.warn(\"'{}' was found in ScriptModule constants, \"\n"
     ]
    }
   ],
   "source": [
    "model = ResNetTransformer(dataset=dataset).to(dev)\n",
    "model.load_state_dict(torch.load((\"Models_Parameters_Log/2560by2560_noresize_collate.pth\"), map_location=torch.device('cpu')))\n",
    "lit_model = LitResNetTransformer(model=model, WandB=False)\n",
    "lit_model.eval()\n",
    "lit_model.freeze()\n",
    "scripted_save = lit_model.to_torchscript()\n",
    "torch.jit.save(scripted_save, \"Models_Parameters_Log/scripted_model1.pt\")\n"
   ]
  },
  {
   "cell_type": "code",
   "execution_count": 7,
   "id": "3d2b278b",
   "metadata": {},
   "outputs": [],
   "source": [
    "scripted = torch.jit.load(\"Models_Parameters_Log/scripted_model1.pt\")"
   ]
  },
  {
   "cell_type": "code",
   "execution_count": 39,
   "id": "f13df944",
   "metadata": {},
   "outputs": [],
   "source": [
    "import albumentations\n",
    "from albumentations.augmentations.geometric.resize import Resize\n",
    "import torch.nn.functional as F\n",
    "\n",
    "MAX_RATIO = 12\n",
    "GOAL_HEIGHT = 64\n",
    "\n",
    "def find_ratio(h, w, goal):\n",
    "    return goal/h\n",
    "    \n",
    "\n",
    "def predict(image_path):\n",
    "    MAX_RATIO = 12\n",
    "    image = Image.open(image_path).convert('RGB')\n",
    "    image = np.asarray(image)\n",
    "    h, w, c = image.shape\n",
    "    ascpect = w/h\n",
    "    if ascpect == 0:\n",
    "        ascpect = 1 \n",
    "    if ascpect > MAX_RATIO:\n",
    "        ascpect = MAX_RATIO\n",
    "    \n",
    "    downscale = GOAL_HEIGHT/h\n",
    "    image = cv2.resize(image, (0,0), fx=downscale, fy=downscale,interpolation=cv2.INTER_LINEAR)\n",
    "   \n",
    "    print(image.shape)\n",
    "\n",
    "\n",
    "    \n",
    "    image_tensor = Image_Transforms.test_transform_with_padding(image =np.array(image))['image'][:1]\n",
    "    print(display(transform(image_tensor)))\n",
    "    print(image_tensor.shape)\n",
    "    print('\\nPredicted formula:')\n",
    "    prediction =  scripted(image_tensor.unsqueeze(0))\n",
    "    print(token_to_strings(prediction))\n",
    "    print(display(Math(token_to_strings(prediction))))\n",
    "\n",
    "def predict_old(image_path):\n",
    "    MAX_RATIO = 12\n",
    "    image = Image.open(image_path).convert('RGB')\n",
    "    image = np.asarray(image)\n",
    "    h, w, c = image.shape\n",
    "    ratio =w / h\n",
    "    if ratio == 0:\n",
    "        ratio = 1 \n",
    "    if ratio > MAX_RATIO:\n",
    "        ratio = MAX_RATIO\n",
    "    new_h = 128\n",
    "    new_w = int(new_h * ratio)\n",
    "    image = Resize(interpolation= cv2.INTER_LINEAR,height=new_h, width= new_w, always_apply=True)(image=image)['image']\n",
    "    print(image.shape)\n",
    "\n",
    "\n",
    "    \n",
    "    image_tensor = Image_Transforms.test_transform_with_padding(image =np.array(image))['image'][:1]\n",
    "    print(display(transform(image_tensor)))\n",
    "    print(image_tensor.shape)\n",
    "    print('\\nPredicted formula:')\n",
    "    prediction =  scripted(image_tensor.unsqueeze(0))\n",
    "    print(token_to_strings(prediction))\n",
    "    print(display(Math(token_to_strings(prediction))))\n",
    "\n",
    "    "
   ]
  },
  {
   "cell_type": "code",
   "execution_count": 9,
   "id": "447547fc",
   "metadata": {},
   "outputs": [],
   "source": [
    "IMAGES= ['Jupyter_Notebooks/test_photos/79a37d9d8b727e9.png',\n",
    "         \"Jupyter_Notebooks/test_photos/0a0df4c4229b725.png\",\n",
    "         \"Jupyter_Notebooks/test_photos/zarhin.png\",\n",
    "         \"Jupyter_Notebooks/test_photos/my_image.png\",\n",
    "         \"Jupyter_Notebooks/test_photos/screenshot_1.png\",\n",
    "         \"Jupyter_Notebooks/test_photos/screenshot_3.png\",\n",
    "         \"Jupyter_Notebooks/test_photos/Screen Shot_14.png\",\n",
    "         \"Jupyter_Notebooks/test_photos/Screen Shot_10.png\",\n",
    "         \"Jupyter_Notebooks/test_photos/Screen Shot_13.png\",\n",
    "          \"Jupyter_Notebooks/test_photos/Screen Shot_11.png\",\n",
    "         \"Jupyter_Notebooks/test_photos/screenshot_2.png\",\n",
    "         \"Jupyter_Notebooks/test_photos/Screen Shot_18.png\"\n",
    "         \n",
    "    \n",
    "\n",
    "]"
   ]
  },
  {
   "cell_type": "code",
   "execution_count": 40,
   "id": "f45c1bd6",
   "metadata": {
    "scrolled": false
   },
   "outputs": [
    {
     "name": "stdout",
     "output_type": "stream",
     "text": [
      "(64, 2997, 3)\n"
     ]
    },
    {
     "data": {
      "image/png": "[encoded data removed]",
      "text/plain": [
       "<PIL.Image.Image image mode=L size=2997x64>"
      ]
     },
     "metadata": {},
     "output_type": "display_data"
    },
    {
     "name": "stdout",
     "output_type": "stream",
     "text": [
      "None\n",
      "torch.Size([1, 64, 2997])\n",
      "\n",
      "Predicted formula:\n",
      " <S> \\begin{array} { c c c } { q } & { \\frac { q } { q } } \\\\ { q a b ^ { \\mu } } & { q ^ { \\mu } } & { q ^ { \\mu } a ^ { \\mu } } \\\\ { q a ^ { \\mu } } & { q ^ { \\mu } a ^ { \\mu } } & { } & { q a ^ { \\mu } a ^ { \\mu } } \\\\ \\end{array} } & { q ^ { \\mu } a ^ { \\mu } } & { q ^ { \\mu } a ^ { \\mu } } \\\\ \\end{array} <E> <P> <P> <P> <P> <P> <P> <P> <P>\n"
     ]
    },
    {
     "data": {
      "text/latex": [
       "$\\displaystyle  <S> \\begin{array} { c c c } { q } & { \\frac { q } { q } } \\\\ { q a b ^ { \\mu } } & { q ^ { \\mu } } & { q ^ { \\mu } a ^ { \\mu } } \\\\ { q a ^ { \\mu } } & { q ^ { \\mu } a ^ { \\mu } } & { } & { q a ^ { \\mu } a ^ { \\mu } } \\\\ \\end{array} } & { q ^ { \\mu } a ^ { \\mu } } & { q ^ { \\mu } a ^ { \\mu } } \\\\ \\end{array} <E> <P> <P> <P> <P> <P> <P> <P> <P>$"
      ],
      "text/plain": [
       "<IPython.core.display.Math object>"
      ]
     },
     "metadata": {},
     "output_type": "display_data"
    },
    {
     "name": "stdout",
     "output_type": "stream",
     "text": [
      "None\n",
      "(64, 278, 3)\n"
     ]
    },
    {
     "data": {
      "image/png": "[encoded data removed]",
      "text/plain": [
       "<PIL.Image.Image image mode=L size=278x64>"
      ]
     },
     "metadata": {},
     "output_type": "display_data"
    },
    {
     "name": "stdout",
     "output_type": "stream",
     "text": [
      "None\n",
      "torch.Size([1, 64, 278])\n",
      "\n",
      "Predicted formula:\n",
      " <S> R \\left( G _ { 1 } \\, \\partial _ { 2 } \\, C _ { 1 } ^ { * } \\, T \\right) \\equiv \\, \\sum _ { x = 0 } ^ { \\infty } \\, \\frac { ( G ) _ { x } \\left( R \\right) _ { x } \\left( R \\right) _ { x } \\left( R \\right) _ { x } } { T _ { 1 } \\left( C \\right) _ { x } } { T _ { 1 } \\left( C \\right) _ { x } } \\, \\overline { { T } } ^ { 2 } . <E> <P> <P> <P> <P> <P> <P> <P> <P> <P> <P> <P> <P> <P> <P> <P> <P> <P>\n"
     ]
    },
    {
     "data": {
      "text/latex": [
       "$\\displaystyle  <S> R \\left( G _ { 1 } \\, \\partial _ { 2 } \\, C _ { 1 } ^ { * } \\, T \\right) \\equiv \\, \\sum _ { x = 0 } ^ { \\infty } \\, \\frac { ( G ) _ { x } \\left( R \\right) _ { x } \\left( R \\right) _ { x } \\left( R \\right) _ { x } } { T _ { 1 } \\left( C \\right) _ { x } } { T _ { 1 } \\left( C \\right) _ { x } } \\, \\overline { { T } } ^ { 2 } . <E> <P> <P> <P> <P> <P> <P> <P> <P> <P> <P> <P> <P> <P> <P> <P> <P> <P>$"
      ],
      "text/plain": [
       "<IPython.core.display.Math object>"
      ]
     },
     "metadata": {},
     "output_type": "display_data"
    },
    {
     "name": "stdout",
     "output_type": "stream",
     "text": [
      "None\n",
      "(64, 285, 3)\n"
     ]
    },
    {
     "data": {
      "image/png": "[encoded data removed]",
      "text/plain": [
       "<PIL.Image.Image image mode=L size=285x64>"
      ]
     },
     "metadata": {},
     "output_type": "display_data"
    },
    {
     "name": "stdout",
     "output_type": "stream",
     "text": [
      "None\n",
      "torch.Size([1, 64, 285])\n",
      "\n",
      "Predicted formula:\n",
      " <S> \\qquad \\qquad \\qquad \\prod { \\bf { D } } \\mathrm { T r } \\mathrm { T r } \\left( \\bigoplus ^ { \\infty } \\right) \\ \\sum _ { r = 1 } \\ \\ \\ \\ \\ \\ \\ \\ \\ \\ \\ \\ \\ \\ \\ \\ \\ \\ \\ \\ \\ \\ \\ \\ \\ \\ \\ \\ \\ \\ \\ \\ \\ \\ \\ \\ \\ \\ \\ \\ \\ \\ \\ \\ \\ \\ \\ \\ \\ \\ \\ \\ \\ \\ \\ \\ \\ \\ \\ \\ \\ \\ \\ \\ \\ \\ \\ \\ \\ \\ \\ \\ \\ \\ \\ \\ \\ \\ \\ \\ \\ \\ \\ \\ \\ \\ \\ \\ \\ \\ \\ \\ \\ \\\n"
     ]
    },
    {
     "data": {
      "text/latex": [
       "$\\displaystyle  <S> \\qquad \\qquad \\qquad \\prod { \\bf { D } } \\mathrm { T r } \\mathrm { T r } \\left( \\bigoplus ^ { \\infty } \\right) \\ \\sum _ { r = 1 } \\ \\ \\ \\ \\ \\ \\ \\ \\ \\ \\ \\ \\ \\ \\ \\ \\ \\ \\ \\ \\ \\ \\ \\ \\ \\ \\ \\ \\ \\ \\ \\ \\ \\ \\ \\ \\ \\ \\ \\ \\ \\ \\ \\ \\ \\ \\ \\ \\ \\ \\ \\ \\ \\ \\ \\ \\ \\ \\ \\ \\ \\ \\ \\ \\ \\ \\ \\ \\ \\ \\ \\ \\ \\ \\ \\ \\ \\ \\ \\ \\ \\ \\ \\ \\ \\ \\ \\ \\ \\ \\ \\ \\ \\$"
      ],
      "text/plain": [
       "<IPython.core.display.Math object>"
      ]
     },
     "metadata": {},
     "output_type": "display_data"
    },
    {
     "name": "stdout",
     "output_type": "stream",
     "text": [
      "None\n",
      "(64, 242, 3)\n"
     ]
    },
    {
     "data": {
      "image/png": "[encoded data removed]",
      "text/plain": [
       "<PIL.Image.Image image mode=L size=242x64>"
      ]
     },
     "metadata": {},
     "output_type": "display_data"
    },
    {
     "name": "stdout",
     "output_type": "stream",
     "text": [
      "None\n",
      "torch.Size([1, 64, 242])\n",
      "\n",
      "Predicted formula:\n",
      " <S> \\begin{array} { c c c } { B \\; : } & { = } & { \\mathrm { G C } G \\left( f \\right) \\; \\equiv \\; G ^ { 2 } \\; \\; \\; \\; \\; \\; \\; \\; \\; \\; \\; \\; \\; \\; \\; \\; \\; \\; \\; \\; \\; \\; \\; \\; \\; \\; \\; \\; \\; \\; \\; \\; \\; \\; \\; \\; \\; \\; \\; \\; \\; \\; \\; \\; \\; \\; \\; \\; \\; \\; \\; \\; \\; \\; \\; \\; \\; \\; \\; \\; \\; \\; \\; \\; \\; \\; \\; \\; \\; \\; \\; \\; \\; \\; \\; \\; \\; \\; \\; \\; \\; \\; \\; \\; \\; \\; \\; \\; \\; \\; \\; \\; \\; \\; \\;\n"
     ]
    },
    {
     "data": {
      "text/latex": [
       "$\\displaystyle  <S> \\begin{array} { c c c } { B \\; : } & { = } & { \\mathrm { G C } G \\left( f \\right) \\; \\equiv \\; G ^ { 2 } \\; \\; \\; \\; \\; \\; \\; \\; \\; \\; \\; \\; \\; \\; \\; \\; \\; \\; \\; \\; \\; \\; \\; \\; \\; \\; \\; \\; \\; \\; \\; \\; \\; \\; \\; \\; \\; \\; \\; \\; \\; \\; \\; \\; \\; \\; \\; \\; \\; \\; \\; \\; \\; \\; \\; \\; \\; \\; \\; \\; \\; \\; \\; \\; \\; \\; \\; \\; \\; \\; \\; \\; \\; \\; \\; \\; \\; \\; \\; \\; \\; \\; \\; \\; \\; \\; \\; \\; \\; \\; \\; \\; \\; \\; \\;$"
      ],
      "text/plain": [
       "<IPython.core.display.Math object>"
      ]
     },
     "metadata": {},
     "output_type": "display_data"
    },
    {
     "name": "stdout",
     "output_type": "stream",
     "text": [
      "None\n",
      "(64, 277, 3)\n"
     ]
    },
    {
     "data": {
      "image/png": "[encoded data removed]",
      "text/plain": [
       "<PIL.Image.Image image mode=L size=277x64>"
      ]
     },
     "metadata": {},
     "output_type": "display_data"
    },
    {
     "name": "stdout",
     "output_type": "stream",
     "text": [
      "None\n",
      "torch.Size([1, 64, 277])\n",
      "\n",
      "Predicted formula:\n",
      " <S> { \\cal P } ( X \\, = \\, g _ { \\xi } ) = \\sum _ { j = 1 } ^ { L } p ( X \\, = \\, x _ { i j } , Y \\, = \\, g _ { i j } , Y \\, = \\, g _ { j } ) <E> <P> <P> <P> <P> <P> <P> <P> <P> <P> <P> <P> <P> <P> <P> <P> <P> <P> <P> <P> <P> <P> <P> <P> <P> <P> <P> <P> <P> <P> <P> <P> <P> <P> <P> <P> <P> <P> <P> <P> <P> <P> <P> <P> <P> <P> <P> <P> <P> <P> <P> <P> <P> <P> <P> <P> <P> <P> <P> <P> <P> <P> <P> <P> <P> <P> <P> <P>\n"
     ]
    },
    {
     "data": {
      "text/latex": [
       "$\\displaystyle  <S> { \\cal P } ( X \\, = \\, g _ { \\xi } ) = \\sum _ { j = 1 } ^ { L } p ( X \\, = \\, x _ { i j } , Y \\, = \\, g _ { i j } , Y \\, = \\, g _ { j } ) <E> <P> <P> <P> <P> <P> <P> <P> <P> <P> <P> <P> <P> <P> <P> <P> <P> <P> <P> <P> <P> <P> <P> <P> <P> <P> <P> <P> <P> <P> <P> <P> <P> <P> <P> <P> <P> <P> <P> <P> <P> <P> <P> <P> <P> <P> <P> <P> <P> <P> <P> <P> <P> <P> <P> <P> <P> <P> <P> <P> <P> <P> <P> <P> <P> <P> <P> <P>$"
      ],
      "text/plain": [
       "<IPython.core.display.Math object>"
      ]
     },
     "metadata": {},
     "output_type": "display_data"
    },
    {
     "name": "stdout",
     "output_type": "stream",
     "text": [
      "None\n",
      "(64, 216, 3)\n"
     ]
    },
    {
     "data": {
      "image/png": "[encoded data removed]",
      "text/plain": [
       "<PIL.Image.Image image mode=L size=216x64>"
      ]
     },
     "metadata": {},
     "output_type": "display_data"
    },
    {
     "name": "stdout",
     "output_type": "stream",
     "text": [
      "None\n",
      "torch.Size([1, 64, 216])\n",
      "\n",
      "Predicted formula:\n",
      " <S> \\rho \\left( \\frac { \\partial \\varphi } { \\partial { \\cal T } } + v \\cdot \\nabla _ { \\cal T } \\right) \\simeq - \\nabla p + \\nabla \\cdot T + <E> <P> <P> <P> <P> <P> <P> <P> <P> <P> <P> <P> <P> <P> <P> <P> <P> <P> <P> <P> <P> <P> <P> <P> <P> <P> <P> <P> <P> <P> <P> <P> <P> <P> <P> <P> <P> <P> <P> <P> <P> <P> <P> <P> <P> <P> <P> <P> <P> <P> <P> <P> <P> <P> <P> <P> <P> <P> <P> <P> <P> <P> <P> <P> <P> <P> <P> <P> <P> <P> <P> <P> <P> <P> <P> <P> <P> <P> <P> <P> <P> <P> <P> <P> <P> <P> <P> <P> <P> <P> <P> <P> <P> <P> <P> <P>\n"
     ]
    },
    {
     "data": {
      "text/latex": [
       "$\\displaystyle  <S> \\rho \\left( \\frac { \\partial \\varphi } { \\partial { \\cal T } } + v \\cdot \\nabla _ { \\cal T } \\right) \\simeq - \\nabla p + \\nabla \\cdot T + <E> <P> <P> <P> <P> <P> <P> <P> <P> <P> <P> <P> <P> <P> <P> <P> <P> <P> <P> <P> <P> <P> <P> <P> <P> <P> <P> <P> <P> <P> <P> <P> <P> <P> <P> <P> <P> <P> <P> <P> <P> <P> <P> <P> <P> <P> <P> <P> <P> <P> <P> <P> <P> <P> <P> <P> <P> <P> <P> <P> <P> <P> <P> <P> <P> <P> <P> <P> <P> <P> <P> <P> <P> <P> <P> <P> <P> <P> <P> <P> <P> <P> <P> <P> <P> <P> <P> <P> <P> <P> <P> <P> <P> <P> <P> <P>$"
      ],
      "text/plain": [
       "<IPython.core.display.Math object>"
      ]
     },
     "metadata": {},
     "output_type": "display_data"
    },
    {
     "name": "stdout",
     "output_type": "stream",
     "text": [
      "None\n",
      "(64, 456, 3)\n"
     ]
    },
    {
     "data": {
      "image/png": "[encoded data removed]",
      "text/plain": [
       "<PIL.Image.Image image mode=L size=456x64>"
      ]
     },
     "metadata": {},
     "output_type": "display_data"
    },
    {
     "name": "stdout",
     "output_type": "stream",
     "text": [
      "None\n",
      "torch.Size([1, 64, 456])\n",
      "\n",
      "Predicted formula:\n",
      " <S> X ( t _ { R } ) = T _ { R m - 1 } ^ { n } \\{ X , t _ { R } \\} ( t _ { R } ) + \\frac { 1 } { \\Gamma ( p ) } \\sum _ { R = 0 } ^ { n - 1 } \\int _ { L _ { L } } ^ { L + 1 } ( t _ { R } - \\tau ) F - 1 } F ( \\tau _ { R } X ( \\tau ) ) d \\tau . <E> <P> <P> <P> <P> <P> <P> <P> <P> <P> <P> <P> <P> <P> <P> <P> <P> <P> <P> <P> <P> <P> <P> <P> <P>\n"
     ]
    },
    {
     "data": {
      "text/latex": [
       "$\\displaystyle  <S> X ( t _ { R } ) = T _ { R m - 1 } ^ { n } \\{ X , t _ { R } \\} ( t _ { R } ) + \\frac { 1 } { \\Gamma ( p ) } \\sum _ { R = 0 } ^ { n - 1 } \\int _ { L _ { L } } ^ { L + 1 } ( t _ { R } - \\tau ) F - 1 } F ( \\tau _ { R } X ( \\tau ) ) d \\tau . <E> <P> <P> <P> <P> <P> <P> <P> <P> <P> <P> <P> <P> <P> <P> <P> <P> <P> <P> <P> <P> <P> <P> <P> <P>$"
      ],
      "text/plain": [
       "<IPython.core.display.Math object>"
      ]
     },
     "metadata": {},
     "output_type": "display_data"
    },
    {
     "name": "stdout",
     "output_type": "stream",
     "text": [
      "None\n",
      "(64, 664, 3)\n"
     ]
    },
    {
     "data": {
      "image/png": "[encoded data removed]",
      "text/plain": [
       "<PIL.Image.Image image mode=L size=664x64>"
      ]
     },
     "metadata": {},
     "output_type": "display_data"
    },
    {
     "name": "stdout",
     "output_type": "stream",
     "text": [
      "None\n",
      "torch.Size([1, 64, 664])\n",
      "\n",
      "Predicted formula:\n",
      " <S> Y _ { Q } \\simeq Y _ { 1 } ^ { 2 T r } + Y _ { 2 T } ^ { 2 r } + Y _ { Q ^ { \\prime } } ^ { 2 r } \\equiv \\sum _ { j = 1 } ^ { 2 r } d _ { q - j } f _ { l } ^ { \\prime } ( X _ { j } ) + \\sum _ { j = j _ { j } } ^ { 2 r } d _ { q - j } ^ { \\prime } ( X _ { j } ) ) , \\quad q \\equiv S r + 1 , 2 j _ {\n"
     ]
    },
    {
     "data": {
      "text/latex": [
       "$\\displaystyle  <S> Y _ { Q } \\simeq Y _ { 1 } ^ { 2 T r } + Y _ { 2 T } ^ { 2 r } + Y _ { Q ^ { \\prime } } ^ { 2 r } \\equiv \\sum _ { j = 1 } ^ { 2 r } d _ { q - j } f _ { l } ^ { \\prime } ( X _ { j } ) + \\sum _ { j = j _ { j } } ^ { 2 r } d _ { q - j } ^ { \\prime } ( X _ { j } ) ) , \\quad q \\equiv S r + 1 , 2 j _ {$"
      ],
      "text/plain": [
       "<IPython.core.display.Math object>"
      ]
     },
     "metadata": {},
     "output_type": "display_data"
    },
    {
     "name": "stdout",
     "output_type": "stream",
     "text": [
      "None\n",
      "(64, 562, 3)\n"
     ]
    },
    {
     "data": {
      "image/png": "[encoded data removed]",
      "text/plain": [
       "<PIL.Image.Image image mode=L size=562x64>"
      ]
     },
     "metadata": {},
     "output_type": "display_data"
    },
    {
     "name": "stdout",
     "output_type": "stream",
     "text": [
      "None\n",
      "torch.Size([1, 64, 562])\n",
      "\n",
      "Predicted formula:\n",
      " <S> X ( t _ { n } ) \\approx T _ { m - 1 } \\{ X ; t _ { 0 } \\} ( t _ { n } ) + \\frac { 1 } { \\Gamma ( p ) } \\sum _ { p = 0 } ^ { t - 1 } \\int _ { t _ { p } } ^ { t _ { p } } ( t _ { n } - \\tau ) \\delta ^ { p - 1 } F ( \\tau _ { 1 } X ( \\tau ) ) d \\tau . \\tag { 6 } <E> <P> <P> <P> <P> <P> <P> <P> <P> <P> <P> <P> <P> <P> <P> <P> <P> <P> <P> <P> <P>\n"
     ]
    },
    {
     "data": {
      "text/latex": [
       "$\\displaystyle  <S> X ( t _ { n } ) \\approx T _ { m - 1 } \\{ X ; t _ { 0 } \\} ( t _ { n } ) + \\frac { 1 } { \\Gamma ( p ) } \\sum _ { p = 0 } ^ { t - 1 } \\int _ { t _ { p } } ^ { t _ { p } } ( t _ { n } - \\tau ) \\delta ^ { p - 1 } F ( \\tau _ { 1 } X ( \\tau ) ) d \\tau . \\tag { 6 } <E> <P> <P> <P> <P> <P> <P> <P> <P> <P> <P> <P> <P> <P> <P> <P> <P> <P> <P> <P> <P>$"
      ],
      "text/plain": [
       "<IPython.core.display.Math object>"
      ]
     },
     "metadata": {},
     "output_type": "display_data"
    },
    {
     "name": "stdout",
     "output_type": "stream",
     "text": [
      "None\n",
      "(64, 135, 3)\n"
     ]
    },
    {
     "data": {
      "image/png": "[encoded data removed]",
      "text/plain": [
       "<PIL.Image.Image image mode=L size=135x64>"
      ]
     },
     "metadata": {},
     "output_type": "display_data"
    },
    {
     "name": "stdout",
     "output_type": "stream",
     "text": [
      "None\n",
      "torch.Size([1, 64, 135])\n",
      "\n",
      "Predicted formula:\n",
      " <S> s _ { s s } = \\left[ \\begin{array} { c c c } { 4 \\pi \\pi s ( 4 , 4 ) } \\\\ { 2 \\pi s } & { 4 \\pi ( 4 \\pi ) ^ { 2 } + 1 } \\\\ \\end{array} \\right] } \\\\ \\end{array} \\right] <E> <P> <P> <P> <P> <P> <P> <P> <P> <P> <P> <P> <P> <P> <P> <P> <P> <P> <P> <P> <P> <P> <P> <P> <P> <P> <P> <P> <P> <P> <P> <P> <P> <P> <P> <P> <P> <P> <P> <P> <P> <P> <P> <P> <P> <P> <P> <P> <P> <P> <P> <P> <P> <P> <P> <P> <P> <P> <P> <P> <P> <P> <P> <P> <P> <P> <P> <P> <P> <P> <P> <P> <P> <P> <P> <P>\n"
     ]
    },
    {
     "data": {
      "text/latex": [
       "$\\displaystyle  <S> s _ { s s } = \\left[ \\begin{array} { c c c } { 4 \\pi \\pi s ( 4 , 4 ) } \\\\ { 2 \\pi s } & { 4 \\pi ( 4 \\pi ) ^ { 2 } + 1 } \\\\ \\end{array} \\right] } \\\\ \\end{array} \\right] <E> <P> <P> <P> <P> <P> <P> <P> <P> <P> <P> <P> <P> <P> <P> <P> <P> <P> <P> <P> <P> <P> <P> <P> <P> <P> <P> <P> <P> <P> <P> <P> <P> <P> <P> <P> <P> <P> <P> <P> <P> <P> <P> <P> <P> <P> <P> <P> <P> <P> <P> <P> <P> <P> <P> <P> <P> <P> <P> <P> <P> <P> <P> <P> <P> <P> <P> <P> <P> <P> <P> <P> <P> <P> <P> <P>$"
      ],
      "text/plain": [
       "<IPython.core.display.Math object>"
      ]
     },
     "metadata": {},
     "output_type": "display_data"
    },
    {
     "name": "stdout",
     "output_type": "stream",
     "text": [
      "None\n",
      "(64, 291, 3)\n"
     ]
    },
    {
     "data": {
      "image/png": "[encoded data removed]",
      "text/plain": [
       "<PIL.Image.Image image mode=L size=291x64>"
      ]
     },
     "metadata": {},
     "output_type": "display_data"
    },
    {
     "name": "stdout",
     "output_type": "stream",
     "text": [
      "None\n",
      "torch.Size([1, 64, 291])\n",
      "\n",
      "Predicted formula:\n",
      " <S> \\mathrm { f o n e ( 1 , S ) \\mathrm { s o d } ( 1 , \\mathrm { w o d e n } } } \\\\ { p ( X - x _ { i } ) - \\sum _ { j = 1 } ^ { j } p ( X - x _ { i } ; Y - y _ { j } ) <E> <P> <P> <P> <P> <P> <P> <P> <P> <P> <P> <P> <P> <P> <P> <P> <P> <P> <P> <P> <P> <P> <P> <P> <P> <P> <P> <P> <P> <P> <P> <P> <P> <P> <P> <P> <P> <P> <P> <P> <P> <P> <P> <P> <P> <P> <P> <P> <P> <P> <P> <P> <P> <P> <P> <P> <P>\n"
     ]
    },
    {
     "data": {
      "text/latex": [
       "$\\displaystyle  <S> \\mathrm { f o n e ( 1 , S ) \\mathrm { s o d } ( 1 , \\mathrm { w o d e n } } } \\\\ { p ( X - x _ { i } ) - \\sum _ { j = 1 } ^ { j } p ( X - x _ { i } ; Y - y _ { j } ) <E> <P> <P> <P> <P> <P> <P> <P> <P> <P> <P> <P> <P> <P> <P> <P> <P> <P> <P> <P> <P> <P> <P> <P> <P> <P> <P> <P> <P> <P> <P> <P> <P> <P> <P> <P> <P> <P> <P> <P> <P> <P> <P> <P> <P> <P> <P> <P> <P> <P> <P> <P> <P> <P> <P> <P> <P>$"
      ],
      "text/plain": [
       "<IPython.core.display.Math object>"
      ]
     },
     "metadata": {},
     "output_type": "display_data"
    },
    {
     "name": "stdout",
     "output_type": "stream",
     "text": [
      "None\n",
      "(64, 384, 3)\n"
     ]
    },
    {
     "data": {
      "image/png": "[encoded data removed]",
      "text/plain": [
       "<PIL.Image.Image image mode=L size=384x64>"
      ]
     },
     "metadata": {},
     "output_type": "display_data"
    },
    {
     "name": "stdout",
     "output_type": "stream",
     "text": [
      "None\n",
      "torch.Size([1, 64, 384])\n",
      "\n",
      "Predicted formula:\n",
      " <S> \\zeta ( v _ { e } ^ { \\prime } , \\kappa ^ { \\prime } ) \\approx C ( z ^ { \\prime } , \\rho ^ { \\prime } ) \\, , \\quad \\Theta ( z ^ { \\prime } , z ^ { \\prime \\prime } ) \\approx \\sigma _ { N } ^ { \\infty } d \\chi ^ { \\prime \\prime } A _ { \\mu } ( x ) \\right) \\, . <E> <P> <P> <P> <P> <P> <P> <P> <P> <P> <P> <P> <P> <P> <P> <P> <P> <P> <P> <P> <P> <P> <P> <P> <P> <P> <P> <P> <P> <P> <P> <P> <P> <P> <P> <P> <P> <P> <P> <P> <P> <P> <P> <P> <P> <P> <P> <P> <P> <P>\n"
     ]
    },
    {
     "data": {
      "text/latex": [
       "$\\displaystyle  <S> \\zeta ( v _ { e } ^ { \\prime } , \\kappa ^ { \\prime } ) \\approx C ( z ^ { \\prime } , \\rho ^ { \\prime } ) \\, , \\quad \\Theta ( z ^ { \\prime } , z ^ { \\prime \\prime } ) \\approx \\sigma _ { N } ^ { \\infty } d \\chi ^ { \\prime \\prime } A _ { \\mu } ( x ) \\right) \\, . <E> <P> <P> <P> <P> <P> <P> <P> <P> <P> <P> <P> <P> <P> <P> <P> <P> <P> <P> <P> <P> <P> <P> <P> <P> <P> <P> <P> <P> <P> <P> <P> <P> <P> <P> <P> <P> <P> <P> <P> <P> <P> <P> <P> <P> <P> <P> <P> <P> <P>$"
      ],
      "text/plain": [
       "<IPython.core.display.Math object>"
      ]
     },
     "metadata": {},
     "output_type": "display_data"
    },
    {
     "name": "stdout",
     "output_type": "stream",
     "text": [
      "None\n"
     ]
    }
   ],
   "source": [
    "for image in IMAGES:\n",
    "    predict(image)"
   ]
  },
  {
   "cell_type": "code",
   "execution_count": null,
   "id": "1b69e46d",
   "metadata": {},
   "outputs": [],
   "source": []
  },
  {
   "cell_type": "code",
   "execution_count": null,
   "id": "dcabc8d5",
   "metadata": {},
   "outputs": [],
   "source": []
  },
  {
   "cell_type": "code",
   "execution_count": null,
   "id": "5a3d78b1",
   "metadata": {},
   "outputs": [],
   "source": []
  },
  {
   "cell_type": "code",
   "execution_count": null,
   "id": "544bd820",
   "metadata": {},
   "outputs": [],
   "source": []
  },
  {
   "cell_type": "code",
   "execution_count": null,
   "id": "f57e2598",
   "metadata": {},
   "outputs": [],
   "source": []
  },
  {
   "cell_type": "code",
   "execution_count": null,
   "id": "dc5b3135",
   "metadata": {},
   "outputs": [],
   "source": []
  },
  {
   "cell_type": "code",
   "execution_count": null,
   "id": "dc745594",
   "metadata": {},
   "outputs": [],
   "source": []
  }
 ],
 "metadata": {
  "kernelspec": {
   "display_name": "Python 3 (ipykernel)",
   "language": "python",
   "name": "python3"
  },
  "language_info": {
   "codemirror_mode": {
    "name": "ipython",
    "version": 3
   },
   "file_extension": ".py",
   "mimetype": "text/x-python",
   "name": "python",
   "nbconvert_exporter": "python",
   "pygments_lexer": "ipython3",
   "version": "3.9.13"
  }
 },
 "nbformat": 4,
 "nbformat_minor": 5
}
