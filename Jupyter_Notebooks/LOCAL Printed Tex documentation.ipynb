{
 "cells": [
  {
   "cell_type": "code",
   "execution_count": 1,
   "id": "4793b934",
   "metadata": {},
   "outputs": [
    {
     "name": "stdout",
     "output_type": "stream",
     "text": [
      "Starting path:/Users/gregory/PROJECT_ML/PROJECT_AMINE/image-to-tex-OCR/Jupyter_Notebooks\n",
      "Current path:/Users/gregory/PROJECT_ML/PROJECT_AMINE/image-to-tex-OCR\n"
     ]
    }
   ],
   "source": [
    "# Here we take care of paths.\n",
    "\n",
    "from pathlib import Path\n",
    "import os\n",
    "print('Starting path:' + os.getcwd())\n",
    "if os.getcwd()[-16:] == 'image-to-tex-OCR':\n",
    "    pass\n",
    "else:\n",
    "    PATH = Path().resolve().parents[0]\n",
    "    os.chdir(PATH)\n",
    "\n",
    "# make sure you are in Paragraph_to_Tex folder\n",
    "print('Current path:' + os.getcwd())"
   ]
  },
  {
   "cell_type": "code",
   "execution_count": 2,
   "id": "856feb7f",
   "metadata": {},
   "outputs": [],
   "source": [
    "# Import the Printed_Tex_Data_Module\n",
    "\n",
    "from Data.Data_Module import Data_Module\n",
    "import seaborn as sns\n",
    "import matplotlib.pyplot as plt\n",
    "from PIL import Image\n",
    "import torch\n",
    "from torchvision import transforms\n",
    "from IPython.display import display, Math"
   ]
  },
  {
   "cell_type": "code",
   "execution_count": 3,
   "id": "b87c5122",
   "metadata": {},
   "outputs": [],
   "source": [
    "'''\n",
    "path_to_formulas = 'Data/Data_Bank/formulas.lst',\n",
    "                  path_to_image_names= 'Data/Data_Bank/images',\n",
    "\n",
    "\n",
    "'''\n",
    "\n",
    "\n",
    "data = Data_Module(stage = 'fit',\n",
    "                 set_max_label_length = 128,\n",
    "                 number_png_images_to_use_in_dataset=300*1000,\n",
    "                 labels_transform='default',\n",
    "                image_transform_name ='alb',\n",
    "                 train_val_fraction = 0.99,\n",
    "                vocabulary_path = 'Data/Data_Bank/230k.json',\n",
    "                image_padding = True,\n",
    "                load_vocabulary = True,\n",
    "                   \n",
    "                 \n",
    "\n",
    "\n",
    "                batch_size = 1,\n",
    "                num_workers = 8,\n",
    "                data_on_gpu = False,\n",
    "                )\n",
    "\n",
    "\n",
    "\n",
    "# Generates the dataframe from the images and formulas\n",
    "# images need to be in the folder Data/Data_Bank/generated_png_images\n",
    "# formulas need to be in Data/Data_Bank/final_png_formulas.txt\n",
    "# image filenames need to be in Data/Data_Bank/corresponding_png_images.txt\n",
    "data.prepare_data()\n",
    "\n",
    "# if one wants to load a vocabulary do not use data.prepare_dataframe(), \n",
    "# but instead set load_vocabulary = True"
   ]
  },
  {
   "cell_type": "code",
   "execution_count": 4,
   "id": "ddc3a181",
   "metadata": {},
   "outputs": [
    {
     "data": {
      "text/html": [
       "<div>\n",
       "<style scoped>\n",
       "    .dataframe tbody tr th:only-of-type {\n",
       "        vertical-align: middle;\n",
       "    }\n",
       "\n",
       "    .dataframe tbody tr th {\n",
       "        vertical-align: top;\n",
       "    }\n",
       "\n",
       "    .dataframe thead th {\n",
       "        text-align: right;\n",
       "    }\n",
       "</style>\n",
       "<table border=\"1\" class=\"dataframe\">\n",
       "  <thead>\n",
       "    <tr style=\"text-align: right;\">\n",
       "      <th></th>\n",
       "      <th>formula</th>\n",
       "      <th>image_name</th>\n",
       "      <th>height</th>\n",
       "      <th>width</th>\n",
       "      <th>formula_length</th>\n",
       "      <th>latex_tokenized</th>\n",
       "      <th>tokenized_len</th>\n",
       "    </tr>\n",
       "  </thead>\n",
       "  <tbody>\n",
       "    <tr>\n",
       "      <th>0</th>\n",
       "      <td>R _ { 1 2 } K _ { 1 } R _ { 2 1 } d K _ { 2 } ...</td>\n",
       "      <td>80f1db54ec657ab.png</td>\n",
       "      <td>20</td>\n",
       "      <td>200</td>\n",
       "      <td>105</td>\n",
       "      <td>[R, _, {, 1, 2, }, K, _, {, 1, }, R, _, {, 2, ...</td>\n",
       "      <td>53</td>\n",
       "    </tr>\n",
       "    <tr>\n",
       "      <th>1</th>\n",
       "      <td>E _ { n } - E _ { m } = \\frac { \\lambda ^ { \\p...</td>\n",
       "      <td>4c0c01a5fb03248.png</td>\n",
       "      <td>39</td>\n",
       "      <td>169</td>\n",
       "      <td>106</td>\n",
       "      <td>[E, _, {, n, }, -, E, _, {, m, }, =, \\frac, {,...</td>\n",
       "      <td>46</td>\n",
       "    </tr>\n",
       "    <tr>\n",
       "      <th>2</th>\n",
       "      <td>\\sigma ^ { 1 } + i \\sigma ^ { 2 } = f ( \\sigma...</td>\n",
       "      <td>3f55826fd850d77.png</td>\n",
       "      <td>19</td>\n",
       "      <td>138</td>\n",
       "      <td>75</td>\n",
       "      <td>[\\sigma, ^, {, 1, }, +, i, \\sigma, ^, {, 2, },...</td>\n",
       "      <td>28</td>\n",
       "    </tr>\n",
       "    <tr>\n",
       "      <th>3</th>\n",
       "      <td>B | _ { \\partial \\Sigma _ { 3 } } \\rightarrow ...</td>\n",
       "      <td>a6a043f87f6ffdc.png</td>\n",
       "      <td>20</td>\n",
       "      <td>142</td>\n",
       "      <td>123</td>\n",
       "      <td>[B, |, _, {, \\partial, \\Sigma, _, {, 3, }, }, ...</td>\n",
       "      <td>36</td>\n",
       "    </tr>\n",
       "    <tr>\n",
       "      <th>4</th>\n",
       "      <td>\\phi _ { i } ^ { \\prime } ( x ) = \\phi _ { i }...</td>\n",
       "      <td>4d0e536147c711b.png</td>\n",
       "      <td>18</td>\n",
       "      <td>175</td>\n",
       "      <td>118</td>\n",
       "      <td>[\\phi, _, {, i, }, ^, {, \\prime, }, (, x, ), =...</td>\n",
       "      <td>43</td>\n",
       "    </tr>\n",
       "    <tr>\n",
       "      <th>5</th>\n",
       "      <td>\\partial _ { t } \\bar { \\sigma } _ { k } ^ { (...</td>\n",
       "      <td>afa85652d4f5da2.png</td>\n",
       "      <td>31</td>\n",
       "      <td>180</td>\n",
       "      <td>154</td>\n",
       "      <td>[\\partial, _, {, t, }, \\bar, {, \\sigma, }, _, ...</td>\n",
       "      <td>52</td>\n",
       "    </tr>\n",
       "    <tr>\n",
       "      <th>6</th>\n",
       "      <td>x _ { i } = y _ { i } \\left( 1 - \\eta _ { 1 } ...</td>\n",
       "      <td>02091ff3a528d8b.png</td>\n",
       "      <td>43</td>\n",
       "      <td>186</td>\n",
       "      <td>115</td>\n",
       "      <td>[x, _, {, i, }, =, y, _, {, i, }, \\left(, 1, -...</td>\n",
       "      <td>48</td>\n",
       "    </tr>\n",
       "    <tr>\n",
       "      <th>7</th>\n",
       "      <td>\\delta e ^ { s A } = \\int _ { 0 } ^ { s } d t ...</td>\n",
       "      <td>9b0eaa1b4efc79f.png</td>\n",
       "      <td>35</td>\n",
       "      <td>163</td>\n",
       "      <td>94</td>\n",
       "      <td>[\\delta, e, ^, {, s, A, }, =, \\int, _, {, 0, }...</td>\n",
       "      <td>40</td>\n",
       "    </tr>\n",
       "    <tr>\n",
       "      <th>8</th>\n",
       "      <td>\\left( \\begin{array} { c | c } { 1 } &amp; { b ( u...</td>\n",
       "      <td>25f980e30b13ac1.png</td>\n",
       "      <td>45</td>\n",
       "      <td>100</td>\n",
       "      <td>128</td>\n",
       "      <td>[\\left(, \\begin{array}, {, c, |, c, }, {, 1, }...</td>\n",
       "      <td>40</td>\n",
       "    </tr>\n",
       "    <tr>\n",
       "      <th>9</th>\n",
       "      <td>n _ { o } + n _ { v } + n _ { s } + n _ { c } ...</td>\n",
       "      <td>39fedf5461c6f2b.png</td>\n",
       "      <td>15</td>\n",
       "      <td>181</td>\n",
       "      <td>67</td>\n",
       "      <td>[n, _, {, o, }, +, n, _, {, v, }, +, n, _, {, ...</td>\n",
       "      <td>34</td>\n",
       "    </tr>\n",
       "    <tr>\n",
       "      <th>10</th>\n",
       "      <td>F _ { 0 a } ^ { \\Lambda } \\cong \\frac { q _ { ...</td>\n",
       "      <td>0110f3766ade0e1.png</td>\n",
       "      <td>41</td>\n",
       "      <td>215</td>\n",
       "      <td>228</td>\n",
       "      <td>[F, _, {, 0, a, }, ^, {, \\Lambda, }, \\cong, \\f...</td>\n",
       "      <td>87</td>\n",
       "    </tr>\n",
       "    <tr>\n",
       "      <th>11</th>\n",
       "      <td>\\varepsilon _ { 2 j - 1 } ^ { 1 } = \\varepsilo...</td>\n",
       "      <td>2d6f69a72a158f8.png</td>\n",
       "      <td>21</td>\n",
       "      <td>133</td>\n",
       "      <td>105</td>\n",
       "      <td>[\\varepsilon, _, {, 2, j, -, 1, }, ^, {, 1, },...</td>\n",
       "      <td>37</td>\n",
       "    </tr>\n",
       "    <tr>\n",
       "      <th>12</th>\n",
       "      <td>B ^ { \\prime \\prime } ( x ^ { 2 } ) = 4 \\pi G ...</td>\n",
       "      <td>1690ca93b7ad3f3.png</td>\n",
       "      <td>19</td>\n",
       "      <td>184</td>\n",
       "      <td>109</td>\n",
       "      <td>[B, ^, {, \\prime, \\prime, }, (, x, ^, {, 2, },...</td>\n",
       "      <td>44</td>\n",
       "    </tr>\n",
       "    <tr>\n",
       "      <th>13</th>\n",
       "      <td>{ \\cal N } = \\int d ^ { 4 } x \\sum _ { f } f \\...</td>\n",
       "      <td>471e433f340053d.png</td>\n",
       "      <td>41</td>\n",
       "      <td>128</td>\n",
       "      <td>78</td>\n",
       "      <td>[{, \\cal, N, }, =, \\int, d, ^, {, 4, }, x, \\su...</td>\n",
       "      <td>28</td>\n",
       "    </tr>\n",
       "    <tr>\n",
       "      <th>14</th>\n",
       "      <td>{ \\cal W } _ { \\mathrm { { \\small t r e e } } ...</td>\n",
       "      <td>d4d4db316c247e1.png</td>\n",
       "      <td>15</td>\n",
       "      <td>98</td>\n",
       "      <td>93</td>\n",
       "      <td>[{, \\cal, W, }, _, {, \\mathrm, {, {, \\small, t...</td>\n",
       "      <td>31</td>\n",
       "    </tr>\n",
       "    <tr>\n",
       "      <th>15</th>\n",
       "      <td>\\rho ( \\lambda ) = \\rho _ { 0 } ( \\lambda ) + ...</td>\n",
       "      <td>0e8d7b67580ddc3.png</td>\n",
       "      <td>31</td>\n",
       "      <td>256</td>\n",
       "      <td>146</td>\n",
       "      <td>[\\rho, (, \\lambda, ), =, \\rho, _, {, 0, }, (, ...</td>\n",
       "      <td>49</td>\n",
       "    </tr>\n",
       "    <tr>\n",
       "      <th>17</th>\n",
       "      <td>J _ { \\mu \\nu } [ \\xi | s ] = \\tilde { g } \\ka...</td>\n",
       "      <td>d3e4891c4e7d9c2.png</td>\n",
       "      <td>37</td>\n",
       "      <td>336</td>\n",
       "      <td>221</td>\n",
       "      <td>[J, _, {, \\mu, \\nu, }, [, \\xi, |, s, ], =, \\ti...</td>\n",
       "      <td>73</td>\n",
       "    </tr>\n",
       "    <tr>\n",
       "      <th>18</th>\n",
       "      <td>w ( r ) = r + \\sum _ { p = 2 } ^ { \\infty } \\o...</td>\n",
       "      <td>ec184396e1c5a36.png</td>\n",
       "      <td>43</td>\n",
       "      <td>180</td>\n",
       "      <td>121</td>\n",
       "      <td>[w, (, r, ), =, r, +, \\sum, _, {, p, =, 2, }, ...</td>\n",
       "      <td>51</td>\n",
       "    </tr>\n",
       "    <tr>\n",
       "      <th>19</th>\n",
       "      <td>\\vec { y } _ { s } = \\sum _ { \\alpha = 1 } ^ {...</td>\n",
       "      <td>cd93215e074042d.png</td>\n",
       "      <td>44</td>\n",
       "      <td>199</td>\n",
       "      <td>197</td>\n",
       "      <td>[\\vec, {, y, }, _, {, s, }, =, \\sum, _, {, \\al...</td>\n",
       "      <td>71</td>\n",
       "    </tr>\n",
       "    <tr>\n",
       "      <th>21</th>\n",
       "      <td>D _ { \\mu } \\epsilon _ { i } = \\partial _ { \\m...</td>\n",
       "      <td>34c161b49339084.png</td>\n",
       "      <td>21</td>\n",
       "      <td>100</td>\n",
       "      <td>105</td>\n",
       "      <td>[D, _, {, \\mu, }, \\epsilon, _, {, i, }, =, \\pa...</td>\n",
       "      <td>34</td>\n",
       "    </tr>\n",
       "    <tr>\n",
       "      <th>22</th>\n",
       "      <td>A ^ { T } M _ { I } = P ^ { T } , \\; \\; \\; B ^...</td>\n",
       "      <td>eb9db3eff34c8ba.png</td>\n",
       "      <td>19</td>\n",
       "      <td>294</td>\n",
       "      <td>131</td>\n",
       "      <td>[A, ^, {, T, }, M, _, {, I, }, =, P, ^, {, T, ...</td>\n",
       "      <td>56</td>\n",
       "    </tr>\n",
       "    <tr>\n",
       "      <th>23</th>\n",
       "      <td>S _ { i n t } = \\int d ^ { 4 } x [ G V ] _ { D...</td>\n",
       "      <td>e99c6da472b178e.png</td>\n",
       "      <td>34</td>\n",
       "      <td>293</td>\n",
       "      <td>127</td>\n",
       "      <td>[S, _, {, i, n, t, }, =, \\int, d, ^, {, 4, }, ...</td>\n",
       "      <td>53</td>\n",
       "    </tr>\n",
       "    <tr>\n",
       "      <th>25</th>\n",
       "      <td>z \\longrightarrow \\frac { a z + b } { c z + d }</td>\n",
       "      <td>f74cfcfa25683e4.png</td>\n",
       "      <td>34</td>\n",
       "      <td>79</td>\n",
       "      <td>47</td>\n",
       "      <td>[z, \\longrightarrow, \\frac, {, a, z, +, b, }, ...</td>\n",
       "      <td>15</td>\n",
       "    </tr>\n",
       "    <tr>\n",
       "      <th>26</th>\n",
       "      <td>t _ { \\mu \\nu } ( \\sigma ) = { \\frac { \\epsilo...</td>\n",
       "      <td>8f8b05a654c56dd.png</td>\n",
       "      <td>42</td>\n",
       "      <td>198</td>\n",
       "      <td>170</td>\n",
       "      <td>[t, _, {, \\mu, \\nu, }, (, \\sigma, ), =, {, \\fr...</td>\n",
       "      <td>57</td>\n",
       "    </tr>\n",
       "    <tr>\n",
       "      <th>27</th>\n",
       "      <td>S ( x , x ^ { \\prime } ) = \\left[ \\alpha ( \\mu...</td>\n",
       "      <td>e2a65af16ab6c1b.png</td>\n",
       "      <td>18</td>\n",
       "      <td>228</td>\n",
       "      <td>134</td>\n",
       "      <td>[S, (, x, ,, x, ^, {, \\prime, }, ), =, \\left[,...</td>\n",
       "      <td>43</td>\n",
       "    </tr>\n",
       "    <tr>\n",
       "      <th>28</th>\n",
       "      <td>P ( X ) = \\frac { 1 } { 2 \\alpha ^ { \\prime } ...</td>\n",
       "      <td>2c962ef8f49d902.png</td>\n",
       "      <td>47</td>\n",
       "      <td>216</td>\n",
       "      <td>201</td>\n",
       "      <td>[P, (, X, ), =, \\frac, {, 1, }, {, 2, \\alpha, ...</td>\n",
       "      <td>84</td>\n",
       "    </tr>\n",
       "    <tr>\n",
       "      <th>29</th>\n",
       "      <td>\\tilde { S } ( x , x ^ { \\prime } ) = - \\epsil...</td>\n",
       "      <td>4cdda52335cced1.png</td>\n",
       "      <td>34</td>\n",
       "      <td>331</td>\n",
       "      <td>235</td>\n",
       "      <td>[\\tilde, {, S, }, (, x, ,, x, ^, {, \\prime, },...</td>\n",
       "      <td>82</td>\n",
       "    </tr>\n",
       "    <tr>\n",
       "      <th>30</th>\n",
       "      <td>R _ { A } ^ { ~ B } ( z ; g ) = \\frac { \\parti...</td>\n",
       "      <td>aa430194d61d41f.png</td>\n",
       "      <td>40</td>\n",
       "      <td>269</td>\n",
       "      <td>399</td>\n",
       "      <td>[R, _, {, A, }, ^, {, ~, B, }, (, z, ;, g, ), ...</td>\n",
       "      <td>125</td>\n",
       "    </tr>\n",
       "    <tr>\n",
       "      <th>31</th>\n",
       "      <td>B _ { 2 } : ~ u - \\pi / 2 = 0 , ~ w _ { 0 } ^ ...</td>\n",
       "      <td>da1d650c8ae27b9.png</td>\n",
       "      <td>18</td>\n",
       "      <td>467</td>\n",
       "      <td>210</td>\n",
       "      <td>[B, _, {, 2, }, :, ~, u, -, \\pi, /, 2, =, 0, ,...</td>\n",
       "      <td>83</td>\n",
       "    </tr>\n",
       "    <tr>\n",
       "      <th>33</th>\n",
       "      <td>H ^ { 2 } + { \\frac { \\kappa } { a ^ { 2 } } }...</td>\n",
       "      <td>6c802e37cde2017.png</td>\n",
       "      <td>48</td>\n",
       "      <td>201</td>\n",
       "      <td>187</td>\n",
       "      <td>[H, ^, {, 2, }, +, {, \\frac, {, \\kappa, }, {, ...</td>\n",
       "      <td>66</td>\n",
       "    </tr>\n",
       "    <tr>\n",
       "      <th>34</th>\n",
       "      <td>\\Lambda _ { \\mathrm { e f f } } = \\frac { 1 } ...</td>\n",
       "      <td>52704ff8480daa3.png</td>\n",
       "      <td>48</td>\n",
       "      <td>181</td>\n",
       "      <td>183</td>\n",
       "      <td>[\\Lambda, _, {, \\mathrm, {, e, f, f, }, }, =, ...</td>\n",
       "      <td>61</td>\n",
       "    </tr>\n",
       "    <tr>\n",
       "      <th>35</th>\n",
       "      <td>\\hat { T } ^ { \\mu \\nu } = \\left( \\varrho + { ...</td>\n",
       "      <td>7eee170d31f76c1.png</td>\n",
       "      <td>37</td>\n",
       "      <td>192</td>\n",
       "      <td>140</td>\n",
       "      <td>[\\hat, {, T, }, ^, {, \\mu, \\nu, }, =, \\left(, ...</td>\n",
       "      <td>49</td>\n",
       "    </tr>\n",
       "    <tr>\n",
       "      <th>36</th>\n",
       "      <td>{ R _ { B } } ^ { A } \\ = \\ d { \\phi _ { B } }...</td>\n",
       "      <td>5458c5ecc880f7e.png</td>\n",
       "      <td>18</td>\n",
       "      <td>171</td>\n",
       "      <td>114</td>\n",
       "      <td>[{, R, _, {, B, }, }, ^, {, A, }, \\, =, \\, d, ...</td>\n",
       "      <td>53</td>\n",
       "    </tr>\n",
       "    <tr>\n",
       "      <th>37</th>\n",
       "      <td>x _ { i } = q _ { i } - i \\psi _ { i } ( \\pi _...</td>\n",
       "      <td>ff60ad6eb3e6e54.png</td>\n",
       "      <td>39</td>\n",
       "      <td>193</td>\n",
       "      <td>144</td>\n",
       "      <td>[x, _, {, i, }, =, q, _, {, i, }, -, i, \\psi, ...</td>\n",
       "      <td>55</td>\n",
       "    </tr>\n",
       "    <tr>\n",
       "      <th>38</th>\n",
       "      <td>\\Psi _ { 1 } = \\frac { ( 1 + \\Gamma _ { 7 } ) ...</td>\n",
       "      <td>91dcd6139f7f3e8.png</td>\n",
       "      <td>34</td>\n",
       "      <td>239</td>\n",
       "      <td>145</td>\n",
       "      <td>[\\Psi, _, {, 1, }, =, \\frac, {, (, 1, +, \\Gamm...</td>\n",
       "      <td>58</td>\n",
       "    </tr>\n",
       "    <tr>\n",
       "      <th>39</th>\n",
       "      <td>\\rho = w _ { 1 } \\rho ^ { ( 1 ) } + w _ { 2 } ...</td>\n",
       "      <td>bfdd585b76df11e.png</td>\n",
       "      <td>20</td>\n",
       "      <td>118</td>\n",
       "      <td>62</td>\n",
       "      <td>[\\rho, =, w, _, {, 1, }, \\rho, ^, {, (, 1, ), ...</td>\n",
       "      <td>27</td>\n",
       "    </tr>\n",
       "    <tr>\n",
       "      <th>40</th>\n",
       "      <td>\\omega _ { 1 } = q ^ { 2 } - R ^ { 2 } - 2 \\pi...</td>\n",
       "      <td>c2538799731639e.png</td>\n",
       "      <td>18</td>\n",
       "      <td>148</td>\n",
       "      <td>71</td>\n",
       "      <td>[\\omega, _, {, 1, }, =, q, ^, {, 2, }, -, R, ^...</td>\n",
       "      <td>27</td>\n",
       "    </tr>\n",
       "    <tr>\n",
       "      <th>41</th>\n",
       "      <td>d s ^ { 2 } = A ^ { \\frac { 2 } { n - 2 } } d ...</td>\n",
       "      <td>2676d270378018b.png</td>\n",
       "      <td>26</td>\n",
       "      <td>258</td>\n",
       "      <td>175</td>\n",
       "      <td>[d, s, ^, {, 2, }, =, A, ^, {, \\frac, {, 2, },...</td>\n",
       "      <td>74</td>\n",
       "    </tr>\n",
       "    <tr>\n",
       "      <th>42</th>\n",
       "      <td>\\hat { a } = \\left( \\begin{matrix} { a } &amp; { 0...</td>\n",
       "      <td>9998dcfa137ba01.png</td>\n",
       "      <td>37</td>\n",
       "      <td>414</td>\n",
       "      <td>403</td>\n",
       "      <td>[\\hat, {, a, }, =, \\left(, \\begin{matrix}, {, ...</td>\n",
       "      <td>122</td>\n",
       "    </tr>\n",
       "    <tr>\n",
       "      <th>44</th>\n",
       "      <td>S _ { { \\mathrm { \\scriptsize ~ { g a u g e d ...</td>\n",
       "      <td>af56bb46a8f38d1.png</td>\n",
       "      <td>34</td>\n",
       "      <td>380</td>\n",
       "      <td>294</td>\n",
       "      <td>[S, _, {, {, \\mathrm, {, \\scriptsize, ~, {, g,...</td>\n",
       "      <td>108</td>\n",
       "    </tr>\n",
       "    <tr>\n",
       "      <th>45</th>\n",
       "      <td>\\frac { 6 } { 1 6 \\pi G } \\partial _ { \\rho } ...</td>\n",
       "      <td>acf8514348ba9d9.png</td>\n",
       "      <td>32</td>\n",
       "      <td>156</td>\n",
       "      <td>163</td>\n",
       "      <td>[\\frac, {, 6, }, {, 1, 6, \\pi, G, }, \\partial,...</td>\n",
       "      <td>53</td>\n",
       "    </tr>\n",
       "    <tr>\n",
       "      <th>46</th>\n",
       "      <td>B = \\int _ { 0 } ^ { 1 } \\frac { 2 ^ { n } t ^...</td>\n",
       "      <td>72d92afc70b855e.png</td>\n",
       "      <td>43</td>\n",
       "      <td>509</td>\n",
       "      <td>288</td>\n",
       "      <td>[B, =, \\int, _, {, 0, }, ^, {, 1, }, \\frac, {,...</td>\n",
       "      <td>121</td>\n",
       "    </tr>\n",
       "    <tr>\n",
       "      <th>47</th>\n",
       "      <td>\\psi _ { x x } + \\psi _ { y y } = 2 k { \\frac ...</td>\n",
       "      <td>eb05413b308903e.png</td>\n",
       "      <td>37</td>\n",
       "      <td>178</td>\n",
       "      <td>113</td>\n",
       "      <td>[\\psi, _, {, x, x, }, +, \\psi, _, {, y, y, }, ...</td>\n",
       "      <td>43</td>\n",
       "    </tr>\n",
       "    <tr>\n",
       "      <th>48</th>\n",
       "      <td>\\frac { 1 } { g _ { h } ^ { 2 } } + \\sum _ { n...</td>\n",
       "      <td>6ba758c3e50e8fd.png</td>\n",
       "      <td>45</td>\n",
       "      <td>238</td>\n",
       "      <td>202</td>\n",
       "      <td>[\\frac, {, 1, }, {, g, _, {, h, }, ^, {, 2, },...</td>\n",
       "      <td>75</td>\n",
       "    </tr>\n",
       "    <tr>\n",
       "      <th>49</th>\n",
       "      <td>\\vec { \\psi } ( \\vec { k } , \\hat { n } ) = c ...</td>\n",
       "      <td>6023bc6ba6ba4fa.png</td>\n",
       "      <td>20</td>\n",
       "      <td>199</td>\n",
       "      <td>165</td>\n",
       "      <td>[\\vec, {, \\psi, }, (, \\vec, {, k, }, ,, \\hat, ...</td>\n",
       "      <td>65</td>\n",
       "    </tr>\n",
       "    <tr>\n",
       "      <th>50</th>\n",
       "      <td>N = F _ { 1 2 } + F _ { 3 4 } , \\quad S = 2 F ...</td>\n",
       "      <td>cf4e742cd0912aa.png</td>\n",
       "      <td>15</td>\n",
       "      <td>167</td>\n",
       "      <td>57</td>\n",
       "      <td>[N, =, F, _, {, 1, 2, }, +, F, _, {, 3, 4, }, ...</td>\n",
       "      <td>27</td>\n",
       "    </tr>\n",
       "    <tr>\n",
       "      <th>51</th>\n",
       "      <td>0 \\to P ^ { d } \\to P ^ { d - 1 } \\to \\dots \\t...</td>\n",
       "      <td>2b044654a907ade.png</td>\n",
       "      <td>16</td>\n",
       "      <td>234</td>\n",
       "      <td>69</td>\n",
       "      <td>[0, \\to, P, ^, {, d, }, \\to, P, ^, {, d, -, 1,...</td>\n",
       "      <td>27</td>\n",
       "    </tr>\n",
       "    <tr>\n",
       "      <th>52</th>\n",
       "      <td>( \\gamma ) = ( { \\gamma _ { \\mu } } ^ { \\prime...</td>\n",
       "      <td>3c1fbc82f51ba74.png</td>\n",
       "      <td>19</td>\n",
       "      <td>173</td>\n",
       "      <td>150</td>\n",
       "      <td>[(, \\gamma, ), =, (, {, \\gamma, _, {, \\mu, }, ...</td>\n",
       "      <td>52</td>\n",
       "    </tr>\n",
       "  </tbody>\n",
       "</table>\n",
       "</div>"
      ],
      "text/plain": [
       "                                              formula           image_name  \\\n",
       "0   R _ { 1 2 } K _ { 1 } R _ { 2 1 } d K _ { 2 } ...  80f1db54ec657ab.png   \n",
       "1   E _ { n } - E _ { m } = \\frac { \\lambda ^ { \\p...  4c0c01a5fb03248.png   \n",
       "2   \\sigma ^ { 1 } + i \\sigma ^ { 2 } = f ( \\sigma...  3f55826fd850d77.png   \n",
       "3   B | _ { \\partial \\Sigma _ { 3 } } \\rightarrow ...  a6a043f87f6ffdc.png   \n",
       "4   \\phi _ { i } ^ { \\prime } ( x ) = \\phi _ { i }...  4d0e536147c711b.png   \n",
       "5   \\partial _ { t } \\bar { \\sigma } _ { k } ^ { (...  afa85652d4f5da2.png   \n",
       "6   x _ { i } = y _ { i } \\left( 1 - \\eta _ { 1 } ...  02091ff3a528d8b.png   \n",
       "7   \\delta e ^ { s A } = \\int _ { 0 } ^ { s } d t ...  9b0eaa1b4efc79f.png   \n",
       "8   \\left( \\begin{array} { c | c } { 1 } & { b ( u...  25f980e30b13ac1.png   \n",
       "9   n _ { o } + n _ { v } + n _ { s } + n _ { c } ...  39fedf5461c6f2b.png   \n",
       "10  F _ { 0 a } ^ { \\Lambda } \\cong \\frac { q _ { ...  0110f3766ade0e1.png   \n",
       "11  \\varepsilon _ { 2 j - 1 } ^ { 1 } = \\varepsilo...  2d6f69a72a158f8.png   \n",
       "12  B ^ { \\prime \\prime } ( x ^ { 2 } ) = 4 \\pi G ...  1690ca93b7ad3f3.png   \n",
       "13  { \\cal N } = \\int d ^ { 4 } x \\sum _ { f } f \\...  471e433f340053d.png   \n",
       "14  { \\cal W } _ { \\mathrm { { \\small t r e e } } ...  d4d4db316c247e1.png   \n",
       "15  \\rho ( \\lambda ) = \\rho _ { 0 } ( \\lambda ) + ...  0e8d7b67580ddc3.png   \n",
       "17  J _ { \\mu \\nu } [ \\xi | s ] = \\tilde { g } \\ka...  d3e4891c4e7d9c2.png   \n",
       "18  w ( r ) = r + \\sum _ { p = 2 } ^ { \\infty } \\o...  ec184396e1c5a36.png   \n",
       "19  \\vec { y } _ { s } = \\sum _ { \\alpha = 1 } ^ {...  cd93215e074042d.png   \n",
       "21  D _ { \\mu } \\epsilon _ { i } = \\partial _ { \\m...  34c161b49339084.png   \n",
       "22  A ^ { T } M _ { I } = P ^ { T } , \\; \\; \\; B ^...  eb9db3eff34c8ba.png   \n",
       "23  S _ { i n t } = \\int d ^ { 4 } x [ G V ] _ { D...  e99c6da472b178e.png   \n",
       "25    z \\longrightarrow \\frac { a z + b } { c z + d }  f74cfcfa25683e4.png   \n",
       "26  t _ { \\mu \\nu } ( \\sigma ) = { \\frac { \\epsilo...  8f8b05a654c56dd.png   \n",
       "27  S ( x , x ^ { \\prime } ) = \\left[ \\alpha ( \\mu...  e2a65af16ab6c1b.png   \n",
       "28  P ( X ) = \\frac { 1 } { 2 \\alpha ^ { \\prime } ...  2c962ef8f49d902.png   \n",
       "29  \\tilde { S } ( x , x ^ { \\prime } ) = - \\epsil...  4cdda52335cced1.png   \n",
       "30  R _ { A } ^ { ~ B } ( z ; g ) = \\frac { \\parti...  aa430194d61d41f.png   \n",
       "31  B _ { 2 } : ~ u - \\pi / 2 = 0 , ~ w _ { 0 } ^ ...  da1d650c8ae27b9.png   \n",
       "33  H ^ { 2 } + { \\frac { \\kappa } { a ^ { 2 } } }...  6c802e37cde2017.png   \n",
       "34  \\Lambda _ { \\mathrm { e f f } } = \\frac { 1 } ...  52704ff8480daa3.png   \n",
       "35  \\hat { T } ^ { \\mu \\nu } = \\left( \\varrho + { ...  7eee170d31f76c1.png   \n",
       "36  { R _ { B } } ^ { A } \\ = \\ d { \\phi _ { B } }...  5458c5ecc880f7e.png   \n",
       "37  x _ { i } = q _ { i } - i \\psi _ { i } ( \\pi _...  ff60ad6eb3e6e54.png   \n",
       "38  \\Psi _ { 1 } = \\frac { ( 1 + \\Gamma _ { 7 } ) ...  91dcd6139f7f3e8.png   \n",
       "39  \\rho = w _ { 1 } \\rho ^ { ( 1 ) } + w _ { 2 } ...  bfdd585b76df11e.png   \n",
       "40  \\omega _ { 1 } = q ^ { 2 } - R ^ { 2 } - 2 \\pi...  c2538799731639e.png   \n",
       "41  d s ^ { 2 } = A ^ { \\frac { 2 } { n - 2 } } d ...  2676d270378018b.png   \n",
       "42  \\hat { a } = \\left( \\begin{matrix} { a } & { 0...  9998dcfa137ba01.png   \n",
       "44  S _ { { \\mathrm { \\scriptsize ~ { g a u g e d ...  af56bb46a8f38d1.png   \n",
       "45  \\frac { 6 } { 1 6 \\pi G } \\partial _ { \\rho } ...  acf8514348ba9d9.png   \n",
       "46  B = \\int _ { 0 } ^ { 1 } \\frac { 2 ^ { n } t ^...  72d92afc70b855e.png   \n",
       "47  \\psi _ { x x } + \\psi _ { y y } = 2 k { \\frac ...  eb05413b308903e.png   \n",
       "48  \\frac { 1 } { g _ { h } ^ { 2 } } + \\sum _ { n...  6ba758c3e50e8fd.png   \n",
       "49  \\vec { \\psi } ( \\vec { k } , \\hat { n } ) = c ...  6023bc6ba6ba4fa.png   \n",
       "50  N = F _ { 1 2 } + F _ { 3 4 } , \\quad S = 2 F ...  cf4e742cd0912aa.png   \n",
       "51  0 \\to P ^ { d } \\to P ^ { d - 1 } \\to \\dots \\t...  2b044654a907ade.png   \n",
       "52  ( \\gamma ) = ( { \\gamma _ { \\mu } } ^ { \\prime...  3c1fbc82f51ba74.png   \n",
       "\n",
       "    height  width  formula_length  \\\n",
       "0       20    200             105   \n",
       "1       39    169             106   \n",
       "2       19    138              75   \n",
       "3       20    142             123   \n",
       "4       18    175             118   \n",
       "5       31    180             154   \n",
       "6       43    186             115   \n",
       "7       35    163              94   \n",
       "8       45    100             128   \n",
       "9       15    181              67   \n",
       "10      41    215             228   \n",
       "11      21    133             105   \n",
       "12      19    184             109   \n",
       "13      41    128              78   \n",
       "14      15     98              93   \n",
       "15      31    256             146   \n",
       "17      37    336             221   \n",
       "18      43    180             121   \n",
       "19      44    199             197   \n",
       "21      21    100             105   \n",
       "22      19    294             131   \n",
       "23      34    293             127   \n",
       "25      34     79              47   \n",
       "26      42    198             170   \n",
       "27      18    228             134   \n",
       "28      47    216             201   \n",
       "29      34    331             235   \n",
       "30      40    269             399   \n",
       "31      18    467             210   \n",
       "33      48    201             187   \n",
       "34      48    181             183   \n",
       "35      37    192             140   \n",
       "36      18    171             114   \n",
       "37      39    193             144   \n",
       "38      34    239             145   \n",
       "39      20    118              62   \n",
       "40      18    148              71   \n",
       "41      26    258             175   \n",
       "42      37    414             403   \n",
       "44      34    380             294   \n",
       "45      32    156             163   \n",
       "46      43    509             288   \n",
       "47      37    178             113   \n",
       "48      45    238             202   \n",
       "49      20    199             165   \n",
       "50      15    167              57   \n",
       "51      16    234              69   \n",
       "52      19    173             150   \n",
       "\n",
       "                                      latex_tokenized  tokenized_len  \n",
       "0   [R, _, {, 1, 2, }, K, _, {, 1, }, R, _, {, 2, ...             53  \n",
       "1   [E, _, {, n, }, -, E, _, {, m, }, =, \\frac, {,...             46  \n",
       "2   [\\sigma, ^, {, 1, }, +, i, \\sigma, ^, {, 2, },...             28  \n",
       "3   [B, |, _, {, \\partial, \\Sigma, _, {, 3, }, }, ...             36  \n",
       "4   [\\phi, _, {, i, }, ^, {, \\prime, }, (, x, ), =...             43  \n",
       "5   [\\partial, _, {, t, }, \\bar, {, \\sigma, }, _, ...             52  \n",
       "6   [x, _, {, i, }, =, y, _, {, i, }, \\left(, 1, -...             48  \n",
       "7   [\\delta, e, ^, {, s, A, }, =, \\int, _, {, 0, }...             40  \n",
       "8   [\\left(, \\begin{array}, {, c, |, c, }, {, 1, }...             40  \n",
       "9   [n, _, {, o, }, +, n, _, {, v, }, +, n, _, {, ...             34  \n",
       "10  [F, _, {, 0, a, }, ^, {, \\Lambda, }, \\cong, \\f...             87  \n",
       "11  [\\varepsilon, _, {, 2, j, -, 1, }, ^, {, 1, },...             37  \n",
       "12  [B, ^, {, \\prime, \\prime, }, (, x, ^, {, 2, },...             44  \n",
       "13  [{, \\cal, N, }, =, \\int, d, ^, {, 4, }, x, \\su...             28  \n",
       "14  [{, \\cal, W, }, _, {, \\mathrm, {, {, \\small, t...             31  \n",
       "15  [\\rho, (, \\lambda, ), =, \\rho, _, {, 0, }, (, ...             49  \n",
       "17  [J, _, {, \\mu, \\nu, }, [, \\xi, |, s, ], =, \\ti...             73  \n",
       "18  [w, (, r, ), =, r, +, \\sum, _, {, p, =, 2, }, ...             51  \n",
       "19  [\\vec, {, y, }, _, {, s, }, =, \\sum, _, {, \\al...             71  \n",
       "21  [D, _, {, \\mu, }, \\epsilon, _, {, i, }, =, \\pa...             34  \n",
       "22  [A, ^, {, T, }, M, _, {, I, }, =, P, ^, {, T, ...             56  \n",
       "23  [S, _, {, i, n, t, }, =, \\int, d, ^, {, 4, }, ...             53  \n",
       "25  [z, \\longrightarrow, \\frac, {, a, z, +, b, }, ...             15  \n",
       "26  [t, _, {, \\mu, \\nu, }, (, \\sigma, ), =, {, \\fr...             57  \n",
       "27  [S, (, x, ,, x, ^, {, \\prime, }, ), =, \\left[,...             43  \n",
       "28  [P, (, X, ), =, \\frac, {, 1, }, {, 2, \\alpha, ...             84  \n",
       "29  [\\tilde, {, S, }, (, x, ,, x, ^, {, \\prime, },...             82  \n",
       "30  [R, _, {, A, }, ^, {, ~, B, }, (, z, ;, g, ), ...            125  \n",
       "31  [B, _, {, 2, }, :, ~, u, -, \\pi, /, 2, =, 0, ,...             83  \n",
       "33  [H, ^, {, 2, }, +, {, \\frac, {, \\kappa, }, {, ...             66  \n",
       "34  [\\Lambda, _, {, \\mathrm, {, e, f, f, }, }, =, ...             61  \n",
       "35  [\\hat, {, T, }, ^, {, \\mu, \\nu, }, =, \\left(, ...             49  \n",
       "36  [{, R, _, {, B, }, }, ^, {, A, }, \\, =, \\, d, ...             53  \n",
       "37  [x, _, {, i, }, =, q, _, {, i, }, -, i, \\psi, ...             55  \n",
       "38  [\\Psi, _, {, 1, }, =, \\frac, {, (, 1, +, \\Gamm...             58  \n",
       "39  [\\rho, =, w, _, {, 1, }, \\rho, ^, {, (, 1, ), ...             27  \n",
       "40  [\\omega, _, {, 1, }, =, q, ^, {, 2, }, -, R, ^...             27  \n",
       "41  [d, s, ^, {, 2, }, =, A, ^, {, \\frac, {, 2, },...             74  \n",
       "42  [\\hat, {, a, }, =, \\left(, \\begin{matrix}, {, ...            122  \n",
       "44  [S, _, {, {, \\mathrm, {, \\scriptsize, ~, {, g,...            108  \n",
       "45  [\\frac, {, 6, }, {, 1, 6, \\pi, G, }, \\partial,...             53  \n",
       "46  [B, =, \\int, _, {, 0, }, ^, {, 1, }, \\frac, {,...            121  \n",
       "47  [\\psi, _, {, x, x, }, +, \\psi, _, {, y, y, }, ...             43  \n",
       "48  [\\frac, {, 1, }, {, g, _, {, h, }, ^, {, 2, },...             75  \n",
       "49  [\\vec, {, \\psi, }, (, \\vec, {, k, }, ,, \\hat, ...             65  \n",
       "50  [N, =, F, _, {, 1, 2, }, +, F, _, {, 3, 4, }, ...             27  \n",
       "51  [0, \\to, P, ^, {, d, }, \\to, P, ^, {, d, -, 1,...             27  \n",
       "52  [(, \\gamma, ), =, (, {, \\gamma, _, {, \\mu, }, ...             52  "
      ]
     },
     "execution_count": 4,
     "metadata": {},
     "output_type": "execute_result"
    }
   ],
   "source": [
    "data.df"
   ]
  },
  {
   "cell_type": "code",
   "execution_count": 5,
   "id": "200e7b6a",
   "metadata": {},
   "outputs": [
    {
     "name": "stdout",
     "output_type": "stream",
     "text": [
      "Vocabulary size: 170 \n",
      "Max label length: 130 \n",
      "Start <S> goes to index  0 \n",
      "End <E> goes to index  1 \n",
      "Padding <P> goes to index  2\n"
     ]
    }
   ],
   "source": [
    "print( \n",
    "    'Vocabulary size:',len(data.vocabulary),\n",
    "    '\\nMax label length:', data.max_label_length,\n",
    "    \"\\nStart <S> goes to index \",data.vocabulary['<S>'],\n",
    "      \"\\nEnd <E> goes to index \",data.vocabulary['<E>'],\n",
    "      \"\\nPadding <P> goes to index \",data.vocabulary['<P>'],\n",
    ")\n"
   ]
  },
  {
   "cell_type": "code",
   "execution_count": 6,
   "id": "8fdf3123",
   "metadata": {},
   "outputs": [
    {
     "name": "stdout",
     "output_type": "stream",
     "text": [
      "Train/Val Data is ready for Model loading.\n"
     ]
    }
   ],
   "source": [
    "data.setup()"
   ]
  },
  {
   "cell_type": "code",
   "execution_count": 7,
   "id": "4ecbb1b7",
   "metadata": {},
   "outputs": [
    {
     "data": {
      "text/plain": [
       "Compose([\n",
       "  ShiftScaleRotate(always_apply=False, p=0.15, shift_limit_x=(0, 0), shift_limit_y=(0, 0), scale_limit=(-0.15000000000000002, 0.0), rotate_limit=(-1, 1), interpolation=3, border_mode=0, value=[255, 255, 255], mask_value=None, rotate_method='largest_box'),\n",
       "  GridDistortion(always_apply=False, p=0.15, num_steps=5, distort_limit=(-0.1, 0.1), interpolation=3, border_mode=0, value=[255, 255, 255], mask_value=None, normalized=False),\n",
       "  GaussNoise(always_apply=False, p=0.2, var_limit=(0, 10), per_channel=True, mean=0),\n",
       "  RandomBrightnessContrast(always_apply=False, p=0.2, brightness_limit=(-0.05, 0.05), contrast_limit=(-0.2, 0), brightness_by_max=True),\n",
       "  ToGray(always_apply=True, p=0.5),\n",
       "  ToTensorV2(always_apply=True, p=1.0, transpose_mask=False),\n",
       "], p=1.0, bbox_params=None, keypoint_params=None, additional_targets={})"
      ]
     },
     "execution_count": 7,
     "metadata": {},
     "output_type": "execute_result"
    }
   ],
   "source": [
    "data.image_transform_alb"
   ]
  },
  {
   "cell_type": "code",
   "execution_count": 8,
   "id": "fd34b649",
   "metadata": {},
   "outputs": [],
   "source": [
    "# Helper Function to convert prediction labels to strings\n",
    "def token_to_strings(tokens):\n",
    "    mapping = data.vocabulary\n",
    "    inverse_mapping =data.inverse_vocabulary\n",
    "    s=''\n",
    "    if tokens.shape[0] ==1:\n",
    "        tokens = tokens[0]\n",
    "    for number in tokens:\n",
    "        letter = inverse_mapping[number.item()]\n",
    "        s= s + str(letter)\n",
    "    return s"
   ]
  },
  {
   "cell_type": "code",
   "execution_count": 9,
   "id": "5331db83",
   "metadata": {},
   "outputs": [],
   "source": [
    "from torchvision import transforms\n",
    "import torch\n",
    "from torch.utils.data import ConcatDataset, DataLoader\n",
    "\n",
    "\n",
    "def collate_funci(batch):\n",
    "    # Get the maximum height of images in the batch\n",
    "    max_height = max([item.size(1) for item in batch[0]])\n",
    "    print(batch[0].shape)\n",
    "\n",
    "    # Pad images to the maximum height using zero-padding\n",
    "    padded_images = []\n",
    "    labels = batch[1]\n",
    "    for image in batch[0]:\n",
    "\n",
    "        padding_height = max_height - image.size(1)\n",
    "        padding = transforms.Pad((0, padding_height, 0), fill=0)\n",
    "        padded_image = padding(image)\n",
    "        padded_batch.append((padded_image, label))\n",
    "\n",
    "    # Stack the padded images and labels into a batch tensor\n",
    "    images = torch.stack(padded_images)\n",
    "    labels =torch.stack(labels)\n",
    "    return images, labels"
   ]
  },
  {
   "cell_type": "code",
   "execution_count": 10,
   "id": "2e12d8c0",
   "metadata": {},
   "outputs": [
    {
     "data": {
      "text/plain": [
       "Compose([\n",
       "  ShiftScaleRotate(always_apply=False, p=0.15, shift_limit_x=(0, 0), shift_limit_y=(0, 0), scale_limit=(-0.15000000000000002, 0.0), rotate_limit=(-1, 1), interpolation=3, border_mode=0, value=[255, 255, 255], mask_value=None, rotate_method='largest_box'),\n",
       "  GridDistortion(always_apply=False, p=0.15, num_steps=5, distort_limit=(-0.1, 0.1), interpolation=3, border_mode=0, value=[255, 255, 255], mask_value=None, normalized=False),\n",
       "  GaussNoise(always_apply=False, p=0.2, var_limit=(0, 10), per_channel=True, mean=0),\n",
       "  RandomBrightnessContrast(always_apply=False, p=0.2, brightness_limit=(-0.05, 0.05), contrast_limit=(-0.2, 0), brightness_by_max=True),\n",
       "  ToGray(always_apply=True, p=0.5),\n",
       "  ToTensorV2(always_apply=True, p=1.0, transpose_mask=False),\n",
       "], p=1.0, bbox_params=None, keypoint_params=None, additional_targets={})"
      ]
     },
     "execution_count": 10,
     "metadata": {},
     "output_type": "execute_result"
    }
   ],
   "source": [
    "data.image_transform_alb"
   ]
  },
  {
   "cell_type": "code",
   "execution_count": 11,
   "id": "77af1dcd",
   "metadata": {},
   "outputs": [
    {
     "name": "stdout",
     "output_type": "stream",
     "text": [
      "torch.Size([1, 37, 178])\n"
     ]
    }
   ],
   "source": [
    "print(data.data_train[0][0].shape)"
   ]
  },
  {
   "cell_type": "code",
   "execution_count": 12,
   "id": "bf00ccd8",
   "metadata": {},
   "outputs": [
    {
     "data": {
      "image/png": "[encoded data removed]",
      "text/plain": [
       "<PIL.Image.Image image mode=L size=178x37>"
      ]
     },
     "metadata": {},
     "output_type": "display_data"
    },
    {
     "name": "stdout",
     "output_type": "stream",
     "text": [
      "torch.Size([1, 37, 178])\n"
     ]
    }
   ],
   "source": [
    "transform = transforms.ToPILImage()\n",
    "image =data.data_train[0][0]\n",
    "display(transform(image))\n",
    "print(image.shape)"
   ]
  },
  {
   "cell_type": "code",
   "execution_count": null,
   "id": "53a1c414",
   "metadata": {},
   "outputs": [],
   "source": []
  },
  {
   "cell_type": "code",
   "execution_count": null,
   "id": "1763c34c",
   "metadata": {},
   "outputs": [],
   "source": []
  },
  {
   "cell_type": "code",
   "execution_count": 13,
   "id": "b3b13f93",
   "metadata": {
    "scrolled": false
   },
   "outputs": [
    {
     "name": "stdout",
     "output_type": "stream",
     "text": [
      "torch.Size([1, 20, 142])\n",
      "tensor([[[226., 226., 226.,  ..., 226., 226., 226.],\n",
      "         [226., 226., 226.,  ..., 226., 226., 226.],\n",
      "         [226., 226., 202.,  ..., 226., 226., 226.],\n",
      "         ...,\n",
      "         [226., 226., 226.,  ..., 226., 226., 226.],\n",
      "         [226., 226., 226.,  ..., 226., 226., 226.],\n",
      "         [226., 226., 226.,  ..., 226., 226., 226.]]])\n",
      "\n",
      "Original image and formula:\n"
     ]
    },
    {
     "data": {
      "image/png": "[encoded data removed]",
      "text/plain": [
       "<PIL.Image.Image image mode=L size=142x20>"
      ]
     },
     "metadata": {},
     "output_type": "display_data"
    },
    {
     "name": "stdout",
     "output_type": "stream",
     "text": [
      "torch.Size([1, 20, 200])\n",
      "tensor([[[255., 255., 255.,  ..., 255., 255., 255.],\n",
      "         [255., 255., 255.,  ..., 255., 255., 255.],\n",
      "         [255., 255., 255.,  ..., 255., 255., 255.],\n",
      "         ...,\n",
      "         [255., 255., 255.,  ..., 255., 255., 255.],\n",
      "         [255., 255., 255.,  ..., 255., 255., 255.],\n",
      "         [255., 255., 255.,  ..., 255., 255., 255.]]])\n",
      "\n",
      "Original image and formula:\n"
     ]
    },
    {
     "data": {
      "image/png": "[encoded data removed]",
      "text/plain": [
       "<PIL.Image.Image image mode=L size=200x20>"
      ]
     },
     "metadata": {},
     "output_type": "display_data"
    },
    {
     "name": "stdout",
     "output_type": "stream",
     "text": [
      "torch.Size([1, 19, 294])\n",
      "tensor([[[255., 255., 255.,  ..., 255., 255., 255.],\n",
      "         [255., 255., 255.,  ..., 255., 255., 255.],\n",
      "         [255., 255., 255.,  ..., 255., 255., 255.],\n",
      "         ...,\n",
      "         [255., 255., 255.,  ..., 162., 255., 255.],\n",
      "         [255., 255., 255.,  ..., 255., 255., 255.],\n",
      "         [255., 255., 255.,  ..., 255., 255., 255.]]])\n",
      "\n",
      "Original image and formula:\n"
     ]
    },
    {
     "data": {
      "image/png": "[encoded data removed]",
      "text/plain": [
       "<PIL.Image.Image image mode=L size=294x19>"
      ]
     },
     "metadata": {},
     "output_type": "display_data"
    },
    {
     "name": "stdout",
     "output_type": "stream",
     "text": [
      "torch.Size([1, 48, 201])\n",
      "tensor([[[201., 201., 201.,  ..., 201., 201., 201.],\n",
      "         [201., 201., 201.,  ..., 201., 201., 201.],\n",
      "         [201., 201., 201.,  ..., 201., 201., 201.],\n",
      "         ...,\n",
      "         [201., 201., 201.,  ..., 201., 201., 201.],\n",
      "         [201., 201., 201.,  ..., 201., 201., 201.],\n",
      "         [201., 201., 201.,  ..., 201., 201., 201.]]])\n",
      "\n",
      "Original image and formula:\n"
     ]
    },
    {
     "data": {
      "image/png": "[encoded data removed]",
      "text/plain": [
       "<PIL.Image.Image image mode=L size=201x48>"
      ]
     },
     "metadata": {},
     "output_type": "display_data"
    },
    {
     "name": "stdout",
     "output_type": "stream",
     "text": [
      "torch.Size([1, 41, 128])\n",
      "tensor([[[255., 255., 255.,  ..., 255., 255., 255.],\n",
      "         [255., 255., 255.,  ..., 255., 255., 255.],\n",
      "         [255., 255., 255.,  ..., 255., 255., 255.],\n",
      "         ...,\n",
      "         [255., 255., 255.,  ..., 255., 255., 255.],\n",
      "         [255., 255., 255.,  ..., 255., 255., 255.],\n",
      "         [255., 255., 255.,  ..., 255., 255., 255.]]])\n",
      "\n",
      "Original image and formula:\n"
     ]
    },
    {
     "data": {
      "image/png": "[encoded data removed]",
      "text/plain": [
       "<PIL.Image.Image image mode=L size=128x41>"
      ]
     },
     "metadata": {},
     "output_type": "display_data"
    }
   ],
   "source": [
    "dataloader = iter(data.train_dataloader())\n",
    "for i in range(5):\n",
    "    # Get image and label from train data -- change number for different ones\n",
    "    image_tensors, label = next(dataloader)\n",
    "    image_tensor_1 = image_tensors[0]\n",
    "    #image_tensor_2 = image_tensors[2]\n",
    "    print(image_tensor_1.shape)\n",
    "    print(image_tensor_1)\n",
    "    transform = transforms.ToPILImage()\n",
    "    \n",
    "\n",
    "    print('\\nOriginal image and formula:')\n",
    "    display(transform(image_tensor_1))\n",
    "    #display(transform(image_tensor_2))\n"
   ]
  },
  {
   "cell_type": "code",
   "execution_count": null,
   "id": "d9f76b1b",
   "metadata": {},
   "outputs": [],
   "source": []
  },
  {
   "cell_type": "code",
   "execution_count": null,
   "id": "30eaf16e",
   "metadata": {},
   "outputs": [],
   "source": []
  },
  {
   "cell_type": "code",
   "execution_count": null,
   "id": "9ce31504",
   "metadata": {
    "scrolled": false
   },
   "outputs": [],
   "source": []
  },
  {
   "cell_type": "code",
   "execution_count": null,
   "id": "c4214d92",
   "metadata": {},
   "outputs": [],
   "source": []
  },
  {
   "cell_type": "code",
   "execution_count": null,
   "id": "d9fddcad",
   "metadata": {
    "scrolled": false
   },
   "outputs": [],
   "source": []
  },
  {
   "cell_type": "code",
   "execution_count": null,
   "id": "38923c58",
   "metadata": {},
   "outputs": [],
   "source": []
  },
  {
   "cell_type": "code",
   "execution_count": 14,
   "id": "c352bb68",
   "metadata": {
    "scrolled": false
   },
   "outputs": [
    {
     "name": "stdout",
     "output_type": "stream",
     "text": [
      "(112, 424, 3)\n",
      "torch.Size([1, 112, 424])\n"
     ]
    },
    {
     "data": {
      "image/png": "[encoded data removed]",
      "text/plain": [
       "<PIL.Image.Image image mode=L size=424x112>"
      ]
     },
     "metadata": {},
     "output_type": "display_data"
    },
    {
     "name": "stdout",
     "output_type": "stream",
     "text": [
      "None\n"
     ]
    }
   ],
   "source": [
    "import cv2\n",
    "import PIL\n",
    "import numpy as np\n",
    "transform = transforms.ToPILImage()\n",
    "\n",
    "my_image_path= \"Jupyter_Notebooks/test_photos/my_image.png\"\n",
    "my_image = cv2.imread(my_image_path)\n",
    "my_image =  cv2.cvtColor(my_image, cv2.COLOR_BGR2RGB)\n",
    "my_image= cv2.bitwise_not(my_image)\n",
    "#my_image = PIL.ImageOps.invert(my_image)\n",
    "print(my_image.shape)\n",
    "\n",
    "my_image_tensor = data.image_transform_test(image=np.array(my_image))['image'][:1]\n",
    "print(my_image_tensor.shape)\n",
    "print(display(transform(my_image_tensor)))\n",
    "\n"
   ]
  },
  {
   "cell_type": "code",
   "execution_count": 15,
   "id": "87c3638b",
   "metadata": {},
   "outputs": [
    {
     "name": "stdout",
     "output_type": "stream",
     "text": [
      "torch.Size([1, 152, 658])\n"
     ]
    },
    {
     "data": {
      "image/png": "[encoded data removed]",
      "text/plain": [
       "<PIL.Image.Image image mode=L size=658x152>"
      ]
     },
     "metadata": {},
     "output_type": "display_data"
    },
    {
     "name": "stdout",
     "output_type": "stream",
     "text": [
      "None\n"
     ]
    }
   ],
   "source": [
    "my_image_path= \"Jupyter_Notebooks/test_photos/screenshot_1.png\"\n",
    "my_image = cv2.imread(my_image_path)\n",
    "my_image =  cv2.cvtColor(my_image, cv2.COLOR_BGR2RGB)\n",
    "my_image= cv2.bitwise_not(my_image)\n",
    "#my_image = PIL.ImageOps.invert(my_image)\n",
    "\n",
    "my_image_tensor = data.image_transform_test(image=np.array(my_image))['image'][:1]\n",
    "print(my_image_tensor.shape)\n",
    "print(display(transform(my_image_tensor)))\n"
   ]
  },
  {
   "cell_type": "code",
   "execution_count": 16,
   "id": "2b27b6e9",
   "metadata": {},
   "outputs": [
    {
     "name": "stdout",
     "output_type": "stream",
     "text": [
      "torch.Size([1, 200, 1424])\n"
     ]
    },
    {
     "data": {
      "image/png": "[encoded data removed]",
      "text/plain": [
       "<PIL.Image.Image image mode=L size=1424x200>"
      ]
     },
     "metadata": {},
     "output_type": "display_data"
    },
    {
     "name": "stdout",
     "output_type": "stream",
     "text": [
      "None\n"
     ]
    }
   ],
   "source": [
    "my_image_path= \"Jupyter_Notebooks/test_photos/Screen Shot_14.png\"\n",
    "my_image = cv2.imread(my_image_path)\n",
    "my_image =  cv2.cvtColor(my_image, cv2.COLOR_BGR2RGB)\n",
    "#my_image= cv2.bitwise_not(my_image)\n",
    "#my_image = PIL.ImageOps.invert(my_image)\n",
    "#my_image=  cv2.resize(my_image,(250,420),interpolation=cv2.INTER_AREA)\n",
    "\n",
    "my_image_tensor = data.image_transform_alb(image=np.array(my_image))['image'][:1]\n",
    "print(my_image_tensor.shape)\n",
    "print(display(transform(my_image_tensor)))\n",
    "\n"
   ]
  },
  {
   "cell_type": "code",
   "execution_count": 17,
   "id": "8f289d71",
   "metadata": {},
   "outputs": [
    {
     "name": "stdout",
     "output_type": "stream",
     "text": [
      "torch.Size([1, 188, 1950])\n"
     ]
    },
    {
     "data": {
      "image/png": "[encoded data removed]",
      "text/plain": [
       "<PIL.Image.Image image mode=L size=1950x188>"
      ]
     },
     "metadata": {},
     "output_type": "display_data"
    },
    {
     "name": "stdout",
     "output_type": "stream",
     "text": [
      "None\n"
     ]
    }
   ],
   "source": [
    "my_image_path= \"Jupyter_Notebooks/test_photos/Screen Shot_10.png\"\n",
    "my_image = cv2.imread(my_image_path)\n",
    "my_image =  cv2.cvtColor(my_image, cv2.COLOR_BGR2RGB)\n",
    "my_image= cv2.bitwise_not(my_image)\n",
    "#my_image = PIL.ImageOps.invert(my_image)\n",
    "\n",
    "my_image_tensor = data.image_transform_test(image=np.array(my_image))['image'][:1]\n",
    "print(my_image_tensor.shape)\n",
    "print(display(transform(my_image_tensor)))"
   ]
  },
  {
   "cell_type": "code",
   "execution_count": 18,
   "id": "c9ecb002",
   "metadata": {},
   "outputs": [
    {
     "name": "stdout",
     "output_type": "stream",
     "text": [
      "torch.Size([1, 384, 812])\n"
     ]
    },
    {
     "data": {
      "image/png": "[encoded data removed]",
      "text/plain": [
       "<PIL.Image.Image image mode=L size=812x384>"
      ]
     },
     "metadata": {},
     "output_type": "display_data"
    },
    {
     "name": "stdout",
     "output_type": "stream",
     "text": [
      "None\n"
     ]
    }
   ],
   "source": [
    "my_image_path= \"Jupyter_Notebooks/test_photos/Screen Shot_11.png\"\n",
    "my_image = cv2.imread(my_image_path)\n",
    "my_image =  cv2.cvtColor(my_image, cv2.COLOR_BGR2RGB)\n",
    "my_image= cv2.bitwise_not(my_image)\n",
    "#my_image = PIL.ImageOps.invert(my_image)\n",
    "\n",
    "my_image_tensor = data.image_transform_test(image=np.array(my_image))['image'][:1]\n",
    "print(my_image_tensor.shape)\n",
    "print(display(transform(my_image_tensor)))"
   ]
  },
  {
   "cell_type": "code",
   "execution_count": 19,
   "id": "772428fe",
   "metadata": {
    "scrolled": false
   },
   "outputs": [
    {
     "name": "stdout",
     "output_type": "stream",
     "text": [
      "torch.Size([1, 37, 178])\n",
      "\n",
      "Original image and formula:\n"
     ]
    },
    {
     "data": {
      "image/png": "[encoded data removed]",
      "text/plain": [
       "<PIL.Image.Image image mode=L size=178x37>"
      ]
     },
     "metadata": {},
     "output_type": "display_data"
    },
    {
     "name": "stdout",
     "output_type": "stream",
     "text": [
      "<S>\\psi_{xx}+\\psi_{yy}=2k{\\frac{\\gamma-1}{(\\gamma-2)^{2}}}\\psi^{\\gamma-1}.<E><P><P><P><P><P><P><P><P><P><P><P><P><P><P><P><P><P><P><P><P><P><P><P><P><P><P><P><P><P><P><P><P><P><P><P><P><P><P><P><P><P><P><P><P><P><P><P><P><P><P><P><P><P><P><P><P><P><P><P><P><P><P><P><P><P><P><P><P><P><P><P><P><P><P><P><P><P><P><P><P><P><P><P><P><P>\n",
      "\n",
      "Predicted formula: \n",
      "\n",
      "torch.Size([1, 15, 181])\n",
      "\n",
      "Original image and formula:\n"
     ]
    },
    {
     "data": {
      "image/png": "[encoded data removed]",
      "text/plain": [
       "<PIL.Image.Image image mode=L size=181x15>"
      ]
     },
     "metadata": {},
     "output_type": "display_data"
    },
    {
     "name": "stdout",
     "output_type": "stream",
     "text": [
      "<S>n_{o}+n_{v}+n_{s}+n_{c}=a_{1}=64\\,<E><P><P><P><P><P><P><P><P><P><P><P><P><P><P><P><P><P><P><P><P><P><P><P><P><P><P><P><P><P><P><P><P><P><P><P><P><P><P><P><P><P><P><P><P><P><P><P><P><P><P><P><P><P><P><P><P><P><P><P><P><P><P><P><P><P><P><P><P><P><P><P><P><P><P><P><P><P><P><P><P><P><P><P><P><P><P><P><P><P><P><P><P><P><P>\n",
      "\n",
      "Predicted formula: \n",
      "\n",
      "torch.Size([1, 45, 238])\n",
      "\n",
      "Original image and formula:\n"
     ]
    },
    {
     "data": {
      "image/png": "[encoded data removed]",
      "text/plain": [
       "<PIL.Image.Image image mode=L size=238x45>"
      ]
     },
     "metadata": {},
     "output_type": "display_data"
    },
    {
     "name": "stdout",
     "output_type": "stream",
     "text": [
      "<S>\\frac{1}{g_{h}^{2}}+\\sum_{n\\geq0}a_{n}\\left(\\frac{M}{M^{\\prime}}\\right)\\mathrm{exp}\\left(-n\\frac{8\\pi^{2}}{g_{h}^{2}(M)}\\right).<E><P><P><P><P><P><P><P><P><P><P><P><P><P><P><P><P><P><P><P><P><P><P><P><P><P><P><P><P><P><P><P><P><P><P><P><P><P><P><P><P><P><P><P><P><P><P><P><P><P><P><P><P><P>\n",
      "\n",
      "Predicted formula: \n",
      "\n",
      "torch.Size([1, 37, 336])\n",
      "\n",
      "Original image and formula:\n"
     ]
    },
    {
     "data": {
      "image/png": "[encoded data removed]",
      "text/plain": [
       "<PIL.Image.Image image mode=L size=336x37>"
      ]
     },
     "metadata": {},
     "output_type": "display_data"
    },
    {
     "name": "stdout",
     "output_type": "stream",
     "text": [
      "<S>J_{\\mu\\nu}[\\xi|s]=\\tilde{g}\\kappa[\\xi|s]\\epsilon_{\\mu\\nu\\rho\\sigma}\\intd\\tau\\frac{dY^{\\rho}(\\tau)}{d\\tau}\\dot{\\xi}^{\\sigma}(s)\\delta(\\xi(s)-Y(\\tau)),<E><P><P><P><P><P><P><P><P><P><P><P><P><P><P><P><P><P><P><P><P><P><P><P><P><P><P><P><P><P><P><P><P><P><P><P><P><P><P><P><P><P><P><P><P><P><P><P><P><P><P><P><P><P><P><P>\n",
      "\n",
      "Predicted formula: \n",
      "\n",
      "torch.Size([1, 43, 186])\n",
      "\n",
      "Original image and formula:\n"
     ]
    },
    {
     "data": {
      "image/png": "[encoded data removed]",
      "text/plain": [
       "<PIL.Image.Image image mode=L size=186x43>"
      ]
     },
     "metadata": {},
     "output_type": "display_data"
    },
    {
     "name": "stdout",
     "output_type": "stream",
     "text": [
      "<S>x_{i}=y_{i}\\left(1-\\eta_{1}\\eta_{2}\\right),~~\\sum_{0}^{3}y_{i}^{2}=1<E><P><P><P><P><P><P><P><P><P><P><P><P><P><P><P><P><P><P><P><P><P><P><P><P><P><P><P><P><P><P><P><P><P><P><P><P><P><P><P><P><P><P><P><P><P><P><P><P><P><P><P><P><P><P><P><P><P><P><P><P><P><P><P><P><P><P><P><P><P><P><P><P><P><P><P><P><P><P><P><P>\n",
      "\n",
      "Predicted formula: \n",
      "\n",
      "torch.Size([1, 20, 199])\n",
      "\n",
      "Original image and formula:\n"
     ]
    },
    {
     "data": {
      "image/png": "[encoded data removed]",
      "text/plain": [
       "<PIL.Image.Image image mode=L size=199x20>"
      ]
     },
     "metadata": {},
     "output_type": "display_data"
    },
    {
     "name": "stdout",
     "output_type": "stream",
     "text": [
      "<S>\\vec{\\psi}(\\vec{k},\\hat{n})=c_{0}\\vec{\\psi}_{0}(\\vec{k},\\hat{n})+c_{1}\\vec{\\psi}_{1}(\\vec{k},\\hat{n})<E><P><P><P><P><P><P><P><P><P><P><P><P><P><P><P><P><P><P><P><P><P><P><P><P><P><P><P><P><P><P><P><P><P><P><P><P><P><P><P><P><P><P><P><P><P><P><P><P><P><P><P><P><P><P><P><P><P><P><P><P><P><P><P>\n",
      "\n",
      "Predicted formula: \n",
      "\n",
      "torch.Size([1, 21, 100])\n",
      "\n",
      "Original image and formula:\n"
     ]
    },
    {
     "data": {
      "image/png": "[encoded data removed]",
      "text/plain": [
       "<PIL.Image.Image image mode=L size=100x21>"
      ]
     },
     "metadata": {},
     "output_type": "display_data"
    },
    {
     "name": "stdout",
     "output_type": "stream",
     "text": [
      "<S>D_{\\mu}\\epsilon_{i}=\\partial_{\\mu}\\epsilon_{i}+{\\textstyle{\\frac{1}{4}}}<E><P><P><P><P><P><P><P><P><P><P><P><P><P><P><P><P><P><P><P><P><P><P><P><P><P><P><P><P><P><P><P><P><P><P><P><P><P><P><P><P><P><P><P><P><P><P><P><P><P><P><P><P><P><P><P><P><P><P><P><P><P><P><P><P><P><P><P><P><P><P><P><P><P><P><P><P><P><P><P><P><P><P><P><P><P><P><P><P><P><P><P><P><P><P>\n",
      "\n",
      "Predicted formula: \n",
      "\n",
      "torch.Size([1, 26, 258])\n",
      "\n",
      "Original image and formula:\n"
     ]
    },
    {
     "data": {
      "image/png": "[encoded data removed]",
      "text/plain": [
       "<PIL.Image.Image image mode=L size=258x26>"
      ]
     },
     "metadata": {},
     "output_type": "display_data"
    },
    {
     "name": "stdout",
     "output_type": "stream",
     "text": [
      "<S>ds^{2}=A^{\\frac{2}{n-2}}d{\\bfx}_{\\kappa}^{2}+e^{2\\nu}A^{-\\left(\\frac{n-3}{n-2}\\right)}(-dt^{2}+dz^{2})<E><P><P><P><P><P><P><P><P><P><P><P><P><P><P><P><P><P><P><P><P><P><P><P><P><P><P><P><P><P><P><P><P><P><P><P><P><P><P><P><P><P><P><P><P><P><P><P><P><P><P><P><P><P><P>\n",
      "\n",
      "Predicted formula: \n",
      "\n",
      "torch.Size([1, 31, 256])\n",
      "\n",
      "Original image and formula:\n"
     ]
    },
    {
     "data": {
      "image/png": "[encoded data removed]",
      "text/plain": [
       "<PIL.Image.Image image mode=L size=256x31>"
      ]
     },
     "metadata": {},
     "output_type": "display_data"
    },
    {
     "name": "stdout",
     "output_type": "stream",
     "text": [
      "<S>\\rho(\\lambda)=\\rho_{0}(\\lambda)+\\frac{1}{N}(\\rho_{h}(\\lambda)+\\rho_{c}(\\lambda)+\\rho_{w}(\\lambda))<E><P><P><P><P><P><P><P><P><P><P><P><P><P><P><P><P><P><P><P><P><P><P><P><P><P><P><P><P><P><P><P><P><P><P><P><P><P><P><P><P><P><P><P><P><P><P><P><P><P><P><P><P><P><P><P><P><P><P><P><P><P><P><P><P><P><P><P><P><P><P><P><P><P><P><P><P><P><P><P>\n",
      "\n",
      "Predicted formula: \n",
      "\n",
      "torch.Size([1, 18, 171])\n",
      "\n",
      "Original image and formula:\n"
     ]
    },
    {
     "data": {
      "image/png": "[encoded data removed]",
      "text/plain": [
       "<PIL.Image.Image image mode=L size=171x18>"
      ]
     },
     "metadata": {},
     "output_type": "display_data"
    },
    {
     "name": "stdout",
     "output_type": "stream",
     "text": [
      "<S>{R_{B}}^{A}\\=\\d{\\phi_{B}}^{A}\\+\\{\\phi_{B}}^{C}{\\phi_{C}}^{A}~,<E><P><P><P><P><P><P><P><P><P><P><P><P><P><P><P><P><P><P><P><P><P><P><P><P><P><P><P><P><P><P><P><P><P><P><P><P><P><P><P><P><P><P><P><P><P><P><P><P><P><P><P><P><P><P><P><P><P><P><P><P><P><P><P><P><P><P><P><P><P><P><P><P><P><P><P>\n",
      "\n",
      "Predicted formula: \n",
      "\n",
      "torch.Size([1, 39, 193])\n",
      "\n",
      "Original image and formula:\n"
     ]
    },
    {
     "data": {
      "image/png": "[encoded data removed]",
      "text/plain": [
       "<PIL.Image.Image image mode=L size=193x39>"
      ]
     },
     "metadata": {},
     "output_type": "display_data"
    },
    {
     "name": "stdout",
     "output_type": "stream",
     "text": [
      "<S>x_{i}=q_{i}-i\\psi_{i}(\\pi_{j}\\psi_{j})\\frac{(a\\kappa+b)}{\\tilde{\\alpha}(\\Omega+m_{\\psi})},<E><P><P><P><P><P><P><P><P><P><P><P><P><P><P><P><P><P><P><P><P><P><P><P><P><P><P><P><P><P><P><P><P><P><P><P><P><P><P><P><P><P><P><P><P><P><P><P><P><P><P><P><P><P><P><P><P><P><P><P><P><P><P><P><P><P><P><P><P><P><P><P><P><P>\n",
      "\n",
      "Predicted formula: \n",
      "\n",
      "torch.Size([1, 39, 169])\n",
      "\n",
      "Original image and formula:\n"
     ]
    },
    {
     "data": {
      "image/png": "[encoded data removed]",
      "text/plain": [
       "<PIL.Image.Image image mode=L size=169x39>"
      ]
     },
     "metadata": {},
     "output_type": "display_data"
    },
    {
     "name": "stdout",
     "output_type": "stream",
     "text": [
      "<S>E_{n}-E_{m}=\\frac{\\lambda^{\\prime}(n^{2}y^{2}-m^{2})}{y^{2}}.<E><P><P><P><P><P><P><P><P><P><P><P><P><P><P><P><P><P><P><P><P><P><P><P><P><P><P><P><P><P><P><P><P><P><P><P><P><P><P><P><P><P><P><P><P><P><P><P><P><P><P><P><P><P><P><P><P><P><P><P><P><P><P><P><P><P><P><P><P><P><P><P><P><P><P><P><P><P><P><P><P><P><P>\n",
      "\n",
      "Predicted formula: \n",
      "\n",
      "torch.Size([1, 41, 215])\n",
      "\n",
      "Original image and formula:\n"
     ]
    },
    {
     "data": {
      "image/png": "[encoded data removed]",
      "text/plain": [
       "<PIL.Image.Image image mode=L size=215x41>"
      ]
     },
     "metadata": {},
     "output_type": "display_data"
    },
    {
     "name": "stdout",
     "output_type": "stream",
     "text": [
      "<S>F_{0a}^{\\Lambda}\\cong\\frac{q_{(el)}^{\\Lambda}}{r^{3}}\\,x^{a}\\quad;\\quad{\\tilde{F}}_{0a}^{\\Lambda}\\cong\\frac{q_{(mag)}^{\\Lambda}}{r^{3}}\\,x^{a}<E><P><P><P><P><P><P><P><P><P><P><P><P><P><P><P><P><P><P><P><P><P><P><P><P><P><P><P><P><P><P><P><P><P><P><P><P><P><P><P><P><P>\n",
      "\n",
      "Predicted formula: \n",
      "\n",
      "torch.Size([1, 21, 133])\n",
      "\n",
      "Original image and formula:\n"
     ]
    },
    {
     "data": {
      "image/png": "[encoded data removed]",
      "text/plain": [
       "<PIL.Image.Image image mode=L size=133x21>"
      ]
     },
     "metadata": {},
     "output_type": "display_data"
    },
    {
     "name": "stdout",
     "output_type": "stream",
     "text": [
      "<S>\\varepsilon_{2j-1}^{1}=\\varepsilon_{2j}^{1}\\;\\;\\;\\mathrm{~for~}j\\geq1<E><P><P><P><P><P><P><P><P><P><P><P><P><P><P><P><P><P><P><P><P><P><P><P><P><P><P><P><P><P><P><P><P><P><P><P><P><P><P><P><P><P><P><P><P><P><P><P><P><P><P><P><P><P><P><P><P><P><P><P><P><P><P><P><P><P><P><P><P><P><P><P><P><P><P><P><P><P><P><P><P><P><P><P><P><P><P><P><P><P><P><P>\n",
      "\n",
      "Predicted formula: \n",
      "\n",
      "torch.Size([1, 20, 118])\n",
      "\n",
      "Original image and formula:\n"
     ]
    },
    {
     "data": {
      "image/png": "[encoded data removed]",
      "text/plain": [
       "<PIL.Image.Image image mode=L size=118x20>"
      ]
     },
     "metadata": {},
     "output_type": "display_data"
    },
    {
     "name": "stdout",
     "output_type": "stream",
     "text": [
      "<S>\\rho=w_{1}\\rho^{(1)}+w_{2}\\rho^{(2)}<E><P><P><P><P><P><P><P><P><P><P><P><P><P><P><P><P><P><P><P><P><P><P><P><P><P><P><P><P><P><P><P><P><P><P><P><P><P><P><P><P><P><P><P><P><P><P><P><P><P><P><P><P><P><P><P><P><P><P><P><P><P><P><P><P><P><P><P><P><P><P><P><P><P><P><P><P><P><P><P><P><P><P><P><P><P><P><P><P><P><P><P><P><P><P><P><P><P><P><P><P><P>\n",
      "\n",
      "Predicted formula: \n",
      "\n",
      "torch.Size([1, 43, 180])\n",
      "\n",
      "Original image and formula:\n"
     ]
    },
    {
     "data": {
      "image/png": "[encoded data removed]",
      "text/plain": [
       "<PIL.Image.Image image mode=L size=180x43>"
      ]
     },
     "metadata": {},
     "output_type": "display_data"
    },
    {
     "name": "stdout",
     "output_type": "stream",
     "text": [
      "<S>w(r)=r+\\sum_{p=2}^{\\infty}\\overline{{g_{p}}}\\frac{(2p)!}{p!(p-1)!}r^{p}<E><P><P><P><P><P><P><P><P><P><P><P><P><P><P><P><P><P><P><P><P><P><P><P><P><P><P><P><P><P><P><P><P><P><P><P><P><P><P><P><P><P><P><P><P><P><P><P><P><P><P><P><P><P><P><P><P><P><P><P><P><P><P><P><P><P><P><P><P><P><P><P><P><P><P><P><P><P>\n",
      "\n",
      "Predicted formula: \n",
      "\n",
      "torch.Size([1, 31, 180])\n",
      "\n",
      "Original image and formula:\n"
     ]
    },
    {
     "data": {
      "image/png": "[encoded data removed]",
      "text/plain": [
       "<PIL.Image.Image image mode=L size=180x31>"
      ]
     },
     "metadata": {},
     "output_type": "display_data"
    },
    {
     "name": "stdout",
     "output_type": "stream",
     "text": [
      "<S>\\partial_{t}\\bar{\\sigma}_{k}^{(gf)}=\\frac{1}{\\alpha}\\partial_{t}\\gamma_{k}+e\\partial_{t}\\zeta_{k}+\\dots<E><P><P><P><P><P><P><P><P><P><P><P><P><P><P><P><P><P><P><P><P><P><P><P><P><P><P><P><P><P><P><P><P><P><P><P><P><P><P><P><P><P><P><P><P><P><P><P><P><P><P><P><P><P><P><P><P><P><P><P><P><P><P><P><P><P><P><P><P><P><P><P><P><P><P><P><P>\n",
      "\n",
      "Predicted formula: \n",
      "\n",
      "torch.Size([1, 16, 234])\n",
      "\n",
      "Original image and formula:\n"
     ]
    },
    {
     "data": {
      "image/png": "[encoded data removed]",
      "text/plain": [
       "<PIL.Image.Image image mode=L size=234x16>"
      ]
     },
     "metadata": {},
     "output_type": "display_data"
    },
    {
     "name": "stdout",
     "output_type": "stream",
     "text": [
      "<S>0\\toP^{d}\\toP^{d-1}\\to\\dots\\toP^{0}\\toS\\to0<E><P><P><P><P><P><P><P><P><P><P><P><P><P><P><P><P><P><P><P><P><P><P><P><P><P><P><P><P><P><P><P><P><P><P><P><P><P><P><P><P><P><P><P><P><P><P><P><P><P><P><P><P><P><P><P><P><P><P><P><P><P><P><P><P><P><P><P><P><P><P><P><P><P><P><P><P><P><P><P><P><P><P><P><P><P><P><P><P><P><P><P><P><P><P><P><P><P><P><P><P><P>\n",
      "\n",
      "Predicted formula: \n",
      "\n",
      "torch.Size([1, 48, 201])\n",
      "\n",
      "Original image and formula:\n"
     ]
    },
    {
     "data": {
      "image/png": "[encoded data removed]",
      "text/plain": [
       "<PIL.Image.Image image mode=L size=201x48>"
      ]
     },
     "metadata": {},
     "output_type": "display_data"
    },
    {
     "name": "stdout",
     "output_type": "stream",
     "text": [
      "<S>H^{2}+{\\frac{\\kappa}{a^{2}}}=-{\\frac{\\dot{\\Phi}}{\\Phi}}H+{\\frac{\\omega}{6}}\\left({\\frac{\\dot{\\Phi}}{\\Phi}}\\right)^{2}\\;\\\\.<E><P><P><P><P><P><P><P><P><P><P><P><P><P><P><P><P><P><P><P><P><P><P><P><P><P><P><P><P><P><P><P><P><P><P><P><P><P><P><P><P><P><P><P><P><P><P><P><P><P><P><P><P><P><P><P><P><P><P><P><P><P><P>\n",
      "\n",
      "Predicted formula: \n",
      "\n",
      "torch.Size([1, 37, 414])\n",
      "\n",
      "Original image and formula:\n"
     ]
    },
    {
     "data": {
      "image/png": "[encoded data removed]",
      "text/plain": [
       "<PIL.Image.Image image mode=L size=414x37>"
      ]
     },
     "metadata": {},
     "output_type": "display_data"
    },
    {
     "name": "stdout",
     "output_type": "stream",
     "text": [
      "<S>\\hat{a}=\\left(\\begin{matrix}{a}&{0}\\\\{0}&{I_{D-d}}\\\\\\end{matrix}\\right),\\\\\\hat{b}=\\left(\\begin{matrix}{b}&{0}\\\\{0}&{0}\\\\\\end{matrix}\\right),\\\\\\hat{c}=\\left(\\begin{matrix}{c}&{0}\\\\{0}&{0}\\\\\\end{matrix}\\right),\\\\\\hat{d}=\\left(\\begin{matrix}{d}&{0}\\\\{0}&{I_{D-d}}\\\\\\end{matrix}\\right).<E><P><P><P><P><P><P>\n",
      "\n",
      "Predicted formula: \n",
      "\n",
      "torch.Size([1, 34, 293])\n",
      "\n",
      "Original image and formula:\n"
     ]
    },
    {
     "data": {
      "image/png": "[encoded data removed]",
      "text/plain": [
       "<PIL.Image.Image image mode=L size=293x34>"
      ]
     },
     "metadata": {},
     "output_type": "display_data"
    },
    {
     "name": "stdout",
     "output_type": "stream",
     "text": [
      "<S>S_{int}=\\intd^{4}x[GV]_{D}=\\intd^{4}x(CD-v_{\\mu}A^{\\mu}-\\bar{\\lambda}\\chi),<E><P><P><P><P><P><P><P><P><P><P><P><P><P><P><P><P><P><P><P><P><P><P><P><P><P><P><P><P><P><P><P><P><P><P><P><P><P><P><P><P><P><P><P><P><P><P><P><P><P><P><P><P><P><P><P><P><P><P><P><P><P><P><P><P><P><P><P><P><P><P><P><P><P><P><P>\n",
      "\n",
      "Predicted formula: \n",
      "\n",
      "torch.Size([1, 18, 228])\n",
      "\n",
      "Original image and formula:\n"
     ]
    },
    {
     "data": {
      "image/png": "[encoded data removed]",
      "text/plain": [
       "<PIL.Image.Image image mode=L size=228x18>"
      ]
     },
     "metadata": {},
     "output_type": "display_data"
    },
    {
     "name": "stdout",
     "output_type": "stream",
     "text": [
      "<S>S(x,x^{\\prime})=\\left[\\alpha(\\mu)+\\beta(\\mu)n_{\\nu}\\Gamma^{\\nu}\\right]\\Lambda(x,x^{\\prime}),<E><P><P><P><P><P><P><P><P><P><P><P><P><P><P><P><P><P><P><P><P><P><P><P><P><P><P><P><P><P><P><P><P><P><P><P><P><P><P><P><P><P><P><P><P><P><P><P><P><P><P><P><P><P><P><P><P><P><P><P><P><P><P><P><P><P><P><P><P><P><P><P><P><P><P><P><P><P><P><P><P><P><P><P><P><P>\n",
      "\n",
      "Predicted formula: \n",
      "\n",
      "torch.Size([1, 18, 148])\n",
      "\n",
      "Original image and formula:\n"
     ]
    },
    {
     "data": {
      "image/png": "[encoded data removed]",
      "text/plain": [
       "<PIL.Image.Image image mode=L size=148x18>"
      ]
     },
     "metadata": {},
     "output_type": "display_data"
    },
    {
     "name": "stdout",
     "output_type": "stream",
     "text": [
      "<S>\\omega_{1}=q^{2}-R^{2}-2\\pi_{\\theta}\\approx0,<E><P><P><P><P><P><P><P><P><P><P><P><P><P><P><P><P><P><P><P><P><P><P><P><P><P><P><P><P><P><P><P><P><P><P><P><P><P><P><P><P><P><P><P><P><P><P><P><P><P><P><P><P><P><P><P><P><P><P><P><P><P><P><P><P><P><P><P><P><P><P><P><P><P><P><P><P><P><P><P><P><P><P><P><P><P><P><P><P><P><P><P><P><P><P><P><P><P><P><P><P><P>\n",
      "\n",
      "Predicted formula: \n",
      "\n",
      "torch.Size([1, 32, 156])\n",
      "\n",
      "Original image and formula:\n"
     ]
    },
    {
     "data": {
      "image/png": "[encoded data removed]",
      "text/plain": [
       "<PIL.Image.Image image mode=L size=156x32>"
      ]
     },
     "metadata": {},
     "output_type": "display_data"
    },
    {
     "name": "stdout",
     "output_type": "stream",
     "text": [
      "<S>\\frac{6}{16\\piG}\\partial_{\\rho}\\left(\\sqrt{\\left|{g}\\right|}\\xi_{n}^{[\\mu}{\\nabla}^{\\nu}\\xi_{m}^{\\rho]}\\right),<E><P><P><P><P><P><P><P><P><P><P><P><P><P><P><P><P><P><P><P><P><P><P><P><P><P><P><P><P><P><P><P><P><P><P><P><P><P><P><P><P><P><P><P><P><P><P><P><P><P><P><P><P><P><P><P><P><P><P><P><P><P><P><P><P><P><P><P><P><P><P><P><P><P><P><P>\n",
      "\n",
      "Predicted formula: \n",
      "\n",
      "torch.Size([1, 48, 181])\n",
      "\n",
      "Original image and formula:\n"
     ]
    },
    {
     "data": {
      "image/png": "[encoded data removed]",
      "text/plain": [
       "<PIL.Image.Image image mode=L size=181x48>"
      ]
     },
     "metadata": {},
     "output_type": "display_data"
    },
    {
     "name": "stdout",
     "output_type": "stream",
     "text": [
      "<S>\\Lambda_{\\mathrm{eff}}=\\frac{1}{\\sqrt{\\theta_{\\mu\\nu}p^{\\nu}\\theta^{\\mu\\rho}p_{\\rho}}}\\equiv\\frac{1}{\\sqrt{\\tilde{p}^{2}}}.<E><P><P><P><P><P><P><P><P><P><P><P><P><P><P><P><P><P><P><P><P><P><P><P><P><P><P><P><P><P><P><P><P><P><P><P><P><P><P><P><P><P><P><P><P><P><P><P><P><P><P><P><P><P><P><P><P><P><P><P><P><P><P><P><P><P><P><P>\n",
      "\n",
      "Predicted formula: \n",
      "\n",
      "torch.Size([1, 19, 138])\n",
      "\n",
      "Original image and formula:\n"
     ]
    },
    {
     "data": {
      "image/png": "[encoded data removed]",
      "text/plain": [
       "<PIL.Image.Image image mode=L size=138x19>"
      ]
     },
     "metadata": {},
     "output_type": "display_data"
    },
    {
     "name": "stdout",
     "output_type": "stream",
     "text": [
      "<S>\\sigma^{1}+i\\sigma^{2}=f(\\sigma^{1}+i\\sigma^{2})<E><P><P><P><P><P><P><P><P><P><P><P><P><P><P><P><P><P><P><P><P><P><P><P><P><P><P><P><P><P><P><P><P><P><P><P><P><P><P><P><P><P><P><P><P><P><P><P><P><P><P><P><P><P><P><P><P><P><P><P><P><P><P><P><P><P><P><P><P><P><P><P><P><P><P><P><P><P><P><P><P><P><P><P><P><P><P><P><P><P><P><P><P><P><P><P><P><P><P><P><P>\n",
      "\n",
      "Predicted formula: \n",
      "\n",
      "torch.Size([1, 43, 509])\n",
      "\n",
      "Original image and formula:\n"
     ]
    },
    {
     "data": {
      "image/png": "[encoded data removed]",
      "text/plain": [
       "<PIL.Image.Image image mode=L size=509x43>"
      ]
     },
     "metadata": {},
     "output_type": "display_data"
    },
    {
     "name": "stdout",
     "output_type": "stream",
     "text": [
      "<S>B=\\int_{0}^{1}\\frac{2^{n}t^{n-1}}{\\{r-x_{n+1}+t^{2}(r+x_{n+1})\\}^{n}}dt\\\\sum_{j=1}^{n}(-1)^{n-1+j-1}x_{j}dx_{1}\\wedge\\cdots\\wedge\\breve{dx_{j}}\\wedge\\cdots\\wedgedx_{n}.<E><P><P><P><P><P><P><P>\n",
      "\n",
      "Predicted formula: \n",
      "\n",
      "torch.Size([1, 47, 216])\n",
      "\n",
      "Original image and formula:\n"
     ]
    },
    {
     "data": {
      "image/png": "[encoded data removed]",
      "text/plain": [
       "<PIL.Image.Image image mode=L size=216x47>"
      ]
     },
     "metadata": {},
     "output_type": "display_data"
    },
    {
     "name": "stdout",
     "output_type": "stream",
     "text": [
      "<S>P(X)=\\frac{1}{2\\alpha^{\\prime}}\\,\\frac{a^{2}(X^{0})}{(1+\\frac{k}{4}R^{2})^{2}}\\;\\frac{\\dot{R}^{2}-R^{2}}{\\dot{X}^{0}},<E><P><P><P><P><P><P><P><P><P><P><P><P><P><P><P><P><P><P><P><P><P><P><P><P><P><P><P><P><P><P><P><P><P><P><P><P><P><P><P><P><P><P><P><P>\n",
      "\n",
      "Predicted formula: \n",
      "\n",
      "torch.Size([1, 18, 175])\n",
      "\n",
      "Original image and formula:\n"
     ]
    },
    {
     "data": {
      "image/png": "[encoded data removed]",
      "text/plain": [
       "<PIL.Image.Image image mode=L size=175x18>"
      ]
     },
     "metadata": {},
     "output_type": "display_data"
    },
    {
     "name": "stdout",
     "output_type": "stream",
     "text": [
      "<S>\\phi_{i}^{\\prime}(x)=\\phi_{i}(x)+\\delta_{\\mathrm{BRS}}[\\phi_{i}]\\Theta[\\phi]<E><P><P><P><P><P><P><P><P><P><P><P><P><P><P><P><P><P><P><P><P><P><P><P><P><P><P><P><P><P><P><P><P><P><P><P><P><P><P><P><P><P><P><P><P><P><P><P><P><P><P><P><P><P><P><P><P><P><P><P><P><P><P><P><P><P><P><P><P><P><P><P><P><P><P><P><P><P><P><P><P><P><P><P><P><P>\n",
      "\n",
      "Predicted formula: \n",
      "\n",
      "torch.Size([1, 41, 128])\n",
      "\n",
      "Original image and formula:\n"
     ]
    },
    {
     "data": {
      "image/png": "[encoded data removed]",
      "text/plain": [
       "<PIL.Image.Image image mode=L size=128x41>"
      ]
     },
     "metadata": {},
     "output_type": "display_data"
    },
    {
     "name": "stdout",
     "output_type": "stream",
     "text": [
      "<S>{\\calN}=\\intd^{4}x\\sum_{f}f\\frac{\\delta}{\\deltaf}\\,<E><P><P><P><P><P><P><P><P><P><P><P><P><P><P><P><P><P><P><P><P><P><P><P><P><P><P><P><P><P><P><P><P><P><P><P><P><P><P><P><P><P><P><P><P><P><P><P><P><P><P><P><P><P><P><P><P><P><P><P><P><P><P><P><P><P><P><P><P><P><P><P><P><P><P><P><P><P><P><P><P><P><P><P><P><P><P><P><P><P><P><P><P><P><P><P><P><P><P><P><P>\n",
      "\n",
      "Predicted formula: \n",
      "\n",
      "torch.Size([1, 19, 184])\n",
      "\n",
      "Original image and formula:\n"
     ]
    },
    {
     "data": {
      "image/png": "[encoded data removed]",
      "text/plain": [
       "<PIL.Image.Image image mode=L size=184x19>"
      ]
     },
     "metadata": {},
     "output_type": "display_data"
    },
    {
     "name": "stdout",
     "output_type": "stream",
     "text": [
      "<S>B^{\\prime\\prime}(x^{2})=4\\piGe^{2}H^{\\prime\\prime}(x^{2})B(x^{2}).<E><P><P><P><P><P><P><P><P><P><P><P><P><P><P><P><P><P><P><P><P><P><P><P><P><P><P><P><P><P><P><P><P><P><P><P><P><P><P><P><P><P><P><P><P><P><P><P><P><P><P><P><P><P><P><P><P><P><P><P><P><P><P><P><P><P><P><P><P><P><P><P><P><P><P><P><P><P><P><P><P><P><P><P><P>\n",
      "\n",
      "Predicted formula: \n",
      "\n",
      "torch.Size([1, 34, 79])\n",
      "\n",
      "Original image and formula:\n"
     ]
    },
    {
     "data": {
      "image/png": "[encoded data removed]",
      "text/plain": [
       "<PIL.Image.Image image mode=L size=79x34>"
      ]
     },
     "metadata": {},
     "output_type": "display_data"
    },
    {
     "name": "stdout",
     "output_type": "stream",
     "text": [
      "<S>z\\longrightarrow\\frac{az+b}{cz+d}<E><P><P><P><P><P><P><P><P><P><P><P><P><P><P><P><P><P><P><P><P><P><P><P><P><P><P><P><P><P><P><P><P><P><P><P><P><P><P><P><P><P><P><P><P><P><P><P><P><P><P><P><P><P><P><P><P><P><P><P><P><P><P><P><P><P><P><P><P><P><P><P><P><P><P><P><P><P><P><P><P><P><P><P><P><P><P><P><P><P><P><P><P><P><P><P><P><P><P><P><P><P><P><P><P><P><P><P><P><P><P><P><P><P>\n",
      "\n",
      "Predicted formula: \n",
      "\n",
      "torch.Size([1, 20, 142])\n",
      "\n",
      "Original image and formula:\n"
     ]
    },
    {
     "data": {
      "image/png": "[encoded data removed]",
      "text/plain": [
       "<PIL.Image.Image image mode=L size=142x20>"
      ]
     },
     "metadata": {},
     "output_type": "display_data"
    },
    {
     "name": "stdout",
     "output_type": "stream",
     "text": [
      "<S>B|_{\\partial\\Sigma_{3}}\\rightarrowB|_{\\partial\\Sigma_{3}}-\\Lambda|_{\\partial\\Sigma_{3}}.<E><P><P><P><P><P><P><P><P><P><P><P><P><P><P><P><P><P><P><P><P><P><P><P><P><P><P><P><P><P><P><P><P><P><P><P><P><P><P><P><P><P><P><P><P><P><P><P><P><P><P><P><P><P><P><P><P><P><P><P><P><P><P><P><P><P><P><P><P><P><P><P><P><P><P><P><P><P><P><P><P><P><P><P><P><P><P><P><P><P><P><P><P>\n",
      "\n",
      "Predicted formula: \n",
      "\n",
      "torch.Size([1, 34, 331])\n",
      "\n",
      "Original image and formula:\n"
     ]
    },
    {
     "data": {
      "image/png": "[encoded data removed]",
      "text/plain": [
       "<PIL.Image.Image image mode=L size=331x34>"
      ]
     },
     "metadata": {},
     "output_type": "display_data"
    },
    {
     "name": "stdout",
     "output_type": "stream",
     "text": [
      "<S>\\tilde{S}(x,x^{\\prime})=-\\epsilon(x_{0}-x_{0}^{\\prime})\\int_{\\Gamma}\\left(\\hat{{\\calP}}_{\\nu}\\tilde{\\gamma}^{\\nu}-m\\gamma^{5}\\right)f(x,x^{\\prime},s)ds\\;.<E><P><P><P><P><P><P><P><P><P><P><P><P><P><P><P><P><P><P><P><P><P><P><P><P><P><P><P><P><P><P><P><P><P><P><P><P><P><P><P><P><P><P><P><P><P><P>\n",
      "\n",
      "Predicted formula: \n",
      "\n",
      "torch.Size([1, 42, 198])\n",
      "\n",
      "Original image and formula:\n"
     ]
    },
    {
     "data": {
      "image/png": "[encoded data removed]",
      "text/plain": [
       "<PIL.Image.Image image mode=L size=198x42>"
      ]
     },
     "metadata": {},
     "output_type": "display_data"
    },
    {
     "name": "stdout",
     "output_type": "stream",
     "text": [
      "<S>t_{\\mu\\nu}(\\sigma)={\\frac{\\epsilon^{ab}}{\\sqrt{g(\\sigma)}}}\\partial_{a}x_{\\mu}(\\sigma)\\partial_{b}x_{\\nu}(\\sigma).<E><P><P><P><P><P><P><P><P><P><P><P><P><P><P><P><P><P><P><P><P><P><P><P><P><P><P><P><P><P><P><P><P><P><P><P><P><P><P><P><P><P><P><P><P><P><P><P><P><P><P><P><P><P><P><P><P><P><P><P><P><P><P><P><P><P><P><P><P><P><P><P>\n",
      "\n",
      "Predicted formula: \n",
      "\n",
      "torch.Size([1, 45, 100])\n",
      "\n",
      "Original image and formula:\n"
     ]
    },
    {
     "data": {
      "image/png": "[encoded data removed]",
      "text/plain": [
       "<PIL.Image.Image image mode=L size=100x45>"
      ]
     },
     "metadata": {},
     "output_type": "display_data"
    },
    {
     "name": "stdout",
     "output_type": "stream",
     "text": [
      "<S>\\left(\\begin{array}{c|c}{1}&{b(u)\\vec{u}^{\\mathrm{T}}}\\\\\\hline{0}&{I}\\\\\\end{array}\\right)<E><P><P><P><P><P><P><P><P><P><P><P><P><P><P><P><P><P><P><P><P><P><P><P><P><P><P><P><P><P><P><P><P><P><P><P><P><P><P><P><P><P><P><P><P><P><P><P><P><P><P><P><P><P><P><P><P><P><P><P><P><P><P><P><P><P><P><P><P><P><P><P><P><P><P><P><P><P><P><P><P><P><P><P><P><P><P><P><P>\n",
      "\n",
      "Predicted formula: \n",
      "\n",
      "torch.Size([1, 18, 467])\n",
      "\n",
      "Original image and formula:\n"
     ]
    },
    {
     "data": {
      "image/png": "[encoded data removed]",
      "text/plain": [
       "<PIL.Image.Image image mode=L size=467x18>"
      ]
     },
     "metadata": {},
     "output_type": "display_data"
    },
    {
     "name": "stdout",
     "output_type": "stream",
     "text": [
      "<S>B_{2}:~u-\\pi/2=0,~w_{0}^{\\prime}-\\pi/2\\leqv\\leqw_{0}^{\\prime\\prime}-\\pi/2;~~B_{2}^{\\prime}:~u=0,~~w_{0}^{\\prime}-\\pi/2\\leqv\\leq0<E><P><P><P><P><P><P><P><P><P><P><P><P><P><P><P><P><P><P><P><P><P><P><P><P><P><P><P><P><P><P><P><P><P><P><P><P><P><P><P><P><P><P><P><P><P>\n",
      "\n",
      "Predicted formula: \n",
      "\n",
      "torch.Size([1, 37, 192])\n",
      "\n",
      "Original image and formula:\n"
     ]
    },
    {
     "data": {
      "image/png": "[encoded data removed]",
      "text/plain": [
       "<PIL.Image.Image image mode=L size=192x37>"
      ]
     },
     "metadata": {},
     "output_type": "display_data"
    },
    {
     "name": "stdout",
     "output_type": "stream",
     "text": [
      "<S>\\hat{T}^{\\mu\\nu}=\\left(\\varrho+{\\frac{\\wp}{c^{2}}}\\right)U^{\\mu}U^{\\nu}+\\wp\\hat{g}^{\\mu\\nu},<E><P><P><P><P><P><P><P><P><P><P><P><P><P><P><P><P><P><P><P><P><P><P><P><P><P><P><P><P><P><P><P><P><P><P><P><P><P><P><P><P><P><P><P><P><P><P><P><P><P><P><P><P><P><P><P><P><P><P><P><P><P><P><P><P><P><P><P><P><P><P><P><P><P><P><P><P><P><P><P>\n",
      "\n",
      "Predicted formula: \n",
      "\n",
      "torch.Size([1, 35, 163])\n",
      "\n",
      "Original image and formula:\n"
     ]
    },
    {
     "data": {
      "image/png": "[encoded data removed]",
      "text/plain": [
       "<PIL.Image.Image image mode=L size=163x35>"
      ]
     },
     "metadata": {},
     "output_type": "display_data"
    },
    {
     "name": "stdout",
     "output_type": "stream",
     "text": [
      "<S>\\deltae^{sA}=\\int_{0}^{s}dt\\,e^{tA}\\deltaAe^{(s-t)A}\\,,<E><P><P><P><P><P><P><P><P><P><P><P><P><P><P><P><P><P><P><P><P><P><P><P><P><P><P><P><P><P><P><P><P><P><P><P><P><P><P><P><P><P><P><P><P><P><P><P><P><P><P><P><P><P><P><P><P><P><P><P><P><P><P><P><P><P><P><P><P><P><P><P><P><P><P><P><P><P><P><P><P><P><P><P><P><P><P><P><P>\n",
      "\n",
      "Predicted formula: \n",
      "\n",
      "torch.Size([1, 15, 167])\n",
      "\n",
      "Original image and formula:\n"
     ]
    },
    {
     "data": {
      "image/png": "[encoded data removed]",
      "text/plain": [
       "<PIL.Image.Image image mode=L size=167x15>"
      ]
     },
     "metadata": {},
     "output_type": "display_data"
    },
    {
     "name": "stdout",
     "output_type": "stream",
     "text": [
      "<S>N=F_{12}+F_{34},\\quadS=2F_{31}.<E><P><P><P><P><P><P><P><P><P><P><P><P><P><P><P><P><P><P><P><P><P><P><P><P><P><P><P><P><P><P><P><P><P><P><P><P><P><P><P><P><P><P><P><P><P><P><P><P><P><P><P><P><P><P><P><P><P><P><P><P><P><P><P><P><P><P><P><P><P><P><P><P><P><P><P><P><P><P><P><P><P><P><P><P><P><P><P><P><P><P><P><P><P><P><P><P><P><P><P><P><P>\n",
      "\n",
      "Predicted formula: \n",
      "\n",
      "torch.Size([1, 34, 380])\n",
      "\n",
      "Original image and formula:\n"
     ]
    },
    {
     "data": {
      "image/png": "[encoded data removed]",
      "text/plain": [
       "<PIL.Image.Image image mode=L size=380x34>"
      ]
     },
     "metadata": {},
     "output_type": "display_data"
    },
    {
     "name": "stdout",
     "output_type": "stream",
     "text": [
      "<S>S_{{\\mathrm{\\scriptsize~{gauged}}}}=\\frac12\\int_{M}d^{2}x\\left(G_{\\mu\\nu}D^{a}X^{\\mu}D_{a}X^{\\nu}+iY_{\\alpha}\\epsilon^{ab}(\\partial_{a}V_{b}^{\\alpha}-\\partial_{b}V_{a}^{\\alpha})\\right)\\,,<E><P><P><P><P><P><P><P><P><P><P><P><P><P><P><P><P><P><P><P><P>\n",
      "\n",
      "Predicted formula: \n",
      "\n",
      "torch.Size([1, 44, 199])\n",
      "\n",
      "Original image and formula:\n"
     ]
    },
    {
     "data": {
      "image/png": "[encoded data removed]",
      "text/plain": [
       "<PIL.Image.Image image mode=L size=199x44>"
      ]
     },
     "metadata": {},
     "output_type": "display_data"
    },
    {
     "name": "stdout",
     "output_type": "stream",
     "text": [
      "<S>\\vec{y}_{s}=\\sum_{\\alpha=1}^{8}\\left(u_{\\alpha}E_{s}^{(\\alpha)}\\vec{e}_{\\phi}+v_{\\alpha}E_{s}^{(\\alpha)}\\vec{e}_{\\theta}\\right)<E><P><P><P><P><P><P><P><P><P><P><P><P><P><P><P><P><P><P><P><P><P><P><P><P><P><P><P><P><P><P><P><P><P><P><P><P><P><P><P><P><P><P><P><P><P><P><P><P><P><P><P><P><P><P><P><P><P>\n",
      "\n",
      "Predicted formula: \n",
      "\n",
      "torch.Size([1, 34, 239])\n",
      "\n",
      "Original image and formula:\n"
     ]
    },
    {
     "data": {
      "image/png": "[encoded data removed]",
      "text/plain": [
       "<PIL.Image.Image image mode=L size=239x34>"
      ]
     },
     "metadata": {},
     "output_type": "display_data"
    },
    {
     "name": "stdout",
     "output_type": "stream",
     "text": [
      "<S>\\Psi_{1}=\\frac{(1+\\Gamma_{7})}{2}\\Psi_{1},~~~~~\\Psi_{2}=\\frac{(1-\\Gamma_{7})}{2}\\Psi_{2}<E><P><P><P><P><P><P><P><P><P><P><P><P><P><P><P><P><P><P><P><P><P><P><P><P><P><P><P><P><P><P><P><P><P><P><P><P><P><P><P><P><P><P><P><P><P><P><P><P><P><P><P><P><P><P><P><P><P><P><P><P><P><P><P><P><P><P><P><P><P><P>\n",
      "\n",
      "Predicted formula: \n",
      "\n",
      "torch.Size([1, 19, 294])\n",
      "\n",
      "Original image and formula:\n"
     ]
    },
    {
     "data": {
      "image/png": "[encoded data removed]",
      "text/plain": [
       "<PIL.Image.Image image mode=L size=294x19>"
      ]
     },
     "metadata": {},
     "output_type": "display_data"
    },
    {
     "name": "stdout",
     "output_type": "stream",
     "text": [
      "<S>A^{T}M_{I}=P^{T},\\;\\;\\;B^{T}M_{II}=-P^{T},\\;\\;\\;P^{T}=(\\alpha,\\beta,\\gamma),<E><P><P><P><P><P><P><P><P><P><P><P><P><P><P><P><P><P><P><P><P><P><P><P><P><P><P><P><P><P><P><P><P><P><P><P><P><P><P><P><P><P><P><P><P><P><P><P><P><P><P><P><P><P><P><P><P><P><P><P><P><P><P><P><P><P><P><P><P><P><P><P><P>\n",
      "\n",
      "Predicted formula: \n",
      "\n",
      "torch.Size([1, 20, 200])\n",
      "\n",
      "Original image and formula:\n"
     ]
    },
    {
     "data": {
      "image/png": "[encoded data removed]",
      "text/plain": [
       "<PIL.Image.Image image mode=L size=200x20>"
      ]
     },
     "metadata": {},
     "output_type": "display_data"
    },
    {
     "name": "stdout",
     "output_type": "stream",
     "text": [
      "<S>R_{12}K_{1}R_{21}dK_{2}=dK_{2}R_{12}K_{1}R_{12}^{-1},<E><P><P><P><P><P><P><P><P><P><P><P><P><P><P><P><P><P><P><P><P><P><P><P><P><P><P><P><P><P><P><P><P><P><P><P><P><P><P><P><P><P><P><P><P><P><P><P><P><P><P><P><P><P><P><P><P><P><P><P><P><P><P><P><P><P><P><P><P><P><P><P><P><P><P><P>\n",
      "\n",
      "Predicted formula: \n",
      "\n",
      "torch.Size([1, 40, 269])\n",
      "\n",
      "Original image and formula:\n"
     ]
    },
    {
     "data": {
      "image/png": "[encoded data removed]",
      "text/plain": [
       "<PIL.Image.Image image mode=L size=269x40>"
      ]
     },
     "metadata": {},
     "output_type": "display_data"
    },
    {
     "name": "stdout",
     "output_type": "stream",
     "text": [
      "<S>R_{A}^{~B}(z;g)=\\frac{\\partialx^{\\primeB}}{\\partialx^{A}}-i\\bar{\\theta}_{i}^{\\prime}\\gamma^{B}\\frac{\\partial\\theta^{\\primei}}{\\partialx^{A}}-i\\bar{\\tilde{\\theta}}{}_{\\tilde{\\imath}}^{\\prime}\\tilde{\\gamma}^{B}\\frac{\\partial\\tilde{\\theta}^{\\prime\\tilde{\\imath}}}{\\partialx^{A}}<E><P><P><P>\n",
      "\n",
      "Predicted formula: \n",
      "\n",
      "torch.Size([1, 15, 98])\n",
      "\n",
      "Original image and formula:\n"
     ]
    },
    {
     "data": {
      "image/png": "[encoded data removed]",
      "text/plain": [
       "<PIL.Image.Image image mode=L size=98x15>"
      ]
     },
     "metadata": {},
     "output_type": "display_data"
    },
    {
     "name": "stdout",
     "output_type": "stream",
     "text": [
      "<S>{\\calW}_{\\mathrm{{\\smalltree}}}=y\\Phi_{\\alpha}\\Theta_{\\alpha}~.<E><P><P><P><P><P><P><P><P><P><P><P><P><P><P><P><P><P><P><P><P><P><P><P><P><P><P><P><P><P><P><P><P><P><P><P><P><P><P><P><P><P><P><P><P><P><P><P><P><P><P><P><P><P><P><P><P><P><P><P><P><P><P><P><P><P><P><P><P><P><P><P><P><P><P><P><P><P><P><P><P><P><P><P><P><P><P><P><P><P><P><P><P><P><P><P><P><P>\n",
      "\n",
      "Predicted formula: \n",
      "\n"
     ]
    },
    {
     "ename": "IndexError",
     "evalue": "list index out of range",
     "output_type": "error",
     "traceback": [
      "\u001b[0;31m---------------------------------------------------------------------------\u001b[0m",
      "\u001b[0;31mIndexError\u001b[0m                                Traceback (most recent call last)",
      "Input \u001b[0;32mIn [19]\u001b[0m, in \u001b[0;36m<cell line: 3>\u001b[0;34m()\u001b[0m\n\u001b[1;32m      1\u001b[0m \u001b[38;5;66;03m# DISREGARD this uses wrong transformations\u001b[39;00m\n\u001b[1;32m      3\u001b[0m \u001b[38;5;28;01mfor\u001b[39;00m i \u001b[38;5;129;01min\u001b[39;00m \u001b[38;5;28mrange\u001b[39m(\u001b[38;5;241m50\u001b[39m):\n\u001b[1;32m      4\u001b[0m     \u001b[38;5;66;03m# Get image and label from train data -- change number for different ones\u001b[39;00m\n\u001b[0;32m----> 5\u001b[0m     image_tensor, label \u001b[38;5;241m=\u001b[39m \u001b[43mdata\u001b[49m\u001b[38;5;241;43m.\u001b[39;49m\u001b[43mdata_train\u001b[49m\u001b[43m[\u001b[49m\u001b[43mi\u001b[49m\u001b[43m]\u001b[49m\n\u001b[1;32m      6\u001b[0m     \u001b[38;5;28mprint\u001b[39m(image_tensor\u001b[38;5;241m.\u001b[39mshape)\n\u001b[1;32m      7\u001b[0m     transform \u001b[38;5;241m=\u001b[39m transforms\u001b[38;5;241m.\u001b[39mToPILImage()\n",
      "File \u001b[0;32m~/opt/anaconda3/lib/python3.9/site-packages/torch/utils/data/dataset.py:295\u001b[0m, in \u001b[0;36mSubset.__getitem__\u001b[0;34m(self, idx)\u001b[0m\n\u001b[1;32m    293\u001b[0m \u001b[38;5;28;01mif\u001b[39;00m \u001b[38;5;28misinstance\u001b[39m(idx, \u001b[38;5;28mlist\u001b[39m):\n\u001b[1;32m    294\u001b[0m     \u001b[38;5;28;01mreturn\u001b[39;00m \u001b[38;5;28mself\u001b[39m\u001b[38;5;241m.\u001b[39mdataset[[\u001b[38;5;28mself\u001b[39m\u001b[38;5;241m.\u001b[39mindices[i] \u001b[38;5;28;01mfor\u001b[39;00m i \u001b[38;5;129;01min\u001b[39;00m idx]]\n\u001b[0;32m--> 295\u001b[0m \u001b[38;5;28;01mreturn\u001b[39;00m \u001b[38;5;28mself\u001b[39m\u001b[38;5;241m.\u001b[39mdataset[\u001b[38;5;28;43mself\u001b[39;49m\u001b[38;5;241;43m.\u001b[39;49m\u001b[43mindices\u001b[49m\u001b[43m[\u001b[49m\u001b[43midx\u001b[49m\u001b[43m]\u001b[49m]\n",
      "\u001b[0;31mIndexError\u001b[0m: list index out of range"
     ]
    }
   ],
   "source": [
    "# DISREGARD this uses wrong transformations\n",
    "\n",
    "for i in range(50):\n",
    "    # Get image and label from train data -- change number for different ones\n",
    "    image_tensor, label = data.data_train[i]\n",
    "    print(image_tensor.shape)\n",
    "    transform = transforms.ToPILImage()\n",
    "    image = transform(image_tensor)\n",
    "    \n",
    "\n",
    "    print('\\nOriginal image and formula:')\n",
    "    display(image)\n",
    "    print(token_to_strings(label))\n",
    "    print('\\nPredicted formula: \\n')\n"
   ]
  },
  {
   "cell_type": "code",
   "execution_count": null,
   "id": "d41bd813",
   "metadata": {},
   "outputs": [],
   "source": [
    "len(data.data_train)"
   ]
  },
  {
   "cell_type": "code",
   "execution_count": null,
   "id": "b8602e1a",
   "metadata": {},
   "outputs": [],
   "source": [
    "import cv2\n",
    "import PIL\n",
    "import numpy as np\n",
    "\n",
    "my_image_path= \"Jupyter_Notebooks/test_photos/my_image.png\"\n",
    "my_image = Image.open(my_image_path).convert(\"L\") \n",
    "#my_image = PIL.ImageOps.invert(my_image)\n",
    "size = 512,128\n",
    "my_image.thumbnail(size,resample=Image.Resampling.LANCZOS)\n",
    "my_image_tensor = data.image_transform_test(image=np.array(my_image))['image'][:1]\n",
    "print(my_image_tensor.shape)\n",
    "print(display(transform(my_image_tensor)))\n",
    "print(display(my_image))\n"
   ]
  },
  {
   "cell_type": "code",
   "execution_count": null,
   "id": "d4a5883e",
   "metadata": {},
   "outputs": [],
   "source": [
    "my_image_path= \"Jupyter_Notebooks/test_photos/screenshot_1.png\"\n",
    "my_image = Image.open(my_image_path).convert(\"L\") \n",
    "print(my_image.size)\n",
    "\n",
    "my_image_tensor = data.image_transform_test(image=np.array(my_image))['image']\n",
    "print(my_image_tensor.shape)\n",
    "print(display(transform(my_image_tensor)))\n",
    "print(display(my_image))"
   ]
  },
  {
   "cell_type": "code",
   "execution_count": null,
   "id": "caba4a57",
   "metadata": {},
   "outputs": [],
   "source": [
    "import torchvision\n",
    "model =torchvision.models.resnet18(pretrained=False)"
   ]
  },
  {
   "cell_type": "code",
   "execution_count": null,
   "id": "207f04ce",
   "metadata": {},
   "outputs": [],
   "source": [
    "import torch\n",
    "has_ended = torch.full((10,), 0)"
   ]
  },
  {
   "cell_type": "code",
   "execution_count": null,
   "id": "dcf965ac",
   "metadata": {},
   "outputs": [],
   "source": [
    "has_ended"
   ]
  },
  {
   "cell_type": "code",
   "execution_count": null,
   "id": "cb2f4c6c",
   "metadata": {},
   "outputs": [],
   "source": [
    "has_ended.to(torch.bool)"
   ]
  },
  {
   "cell_type": "code",
   "execution_count": null,
   "id": "4830bc88",
   "metadata": {},
   "outputs": [],
   "source": []
  }
 ],
 "metadata": {
  "kernelspec": {
   "display_name": "Python 3 (ipykernel)",
   "language": "python",
   "name": "python3"
  },
  "language_info": {
   "codemirror_mode": {
    "name": "ipython",
    "version": 3
   },
   "file_extension": ".py",
   "mimetype": "text/x-python",
   "name": "python",
   "nbconvert_exporter": "python",
   "pygments_lexer": "ipython3",
   "version": "3.9.13"
  }
 },
 "nbformat": 4,
 "nbformat_minor": 5
}
