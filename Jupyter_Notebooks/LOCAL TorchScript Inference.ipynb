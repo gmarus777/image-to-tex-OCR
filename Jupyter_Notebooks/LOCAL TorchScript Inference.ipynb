{
 "cells": [
  {
   "cell_type": "code",
   "execution_count": 1,
   "id": "bbf971c2",
   "metadata": {},
   "outputs": [
    {
     "name": "stdout",
     "output_type": "stream",
     "text": [
      "Starting path:/Users/gregory/PROJECT_ML/PROJECT_AMINE/image-to-tex-OCR/Jupyter_Notebooks\n",
      "Current path:/Users/gregory/PROJECT_ML/PROJECT_AMINE/image-to-tex-OCR\n"
     ]
    }
   ],
   "source": [
    "# Here we take care of paths.\n",
    "\n",
    "from pathlib import Path\n",
    "import os\n",
    "print('Starting path:' + os.getcwd())\n",
    "if os.getcwd()[-16:] == 'image-to-tex-OCR':\n",
    "    pass\n",
    "else:\n",
    "    PATH = Path().resolve().parents[0]\n",
    "    os.chdir(PATH)\n",
    "\n",
    "# make sure you are in Paragraph_to_Tex folder\n",
    "print('Current path:' + os.getcwd())"
   ]
  },
  {
   "cell_type": "code",
   "execution_count": 2,
   "id": "33a95696",
   "metadata": {},
   "outputs": [],
   "source": [
    "from Data.Data_Module import Data_Module\n",
    "from Models.Printed_Tex_Transformer import ResNetTransformer\n",
    "from Lightning_Models.Printed_Tex_Lit_Model import LitResNetTransformer\n",
    "import numpy as np\n",
    "import pytorch_lightning as pl\n",
    "from pytorch_lightning import Trainer\n",
    "from PIL import Image\n",
    "import torch\n",
    "from pytorch_lightning.loggers import TensorBoardLogger\n",
    "from torchvision import transforms\n",
    "from PIL import Image\n",
    "from IPython.display import display, Math\n",
    "from Data.image_transforms import Image_Transforms\n",
    "import cv2\n",
    "import cv2\n",
    "import PIL\n",
    "import numpy as np\n",
    "transform = transforms.ToPILImage()\n",
    "\n",
    "\n",
    "dev = torch.device(\"cuda\") if torch.cuda.is_available() else torch.device(\"cpu\")\n"
   ]
  },
  {
   "cell_type": "code",
   "execution_count": 3,
   "id": "8b1d3c5c",
   "metadata": {},
   "outputs": [],
   "source": [
    "# Generate Data Module by uploading images and formulas\n",
    "# images need to be in the folder Data/Data_Bank/generated_png_images\n",
    "# formulas need to be in Data/Data_Bank/final_png_formulas.txt\n",
    "# image filenames need to be in Data/Data_Bank/corresponding_png_images.txt\n",
    "\n",
    "dataset = Data_Module(stage = 'fit',\n",
    "                 set_max_label_length = 128,\n",
    "                 number_png_images_to_use_in_dataset=250*1000,\n",
    "                 labels_transform='default',\n",
    "                image_transform_name ='alb',\n",
    "                 train_val_fraction = 0.999,\n",
    "                   vocabulary_path = 'Data/Data_Bank/230k.json',\n",
    "                load_vocabulary = True,\n",
    "                      image_padding = True,\n",
    "\n",
    "\n",
    "                 batch_size = 128,\n",
    "                num_workers = 8,\n",
    "                data_on_gpu = True,\n",
    "                )\n"
   ]
  },
  {
   "cell_type": "code",
   "execution_count": 4,
   "id": "564893de",
   "metadata": {},
   "outputs": [
    {
     "name": "stdout",
     "output_type": "stream",
     "text": [
      "Vocabulary size: 579 \n",
      "Max label length: 130 \n",
      "Start <S> goes to index  0 \n",
      "End <E> goes to index  1 \n",
      "Padding <P> goes to index  2\n"
     ]
    }
   ],
   "source": [
    "print( \n",
    "    'Vocabulary size:',len(dataset.vocabulary),\n",
    "    '\\nMax label length:', dataset.max_label_length,\n",
    "    \"\\nStart <S> goes to index \",dataset.vocabulary['<S>'],\n",
    "      \"\\nEnd <E> goes to index \",dataset.vocabulary['<E>'],\n",
    "      \"\\nPadding <P> goes to index \",dataset.vocabulary['<P>'],\n",
    ")"
   ]
  },
  {
   "cell_type": "code",
   "execution_count": 5,
   "id": "b1a2be6c",
   "metadata": {},
   "outputs": [],
   "source": [
    "# HELPER FUNCTIONS\n",
    "def token_to_strings(tokens):\n",
    "    mapping = dataset.vocabulary\n",
    "    inverse_mapping =dataset.inverse_vocabulary\n",
    "    s=''\n",
    "    if tokens.shape[0] ==1:\n",
    "        tokens = tokens[0]\n",
    "    for number in tokens:\n",
    "        letter = inverse_mapping[number.item()]\n",
    "        s= s +\" \" + str(letter)\n",
    "    return s\n",
    "def findPositions(image):\n",
    "    positions = np.nonzero(image)\n",
    "    top = positions[0].min()\n",
    "    bottom = positions[0].max()\n",
    "    left = positions[1].min()\n",
    "    right = positions[1].max()\n",
    "    image = cv2.rectangle(image, (left-2, top-2), (right+2, bottom+2), (0, 0, 0), 0)\n",
    "    return image\n",
    "\n"
   ]
  },
  {
   "cell_type": "code",
   "execution_count": 6,
   "id": "a211d6e1",
   "metadata": {},
   "outputs": [],
   "source": [
    "# Load with lightining\n",
    "#model = ResNetTransformer(dataset=dataset).to(dev)\n",
    "#lit_model = LitResNetTransformer(model=model, WandB=False)\n",
    "\n",
    "#lit_model = lit_model.load_from_checkpoint(\"Models_Parameters_Log/epoch=4-step=17280.ckpt\")\n",
    "#scripted = lit_model.to_torchscript()"
   ]
  },
  {
   "cell_type": "code",
   "execution_count": 16,
   "id": "a5c64bee",
   "metadata": {},
   "outputs": [],
   "source": [
    "# Load with pytorch epoch=4-step=17280.ckpt\n",
    "\n",
    "model = ResNetTransformer(dataset=dataset).to(dev)\n",
    "model.load_state_dict(torch.load((\"Models_Parameters_Log/Collate1.pth\"), map_location=torch.device('cpu')))\n",
    "lit_model = LitResNetTransformer(model=model, WandB=False)\n",
    "lit_model.freeze()\n",
    "scripted = lit_model.to_torchscript()\n"
   ]
  },
  {
   "cell_type": "code",
   "execution_count": 8,
   "id": "e136c5c0",
   "metadata": {},
   "outputs": [],
   "source": [
    "MAX_SIZE = 1920\n"
   ]
  },
  {
   "cell_type": "code",
   "execution_count": 17,
   "id": "d376c1dc",
   "metadata": {},
   "outputs": [
    {
     "name": "stdout",
     "output_type": "stream",
     "text": [
      "torch.Size([1, 116, 516])\n"
     ]
    },
    {
     "data": {
      "image/png": "[encoded data removed]",
      "text/plain": [
       "<PIL.Image.Image image mode=L size=516x116>"
      ]
     },
     "metadata": {},
     "output_type": "display_data"
    },
    {
     "name": "stdout",
     "output_type": "stream",
     "text": [
      "None\n",
      "\n",
      "Predicted formula:\n",
      " <S> \\tag { } { } & { } & { } & { } & { } & { } & { } & { } & { } & { } & { } & { } & { } & { } & { } & { } & { } & { } & { } & { } & { } & { } & { } & { } & { } & { } & { } & { } & { } & { } & { } & { } & { } & { } & { } \\\\ { \\bf F } { \\bf J } { \\bf J } { \\bf J } { \\bf J } }\n"
     ]
    },
    {
     "data": {
      "text/latex": [
       "$\\displaystyle  <S> \\tag { } { } & { } & { } & { } & { } & { } & { } & { } & { } & { } & { } & { } & { } & { } & { } & { } & { } & { } & { } & { } & { } & { } & { } & { } & { } & { } & { } & { } & { } & { } & { } & { } & { } & { } & { } \\\\ { \\bf F } { \\bf J } { \\bf J } { \\bf J } { \\bf J } }$"
      ],
      "text/plain": [
       "<IPython.core.display.Math object>"
      ]
     },
     "metadata": {},
     "output_type": "display_data"
    },
    {
     "name": "stdout",
     "output_type": "stream",
     "text": [
      "None\n"
     ]
    }
   ],
   "source": [
    "image_path= \"Jupyter_Notebooks/test_photos/zarhin.png\"\n",
    "image = Image.open(image_path).convert('RGB')\n",
    "image = np.asarray(image)\n",
    "h, w, c = image.shape\n",
    "\n",
    "if w>MAX_SIZE:\n",
    "    ratio = int(h / w)\n",
    "    new_w = 1920\n",
    "    new_h = new_w*ratio\n",
    "    img_resize = image.resize((w_new, h_new), Image.BILINEAR)\n",
    "\n",
    "\n",
    "    \n",
    "image_tensor = Image_Transforms.test_transform_with_padding(image=np.array(image))['image'][:1]\n",
    "print(image_tensor.shape)\n",
    "print(display(transform(image_tensor))) \n",
    "\n",
    "#prediction =  scripted_model(my_image_tensor.unsqueeze(0).to(dev))\n",
    "print('\\nPredicted formula:')\n",
    "prediction =  scripted(image_tensor.unsqueeze(0))\n",
    "print(token_to_strings(prediction))\n",
    "print(display(Math(token_to_strings(prediction))))\n"
   ]
  },
  {
   "cell_type": "code",
   "execution_count": 24,
   "id": "8c0c756d",
   "metadata": {},
   "outputs": [
    {
     "data": {
      "image/png": "[encoded data removed]",
      "text/plain": [
       "<PIL.Image.Image image mode=RGB size=658x152>"
      ]
     },
     "metadata": {},
     "output_type": "display_data"
    },
    {
     "name": "stdout",
     "output_type": "stream",
     "text": [
      "None\n",
      "torch.Size([1, 152, 658])\n"
     ]
    },
    {
     "data": {
      "image/png": "[encoded data removed]",
      "text/plain": [
       "<PIL.Image.Image image mode=L size=658x152>"
      ]
     },
     "metadata": {},
     "output_type": "display_data"
    },
    {
     "name": "stdout",
     "output_type": "stream",
     "text": [
      "None\n",
      "\n",
      "Predicted formula:\n",
      " <S> \\begin{array} { c c c c c c c c c } { \\displaystyle { \\displaystyle { \\displaystyle { \\displaystyle { \\displaystyle { \\displaystyle { \\displaystyle { \\displaystyle { \\displaystyle { \\displaystyle { \\displaystyle { \\displaystyle { \\displaystyle { \\displaystyle { \\displaystyle { \\displaystyle { \\displaystyle { \\displaystyle { \\displaystyle { \\displaystyle { { \\displaystyle { \\displaystyle { \\displaystyle { \\displaystyle { \\displaystyle { \\displaystyle { \\displaystyle { \\displaystyle { { \\displaystyle { { \\displaystyle } } } } } } } } } } & { { { \\bf { { { { \\bf { { { { \\bf { { { { { { { \\bf { { { { \\bf { { { { { { { { { { { { { { { {\n"
     ]
    },
    {
     "data": {
      "text/latex": [
       "$\\displaystyle  <S> \\begin{array} { c c c c c c c c c } { \\displaystyle { \\displaystyle { \\displaystyle { \\displaystyle { \\displaystyle { \\displaystyle { \\displaystyle { \\displaystyle { \\displaystyle { \\displaystyle { \\displaystyle { \\displaystyle { \\displaystyle { \\displaystyle { \\displaystyle { \\displaystyle { \\displaystyle { \\displaystyle { \\displaystyle { \\displaystyle { { \\displaystyle { \\displaystyle { \\displaystyle { \\displaystyle { \\displaystyle { \\displaystyle { \\displaystyle { \\displaystyle { { \\displaystyle { { \\displaystyle } } } } } } } } } } & { { { \\bf { { { { \\bf { { { { \\bf { { { { { { { \\bf { { { { \\bf { { { { { { { { { { { { { { { {$"
      ],
      "text/plain": [
       "<IPython.core.display.Math object>"
      ]
     },
     "metadata": {},
     "output_type": "display_data"
    },
    {
     "name": "stdout",
     "output_type": "stream",
     "text": [
      "None\n"
     ]
    }
   ],
   "source": [
    "image_path= \"Jupyter_Notebooks/test_photos/screenshot_1.png\"\n",
    "image = Image.open(image_path).convert('RGB')\n",
    "image = np.asarray(image)\n",
    "print(display(transform(image)))\n",
    "\n",
    "\n",
    "h, w, c = image.shape\n",
    "if w>MAX_SIZE:\n",
    "    ratio = int(h / w)\n",
    "    new_w = 1920\n",
    "    new_h = new_w*ratio\n",
    "    img_resize = image.resize((w_new, h_new), Image.BILINEAR)\n",
    "\n",
    "\n",
    "    \n",
    "image_tensor = Image_Transforms.test_transform_with_padding(image=np.array(image))['image'][:1]\n",
    "print(image_tensor.shape)\n",
    "print(display(transform(image_tensor))) \n",
    "\n",
    "#prediction =  scripted_model(my_image_tensor.unsqueeze(0).to(dev))\n",
    "print('\\nPredicted formula:')\n",
    "prediction =  scripted(image_tensor.unsqueeze(0))\n",
    "print(token_to_strings(prediction))\n",
    "print(display(Math(token_to_strings(prediction))))\n"
   ]
  },
  {
   "cell_type": "code",
   "execution_count": 30,
   "id": "b1b75916",
   "metadata": {},
   "outputs": [
    {
     "data": {
      "image/png": "[encoded data removed]",
      "text/plain": [
       "<PIL.Image.Image image mode=RGB size=57x23>"
      ]
     },
     "metadata": {},
     "output_type": "display_data"
    },
    {
     "name": "stdout",
     "output_type": "stream",
     "text": [
      "None\n",
      "torch.Size([1, 23, 57])\n"
     ]
    },
    {
     "data": {
      "image/png": "[encoded data removed]",
      "text/plain": [
       "<PIL.Image.Image image mode=L size=57x23>"
      ]
     },
     "metadata": {},
     "output_type": "display_data"
    },
    {
     "name": "stdout",
     "output_type": "stream",
     "text": [
      "None\n",
      "\n",
      "Predicted formula:\n",
      " <S> A = \\theta ^ { \\frac { 1 - 1 - \\gamma } { \\gamma } } = \\theta ^ { \\frac { 1 - \\gamma } { \\gamma } } = \\theta ^ { \\frac { 1 - \\gamma } { \\gamma } } = \\theta ^ { \\frac { 1 } { \\gamma } } { \\gamma } } B = \\theta ^ { \\frac { 1 } { \\gamma } } B = \\theta ^ { \\frac { 1 } { \\gamma } } B = \\theta ^ { \\frac { 1 } { \\gamma } } B = \\theta ^ { \\frac { 1 } { 2 } } A = \\theta ^ { \\frac { 1 } { 2 } A = A =\n"
     ]
    },
    {
     "data": {
      "text/latex": [
       "$\\displaystyle  <S> A = \\theta ^ { \\frac { 1 - 1 - \\gamma } { \\gamma } } = \\theta ^ { \\frac { 1 - \\gamma } { \\gamma } } = \\theta ^ { \\frac { 1 - \\gamma } { \\gamma } } = \\theta ^ { \\frac { 1 } { \\gamma } } { \\gamma } } B = \\theta ^ { \\frac { 1 } { \\gamma } } B = \\theta ^ { \\frac { 1 } { \\gamma } } B = \\theta ^ { \\frac { 1 } { \\gamma } } B = \\theta ^ { \\frac { 1 } { 2 } } A = \\theta ^ { \\frac { 1 } { 2 } A = A =$"
      ],
      "text/plain": [
       "<IPython.core.display.Math object>"
      ]
     },
     "metadata": {},
     "output_type": "display_data"
    },
    {
     "name": "stdout",
     "output_type": "stream",
     "text": [
      "None\n"
     ]
    }
   ],
   "source": [
    "image_path= \"Jupyter_Notebooks/test_photos/0a0ebebfb1f6ab3.png\"\n",
    "image = Image.open(image_path).convert('RGB')\n",
    "image = np.asarray(image)\n",
    "print(display(transform(image)))\n",
    "\n",
    "\n",
    "h, w, c = image.shape\n",
    "if w>MAX_SIZE:\n",
    "    ratio = int(h / w)\n",
    "    new_w = 1920\n",
    "    new_h = new_w*ratio\n",
    "    img_resize = image.resize((w_new, h_new), Image.BILINEAR)\n",
    "\n",
    "\n",
    "    \n",
    "image_tensor = Image_Transforms.test_transform_with_padding(image=np.array(image))['image'][:1]\n",
    "print(image_tensor.shape)\n",
    "print(display(transform(image_tensor))) \n",
    "\n",
    "#prediction =  scripted_model(my_image_tensor.unsqueeze(0).to(dev))\n",
    "print('\\nPredicted formula:')\n",
    "prediction =  scripted(image_tensor.unsqueeze(0))\n",
    "print(token_to_strings(prediction))\n",
    "print(display(Math(token_to_strings(prediction))))\n"
   ]
  },
  {
   "cell_type": "code",
   "execution_count": 15,
   "id": "1c04c612",
   "metadata": {},
   "outputs": [
    {
     "data": {
      "image/png": "[encoded data removed]",
      "text/plain": [
       "<PIL.Image.Image image mode=RGB size=57x23>"
      ]
     },
     "metadata": {},
     "output_type": "display_data"
    },
    {
     "name": "stdout",
     "output_type": "stream",
     "text": [
      "None\n",
      "torch.Size([1, 23, 57])\n"
     ]
    },
    {
     "data": {
      "image/png": "[encoded data removed]",
      "text/plain": [
       "<PIL.Image.Image image mode=L size=57x23>"
      ]
     },
     "metadata": {},
     "output_type": "display_data"
    },
    {
     "name": "stdout",
     "output_type": "stream",
     "text": [
      "None\n",
      "\n",
      "Predicted formula:\n",
      " <S> A = \\theta ^ { \\frac { 1 - 1 - \\gamma } { \\gamma } } = \\theta ^ { \\frac { 1 - \\gamma } { \\gamma } } = \\theta ^ { \\frac { 1 - \\gamma } { \\gamma } } = \\theta ^ { \\frac { 1 } { \\gamma } } { \\gamma } } B = \\theta ^ { \\frac { 1 } { \\gamma } } B = \\theta ^ { \\frac { 1 } { \\gamma } } B = \\theta ^ { \\frac { 1 } { \\gamma } } B = \\theta ^ { \\frac { 1 } { 2 } } A = \\theta ^ { \\frac { 1 } { 2 } A = A =\n"
     ]
    },
    {
     "data": {
      "text/latex": [
       "$\\displaystyle  <S> A = \\theta ^ { \\frac { 1 - 1 - \\gamma } { \\gamma } } = \\theta ^ { \\frac { 1 - \\gamma } { \\gamma } } = \\theta ^ { \\frac { 1 - \\gamma } { \\gamma } } = \\theta ^ { \\frac { 1 } { \\gamma } } { \\gamma } } B = \\theta ^ { \\frac { 1 } { \\gamma } } B = \\theta ^ { \\frac { 1 } { \\gamma } } B = \\theta ^ { \\frac { 1 } { \\gamma } } B = \\theta ^ { \\frac { 1 } { 2 } } A = \\theta ^ { \\frac { 1 } { 2 } A = A =$"
      ],
      "text/plain": [
       "<IPython.core.display.Math object>"
      ]
     },
     "metadata": {},
     "output_type": "display_data"
    },
    {
     "name": "stdout",
     "output_type": "stream",
     "text": [
      "None\n"
     ]
    }
   ],
   "source": [
    "image_path= \"Jupyter_Notebooks/test_photos/0a0ebebfb1f6ab3.png\"\n",
    "image = Image.open(image_path).convert('RGB')\n",
    "image = np.asarray(image)\n",
    "print(display(transform(image)))\n",
    "\n",
    "\n",
    "h, w, c = image.shape\n",
    "if w>MAX_SIZE:\n",
    "    ratio = int(h / w)\n",
    "    new_w = 1920\n",
    "    new_h = new_w*ratio\n",
    "    img_resize = image.resize((w_new, h_new), Image.BILINEAR)\n",
    "\n",
    "\n",
    "    \n",
    "image_tensor = Image_Transforms.test_transform_with_padding(image=np.array(image))['image'][:1]\n",
    "print(image_tensor.shape)\n",
    "print(display(transform(image_tensor))) \n",
    "\n",
    "#prediction =  scripted_model(my_image_tensor.unsqueeze(0).to(dev))\n",
    "print('\\nPredicted formula:')\n",
    "prediction =  scripted(image_tensor.unsqueeze(0))\n",
    "print(token_to_strings(prediction))\n",
    "print(display(Math(token_to_strings(prediction))))\n"
   ]
  },
  {
   "cell_type": "code",
   "execution_count": 13,
   "id": "7878d77a",
   "metadata": {},
   "outputs": [
    {
     "ename": "NameError",
     "evalue": "name 'MAX_RATIO' is not defined",
     "output_type": "error",
     "traceback": [
      "\u001b[0;31m---------------------------------------------------------------------------\u001b[0m",
      "\u001b[0;31mNameError\u001b[0m                                 Traceback (most recent call last)",
      "Input \u001b[0;32mIn [13]\u001b[0m, in \u001b[0;36m<cell line: 7>\u001b[0;34m()\u001b[0m\n\u001b[1;32m      5\u001b[0m \u001b[38;5;28;01mif\u001b[39;00m ratio \u001b[38;5;241m==\u001b[39m \u001b[38;5;241m0\u001b[39m:\n\u001b[1;32m      6\u001b[0m     ratio \u001b[38;5;241m=\u001b[39m \u001b[38;5;241m1\u001b[39m \n\u001b[0;32m----> 7\u001b[0m \u001b[38;5;28;01mif\u001b[39;00m ratio \u001b[38;5;241m>\u001b[39m \u001b[43mMAX_RATIO\u001b[49m:\n\u001b[1;32m      8\u001b[0m     ratio \u001b[38;5;241m=\u001b[39m MAX_RATIO\n\u001b[1;32m      9\u001b[0m h_new \u001b[38;5;241m=\u001b[39m \u001b[38;5;241m32\u001b[39m\n",
      "\u001b[0;31mNameError\u001b[0m: name 'MAX_RATIO' is not defined"
     ]
    }
   ],
   "source": [
    "image_path= \"Jupyter_Notebooks/test_photos/0a0ebebfb1f6ab3.png\"\n",
    "image = Image.open(image_path).convert('RGB')\n",
    "w, h = image.size\n",
    "ratio = round((w / h) * 3) \n",
    "if ratio == 0:\n",
    "    ratio = 1 \n",
    "if ratio > MAX_RATIO:\n",
    "    ratio = MAX_RATIO\n",
    "h_new = 32\n",
    "w_new = h_new * ratio\n",
    "img_resize = image.resize((w_new, h_new), Image.BILINEAR)\n",
    "\n",
    "# Do padding to the right half of the image so that the ratio remain fixed as self.max_ratio\n",
    "img_padd = Image.new('RGB', (32*MAX_RATIO, 32), (0,0,0))\n",
    "img_padd.paste(img_resize, (0, 0)) \n",
    "print(img_padd.size)\n",
    "print(display(img_padd))"
   ]
  },
  {
   "cell_type": "code",
   "execution_count": null,
   "id": "e58230f8",
   "metadata": {},
   "outputs": [],
   "source": [
    "image_path= \"Jupyter_Notebooks/test_photos/screenshot_1.png\"\n",
    "image = Image.open(image_path).convert('RGB')\n",
    "w, h = image.size\n",
    "ratio = round((w / h) * 3) \n",
    "if ratio == 0:\n",
    "    ratio = 1 \n",
    "if ratio > MAX_RATIO:\n",
    "    ratio = MAX_RATIO\n",
    "h_new = 32\n",
    "w_new = h_new * ratio\n",
    "img_resize = image.resize((w_new, h_new), Image.BILINEAR)\n",
    "\n",
    "# Do padding to the right half of the image so that the ratio remain fixed as self.max_ratio\n",
    "img_padd = Image.new('RGB', (32*MAX_RATIO, 32), (0,0,0))\n",
    "img_padd.paste(img_resize, (0, 0)) \n",
    "print(img_padd.size)\n",
    "print(display(img_padd))"
   ]
  },
  {
   "cell_type": "code",
   "execution_count": null,
   "id": "445b71af",
   "metadata": {},
   "outputs": [],
   "source": [
    "image_path= \"Jupyter_Notebooks/test_photos/screenshot_1.png\"\n",
    "image = Image.open(image_path).convert('RGB')\n",
    "w, h = image.size\n",
    "ratio = round((w / h) * 3) \n",
    "if ratio == 0:\n",
    "    ratio = 1 \n",
    "if ratio > MAX_RATIO:\n",
    "    ratio = MAX_RATIO\n",
    "h_new = 32\n",
    "w_new = h_new * ratio\n",
    "img_resize = image.resize((w_new, h_new), Image.BILINEAR)\n",
    "\n",
    "# Do padding to the right half of the image so that the ratio remain fixed as self.max_ratio\n",
    "img_padd = Image.new('RGB', (32*MAX_RATIO, 32), (0,0,0))\n",
    "img_padd.paste(img_resize, (0, 0)) \n",
    "print(img_padd.size)\n",
    "print(display(img_padd))"
   ]
  },
  {
   "cell_type": "code",
   "execution_count": null,
   "id": "1d30b696",
   "metadata": {},
   "outputs": [],
   "source": [
    "## ALB\n",
    "\n",
    "image_path= \"Jupyter_Notebooks/test_photos/zarhin.png\"\n",
    "\n",
    "image = Image.open(image_path).convert('RGB')\n",
    "image = np.asarray(image)\n",
    "image = cv2.bitwise_not(image)\n",
    "image = findPositions(image)\n",
    "h, w, c = image.shape\n",
    "aspect = h / w\n",
    "\n",
    "image = findPositions(image)\n",
    "\n",
    "# Thresholding\n",
    "if w > 200:\n",
    "    ret, image = cv2.threshold(image, 127, 255, cv2.THRESH_BINARY)\n",
    "\n",
    "# Downscaling big images\n",
    "new_w = 200\n",
    "new_h = int(new_w * aspect)\n",
    "if w>500:\n",
    "    image = cv2.resize(image, (new_w, new_h), interpolation=cv2.INTER_AREA)\n",
    "else:\n",
    "    image = cv2.resize(image, (new_w, new_h), interpolation=cv2.INTER_CUBIC)\n",
    "\n",
    "    \n",
    "\n",
    "image_tensor = Image_Transforms.test_transform_with_padding_xs(image=np.array(image))['image'][:1]    \n",
    "    \n",
    "    \n",
    "    \n",
    "print(display(transform(image_tensor)))\n",
    "\n",
    "\n",
    "\n",
    "#prediction =  scripted_model(my_image_tensor.unsqueeze(0).to(dev))\n",
    "print('\\nPredicted formula:')\n",
    "prediction =  scripted(image_tensor.unsqueeze(0))\n",
    "print(token_to_strings(prediction))\n",
    "print(display(Math(token_to_strings(prediction))))\n"
   ]
  },
  {
   "cell_type": "code",
   "execution_count": null,
   "id": "38e499be",
   "metadata": {},
   "outputs": [],
   "source": [
    "## ALB\n",
    "\n",
    "image_path= \"Jupyter_Notebooks/test_photos/screenshot_1.png\"\n",
    "\n",
    "image = Image.open(image_path).convert('RGB')\n",
    "image = np.asarray(image)\n",
    "image = cv2.bitwise_not(image)\n",
    "image = findPositions(image)\n",
    "h, w, c = image.shape\n",
    "\n",
    "aspect = h / w\n",
    "print(h,w, aspect)\n",
    "\n",
    "image = findPositions(image)\n",
    "\n",
    "# Thresholding\n",
    "if w > 400:\n",
    "    ret, image = cv2.threshold(image, 127, 255, cv2.THRESH_BINARY)\n",
    "\n",
    "\n",
    "# Downscaling big images\n",
    "new_w = 300\n",
    "new_h = int(new_w * aspect)\n",
    "if w>500:\n",
    "    image = cv2.resize(image, (new_w, new_h), interpolation=cv2.INTER_AREA)\n",
    "else:\n",
    "    image = cv2.resize(image, (new_w, new_h), interpolation=cv2.INTER_CUBIC)\n",
    "\n",
    "    \n",
    "\n",
    "image_tensor = Image_Transforms.test_transform_with_padding_xs(image=np.array(image))['image'][:1]    \n",
    "    \n",
    "\n",
    "print(display(transform(image_tensor)))\n",
    "\n",
    "\n",
    "\n",
    "#prediction =  scripted_model(my_image_tensor.unsqueeze(0).to(dev))\n",
    "print('\\nPredicted formula:')\n",
    "prediction =  scripted(image_tensor.unsqueeze(0))\n",
    "print(token_to_strings(prediction))\n",
    "print(display(Math(token_to_strings(prediction))))\n"
   ]
  },
  {
   "cell_type": "code",
   "execution_count": null,
   "id": "3c44c24d",
   "metadata": {},
   "outputs": [],
   "source": [
    "## ALB\n",
    "\n",
    "image_path= \"Jupyter_Notebooks/test_photos/0a0df4c4229b725.png\"\n",
    "\n",
    "image = Image.open(image_path).convert('RGB')\n",
    "image = np.asarray(image)\n",
    "image = cv2.bitwise_not(image)\n",
    "image = findPositions(image)\n",
    "h, w, c = image.shape\n",
    "aspect = h / w\n",
    "\n",
    "image = findPositions(image)\n",
    "\n",
    "# Thresholding\n",
    "if w > 400:\n",
    "    ret, image = cv2.threshold(image, 127, 255, cv2.THRESH_BINARY)\n",
    "\n",
    "\n",
    "# Downscaling big images\n",
    "new_w = 400\n",
    "new_h = int(new_w * aspect)\n",
    "if w>500:\n",
    "    image = cv2.resize(image, (new_w, new_h), interpolation=cv2.INTER_AREA)\n",
    "else:\n",
    "    image = cv2.resize(image, (new_w, new_h), interpolation=cv2.INTER_CUBIC)\n",
    "\n",
    "    \n",
    "\n",
    "image_tensor = Image_Transforms.test_transform_with_padding_xs(image=np.array(image))['image'][:1]    \n",
    "    \n",
    "    \n",
    "print(display(transform(image_tensor)))\n",
    "\n",
    "\n",
    "\n",
    "#prediction =  scripted_model(my_image_tensor.unsqueeze(0).to(dev))\n",
    "print('\\nPredicted formula:')\n",
    "prediction =  scripted(image_tensor.unsqueeze(0))\n",
    "print(token_to_strings(prediction))\n",
    "print(display(Math(token_to_strings(prediction))))"
   ]
  },
  {
   "cell_type": "code",
   "execution_count": null,
   "id": "b4585246",
   "metadata": {},
   "outputs": [],
   "source": [
    "## ALB\n",
    "\n",
    "image_path= \"Jupyter_Notebooks/test_photos/0a0ebebfb1f6ab3.png\"\n",
    "\n",
    "image = Image.open(image_path).convert('RGB')\n",
    "image = np.asarray(image)\n",
    "image = cv2.bitwise_not(image)\n",
    "image = findPositions(image)\n",
    "h, w, c = image.shape\n",
    "aspect = h / w\n",
    "\n",
    "image = findPositions(image)\n",
    "\n",
    "\n",
    "# Downscaling big images\n",
    "new_w = 100\n",
    "new_h = int(new_w * aspect)\n",
    "if w>500:\n",
    "    image = cv2.resize(image, (new_w, new_h), interpolation=cv2.INTER_AREA)\n",
    "else:\n",
    "    image = cv2.resize(image, (new_w, new_h), interpolation=cv2.INTER_CUBIC)\n",
    "\n",
    "    \n",
    "\n",
    "image_tensor = Image_Transforms.test_transform_with_padding_xs(image=np.array(image))['image'][:1]    \n",
    "    \n",
    "    \n",
    "print(display(transform(image_tensor)))\n",
    "\n",
    "\n",
    "\n",
    "#prediction =  scripted_model(my_image_tensor.unsqueeze(0).to(dev))\n",
    "print('\\nPredicted formula:')\n",
    "prediction =  scripted(image_tensor.unsqueeze(0))\n",
    "print(token_to_strings(prediction))\n",
    "print(display(Math(token_to_strings(prediction))))"
   ]
  },
  {
   "cell_type": "code",
   "execution_count": null,
   "id": "90afab9b",
   "metadata": {},
   "outputs": [],
   "source": [
    "## ALB\n",
    "\n",
    "image_path= \"Jupyter_Notebooks/test_photos/0a0ebebfb1f6ab3.png\"\n",
    "\n",
    "image = Image.open(image_path).convert('RGB')\n",
    "image = np.asarray(image)\n",
    "image = cv2.bitwise_not(image)\n",
    "image = findPositions(image)\n",
    "h, w, c = image.shape\n",
    "aspect = h / w\n",
    "\n",
    "image = findPositions(image)\n",
    "\n",
    "# Thresholding\n",
    "if w > 400:\n",
    "    ret, image = cv2.threshold(image, 127, 255, cv2.THRESH_BINARY)\n",
    "\n",
    "# Downscaling big images\n",
    "if w > 600:\n",
    "    new_w = 600\n",
    "    new_h = int(new_w * aspect)\n",
    "    image = cv2.resize(image, (new_w, new_h), interpolation=cv2.INTER_AREA)\n",
    "\n",
    "\n",
    "if w<200:\n",
    "    image_tensor = Image_Transforms.test_transform_with_padding_xss(image=np.array(image))['image'][:1]\n",
    "elif w < 350:\n",
    "    image_tensor = Image_Transforms.test_transform_with_padding_small(image=np.array(image))['image'][:1]\n",
    "elif w<600:\n",
    "    image_tensor = Image_Transforms.test_transform_with_padding(image=np.array(image))['image'][:1]\n",
    "else:\n",
    "    image_tensor = Image_Transforms.test_transform_with_padding_xl(image=np.array(image))['image'][:1]\n",
    "    \n",
    "\n",
    "    \n",
    "print(display(transform(image_tensor)))\n",
    "\n",
    "\n",
    "\n",
    "#prediction =  scripted_model(my_image_tensor.unsqueeze(0).to(dev))\n",
    "print('\\nPredicted formula:')\n",
    "prediction =  scripted(image_tensor.unsqueeze(0))\n",
    "print(token_to_strings(prediction))\n",
    "print(display(Math(token_to_strings(prediction))))"
   ]
  },
  {
   "cell_type": "code",
   "execution_count": null,
   "id": "67f2e46d",
   "metadata": {},
   "outputs": [],
   "source": [
    "## ALB\n",
    "\n",
    "image_path= \"Jupyter_Notebooks/test_photos/screenshot_3.png\"\n",
    "\n",
    "image = Image.open(image_path).convert('RGB')\n",
    "image = np.asarray(image)\n",
    "image = cv2.bitwise_not(image)\n",
    "image = findPositions(image)\n",
    "h, w, c = image.shape\n",
    "aspect = h / w\n",
    "\n",
    "image = findPositions(image)\n",
    "\n",
    "# Thresholding\n",
    "if w > 400:\n",
    "    ret, image = cv2.threshold(image, 127, 255, cv2.THRESH_BINARY)\n",
    "\n",
    "\n",
    "# Downscaling big images\n",
    "new_w = 500\n",
    "new_h = int(new_w * aspect)\n",
    "if w>500:\n",
    "    image = cv2.resize(image, (new_w, new_h), interpolation=cv2.INTER_AREA)\n",
    "else:\n",
    "    image = cv2.resize(image, (new_w, new_h), interpolation=cv2.INTER_CUBIC)\n",
    "\n",
    "    \n",
    "\n",
    "image_tensor = Image_Transforms.test_transform_with_padding_xs(image=np.array(image))['image'][:1]    \n",
    "       \n",
    "\n",
    "print(display(transform(image_tensor)))\n",
    "\n",
    "\n",
    "\n",
    "#prediction =  scripted_model(my_image_tensor.unsqueeze(0).to(dev))\n",
    "print('\\nPredicted formula:')\n",
    "prediction =  scripted(image_tensor.unsqueeze(0))\n",
    "print(token_to_strings(prediction))\n",
    "print(display(Math(token_to_strings(prediction))))"
   ]
  },
  {
   "cell_type": "code",
   "execution_count": null,
   "id": "74d508b1",
   "metadata": {},
   "outputs": [],
   "source": [
    "## ALB\n",
    "\n",
    "image_path= \"Jupyter_Notebooks/test_photos/Screen Shot_14.png\"\n",
    "\n",
    "image = Image.open(image_path).convert('RGB')\n",
    "image = np.asarray(image)\n",
    "image = cv2.bitwise_not(image)\n",
    "image = findPositions(image)\n",
    "h, w, c = image.shape\n",
    "aspect = h / w\n",
    "\n",
    "image = findPositions(image)\n",
    "\n",
    "# Thresholding\n",
    "if w > 400:\n",
    "    ret, image = cv2.threshold(image, 127, 255, cv2.THRESH_BINARY)\n",
    "\n",
    "\n",
    "# Downscaling big images\n",
    "new_w = 500\n",
    "new_h = int(new_w * aspect)\n",
    "if w>500:\n",
    "    image = cv2.resize(image, (new_w, new_h), interpolation=cv2.INTER_AREA)\n",
    "else:\n",
    "    image = cv2.resize(image, (new_w, new_h), interpolation=cv2.INTER_CUBIC)\n",
    "\n",
    "    \n",
    "\n",
    "image_tensor = Image_Transforms.test_transform_with_padding_xs(image=np.array(image))['image'][:1]    \n",
    "    \n",
    "#image_tensor = Image_Transforms.test_transform_with_padding_medium(image=np.array(image))['image'][:1]    \n",
    "\n",
    "print(display(transform(image_tensor)))\n",
    "\n",
    "\n",
    "\n",
    "#prediction =  scripted_model(my_image_tensor.unsqueeze(0).to(dev))\n",
    "print('\\nPredicted formula:')\n",
    "prediction =  scripted(image_tensor.unsqueeze(0))\n",
    "print(token_to_strings(prediction))\n",
    "print(display(Math(token_to_strings(prediction))))"
   ]
  },
  {
   "cell_type": "code",
   "execution_count": null,
   "id": "3399e553",
   "metadata": {},
   "outputs": [],
   "source": [
    "## ALB\n",
    "\n",
    "image_path= \"Jupyter_Notebooks/test_photos/Screen Shot_13.png\"\n",
    "\n",
    "image = Image.open(image_path).convert('RGB')\n",
    "image = np.asarray(image)\n",
    "image = cv2.bitwise_not(image)\n",
    "image = findPositions(image)\n",
    "h, w, c = image.shape\n",
    "aspect = h / w\n",
    "\n",
    "image = findPositions(image)\n",
    "\n",
    "# Thresholding\n",
    "if w > 400:\n",
    "    ret, image = cv2.threshold(image, 127, 255, cv2.THRESH_BINARY)\n",
    "\n",
    "# Downscaling big images\n",
    "if w > 600:\n",
    "    new_w = 600\n",
    "    new_h = int(new_w * aspect)\n",
    "    image = cv2.resize(image, (new_w, new_h), interpolation=cv2.INTER_AREA)\n",
    "\n",
    "\n",
    "if w<200:\n",
    "    image_tensor = Image_Transforms.test_transform_with_padding_xs(image=np.array(image))['image'][:1]\n",
    "elif w < 350:\n",
    "    image_tensor = Image_Transforms.test_transform_with_padding_small(image=np.array(image))['image'][:1]\n",
    "elif w<600:\n",
    "    image_tensor = Image_Transforms.test_transform_with_padding(image=np.array(image))['image'][:1]\n",
    "else:\n",
    "    image_tensor = Image_Transforms.test_transform_with_padding_xl(image=np.array(image))['image'][:1]\n",
    "    \n",
    "    \n",
    "    \n",
    "print(display(transform(image_tensor)))\n",
    "\n",
    "\n",
    "\n",
    "#prediction =  scripted_model(my_image_tensor.unsqueeze(0).to(dev))\n",
    "print('\\nPredicted formula:')\n",
    "prediction =  scripted(image_tensor.unsqueeze(0))\n",
    "print(token_to_strings(prediction))\n",
    "print(display(Math(token_to_strings(prediction))))"
   ]
  },
  {
   "cell_type": "code",
   "execution_count": null,
   "id": "94f10c9e",
   "metadata": {},
   "outputs": [],
   "source": [
    "## ALB\n",
    "\n",
    "image_path= \"Jupyter_Notebooks/test_photos/Screen Shot_10.png\"\n",
    "\n",
    "image = Image.open(image_path).convert('RGB')\n",
    "image = np.asarray(image)\n",
    "image = cv2.bitwise_not(image)\n",
    "image = findPositions(image)\n",
    "h, w, c = image.shape\n",
    "aspect = h / w\n",
    "\n",
    "image = findPositions(image)\n",
    "\n",
    "# Thresholding\n",
    "if w > 400:\n",
    "    ret, image = cv2.threshold(image, 127, 255, cv2.THRESH_BINARY)\n",
    "\n",
    "# Downscaling big images\n",
    "if w > 600:\n",
    "    new_w = 600\n",
    "    new_h = int(new_w * aspect)\n",
    "    image = cv2.resize(image, (new_w, new_h), interpolation=cv2.INTER_AREA)\n",
    "\n",
    "\n",
    "if w<200:\n",
    "    image_tensor = Image_Transforms.test_transform_with_padding_xs(image=np.array(image))['image'][:1]\n",
    "elif w < 350:\n",
    "    image_tensor = Image_Transforms.test_transform_with_padding_small(image=np.array(image))['image'][:1]\n",
    "elif w<600:\n",
    "    image_tensor = Image_Transforms.test_transform_with_padding(image=np.array(image))['image'][:1]\n",
    "else:\n",
    "    image_tensor = Image_Transforms.test_transform_with_padding_xl(image=np.array(image))['image'][:1]\n",
    "    \n",
    "    \n",
    "    \n",
    "print(display(transform(image_tensor)))\n",
    "\n",
    "\n",
    "\n",
    "#prediction =  scripted_model(my_image_tensor.unsqueeze(0).to(dev))\n",
    "print('\\nPredicted formula:')\n",
    "prediction =  scripted(image_tensor.unsqueeze(0))\n",
    "print(token_to_strings(prediction))\n",
    "print(display(Math(token_to_strings(prediction))))"
   ]
  },
  {
   "cell_type": "code",
   "execution_count": null,
   "id": "f1de74d7",
   "metadata": {},
   "outputs": [],
   "source": [
    "\n",
    "image_path= \"Jupyter_Notebooks/test_photos/Screen Shot_10.png\"\n",
    "image = Image.open(image_path).convert('RGB')\n",
    "image = np.asarray(image)\n",
    "\n",
    "positions = np.nonzero(image)\n",
    "top = positions[0].min()\n",
    "bottom = positions[0].max()\n",
    "left = positions[1].min()\n",
    "right = positions[1].max()\n",
    "image = cv2.rectangle(image, (left - 2, top - 2), (right + 2, bottom + 2), (0, 0, 0), 0)\n",
    "\n",
    "h, w, c = image.shape\n",
    "ratio = (w / h)\n",
    "if ratio == 0:\n",
    "    ratio = 1 \n",
    "if ratio > MAX_RATIO:\n",
    "    ratio = MAX_RATIO\n",
    "\n",
    "new_h = 64\n",
    "new_w = int(new_h * ratio)\n",
    "if h >64:\n",
    "    image = cv2.resize(image, (new_w, new_h), interpolation=cv2.INTER_AREA)\n",
    "else:\n",
    "    image = cv2.resize(image, (new_w, new_h), interpolation=cv2.INTER_CUBIC)\n",
    "\n",
    "    \n",
    "image_tensor = Image_Transforms.train_transform_with_padding(image=np.array(image))['image'][:1]\n",
    "print(image_tensor.shape)\n",
    "print(display(transform(image_tensor)))    \n"
   ]
  },
  {
   "cell_type": "code",
   "execution_count": null,
   "id": "b1c03662",
   "metadata": {},
   "outputs": [],
   "source": [
    "\n",
    "image_path= \"Jupyter_Notebooks/test_photos/Screen Shot_13.png\"\n",
    "image = Image.open(image_path).convert('RGB')\n",
    "image = np.asarray(image)\n",
    "\n",
    "positions = np.nonzero(image)\n",
    "top = positions[0].min()\n",
    "bottom = positions[0].max()\n",
    "left = positions[1].min()\n",
    "right = positions[1].max()\n",
    "image = cv2.rectangle(image, (left - 2, top - 2), (right + 2, bottom + 2), (0, 0, 0), 0)\n",
    "\n",
    "h, w, c = image.shape\n",
    "ratio =(w / h)\n",
    "if ratio == 0:\n",
    "    ratio = 1 \n",
    "if ratio > MAX_RATIO:\n",
    "    ratio = MAX_RATIO\n",
    "\n",
    "\n",
    "new_h = 64\n",
    "new_w = int(new_h * ratio)\n",
    "if h >64:\n",
    "    image = cv2.resize(image, (new_w, new_h), interpolation=cv2.INTER_AREA)\n",
    "else:\n",
    "    image = cv2.resize(image, (new_w, new_h), interpolation=cv2.INTER_CUBIC)\n",
    "\n",
    "\n",
    "    \n",
    "image_tensor = Image_Transforms.train_transform_with_padding(image=np.array(image))['image'][:1]\n",
    "print(image_tensor.shape)\n",
    "print(display(transform(image_tensor))) "
   ]
  },
  {
   "cell_type": "code",
   "execution_count": null,
   "id": "ff9c166c",
   "metadata": {},
   "outputs": [],
   "source": []
  }
 ],
 "metadata": {
  "kernelspec": {
   "display_name": "Python 3 (ipykernel)",
   "language": "python",
   "name": "python3"
  },
  "language_info": {
   "codemirror_mode": {
    "name": "ipython",
    "version": 3
   },
   "file_extension": ".py",
   "mimetype": "text/x-python",
   "name": "python",
   "nbconvert_exporter": "python",
   "pygments_lexer": "ipython3",
   "version": "3.9.13"
  }
 },
 "nbformat": 4,
 "nbformat_minor": 5
}
