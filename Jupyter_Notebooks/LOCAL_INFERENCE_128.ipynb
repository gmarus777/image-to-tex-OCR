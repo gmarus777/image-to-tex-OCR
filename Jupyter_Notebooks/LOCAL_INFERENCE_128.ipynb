{
 "cells": [
  {
   "cell_type": "code",
   "execution_count": 1,
   "id": "ab103ca4",
   "metadata": {},
   "outputs": [
    {
     "name": "stdout",
     "output_type": "stream",
     "text": [
      "Starting path:/Users/gregory/PROJECT_ML/PROJECT_AMINE/image-to-tex-OCR/Jupyter_Notebooks\n",
      "Current path:/Users/gregory/PROJECT_ML/PROJECT_AMINE/image-to-tex-OCR\n"
     ]
    }
   ],
   "source": [
    "# Here we take care of paths.\n",
    "\n",
    "from pathlib import Path\n",
    "import os\n",
    "print('Starting path:' + os.getcwd())\n",
    "if os.getcwd()[-16:] == 'image-to-tex-OCR':\n",
    "    pass\n",
    "else:\n",
    "    PATH = Path().resolve().parents[0]\n",
    "    os.chdir(PATH)\n",
    "\n",
    "# make sure you are in Paragraph_to_Tex folder\n",
    "print('Current path:' + os.getcwd())"
   ]
  },
  {
   "cell_type": "code",
   "execution_count": 2,
   "id": "f790496c",
   "metadata": {},
   "outputs": [],
   "source": [
    "from Data.Data_Module import Data_Module\n",
    "from Models.Printed_Tex_Transformer import ResNetTransformer\n",
    "from Lightning_Models.Printed_Tex_Lit_Model import LitResNetTransformer\n",
    "import numpy as np\n",
    "import pytorch_lightning as pl\n",
    "from pytorch_lightning import Trainer\n",
    "from PIL import Image\n",
    "import torch\n",
    "from pytorch_lightning.loggers import TensorBoardLogger\n",
    "from torchvision import transforms\n",
    "from PIL import Image\n",
    "from IPython.display import display, Math\n",
    "from Data.image_transforms import Image_Transforms\n",
    "import cv2\n",
    "import cv2\n",
    "import PIL\n",
    "import numpy as np\n",
    "transform = transforms.ToPILImage()\n",
    "\n",
    "\n",
    "\n",
    "dev = torch.device(\"cuda\") if torch.cuda.is_available() else torch.device(\"cpu\")\n"
   ]
  },
  {
   "cell_type": "code",
   "execution_count": 3,
   "id": "eb164e5e",
   "metadata": {},
   "outputs": [],
   "source": [
    "# Generate Data Module by uploading images and formulas\n",
    "# images need to be in the folder Data/Data_Bank/generated_png_images\n",
    "# formulas need to be in Data/Data_Bank/final_png_formulas.txt\n",
    "# image filenames need to be in Data/Data_Bank/corresponding_png_images.txt\n",
    "\n",
    "dataset = Data_Module(stage = 'fit',\n",
    "                 set_max_label_length = 128,\n",
    "                 number_png_images_to_use_in_dataset=250*1000,\n",
    "                 labels_transform='default',\n",
    "                image_transform_name ='alb',\n",
    "                 train_val_fraction = 0.999,\n",
    "                   vocabulary_path = 'Tokenizer/230k_ver2.json',\n",
    "                load_vocabulary = True,\n",
    "                      image_padding = True,\n",
    "                      max_width = 10*1000,\n",
    "\n",
    "\n",
    "                 batch_size = 128,\n",
    "                num_workers = 8,\n",
    "                data_on_gpu = True,\n",
    "                )"
   ]
  },
  {
   "cell_type": "code",
   "execution_count": 4,
   "id": "e7b8e150",
   "metadata": {},
   "outputs": [
    {
     "name": "stdout",
     "output_type": "stream",
     "text": [
      "Vocabulary size: 581 \n",
      "Max label length: 130 \n",
      "Start <S> goes to index  0 \n",
      "End <E> goes to index  1 \n",
      "Padding <P> goes to index  2\n"
     ]
    }
   ],
   "source": [
    "print( \n",
    "    'Vocabulary size:',len(dataset.vocabulary),\n",
    "    '\\nMax label length:', dataset.max_label_length,\n",
    "    \"\\nStart <S> goes to index \",dataset.vocabulary['<S>'],\n",
    "      \"\\nEnd <E> goes to index \",dataset.vocabulary['<E>'],\n",
    "      \"\\nPadding <P> goes to index \",dataset.vocabulary['<P>'],\n",
    ")"
   ]
  },
  {
   "cell_type": "code",
   "execution_count": 5,
   "id": "cc244f06",
   "metadata": {},
   "outputs": [],
   "source": [
    "\n",
    "\n",
    "# HELPER FUNCTIONS\n",
    "def token_to_strings(tokens):\n",
    "    mapping = dataset.vocabulary\n",
    "    inverse_mapping =dataset.inverse_vocabulary\n",
    "    s=''\n",
    "    if tokens.shape[0] ==1:\n",
    "        tokens = tokens[0]\n",
    "    for number in tokens:\n",
    "        letter = inverse_mapping[number.item()]\n",
    "        s= s +\" \" + str(letter)\n",
    "    return s"
   ]
  },
  {
   "cell_type": "code",
   "execution_count": 6,
   "id": "08ee0dca",
   "metadata": {},
   "outputs": [
    {
     "name": "stderr",
     "output_type": "stream",
     "text": [
      "/Users/gregory/opt/anaconda3/lib/python3.9/site-packages/torchvision/models/_utils.py:208: UserWarning: The parameter 'pretrained' is deprecated since 0.13 and may be removed in the future, please use 'weights' instead.\n",
      "  warnings.warn(\n",
      "/Users/gregory/opt/anaconda3/lib/python3.9/site-packages/torchvision/models/_utils.py:223: UserWarning: Arguments other than a weight enum or `None` for 'weights' are deprecated since 0.13 and may be removed in the future. The current behavior is equivalent to passing `weights=None`.\n",
      "  warnings.warn(msg)\n",
      "/Users/gregory/opt/anaconda3/lib/python3.9/site-packages/torch/jit/_recursive.py:262: UserWarning: 'batch_first' was found in ScriptModule constants, but was not actually set in __init__. Consider removing it.\n",
      "  warnings.warn(\"'{}' was found in ScriptModule constants, \"\n"
     ]
    }
   ],
   "source": [
    "model = ResNetTransformer(dataset=dataset).to(dev)\n",
    "model.load_state_dict(torch.load((\"Models_Parameters_Log/Ver1_64Height_10ratio_resnet18_3layers.pth\"), map_location=torch.device('cpu')))\n",
    "lit_model = LitResNetTransformer(model=model, WandB=False)\n",
    "lit_model.eval()\n",
    "lit_model.freeze()\n",
    "scripted_save = lit_model.to_torchscript()\n",
    "torch.jit.save(scripted_save, \"Models_Parameters_Log/scripted_model1.pt\")\n"
   ]
  },
  {
   "cell_type": "code",
   "execution_count": 7,
   "id": "c5eb4907",
   "metadata": {},
   "outputs": [],
   "source": [
    "scripted = torch.jit.load(\"Models_Parameters_Log/scripted_model1.pt\")"
   ]
  },
  {
   "cell_type": "code",
   "execution_count": 8,
   "id": "d9f986d1",
   "metadata": {},
   "outputs": [],
   "source": [
    "import albumentations\n",
    "from albumentations.augmentations.geometric.resize import Resize\n",
    "import torch.nn.functional as F\n",
    "\n",
    "MAX_RATIO = 10\n",
    "GOAL_HEIGHT = 64\n",
    "\n",
    "def find_ratio(h, w, goal):\n",
    "    return goal/h\n",
    "    \n",
    "\n",
    "def predict_new(image_path):\n",
    "    MAX_RATIO = 12\n",
    "    image = Image.open(image_path).convert('RGB')\n",
    "    image = np.asarray(image)\n",
    "    h, w, c = image.shape\n",
    "    ascpect = w/h\n",
    "    if ascpect == 0:\n",
    "        ascpect = 1 \n",
    "    if ascpect > MAX_RATIO:\n",
    "        ascpect = MAX_RATIO\n",
    "    \n",
    "    downscale = GOAL_HEIGHT/h\n",
    "    image = cv2.resize(image, (0,0), fx=downscale, fy=downscale,interpolation=cv2.INTER_LINEAR)\n",
    "   \n",
    "    print(image.shape)\n",
    "\n",
    "\n",
    "    \n",
    "    image_tensor = Image_Transforms.test_transform_with_padding(image =np.array(image))['image'][:1]\n",
    "    print(display(transform(image_tensor)))\n",
    "    print(image_tensor.shape)\n",
    "    print('\\nPredicted formula:')\n",
    "    prediction =  scripted(image_tensor.unsqueeze(0))\n",
    "    print(token_to_strings(prediction))\n",
    "    print(display(Math(token_to_strings(prediction))))\n",
    "\n",
    "def predict(image_path):\n",
    "   \n",
    "    image = Image.open(image_path).convert('RGB')\n",
    "    image = np.asarray(image)\n",
    "    h, w, c = image.shape\n",
    "    ratio =w / h\n",
    "    if ratio == 0:\n",
    "        ratio = 1 \n",
    "    if ratio > MAX_RATIO:\n",
    "        ratio = MAX_RATIO\n",
    "        \n",
    "    new_h = GOAL_HEIGHT\n",
    "    new_w = int(new_h * ratio)\n",
    "    image = Resize(interpolation= cv2.INTER_LINEAR,height=new_h, width= new_w, always_apply=True)(image=image)['image']\n",
    "    print(image.shape)\n",
    "\n",
    "\n",
    "    \n",
    "    image_tensor = Image_Transforms.test_transform_with_padding(image =np.array(image))['image'][:1]\n",
    "    print(display(transform(image_tensor)))\n",
    "    \n",
    "    print(image_tensor.shape)\n",
    "    print('\\nPredicted formula:')\n",
    "    prediction =  scripted(image_tensor.unsqueeze(0))\n",
    "    print(token_to_strings(prediction))\n",
    "    print(display(Math(token_to_strings(prediction))))\n",
    "\n",
    "# HELPER FUNCTIONS\n",
    "def token_to_strings(tokens):\n",
    "    mapping = dataset.vocabulary\n",
    "    inverse_mapping =dataset.inverse_vocabulary\n",
    "    s=''\n",
    "    if tokens.shape[0] ==1:\n",
    "        tokens = tokens[0]\n",
    "    for number in tokens:\n",
    "        letter = inverse_mapping[number.item()]\n",
    "        s= s +\" \" + str(letter)\n",
    "    return s\n",
    "    "
   ]
  },
  {
   "cell_type": "code",
   "execution_count": 16,
   "id": "4c2626b3",
   "metadata": {},
   "outputs": [],
   "source": [
    "IMAGES= ['Jupyter_Notebooks/test_photos/79a37d9d8b727e9.png',\n",
    "         \"Jupyter_Notebooks/test_photos/0a0df4c4229b725.png\",\n",
    "         \"Jupyter_Notebooks/test_photos/zarhin.png\",\n",
    "         \"Jupyter_Notebooks/test_photos/my_image.png\",\n",
    "         \"Jupyter_Notebooks/test_photos/screenshot_1.png\",\n",
    "         \"Jupyter_Notebooks/test_photos/screenshot_3.png\",\n",
    "         \"Jupyter_Notebooks/test_photos/Screen Shot_14.png\",\n",
    "         \"Jupyter_Notebooks/test_photos/Screen Shot_10.png\",\n",
    "         \"Jupyter_Notebooks/test_photos/Screen Shot_13.png\",\n",
    "          \"Jupyter_Notebooks/test_photos/Screen Shot_11.png\",\n",
    "         \"Jupyter_Notebooks/test_photos/screenshot_2.png\",\n",
    "         \"Jupyter_Notebooks/test_photos/Screen Shot_18.png\",\n",
    "        'Jupyter_Notebooks/test_photos/128.png',\n",
    "         'Jupyter_Notebooks/test_photos/128_2.png',\n",
    "         'Jupyter_Notebooks/test_photos/image_3.png',\n",
    "         'Jupyter_Notebooks/test_photos/Screen Shot_15.png',\n",
    "         'Jupyter_Notebooks/test_photos/Screen Shot_11.png',\n",
    "         'Jupyter_Notebooks/test_photos/Screen Shot_16.png',\n",
    "         'Jupyter_Notebooks/test_photos/Screen Shot_17.png',\n",
    "         'Jupyter_Notebooks/test_photos/screenshot_2.png',\n",
    "         \n",
    "         \n",
    "    \n",
    "\n",
    "]"
   ]
  },
  {
   "cell_type": "code",
   "execution_count": 17,
   "id": "19aba2ba",
   "metadata": {
    "scrolled": false
   },
   "outputs": [
    {
     "name": "stdout",
     "output_type": "stream",
     "text": [
      "(64, 640, 3)\n"
     ]
    },
    {
     "data": {
      "image/png": "[encoded data removed]",
      "text/plain": [
       "<PIL.Image.Image image mode=L size=640x64>"
      ]
     },
     "metadata": {},
     "output_type": "display_data"
    },
    {
     "name": "stdout",
     "output_type": "stream",
     "text": [
      "None\n",
      "torch.Size([1, 64, 640])\n",
      "\n",
      "Predicted formula:\n",
      " <S> \\psi \\rangle \\equiv ^ { w } \\psi _ { 0 } \\qquad \\psi _ { 0 } \\equiv \\stackrel { w } { w } \\partial _ { 0 } \\qquad \\psi | 0 | \\qquad \\delta \\rangle = W | 0 | 0 | \\qquad \\delta | 0 | 0 | \\qquad \\delta | 0 | 0 | \\qquad \\delta | 0 | 0 | \\qquad \\quad \\quad \\quad \\quad \\quad \\delta \\rangle <E> <P> <P> <P> <P> <P> <P> <P> <P> <P> <P> <P> <P> <P> <P> <P> <P> <P> <P> <P> <P> <P> <P> <P> <P> <P> <P> <P> <P> <P> <P> <P> <P> <P> <P> <P> <P> <P> <P> <P> <P> <P> <P> <P> <P> <P> <P> <P> <P> <P> <P> <P> <P> <P>\n"
     ]
    },
    {
     "data": {
      "text/latex": [
       "$\\displaystyle  <S> \\psi \\rangle \\equiv ^ { w } \\psi _ { 0 } \\qquad \\psi _ { 0 } \\equiv \\stackrel { w } { w } \\partial _ { 0 } \\qquad \\psi | 0 | \\qquad \\delta \\rangle = W | 0 | 0 | \\qquad \\delta | 0 | 0 | \\qquad \\delta | 0 | 0 | \\qquad \\delta | 0 | 0 | \\qquad \\quad \\quad \\quad \\quad \\quad \\delta \\rangle <E> <P> <P> <P> <P> <P> <P> <P> <P> <P> <P> <P> <P> <P> <P> <P> <P> <P> <P> <P> <P> <P> <P> <P> <P> <P> <P> <P> <P> <P> <P> <P> <P> <P> <P> <P> <P> <P> <P> <P> <P> <P> <P> <P> <P> <P> <P> <P> <P> <P> <P> <P> <P> <P>$"
      ],
      "text/plain": [
       "<IPython.core.display.Math object>"
      ]
     },
     "metadata": {},
     "output_type": "display_data"
    },
    {
     "name": "stdout",
     "output_type": "stream",
     "text": [
      "None\n",
      "(64, 277, 3)\n"
     ]
    },
    {
     "data": {
      "image/png": "[encoded data removed]",
      "text/plain": [
       "<PIL.Image.Image image mode=L size=277x64>"
      ]
     },
     "metadata": {},
     "output_type": "display_data"
    },
    {
     "name": "stdout",
     "output_type": "stream",
     "text": [
      "None\n",
      "torch.Size([1, 64, 277])\n",
      "\n",
      "Predicted formula:\n",
      " <S> h ( a , b , c ; \\eta ) = \\sum _ { n = 0 } ^ { \\infty } \\frac { ( a ) _ { n } ( b ) _ { n } ( b ) _ { n } { n ! ( c ) _ { n } } \\eta ( c ) _ { n } } \\eta ^ { n ( c ) _ { n } } \\eta ^ { n } , <E> <P> <P> <P> <P> <P> <P> <P> <P> <P> <P> <P> <P> <P> <P> <P> <P> <P> <P> <P> <P> <P> <P> <P> <P> <P> <P> <P> <P> <P> <P> <P> <P> <P> <P> <P> <P> <P> <P> <P> <P> <P> <P> <P> <P> <P>\n"
     ]
    },
    {
     "data": {
      "text/latex": [
       "$\\displaystyle  <S> h ( a , b , c ; \\eta ) = \\sum _ { n = 0 } ^ { \\infty } \\frac { ( a ) _ { n } ( b ) _ { n } ( b ) _ { n } { n ! ( c ) _ { n } } \\eta ( c ) _ { n } } \\eta ^ { n ( c ) _ { n } } \\eta ^ { n } , <E> <P> <P> <P> <P> <P> <P> <P> <P> <P> <P> <P> <P> <P> <P> <P> <P> <P> <P> <P> <P> <P> <P> <P> <P> <P> <P> <P> <P> <P> <P> <P> <P> <P> <P> <P> <P> <P> <P> <P> <P> <P> <P> <P> <P> <P>$"
      ],
      "text/plain": [
       "<IPython.core.display.Math object>"
      ]
     },
     "metadata": {},
     "output_type": "display_data"
    },
    {
     "name": "stdout",
     "output_type": "stream",
     "text": [
      "None\n",
      "(64, 284, 3)\n"
     ]
    },
    {
     "data": {
      "image/png": "[encoded data removed]",
      "text/plain": [
       "<PIL.Image.Image image mode=L size=284x64>"
      ]
     },
     "metadata": {},
     "output_type": "display_data"
    },
    {
     "name": "stdout",
     "output_type": "stream",
     "text": [
      "None\n",
      "torch.Size([1, 64, 284])\n",
      "\n",
      "Predicted formula:\n",
      " <S> \\mathrm { P e r m } ( S ) \\cong { \\bf S } _ { n } ( S ) \\cong { \\bf S } _ { n } . <E> <P> <P> <P> <P> <P> <P> <P> <P> <P> <P> <P> <P> <P> <P> <P> <P> <P> <P> <P> <P> <P> <P> <P> <P> <P> <P> <P> <P> <P> <P> <P> <P> <P> <P> <P> <P> <P> <P> <P> <P> <P> <P> <P> <P> <P> <P> <P> <P> <P> <P> <P> <P> <P> <P> <P> <P> <P> <P> <P> <P> <P> <P> <P> <P> <P> <P> <P> <P> <P> <P> <P> <P> <P> <P> <P> <P> <P> <P> <P> <P> <P> <P> <P> <P> <P> <P> <P> <P> <P> <P> <P> <P> <P> <P> <P> <P>\n"
     ]
    },
    {
     "data": {
      "text/latex": [
       "$\\displaystyle  <S> \\mathrm { P e r m } ( S ) \\cong { \\bf S } _ { n } ( S ) \\cong { \\bf S } _ { n } . <E> <P> <P> <P> <P> <P> <P> <P> <P> <P> <P> <P> <P> <P> <P> <P> <P> <P> <P> <P> <P> <P> <P> <P> <P> <P> <P> <P> <P> <P> <P> <P> <P> <P> <P> <P> <P> <P> <P> <P> <P> <P> <P> <P> <P> <P> <P> <P> <P> <P> <P> <P> <P> <P> <P> <P> <P> <P> <P> <P> <P> <P> <P> <P> <P> <P> <P> <P> <P> <P> <P> <P> <P> <P> <P> <P> <P> <P> <P> <P> <P> <P> <P> <P> <P> <P> <P> <P> <P> <P> <P> <P> <P> <P> <P> <P> <P>$"
      ],
      "text/plain": [
       "<IPython.core.display.Math object>"
      ]
     },
     "metadata": {},
     "output_type": "display_data"
    },
    {
     "name": "stdout",
     "output_type": "stream",
     "text": [
      "None\n",
      "(64, 242, 3)\n"
     ]
    },
    {
     "data": {
      "image/png": "[encoded data removed]",
      "text/plain": [
       "<PIL.Image.Image image mode=L size=242x64>"
      ]
     },
     "metadata": {},
     "output_type": "display_data"
    },
    {
     "name": "stdout",
     "output_type": "stream",
     "text": [
      "None\n",
      "torch.Size([1, 64, 242])\n",
      "\n",
      "Predicted formula:\n",
      " <S> m : = \\mathrm { d e g } ( f ) = q ^ { 3 } + { \\bf r } ^ { 3 } + { \\bf r } ^ { 3 } + { \\bf r } . <E> <P> <P> <P> <P> <P> <P> <P> <P> <P> <P> <P> <P> <P> <P> <P> <P> <P> <P> <P> <P> <P> <P> <P> <P> <P> <P> <P> <P> <P> <P> <P> <P> <P> <P> <P> <P> <P> <P> <P> <P> <P> <P> <P> <P> <P> <P> <P> <P> <P> <P> <P> <P> <P> <P> <P> <P> <P> <P> <P> <P> <P> <P> <P> <P> <P> <P> <P> <P> <P> <P> <P> <P> <P> <P> <P> <P> <P> <P> <P> <P> <P> <P> <P> <P> <P> <P>\n"
     ]
    },
    {
     "data": {
      "text/latex": [
       "$\\displaystyle  <S> m : = \\mathrm { d e g } ( f ) = q ^ { 3 } + { \\bf r } ^ { 3 } + { \\bf r } ^ { 3 } + { \\bf r } . <E> <P> <P> <P> <P> <P> <P> <P> <P> <P> <P> <P> <P> <P> <P> <P> <P> <P> <P> <P> <P> <P> <P> <P> <P> <P> <P> <P> <P> <P> <P> <P> <P> <P> <P> <P> <P> <P> <P> <P> <P> <P> <P> <P> <P> <P> <P> <P> <P> <P> <P> <P> <P> <P> <P> <P> <P> <P> <P> <P> <P> <P> <P> <P> <P> <P> <P> <P> <P> <P> <P> <P> <P> <P> <P> <P> <P> <P> <P> <P> <P> <P> <P> <P> <P> <P> <P>$"
      ],
      "text/plain": [
       "<IPython.core.display.Math object>"
      ]
     },
     "metadata": {},
     "output_type": "display_data"
    },
    {
     "name": "stdout",
     "output_type": "stream",
     "text": [
      "None\n",
      "(64, 277, 3)\n"
     ]
    },
    {
     "data": {
      "image/png": "[encoded data removed]",
      "text/plain": [
       "<PIL.Image.Image image mode=L size=277x64>"
      ]
     },
     "metadata": {},
     "output_type": "display_data"
    },
    {
     "name": "stdout",
     "output_type": "stream",
     "text": [
      "None\n",
      "torch.Size([1, 64, 277])\n",
      "\n",
      "Predicted formula:\n",
      " <S> p ( X = x _ { i } ) = \\sum _ { j = 1 } ^ { \\mu } p ( X = x _ { i } , Y = x _ { i } , Y = x _ { i } , Y = y _ { i } ) \\; . <E> <P> <P> <P> <P> <P> <P> <P> <P> <P> <P> <P> <P> <P> <P> <P> <P> <P> <P> <P> <P> <P> <P> <P> <P> <P> <P> <P> <P> <P> <P> <P> <P> <P> <P> <P> <P> <P> <P> <P> <P> <P> <P> <P> <P> <P> <P> <P> <P> <P> <P> <P> <P> <P> <P> <P> <P> <P> <P> <P> <P> <P> <P> <P> <P> <P> <P> <P> <P> <P> <P>\n"
     ]
    },
    {
     "data": {
      "text/latex": [
       "$\\displaystyle  <S> p ( X = x _ { i } ) = \\sum _ { j = 1 } ^ { \\mu } p ( X = x _ { i } , Y = x _ { i } , Y = x _ { i } , Y = y _ { i } ) \\; . <E> <P> <P> <P> <P> <P> <P> <P> <P> <P> <P> <P> <P> <P> <P> <P> <P> <P> <P> <P> <P> <P> <P> <P> <P> <P> <P> <P> <P> <P> <P> <P> <P> <P> <P> <P> <P> <P> <P> <P> <P> <P> <P> <P> <P> <P> <P> <P> <P> <P> <P> <P> <P> <P> <P> <P> <P> <P> <P> <P> <P> <P> <P> <P> <P> <P> <P> <P> <P> <P> <P>$"
      ],
      "text/plain": [
       "<IPython.core.display.Math object>"
      ]
     },
     "metadata": {},
     "output_type": "display_data"
    },
    {
     "name": "stdout",
     "output_type": "stream",
     "text": [
      "None\n",
      "(64, 216, 3)\n"
     ]
    },
    {
     "data": {
      "image/png": "[encoded data removed]",
      "text/plain": [
       "<PIL.Image.Image image mode=L size=216x64>"
      ]
     },
     "metadata": {},
     "output_type": "display_data"
    },
    {
     "name": "stdout",
     "output_type": "stream",
     "text": [
      "None\n",
      "torch.Size([1, 64, 216])\n",
      "\n",
      "Predicted formula:\n",
      " <S> \\rho \\left( \\frac { \\partial p } { \\partial t } + v \\cdot v \\cdot \\nabla _ { \\bf p } \\right) = - \\nabla p + \\Psi + \\Psi + \\Psi + \\Psi + \\Psi + \\nabla \\cdot T + F ^ { \\prime } + F + F ^ { \\prime } \\right) = - \\nabla _ { r } + F ^ { \\prime } + F _ { - } ^ { \\prime } <E> <P> <P> <P> <P> <P> <P> <P> <P> <P> <P> <P> <P> <P> <P> <P> <P> <P> <P> <P> <P> <P> <P> <P> <P> <P> <P> <P> <P> <P> <P> <P> <P> <P> <P> <P> <P> <P> <P> <P> <P> <P> <P> <P> <P> <P> <P> <P> <P> <P>\n"
     ]
    },
    {
     "data": {
      "text/latex": [
       "$\\displaystyle  <S> \\rho \\left( \\frac { \\partial p } { \\partial t } + v \\cdot v \\cdot \\nabla _ { \\bf p } \\right) = - \\nabla p + \\Psi + \\Psi + \\Psi + \\Psi + \\Psi + \\nabla \\cdot T + F ^ { \\prime } + F + F ^ { \\prime } \\right) = - \\nabla _ { r } + F ^ { \\prime } + F _ { - } ^ { \\prime } <E> <P> <P> <P> <P> <P> <P> <P> <P> <P> <P> <P> <P> <P> <P> <P> <P> <P> <P> <P> <P> <P> <P> <P> <P> <P> <P> <P> <P> <P> <P> <P> <P> <P> <P> <P> <P> <P> <P> <P> <P> <P> <P> <P> <P> <P> <P> <P> <P> <P>$"
      ],
      "text/plain": [
       "<IPython.core.display.Math object>"
      ]
     },
     "metadata": {},
     "output_type": "display_data"
    },
    {
     "name": "stdout",
     "output_type": "stream",
     "text": [
      "None\n",
      "(64, 455, 3)\n"
     ]
    },
    {
     "data": {
      "image/png": "[encoded data removed]",
      "text/plain": [
       "<PIL.Image.Image image mode=L size=455x64>"
      ]
     },
     "metadata": {},
     "output_type": "display_data"
    },
    {
     "name": "stdout",
     "output_type": "stream",
     "text": [
      "None\n",
      "torch.Size([1, 64, 455])\n",
      "\n",
      "Predicted formula:\n",
      " <S> \\chi ( t _ { r } ) = i _ { m - 1 } [ X , l _ { 0 } ( t _ { m } ) + \\frac { 1 } { \\Gamma ( P ) } \\sum _ { m } ^ { \\infty } \\int _ { x } ^ { x + 1 } \\int _ { x } ^ { x _ { n } } ^ { x _ { n } } ( t _ { n } - r ) ^ { B + 1 } f ( \\tau , \\chi ( v ) u _ { - } } <E> <P> <P> <P> <P> <P> <P> <P> <P> <P> <P> <P> <P> <P> <P> <P> <P>\n"
     ]
    },
    {
     "data": {
      "text/latex": [
       "$\\displaystyle  <S> \\chi ( t _ { r } ) = i _ { m - 1 } [ X , l _ { 0 } ( t _ { m } ) + \\frac { 1 } { \\Gamma ( P ) } \\sum _ { m } ^ { \\infty } \\int _ { x } ^ { x + 1 } \\int _ { x } ^ { x _ { n } } ^ { x _ { n } } ( t _ { n } - r ) ^ { B + 1 } f ( \\tau , \\chi ( v ) u _ { - } } <E> <P> <P> <P> <P> <P> <P> <P> <P> <P> <P> <P> <P> <P> <P> <P> <P>$"
      ],
      "text/plain": [
       "<IPython.core.display.Math object>"
      ]
     },
     "metadata": {},
     "output_type": "display_data"
    },
    {
     "name": "stdout",
     "output_type": "stream",
     "text": [
      "None\n",
      "(64, 640, 3)\n"
     ]
    },
    {
     "data": {
      "image/png": "[encoded data removed]",
      "text/plain": [
       "<PIL.Image.Image image mode=L size=640x64>"
      ]
     },
     "metadata": {},
     "output_type": "display_data"
    },
    {
     "name": "stdout",
     "output_type": "stream",
     "text": [
      "None\n",
      "torch.Size([1, 64, 640])\n",
      "\n",
      "Predicted formula:\n",
      " <S> Y _ { q } \\equiv \\prod _ { 1 } ^ { p p + 1 } + \\sum _ { j = 1 } ^ { p r } d _ { \\ell } ^ { p - p } = \\sum _ { j = 2 } ^ { p } d _ { \\ell } - f _ { \\ell } ^ { p } d \\chi _ { \\ell } ( X _ { j } ) + \\sum _ { r = 3 } ^ { p } d _ { \\ell } f _ { \\ell } - f ( X _ { j } ) , \\quad q = 3 r + 1 , 3 r , <E> <P> <P> <P>\n"
     ]
    },
    {
     "data": {
      "text/latex": [
       "$\\displaystyle  <S> Y _ { q } \\equiv \\prod _ { 1 } ^ { p p + 1 } + \\sum _ { j = 1 } ^ { p r } d _ { \\ell } ^ { p - p } = \\sum _ { j = 2 } ^ { p } d _ { \\ell } - f _ { \\ell } ^ { p } d \\chi _ { \\ell } ( X _ { j } ) + \\sum _ { r = 3 } ^ { p } d _ { \\ell } f _ { \\ell } - f ( X _ { j } ) , \\quad q = 3 r + 1 , 3 r , <E> <P> <P> <P>$"
      ],
      "text/plain": [
       "<IPython.core.display.Math object>"
      ]
     },
     "metadata": {},
     "output_type": "display_data"
    },
    {
     "name": "stdout",
     "output_type": "stream",
     "text": [
      "None\n",
      "(64, 562, 3)\n"
     ]
    },
    {
     "data": {
      "image/png": "[encoded data removed]",
      "text/plain": [
       "<PIL.Image.Image image mode=L size=562x64>"
      ]
     },
     "metadata": {},
     "output_type": "display_data"
    },
    {
     "name": "stdout",
     "output_type": "stream",
     "text": [
      "None\n",
      "torch.Size([1, 64, 562])\n",
      "\n",
      "Predicted formula:\n",
      " <S> X ( t _ { ( r ) } = T _ { m - 1 } ( X _ { n } ) + \\frac { 1 } { 1 } \\int _ { r = 0 } ^ { r - 1 } \\int _ { r = 0 } ^ { r - 1 } \\int _ { r = 0 } ^ { r - 1 } f ( t _ { n } - \\pi ) \\beta ^ { 2 } T ( z , \\chi ( ) d \\pi ) d \\pi <E> <P> <P> <P> <P> <P> <P> <P> <P> <P> <P> <P> <P> <P> <P> <P> <P> <P> <P> <P> <P> <P> <P> <P> <P> <P> <P> <P> <P> <P> <P>\n"
     ]
    },
    {
     "data": {
      "text/latex": [
       "$\\displaystyle  <S> X ( t _ { ( r ) } = T _ { m - 1 } ( X _ { n } ) + \\frac { 1 } { 1 } \\int _ { r = 0 } ^ { r - 1 } \\int _ { r = 0 } ^ { r - 1 } \\int _ { r = 0 } ^ { r - 1 } f ( t _ { n } - \\pi ) \\beta ^ { 2 } T ( z , \\chi ( ) d \\pi ) d \\pi <E> <P> <P> <P> <P> <P> <P> <P> <P> <P> <P> <P> <P> <P> <P> <P> <P> <P> <P> <P> <P> <P> <P> <P> <P> <P> <P> <P> <P> <P> <P>$"
      ],
      "text/plain": [
       "<IPython.core.display.Math object>"
      ]
     },
     "metadata": {},
     "output_type": "display_data"
    },
    {
     "name": "stdout",
     "output_type": "stream",
     "text": [
      "None\n",
      "(64, 135, 3)\n"
     ]
    },
    {
     "data": {
      "image/png": "[encoded data removed]",
      "text/plain": [
       "<PIL.Image.Image image mode=L size=135x64>"
      ]
     },
     "metadata": {},
     "output_type": "display_data"
    },
    {
     "name": "stdout",
     "output_type": "stream",
     "text": [
      "None\n",
      "torch.Size([1, 64, 135])\n",
      "\n",
      "Predicted formula:\n",
      " <S> \\begin{array} { l l l l l l } { 0 } & { } & { } & { } & { } & { 0 } & { } & { } & { } & { } & { } & { } & { } & { } & { } & { } & { } & { } & { } & { } & { } & { } & { } & { } & { } & { } & { } & { } & { } & { } & { } & { } & { } & { } & { } & { } & { } & { } & { } & {\n"
     ]
    },
    {
     "data": {
      "text/latex": [
       "$\\displaystyle  <S> \\begin{array} { l l l l l l } { 0 } & { } & { } & { } & { } & { 0 } & { } & { } & { } & { } & { } & { } & { } & { } & { } & { } & { } & { } & { } & { } & { } & { } & { } & { } & { } & { } & { } & { } & { } & { } & { } & { } & { } & { } & { } & { } & { } & { } & { } & {$"
      ],
      "text/plain": [
       "<IPython.core.display.Math object>"
      ]
     },
     "metadata": {},
     "output_type": "display_data"
    },
    {
     "name": "stdout",
     "output_type": "stream",
     "text": [
      "None\n",
      "(64, 291, 3)\n"
     ]
    },
    {
     "data": {
      "image/png": "[encoded data removed]",
      "text/plain": [
       "<PIL.Image.Image image mode=L size=291x64>"
      ]
     },
     "metadata": {},
     "output_type": "display_data"
    },
    {
     "name": "stdout",
     "output_type": "stream",
     "text": [
      "None\n",
      "torch.Size([1, 64, 291])\n",
      "\n",
      "Predicted formula:\n",
      " <S> \\begin{array} { l l l l l l l l l l l l l l l } ( 1 , 3 , s ) = 1 } \\\\ { \\mathrm { l o l o l o l o l } ( N - x , p ) } & { l = 1 } \\\\ { l ^ { l m a l , s } } & { l ( X - x , P ) = 1 } \\\\ { l ^ { l } } & { l ( X - x , N - x , P = x , P = 0 ) } \\\\ \\end{array} <E> <P> <P> <P> <P> <P> <P> <P> <P> <P> <P> <P> <P> <P> <P> <P>\n"
     ]
    },
    {
     "data": {
      "text/latex": [
       "$\\displaystyle  <S> \\begin{array} { l l l l l l l l l l l l l l l } ( 1 , 3 , s ) = 1 } \\\\ { \\mathrm { l o l o l o l o l } ( N - x , p ) } & { l = 1 } \\\\ { l ^ { l m a l , s } } & { l ( X - x , P ) = 1 } \\\\ { l ^ { l } } & { l ( X - x , N - x , P = x , P = 0 ) } \\\\ \\end{array} <E> <P> <P> <P> <P> <P> <P> <P> <P> <P> <P> <P> <P> <P> <P> <P>$"
      ],
      "text/plain": [
       "<IPython.core.display.Math object>"
      ]
     },
     "metadata": {},
     "output_type": "display_data"
    },
    {
     "name": "stdout",
     "output_type": "stream",
     "text": [
      "None\n",
      "(64, 384, 3)\n"
     ]
    },
    {
     "data": {
      "image/png": "[encoded data removed]",
      "text/plain": [
       "<PIL.Image.Image image mode=L size=384x64>"
      ]
     },
     "metadata": {},
     "output_type": "display_data"
    },
    {
     "name": "stdout",
     "output_type": "stream",
     "text": [
      "None\n",
      "torch.Size([1, 64, 384])\n",
      "\n",
      "Predicted formula:\n",
      " <S> \\begin{array} { c c c c c c c c c c } { \\beta } \\\\ { } & { \\mathrm { G } } & { } & { \\mathrm { c } ( s , s ^ { \\prime } ) } & { \\mathrm { c o f } ( s ^ { \\prime } ) } & { \\mathrm { c o f } ( s _ { \\prime } ^ { \\prime } ) } & { \\mathrm { c o f } } \\\\ { } & { } & { \\mathrm { c o f } } \\\\ { } & { } & { \\mathrm { c o f } } \\\\ \\end{array} \\right. <E> <P> <P> <P> <P> <P>\n"
     ]
    },
    {
     "data": {
      "text/latex": [
       "$\\displaystyle  <S> \\begin{array} { c c c c c c c c c c } { \\beta } \\\\ { } & { \\mathrm { G } } & { } & { \\mathrm { c } ( s , s ^ { \\prime } ) } & { \\mathrm { c o f } ( s ^ { \\prime } ) } & { \\mathrm { c o f } ( s _ { \\prime } ^ { \\prime } ) } & { \\mathrm { c o f } } \\\\ { } & { } & { \\mathrm { c o f } } \\\\ { } & { } & { \\mathrm { c o f } } \\\\ \\end{array} \\right. <E> <P> <P> <P> <P> <P>$"
      ],
      "text/plain": [
       "<IPython.core.display.Math object>"
      ]
     },
     "metadata": {},
     "output_type": "display_data"
    },
    {
     "name": "stdout",
     "output_type": "stream",
     "text": [
      "None\n",
      "(64, 114, 3)\n"
     ]
    },
    {
     "data": {
      "image/png": "[encoded data removed]",
      "text/plain": [
       "<PIL.Image.Image image mode=L size=114x64>"
      ]
     },
     "metadata": {},
     "output_type": "display_data"
    },
    {
     "name": "stdout",
     "output_type": "stream",
     "text": [
      "None\n",
      "torch.Size([1, 64, 114])\n",
      "\n",
      "Predicted formula:\n",
      " <S> R _ { 0 } = \\left( \\begin{array} { c c c c c c c c c } { 0 } & { 0 } & { 0 } & { 0 } & { 0 } & { 0 } & { 0 } & { 0 } & { 0 } & { 0 } & { 0 } & { 0 } & { 0 } & { 0 } & { 0 } & { 0 } & { 0 } & { 0 } & { 0 } & { 0 } & { 0 } & { 0 } & { 0 } & { 0 } & { 0 } & { 0 } & { 0 } \\\\ { 0\n"
     ]
    },
    {
     "data": {
      "text/latex": [
       "$\\displaystyle  <S> R _ { 0 } = \\left( \\begin{array} { c c c c c c c c c } { 0 } & { 0 } & { 0 } & { 0 } & { 0 } & { 0 } & { 0 } & { 0 } & { 0 } & { 0 } & { 0 } & { 0 } & { 0 } & { 0 } & { 0 } & { 0 } & { 0 } & { 0 } & { 0 } & { 0 } & { 0 } & { 0 } & { 0 } & { 0 } & { 0 } & { 0 } & { 0 } \\\\ { 0$"
      ],
      "text/plain": [
       "<IPython.core.display.Math object>"
      ]
     },
     "metadata": {},
     "output_type": "display_data"
    },
    {
     "name": "stdout",
     "output_type": "stream",
     "text": [
      "None\n",
      "(64, 640, 3)\n"
     ]
    },
    {
     "data": {
      "image/png": "[encoded data removed]",
      "text/plain": [
       "<PIL.Image.Image image mode=L size=640x64>"
      ]
     },
     "metadata": {},
     "output_type": "display_data"
    },
    {
     "name": "stdout",
     "output_type": "stream",
     "text": [
      "None\n",
      "torch.Size([1, 64, 640])\n",
      "\n",
      "Predicted formula:\n",
      " <S> T _ { k } = ( 1 - 2 \\xi ) \\phi \\partial _ { k } \\varphi + ( 2 \\xi - 1 / 2 ) g _ { k l } \\partial ^ { l } \\varphi \\partial _ { l } \\varphi - 2 \\xi \\varphi \\nabla _ { k } \\nabla _ { k } \\varphi + ( 1 / 2 - 2 \\xi ) m ^ { 2 } g _ { k l } \\varphi ^ { 2 } . <E> <P> <P> <P> <P> <P> <P> <P> <P> <P> <P> <P> <P> <P> <P> <P> <P> <P> <P> <P> <P> <P> <P> <P> <P> <P> <P> <P> <P> <P> <P> <P> <P> <P> <P> <P> <P> <P> <P> <P> <P> <P>\n"
     ]
    },
    {
     "data": {
      "text/latex": [
       "$\\displaystyle  <S> T _ { k } = ( 1 - 2 \\xi ) \\phi \\partial _ { k } \\varphi + ( 2 \\xi - 1 / 2 ) g _ { k l } \\partial ^ { l } \\varphi \\partial _ { l } \\varphi - 2 \\xi \\varphi \\nabla _ { k } \\nabla _ { k } \\varphi + ( 1 / 2 - 2 \\xi ) m ^ { 2 } g _ { k l } \\varphi ^ { 2 } . <E> <P> <P> <P> <P> <P> <P> <P> <P> <P> <P> <P> <P> <P> <P> <P> <P> <P> <P> <P> <P> <P> <P> <P> <P> <P> <P> <P> <P> <P> <P> <P> <P> <P> <P> <P> <P> <P> <P> <P> <P> <P>$"
      ],
      "text/plain": [
       "<IPython.core.display.Math object>"
      ]
     },
     "metadata": {},
     "output_type": "display_data"
    },
    {
     "name": "stdout",
     "output_type": "stream",
     "text": [
      "None\n",
      "(64, 363, 3)\n"
     ]
    },
    {
     "data": {
      "image/png": "[encoded data removed]",
      "text/plain": [
       "<PIL.Image.Image image mode=L size=363x64>"
      ]
     },
     "metadata": {},
     "output_type": "display_data"
    },
    {
     "name": "stdout",
     "output_type": "stream",
     "text": [
      "None\n",
      "torch.Size([1, 64, 363])\n",
      "\n",
      "Predicted formula:\n",
      " <S> \\left[ \\begin{array} { c c c c } { s } u \\frac { d x } { d X } d \\chi = u ( b ) \\psi ( b ) - i ( a ) \\psi ( a ) - \\int _ { x } ^ { s } x \\frac { s } { d X } \\frac { d u } { d X } d X _ { - } . <E> <P> <P> <P> <P> <P> <P> <P> <P> <P> <P> <P> <P> <P> <P> <P> <P> <P> <P> <P> <P> <P> <P> <P> <P> <P> <P> <P> <P> <P> <P> <P> <P> <P> <P> <P> <P> <P> <P> <P> <P> <P> <P> <P> <P> <P> <P> <P> <P> <P> <P> <P> <P>\n"
     ]
    },
    {
     "data": {
      "text/latex": [
       "$\\displaystyle  <S> \\left[ \\begin{array} { c c c c } { s } u \\frac { d x } { d X } d \\chi = u ( b ) \\psi ( b ) - i ( a ) \\psi ( a ) - \\int _ { x } ^ { s } x \\frac { s } { d X } \\frac { d u } { d X } d X _ { - } . <E> <P> <P> <P> <P> <P> <P> <P> <P> <P> <P> <P> <P> <P> <P> <P> <P> <P> <P> <P> <P> <P> <P> <P> <P> <P> <P> <P> <P> <P> <P> <P> <P> <P> <P> <P> <P> <P> <P> <P> <P> <P> <P> <P> <P> <P> <P> <P> <P> <P> <P> <P> <P>$"
      ],
      "text/plain": [
       "<IPython.core.display.Math object>"
      ]
     },
     "metadata": {},
     "output_type": "display_data"
    },
    {
     "name": "stdout",
     "output_type": "stream",
     "text": [
      "None\n",
      "(64, 474, 3)\n"
     ]
    },
    {
     "data": {
      "image/png": "[encoded data removed]",
      "text/plain": [
       "<PIL.Image.Image image mode=L size=474x64>"
      ]
     },
     "metadata": {},
     "output_type": "display_data"
    },
    {
     "name": "stdout",
     "output_type": "stream",
     "text": [
      "None\n",
      "torch.Size([1, 64, 474])\n",
      "\n",
      "Predicted formula:\n",
      " <S> { \\cal X } ( t ) = T _ { m - 1 } [ X ; t ] + \\frac { 1 } { \\Gamma ( F ) } \\int _ { t _ { 0 } } ^ { t } ( t - \\tau ) ^ { \\beta - 1 } F ( t , \\chi ( \\tau ) ) d \\pi . <E> <P> <P> <P> <P> <P> <P> <P> <P> <P> <P> <P> <P> <P> <P> <P> <P> <P> <P> <P> <P> <P> <P> <P> <P> <P> <P> <P> <P> <P> <P> <P> <P> <P> <P> <P> <P> <P> <P> <P> <P> <P> <P> <P> <P> <P> <P> <P> <P> <P> <P> <P> <P> <P> <P> <P> <P> <P> <P> <P> <P> <P>\n"
     ]
    },
    {
     "data": {
      "text/latex": [
       "$\\displaystyle  <S> { \\cal X } ( t ) = T _ { m - 1 } [ X ; t ] + \\frac { 1 } { \\Gamma ( F ) } \\int _ { t _ { 0 } } ^ { t } ( t - \\tau ) ^ { \\beta - 1 } F ( t , \\chi ( \\tau ) ) d \\pi . <E> <P> <P> <P> <P> <P> <P> <P> <P> <P> <P> <P> <P> <P> <P> <P> <P> <P> <P> <P> <P> <P> <P> <P> <P> <P> <P> <P> <P> <P> <P> <P> <P> <P> <P> <P> <P> <P> <P> <P> <P> <P> <P> <P> <P> <P> <P> <P> <P> <P> <P> <P> <P> <P> <P> <P> <P> <P> <P> <P> <P> <P>$"
      ],
      "text/plain": [
       "<IPython.core.display.Math object>"
      ]
     },
     "metadata": {},
     "output_type": "display_data"
    },
    {
     "name": "stdout",
     "output_type": "stream",
     "text": [
      "None\n",
      "(64, 135, 3)\n"
     ]
    },
    {
     "data": {
      "image/png": "[encoded data removed]",
      "text/plain": [
       "<PIL.Image.Image image mode=L size=135x64>"
      ]
     },
     "metadata": {},
     "output_type": "display_data"
    },
    {
     "name": "stdout",
     "output_type": "stream",
     "text": [
      "None\n",
      "torch.Size([1, 64, 135])\n",
      "\n",
      "Predicted formula:\n",
      " <S> \\begin{array} { l l l l l l } { 0 } & { } & { } & { } & { } & { 0 } & { } & { } & { } & { } & { } & { } & { } & { } & { } & { } & { } & { } & { } & { } & { } & { } & { } & { } & { } & { } & { } & { } & { } & { } & { } & { } & { } & { } & { } & { } & { } & { } & { } & {\n"
     ]
    },
    {
     "data": {
      "text/latex": [
       "$\\displaystyle  <S> \\begin{array} { l l l l l l } { 0 } & { } & { } & { } & { } & { 0 } & { } & { } & { } & { } & { } & { } & { } & { } & { } & { } & { } & { } & { } & { } & { } & { } & { } & { } & { } & { } & { } & { } & { } & { } & { } & { } & { } & { } & { } & { } & { } & { } & { } & {$"
      ],
      "text/plain": [
       "<IPython.core.display.Math object>"
      ]
     },
     "metadata": {},
     "output_type": "display_data"
    },
    {
     "name": "stdout",
     "output_type": "stream",
     "text": [
      "None\n",
      "(64, 384, 3)\n"
     ]
    },
    {
     "data": {
      "image/png": "[encoded data removed]",
      "text/plain": [
       "<PIL.Image.Image image mode=L size=384x64>"
      ]
     },
     "metadata": {},
     "output_type": "display_data"
    },
    {
     "name": "stdout",
     "output_type": "stream",
     "text": [
      "None\n",
      "torch.Size([1, 64, 384])\n",
      "\n",
      "Predicted formula:\n",
      " <S> \\psi _ { a c } G ) = ( \\mathrm { S } ^ { \\mathrm { i c d } } ) ^ { 3 } + i \\gamma ^ { 2 } } { 3 } ^ { 2 } + i \\gamma ^ { 2 } \\frac { 2 \\pi } { 3 } + \\frac { 2 \\pi } { 3 } + \\frac { 2 \\pi } { 3 } + \\frac { 2 } { 3 } + \\frac { 2 } { 3 } + \\frac { 2 } { 3 } + ( \\tau ) ^ { n } \\epsilon } \\right] . <E> <P> <P> <P> <P> <P> <P> <P> <P> <P> <P> <P> <P> <P> <P> <P> <P>\n"
     ]
    },
    {
     "data": {
      "text/latex": [
       "$\\displaystyle  <S> \\psi _ { a c } G ) = ( \\mathrm { S } ^ { \\mathrm { i c d } } ) ^ { 3 } + i \\gamma ^ { 2 } } { 3 } ^ { 2 } + i \\gamma ^ { 2 } \\frac { 2 \\pi } { 3 } + \\frac { 2 \\pi } { 3 } + \\frac { 2 \\pi } { 3 } + \\frac { 2 } { 3 } + \\frac { 2 } { 3 } + \\frac { 2 } { 3 } + ( \\tau ) ^ { n } \\epsilon } \\right] . <E> <P> <P> <P> <P> <P> <P> <P> <P> <P> <P> <P> <P> <P> <P> <P> <P>$"
      ],
      "text/plain": [
       "<IPython.core.display.Math object>"
      ]
     },
     "metadata": {},
     "output_type": "display_data"
    },
    {
     "name": "stdout",
     "output_type": "stream",
     "text": [
      "None\n",
      "(64, 384, 3)\n"
     ]
    },
    {
     "data": {
      "image/png": "[encoded data removed]",
      "text/plain": [
       "<PIL.Image.Image image mode=L size=384x64>"
      ]
     },
     "metadata": {},
     "output_type": "display_data"
    },
    {
     "name": "stdout",
     "output_type": "stream",
     "text": [
      "None\n",
      "torch.Size([1, 64, 384])\n",
      "\n",
      "Predicted formula:\n",
      " <S> \\begin{array} { c l l l } { A ^ { 2 } = 0 - \\frac { d Q a d s } { 8 } | ^ { 2 } + \\sqrt { \\pi d s d ^ { 2 } + r ^ { 2 } | 4 \\pi s t ^ { 2 } + \\sqrt { c ^ { 2 } } + \\sqrt { c ^ { 2 } } | ^ { 2 } + \\frac { s e ^ { 4 } } { 6 \\pi s ^ { 2 } } | - \\frac { s e ^ { 2 } } { \\sqrt { 2 } } } } & { \\mathrm { r } } & { .\n"
     ]
    },
    {
     "data": {
      "text/latex": [
       "$\\displaystyle  <S> \\begin{array} { c l l l } { A ^ { 2 } = 0 - \\frac { d Q a d s } { 8 } | ^ { 2 } + \\sqrt { \\pi d s d ^ { 2 } + r ^ { 2 } | 4 \\pi s t ^ { 2 } + \\sqrt { c ^ { 2 } } + \\sqrt { c ^ { 2 } } | ^ { 2 } + \\frac { s e ^ { 4 } } { 6 \\pi s ^ { 2 } } | - \\frac { s e ^ { 2 } } { \\sqrt { 2 } } } } & { \\mathrm { r } } & { .$"
      ],
      "text/plain": [
       "<IPython.core.display.Math object>"
      ]
     },
     "metadata": {},
     "output_type": "display_data"
    },
    {
     "name": "stdout",
     "output_type": "stream",
     "text": [
      "None\n",
      "(64, 291, 3)\n"
     ]
    },
    {
     "data": {
      "image/png": "[encoded data removed]",
      "text/plain": [
       "<PIL.Image.Image image mode=L size=291x64>"
      ]
     },
     "metadata": {},
     "output_type": "display_data"
    },
    {
     "name": "stdout",
     "output_type": "stream",
     "text": [
      "None\n",
      "torch.Size([1, 64, 291])\n",
      "\n",
      "Predicted formula:\n",
      " <S> \\begin{array} { l l l l l l l l l l l l l l l } ( 1 , 3 , s ) = 1 } \\\\ { \\mathrm { l o l o l o l o l } ( N - x , p ) } & { l = 1 } \\\\ { l ^ { l m a l , s } } & { l ( X - x , P ) = 1 } \\\\ { l ^ { l } } & { l ( X - x , N - x , P = x , P = 0 ) } \\\\ \\end{array} <E> <P> <P> <P> <P> <P> <P> <P> <P> <P> <P> <P> <P> <P> <P> <P>\n"
     ]
    },
    {
     "data": {
      "text/latex": [
       "$\\displaystyle  <S> \\begin{array} { l l l l l l l l l l l l l l l } ( 1 , 3 , s ) = 1 } \\\\ { \\mathrm { l o l o l o l o l } ( N - x , p ) } & { l = 1 } \\\\ { l ^ { l m a l , s } } & { l ( X - x , P ) = 1 } \\\\ { l ^ { l } } & { l ( X - x , N - x , P = x , P = 0 ) } \\\\ \\end{array} <E> <P> <P> <P> <P> <P> <P> <P> <P> <P> <P> <P> <P> <P> <P> <P>$"
      ],
      "text/plain": [
       "<IPython.core.display.Math object>"
      ]
     },
     "metadata": {},
     "output_type": "display_data"
    },
    {
     "name": "stdout",
     "output_type": "stream",
     "text": [
      "None\n"
     ]
    }
   ],
   "source": [
    "for image in IMAGES:\n",
    "    predict(image)"
   ]
  },
  {
   "cell_type": "code",
   "execution_count": null,
   "id": "72d2fd75",
   "metadata": {},
   "outputs": [],
   "source": []
  },
  {
   "cell_type": "code",
   "execution_count": null,
   "id": "a7106ed5",
   "metadata": {},
   "outputs": [],
   "source": []
  },
  {
   "cell_type": "code",
   "execution_count": null,
   "id": "b60ccb28",
   "metadata": {},
   "outputs": [],
   "source": []
  }
 ],
 "metadata": {
  "kernelspec": {
   "display_name": "Python 3 (ipykernel)",
   "language": "python",
   "name": "python3"
  },
  "language_info": {
   "codemirror_mode": {
    "name": "ipython",
    "version": 3
   },
   "file_extension": ".py",
   "mimetype": "text/x-python",
   "name": "python",
   "nbconvert_exporter": "python",
   "pygments_lexer": "ipython3",
   "version": "3.9.13"
  }
 },
 "nbformat": 4,
 "nbformat_minor": 5
}
