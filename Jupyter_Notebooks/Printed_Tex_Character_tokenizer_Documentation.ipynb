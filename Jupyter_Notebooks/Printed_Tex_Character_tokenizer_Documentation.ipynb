{
 "cells": [
  {
   "cell_type": "code",
   "execution_count": 1,
   "id": "ff9b8bb9",
   "metadata": {},
   "outputs": [
    {
     "name": "stdout",
     "output_type": "stream",
     "text": [
      "Starting path:/Users/gregory/PROJECT_ML/PROJECT_AMINE/image-to-tex-OCR/Jupyter_Notebooks\n",
      "Current path:/Users/gregory/PROJECT_ML/PROJECT_AMINE/image-to-tex-OCR\n"
     ]
    }
   ],
   "source": [
    "# Here we take care of paths.\n",
    "\n",
    "from pathlib import Path\n",
    "import os\n",
    "print('Starting path:' + os.getcwd())\n",
    "if os.getcwd()[-16:] == 'image-to-tex-OCR':\n",
    "    pass\n",
    "else:\n",
    "    PATH = Path().resolve().parents[0]\n",
    "    os.chdir(PATH)\n",
    "\n",
    "# make sure you are in Paragraph_to_Tex folder\n",
    "print('Current path:' + os.getcwd())"
   ]
  },
  {
   "cell_type": "code",
   "execution_count": 2,
   "id": "96a00ad2",
   "metadata": {},
   "outputs": [],
   "source": [
    "# Import the Printed_Tex_Data_Module\n",
    "\n",
    "from Data.Data_Module import Data_Module\n",
    "import seaborn as sns\n",
    "import matplotlib.pyplot as plt\n",
    "from PIL import Image\n",
    "import torch\n",
    "from torchvision import transforms\n",
    "from IPython.display import display, Math"
   ]
  },
  {
   "cell_type": "code",
   "execution_count": 4,
   "id": "897003e6",
   "metadata": {},
   "outputs": [],
   "source": [
    "data = Data_Module(stage = 'fit',\n",
    "                 set_max_label_length = 256,\n",
    "                 number_png_images_to_use_in_dataset=200*1000,\n",
    "                 labels_transform='default',\n",
    "                image_transform_name ='alb',\n",
    "                 train_val_fraction = 0.95,\n",
    "                   \n",
    "                load_vocabulary = False,\n",
    "\n",
    "\n",
    "                 batch_size = 64,\n",
    "                num_workers = 10,\n",
    "                data_on_gpu = False,\n",
    "                )\n",
    "\n",
    "\n",
    "\n",
    "# Generates the dataframe from the images and formulas\n",
    "# images need to be in the folder Data/Data_Bank/generated_png_images\n",
    "# formulas need to be in Data/Data_Bank/final_png_formulas.txt\n",
    "# image filenames need to be in Data/Data_Bank/corresponding_png_images.txt\n",
    "data.prepare_data()\n",
    "\n",
    "# if one wants to load a vocabulary do not use data.prepare_dataframe(), \n",
    "# but instead set load_vocabulary = True\n"
   ]
  },
  {
   "cell_type": "code",
   "execution_count": 5,
   "id": "707addc8",
   "metadata": {},
   "outputs": [
    {
     "data": {
      "text/html": [
       "<div>\n",
       "<style scoped>\n",
       "    .dataframe tbody tr th:only-of-type {\n",
       "        vertical-align: middle;\n",
       "    }\n",
       "\n",
       "    .dataframe tbody tr th {\n",
       "        vertical-align: top;\n",
       "    }\n",
       "\n",
       "    .dataframe thead th {\n",
       "        text-align: right;\n",
       "    }\n",
       "</style>\n",
       "<table border=\"1\" class=\"dataframe\">\n",
       "  <thead>\n",
       "    <tr style=\"text-align: right;\">\n",
       "      <th></th>\n",
       "      <th>formula</th>\n",
       "      <th>image_name</th>\n",
       "      <th>height</th>\n",
       "      <th>width</th>\n",
       "      <th>formula_length</th>\n",
       "      <th>latex_tokenized</th>\n",
       "      <th>tokenized_len</th>\n",
       "    </tr>\n",
       "  </thead>\n",
       "  <tbody>\n",
       "    <tr>\n",
       "      <th>0</th>\n",
       "      <td>\\widehat { H } = \\displaystyle \\frac { 2 \\pi }...</td>\n",
       "      <td>db69228953de400.png</td>\n",
       "      <td>64</td>\n",
       "      <td>512</td>\n",
       "      <td>289</td>\n",
       "      <td>[\\widehat, {, H, }, =, \\displaystyle, \\frac, {...</td>\n",
       "      <td>83</td>\n",
       "    </tr>\n",
       "    <tr>\n",
       "      <th>1</th>\n",
       "      <td>D _ { \\alpha } ^ { i } D ^ { j \\alpha } \\; w =...</td>\n",
       "      <td>a452f8cc9263922.png</td>\n",
       "      <td>64</td>\n",
       "      <td>512</td>\n",
       "      <td>135</td>\n",
       "      <td>[D, _, {, \\alpha, }, ^, {, i, }, D, ^, {, j, \\...</td>\n",
       "      <td>52</td>\n",
       "    </tr>\n",
       "    <tr>\n",
       "      <th>2</th>\n",
       "      <td>s h _ { 2 } + \\nu = \\partial ^ { i } \\left( 2 ...</td>\n",
       "      <td>b76614553695957.png</td>\n",
       "      <td>64</td>\n",
       "      <td>512</td>\n",
       "      <td>303</td>\n",
       "      <td>[s, h, _, {, 2, }, +, \\nu, =, \\partial, ^, {, ...</td>\n",
       "      <td>104</td>\n",
       "    </tr>\n",
       "    <tr>\n",
       "      <th>3</th>\n",
       "      <td>Q _ { 2 n } ( { \\bf A } ) = \\left\\langle { \\bf...</td>\n",
       "      <td>56102e6fec5ead8.png</td>\n",
       "      <td>64</td>\n",
       "      <td>512</td>\n",
       "      <td>74</td>\n",
       "      <td>[Q, _, {, 2, n, }, (, {, \\bf, A, }, ), =, \\lef...</td>\n",
       "      <td>24</td>\n",
       "    </tr>\n",
       "    <tr>\n",
       "      <th>4</th>\n",
       "      <td>Z _ { 2 n } = 1 - \\frac { 1 } { n } \\ell \\delt...</td>\n",
       "      <td>efbd72c272f1c47.png</td>\n",
       "      <td>64</td>\n",
       "      <td>512</td>\n",
       "      <td>199</td>\n",
       "      <td>[Z, _, {, 2, n, }, =, 1, -, \\frac, {, 1, }, {,...</td>\n",
       "      <td>76</td>\n",
       "    </tr>\n",
       "  </tbody>\n",
       "</table>\n",
       "</div>"
      ],
      "text/plain": [
       "                                             formula           image_name  \\\n",
       "0  \\widehat { H } = \\displaystyle \\frac { 2 \\pi }...  db69228953de400.png   \n",
       "1  D _ { \\alpha } ^ { i } D ^ { j \\alpha } \\; w =...  a452f8cc9263922.png   \n",
       "2  s h _ { 2 } + \\nu = \\partial ^ { i } \\left( 2 ...  b76614553695957.png   \n",
       "3  Q _ { 2 n } ( { \\bf A } ) = \\left\\langle { \\bf...  56102e6fec5ead8.png   \n",
       "4  Z _ { 2 n } = 1 - \\frac { 1 } { n } \\ell \\delt...  efbd72c272f1c47.png   \n",
       "\n",
       "   height  width  formula_length  \\\n",
       "0      64    512             289   \n",
       "1      64    512             135   \n",
       "2      64    512             303   \n",
       "3      64    512              74   \n",
       "4      64    512             199   \n",
       "\n",
       "                                     latex_tokenized  tokenized_len  \n",
       "0  [\\widehat, {, H, }, =, \\displaystyle, \\frac, {...             83  \n",
       "1  [D, _, {, \\alpha, }, ^, {, i, }, D, ^, {, j, \\...             52  \n",
       "2  [s, h, _, {, 2, }, +, \\nu, =, \\partial, ^, {, ...            104  \n",
       "3  [Q, _, {, 2, n, }, (, {, \\bf, A, }, ), =, \\lef...             24  \n",
       "4  [Z, _, {, 2, n, }, =, 1, -, \\frac, {, 1, }, {,...             76  "
      ]
     },
     "execution_count": 5,
     "metadata": {},
     "output_type": "execute_result"
    }
   ],
   "source": [
    "data.df.head(5)"
   ]
  },
  {
   "cell_type": "code",
   "execution_count": 8,
   "id": "f8e07d6f",
   "metadata": {},
   "outputs": [
    {
     "name": "stdout",
     "output_type": "stream",
     "text": [
      "Vocabulary size: 179 \n",
      "Max label length: 258 \n",
      "Start <S> goes to index  0 \n",
      "End <E> goes to index  1 \n",
      "Padding <P> goes to index  2\n"
     ]
    }
   ],
   "source": [
    "print( \n",
    "    'Vocabulary size:',len(data.vocabulary),\n",
    "    '\\nMax label length:', data.max_label_length,\n",
    "    \"\\nStart <S> goes to index \",data.vocabulary['<S>'],\n",
    "      \"\\nEnd <E> goes to index \",data.vocabulary['<E>'],\n",
    "      \"\\nPadding <P> goes to index \",data.vocabulary['<P>'],\n",
    ")"
   ]
  },
  {
   "cell_type": "code",
   "execution_count": 7,
   "id": "72c38997",
   "metadata": {},
   "outputs": [
    {
     "name": "stdout",
     "output_type": "stream",
     "text": [
      "Train/Val Data is ready for Model loading.\n"
     ]
    }
   ],
   "source": [
    "# prepeares the dataloaders with transformations and splits train/val\n",
    "data.setup()"
   ]
  },
  {
   "cell_type": "code",
   "execution_count": 10,
   "id": "970ba851",
   "metadata": {},
   "outputs": [
    {
     "data": {
      "text/plain": [
       "{0: '<S>',\n",
       " 1: '<E>',\n",
       " 2: '<P>',\n",
       " 3: '!',\n",
       " 4: '&',\n",
       " 5: '(',\n",
       " 6: ')',\n",
       " 7: '+',\n",
       " 8: ',',\n",
       " 9: '-',\n",
       " 10: '--',\n",
       " 11: '.',\n",
       " 12: '/',\n",
       " 13: '0',\n",
       " 14: '1',\n",
       " 15: '2',\n",
       " 16: '3',\n",
       " 17: '4',\n",
       " 18: '5',\n",
       " 19: '6',\n",
       " 20: '8',\n",
       " 21: ':',\n",
       " 22: ';',\n",
       " 23: '=',\n",
       " 24: '>',\n",
       " 25: 'A',\n",
       " 26: 'B',\n",
       " 27: 'C',\n",
       " 28: 'D',\n",
       " 29: 'E',\n",
       " 30: 'F',\n",
       " 31: 'G',\n",
       " 32: 'H',\n",
       " 33: 'I',\n",
       " 34: 'K',\n",
       " 35: 'L',\n",
       " 36: 'M',\n",
       " 37: 'N',\n",
       " 38: 'O',\n",
       " 39: 'P',\n",
       " 40: 'Q',\n",
       " 41: 'R',\n",
       " 42: 'S',\n",
       " 43: 'T',\n",
       " 44: 'U',\n",
       " 45: 'V',\n",
       " 46: 'W',\n",
       " 47: 'X',\n",
       " 48: 'Y',\n",
       " 49: 'Z',\n",
       " 50: '[',\n",
       " 51: '\\\\',\n",
       " 52: '\\\\,',\n",
       " 53: '\\\\:',\n",
       " 54: '\\\\;',\n",
       " 55: '\\\\Big',\n",
       " 56: '\\\\Gamma',\n",
       " 57: '\\\\Lambda',\n",
       " 58: '\\\\Omega',\n",
       " 59: '\\\\Phi',\n",
       " 60: '\\\\\\\\',\n",
       " 61: '\\\\aleph',\n",
       " 62: '\\\\alpha',\n",
       " 63: '\\\\approx',\n",
       " 64: '\\\\bar',\n",
       " 65: '\\\\begin{array}',\n",
       " 66: '\\\\begin{matrix}',\n",
       " 67: '\\\\beta',\n",
       " 68: '\\\\bf',\n",
       " 69: '\\\\cal',\n",
       " 70: '\\\\cdot',\n",
       " 71: '\\\\cdots',\n",
       " 72: '\\\\cong',\n",
       " 73: '\\\\dagger',\n",
       " 74: '\\\\delta',\n",
       " 75: '\\\\displaystyle',\n",
       " 76: '\\\\dot',\n",
       " 77: '\\\\dots',\n",
       " 78: '\\\\ell',\n",
       " 79: '\\\\end{array}',\n",
       " 80: '\\\\end{matrix}',\n",
       " 81: '\\\\epsilon',\n",
       " 82: '\\\\equiv',\n",
       " 83: '\\\\eta',\n",
       " 84: '\\\\frac',\n",
       " 85: '\\\\gamma',\n",
       " 86: '\\\\geq',\n",
       " 87: '\\\\in',\n",
       " 88: '\\\\infty',\n",
       " 89: '\\\\int',\n",
       " 90: '\\\\kappa',\n",
       " 91: '\\\\lambda',\n",
       " 92: '\\\\langle',\n",
       " 93: '\\\\lbrace',\n",
       " 94: '\\\\ldots',\n",
       " 95: '\\\\left(',\n",
       " 96: '\\\\left.',\n",
       " 97: '\\\\left[',\n",
       " 98: '\\\\left\\\\langle',\n",
       " 99: '\\\\left\\\\{',\n",
       " 100: '\\\\mathbf',\n",
       " 101: '\\\\mathcal',\n",
       " 102: '\\\\mathrm',\n",
       " 103: '\\\\mod',\n",
       " 104: '\\\\mu',\n",
       " 105: '\\\\nu',\n",
       " 106: '\\\\omega',\n",
       " 107: '\\\\overline',\n",
       " 108: '\\\\partial',\n",
       " 109: '\\\\phi',\n",
       " 110: '\\\\pi',\n",
       " 111: '\\\\pm',\n",
       " 112: '\\\\prime',\n",
       " 113: '\\\\prod',\n",
       " 114: '\\\\psi',\n",
       " 115: '\\\\qquad',\n",
       " 116: '\\\\quad',\n",
       " 117: '\\\\rangle',\n",
       " 118: '\\\\rbrace',\n",
       " 119: '\\\\rho',\n",
       " 120: '\\\\right)',\n",
       " 121: '\\\\right.',\n",
       " 122: '\\\\right\\\\rangle',\n",
       " 123: '\\\\right\\\\}',\n",
       " 124: '\\\\right]',\n",
       " 125: '\\\\rightarrow',\n",
       " 126: '\\\\sigma',\n",
       " 127: '\\\\sim',\n",
       " 128: '\\\\sqrt',\n",
       " 129: '\\\\stackrel',\n",
       " 130: '\\\\sum',\n",
       " 131: '\\\\tau',\n",
       " 132: '\\\\textstyle',\n",
       " 133: '\\\\theta',\n",
       " 134: '\\\\tilde',\n",
       " 135: '\\\\times',\n",
       " 136: '\\\\tiny',\n",
       " 137: '\\\\varphi',\n",
       " 138: '\\\\vec',\n",
       " 139: '\\\\vee',\n",
       " 140: '\\\\vert',\n",
       " 141: '\\\\wedge',\n",
       " 142: '\\\\widehat',\n",
       " 143: '\\\\zeta',\n",
       " 144: '\\\\{',\n",
       " 145: '\\\\}',\n",
       " 146: ']',\n",
       " 147: '^',\n",
       " 148: '_',\n",
       " 149: 'a',\n",
       " 150: 'b',\n",
       " 151: 'c',\n",
       " 152: 'd',\n",
       " 153: 'e',\n",
       " 154: 'f',\n",
       " 155: 'g',\n",
       " 156: 'h',\n",
       " 157: 'i',\n",
       " 158: 'j',\n",
       " 159: 'k',\n",
       " 160: 'l',\n",
       " 161: 'm',\n",
       " 162: 'n',\n",
       " 163: 'o',\n",
       " 164: 'p',\n",
       " 165: 'q',\n",
       " 166: 'r',\n",
       " 167: 's',\n",
       " 168: 't',\n",
       " 169: 'u',\n",
       " 170: 'v',\n",
       " 171: 'w',\n",
       " 172: 'x',\n",
       " 173: 'y',\n",
       " 174: 'z',\n",
       " 175: '{',\n",
       " 176: '|',\n",
       " 177: '}',\n",
       " 178: '~'}"
      ]
     },
     "execution_count": 10,
     "metadata": {},
     "output_type": "execute_result"
    }
   ],
   "source": [
    "data.inverse_vocabulary"
   ]
  },
  {
   "cell_type": "markdown",
   "id": "9da00227",
   "metadata": {},
   "source": [
    "# Checking the data \n"
   ]
  },
  {
   "cell_type": "code",
   "execution_count": null,
   "id": "9faef229",
   "metadata": {},
   "outputs": [],
   "source": [
    "data.df['image_name'][10]"
   ]
  },
  {
   "cell_type": "code",
   "execution_count": null,
   "id": "2a7aa9f6",
   "metadata": {},
   "outputs": [],
   "source": [
    "# How to access generated png images \n",
    "IMAGE_NAME = data.df['image_name'][10]\n",
    "image_path= \"Data/Data_Bank/generated_png_images/\" + IMAGE_NAME\n",
    "image = Image.open(image_path)#.convert(\"L\")\n",
    "print('Image is below')\n",
    "display(image)\n",
    "\n",
    "# Related Label\n",
    "\n",
    "image_label_list = data.df[data.df['image_name'] ==  IMAGE_NAME]['formula'].tolist()#.item()\n",
    "image_label = \" \".join(image_label_list)\n",
    "print('Label:')\n",
    "display(Math(image_label))\n",
    "print('Tex formula: \\n')\n",
    "print(data.df[data.df['image_name'] == IMAGE_NAME]['formula'].item())"
   ]
  },
  {
   "cell_type": "markdown",
   "id": "1519ec35",
   "metadata": {},
   "source": [
    "### Check  vocabulary "
   ]
  },
  {
   "cell_type": "code",
   "execution_count": null,
   "id": "c122b7bf",
   "metadata": {},
   "outputs": [],
   "source": [
    "print(data.vocabulary)"
   ]
  },
  {
   "cell_type": "code",
   "execution_count": null,
   "id": "b72dc83d",
   "metadata": {},
   "outputs": [],
   "source": [
    "# Can acrtually see the frequncies\n",
    "\n",
    "data.data_server.vocabulary_dataframe.sort_values(\"freq\", ascending=False)"
   ]
  },
  {
   "cell_type": "code",
   "execution_count": null,
   "id": "d48d010f",
   "metadata": {},
   "outputs": [],
   "source": [
    "# Plot of vocabulary\n",
    "import matplotlib.pyplot as plt\n",
    "\n",
    "# first order the columns by decsending frequncy \n",
    "data.data_server.vocabulary_dataframe = data.data_server.vocabulary_dataframe.sort_values(\"freq\", ascending=False)\n",
    "\n",
    "# next we plot them\n",
    "data.data_server.vocabulary_dataframe.plot(x=\"token\", y='freq', kind='barh', figsize =(16,75))\n",
    "plt.show()"
   ]
  },
  {
   "cell_type": "markdown",
   "id": "b7db840e",
   "metadata": {},
   "source": [
    "#### Look at the distribution of data"
   ]
  },
  {
   "cell_type": "code",
   "execution_count": null,
   "id": "c20693f2",
   "metadata": {
    "scrolled": true
   },
   "outputs": [],
   "source": [
    "# We plot the tokenized len distribution\n",
    "\n",
    "tokenized_len = data.df['tokenized_len'].value_counts()\n",
    "tokenized_len"
   ]
  },
  {
   "cell_type": "code",
   "execution_count": null,
   "id": "59ef811e",
   "metadata": {},
   "outputs": [],
   "source": [
    "# How long are formulas\n",
    "plt.figure(figsize=(40,5))\n",
    "sns.countplot(x=data.df['tokenized_len']);"
   ]
  },
  {
   "cell_type": "markdown",
   "id": "6aa3be26",
   "metadata": {},
   "source": [
    "## Acessing the data"
   ]
  },
  {
   "cell_type": "code",
   "execution_count": null,
   "id": "4ddaaf9f",
   "metadata": {},
   "outputs": [],
   "source": [
    "# Helper Function to convert prediction labels to strings\n",
    "def token_to_strings(tokens):\n",
    "    mapping = data.vocabulary\n",
    "    inverse_mapping =data.inverse_vocabulary\n",
    "    s=''\n",
    "    if tokens.shape[0] ==1:\n",
    "        tokens = tokens[0]\n",
    "    for number in tokens:\n",
    "        letter = inverse_mapping[number.item()]\n",
    "        s= s + str(letter)\n",
    "    return s\n"
   ]
  },
  {
   "cell_type": "code",
   "execution_count": null,
   "id": "f05626e4",
   "metadata": {},
   "outputs": [],
   "source": [
    "transform = transforms.ToPILImage()\n",
    "display(transform(data.data_train[1][0]))\n",
    "print(token_to_strings(data.data_train[1][1]))"
   ]
  },
  {
   "cell_type": "code",
   "execution_count": null,
   "id": "7b2ebf8a",
   "metadata": {},
   "outputs": [],
   "source": []
  },
  {
   "cell_type": "code",
   "execution_count": null,
   "id": "3b98207c",
   "metadata": {},
   "outputs": [],
   "source": []
  },
  {
   "cell_type": "code",
   "execution_count": null,
   "id": "7d09accc",
   "metadata": {},
   "outputs": [],
   "source": []
  }
 ],
 "metadata": {
  "kernelspec": {
   "display_name": "Python 3 (ipykernel)",
   "language": "python",
   "name": "python3"
  },
  "language_info": {
   "codemirror_mode": {
    "name": "ipython",
    "version": 3
   },
   "file_extension": ".py",
   "mimetype": "text/x-python",
   "name": "python",
   "nbconvert_exporter": "python",
   "pygments_lexer": "ipython3",
   "version": "3.9.7"
  }
 },
 "nbformat": 4,
 "nbformat_minor": 5
}
