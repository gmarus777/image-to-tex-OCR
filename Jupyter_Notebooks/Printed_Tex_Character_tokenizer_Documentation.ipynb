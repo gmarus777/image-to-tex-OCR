{
 "cells": [
  {
   "cell_type": "code",
   "execution_count": 1,
   "id": "8a78cfd4",
   "metadata": {},
   "outputs": [
    {
     "name": "stdout",
     "output_type": "stream",
     "text": [
      "Starting path:/Users/gregory/PROJECT_ML/PROJECT_AMINE/image-to-tex-OCR/Jupyter_Notebooks\n",
      "Current path:/Users/gregory/PROJECT_ML/PROJECT_AMINE/image-to-tex-OCR\n"
     ]
    }
   ],
   "source": [
    "# Here we take care of paths.\n",
    "\n",
    "from pathlib import Path\n",
    "import os\n",
    "print('Starting path:' + os.getcwd())\n",
    "if os.getcwd()[-16:] == 'image-to-tex-OCR':\n",
    "    pass\n",
    "else:\n",
    "    PATH = Path().resolve().parents[0]\n",
    "    os.chdir(PATH)\n",
    "\n",
    "# make sure you are in Paragraph_to_Tex folder\n",
    "print('Current path:' + os.getcwd())"
   ]
  },
  {
   "cell_type": "code",
   "execution_count": 2,
   "id": "687e824f",
   "metadata": {},
   "outputs": [],
   "source": [
    "# Import the Printed_Tex_Data_Module\n",
    "\n",
    "from Data.Data_Module import Data_Module\n",
    "import seaborn as sns\n",
    "import matplotlib.pyplot as plt\n",
    "from PIL import Image\n",
    "import torch\n",
    "from torchvision import transforms\n",
    "from IPython.display import display, Math"
   ]
  },
  {
   "cell_type": "code",
   "execution_count": 3,
   "id": "1e5f99b7",
   "metadata": {},
   "outputs": [],
   "source": [
    "df = Data_Module()\n",
    "df.prepare_data()"
   ]
  },
  {
   "cell_type": "code",
   "execution_count": 6,
   "id": "6d1c7c0f",
   "metadata": {},
   "outputs": [
    {
     "data": {
      "text/html": [
       "<div>\n",
       "<style scoped>\n",
       "    .dataframe tbody tr th:only-of-type {\n",
       "        vertical-align: middle;\n",
       "    }\n",
       "\n",
       "    .dataframe tbody tr th {\n",
       "        vertical-align: top;\n",
       "    }\n",
       "\n",
       "    .dataframe thead th {\n",
       "        text-align: right;\n",
       "    }\n",
       "</style>\n",
       "<table border=\"1\" class=\"dataframe\">\n",
       "  <thead>\n",
       "    <tr style=\"text-align: right;\">\n",
       "      <th></th>\n",
       "      <th>formula</th>\n",
       "      <th>image_name</th>\n",
       "      <th>height</th>\n",
       "      <th>width</th>\n",
       "      <th>formula_length</th>\n",
       "    </tr>\n",
       "  </thead>\n",
       "  <tbody>\n",
       "    <tr>\n",
       "      <th>0</th>\n",
       "      <td>\\widehat { H } = \\displaystyle \\frac { 2 \\pi }...</td>\n",
       "      <td>db69228953de400.png</td>\n",
       "      <td>64</td>\n",
       "      <td>512</td>\n",
       "      <td>289</td>\n",
       "    </tr>\n",
       "    <tr>\n",
       "      <th>1</th>\n",
       "      <td>D _ { \\alpha } ^ { i } D ^ { j \\alpha } \\; w =...</td>\n",
       "      <td>a452f8cc9263922.png</td>\n",
       "      <td>64</td>\n",
       "      <td>512</td>\n",
       "      <td>135</td>\n",
       "    </tr>\n",
       "    <tr>\n",
       "      <th>2</th>\n",
       "      <td>s h _ { 2 } + \\nu = \\partial ^ { i } \\left( 2 ...</td>\n",
       "      <td>b76614553695957.png</td>\n",
       "      <td>64</td>\n",
       "      <td>512</td>\n",
       "      <td>303</td>\n",
       "    </tr>\n",
       "    <tr>\n",
       "      <th>3</th>\n",
       "      <td>Q _ { 2 n } ( { \\bf A } ) = \\left\\langle { \\bf...</td>\n",
       "      <td>56102e6fec5ead8.png</td>\n",
       "      <td>64</td>\n",
       "      <td>512</td>\n",
       "      <td>74</td>\n",
       "    </tr>\n",
       "    <tr>\n",
       "      <th>4</th>\n",
       "      <td>Z _ { 2 n } = 1 - \\frac { 1 } { n } \\ell \\delt...</td>\n",
       "      <td>efbd72c272f1c47.png</td>\n",
       "      <td>64</td>\n",
       "      <td>512</td>\n",
       "      <td>199</td>\n",
       "    </tr>\n",
       "    <tr>\n",
       "      <th>...</th>\n",
       "      <td>...</td>\n",
       "      <td>...</td>\n",
       "      <td>...</td>\n",
       "      <td>...</td>\n",
       "      <td>...</td>\n",
       "    </tr>\n",
       "    <tr>\n",
       "      <th>64</th>\n",
       "      <td>\\frac { 1 } { 4 \\pi } \\int _ { l ^ { 4 } } [ |...</td>\n",
       "      <td>29e5c61c5d19549.png</td>\n",
       "      <td>64</td>\n",
       "      <td>512</td>\n",
       "      <td>155</td>\n",
       "    </tr>\n",
       "    <tr>\n",
       "      <th>65</th>\n",
       "      <td>\\vert j , m &gt; = \\frac { { a _ { + } ^ { \\dagge...</td>\n",
       "      <td>3f37131cacf0642.png</td>\n",
       "      <td>64</td>\n",
       "      <td>512</td>\n",
       "      <td>159</td>\n",
       "    </tr>\n",
       "    <tr>\n",
       "      <th>66</th>\n",
       "      <td>{ \\cal O } _ { 2 } ^ { i } { } _ { k } { \\cal ...</td>\n",
       "      <td>a31f964db6eda23.png</td>\n",
       "      <td>64</td>\n",
       "      <td>512</td>\n",
       "      <td>622</td>\n",
       "    </tr>\n",
       "    <tr>\n",
       "      <th>67</th>\n",
       "      <td>\\int d ^ { 2 } y \\, \\left( V _ { ( \\mu ) } ^ {...</td>\n",
       "      <td>b188007079ca183.png</td>\n",
       "      <td>64</td>\n",
       "      <td>512</td>\n",
       "      <td>166</td>\n",
       "    </tr>\n",
       "    <tr>\n",
       "      <th>68</th>\n",
       "      <td>e _ { \\mu } \\rightarrow e _ { \\mu } ^ { \\prime...</td>\n",
       "      <td>106d3fe3fc3274b.png</td>\n",
       "      <td>64</td>\n",
       "      <td>512</td>\n",
       "      <td>181</td>\n",
       "    </tr>\n",
       "  </tbody>\n",
       "</table>\n",
       "<p>69 rows × 5 columns</p>\n",
       "</div>"
      ],
      "text/plain": [
       "                                              formula           image_name  \\\n",
       "0   \\widehat { H } = \\displaystyle \\frac { 2 \\pi }...  db69228953de400.png   \n",
       "1   D _ { \\alpha } ^ { i } D ^ { j \\alpha } \\; w =...  a452f8cc9263922.png   \n",
       "2   s h _ { 2 } + \\nu = \\partial ^ { i } \\left( 2 ...  b76614553695957.png   \n",
       "3   Q _ { 2 n } ( { \\bf A } ) = \\left\\langle { \\bf...  56102e6fec5ead8.png   \n",
       "4   Z _ { 2 n } = 1 - \\frac { 1 } { n } \\ell \\delt...  efbd72c272f1c47.png   \n",
       "..                                                ...                  ...   \n",
       "64  \\frac { 1 } { 4 \\pi } \\int _ { l ^ { 4 } } [ |...  29e5c61c5d19549.png   \n",
       "65  \\vert j , m > = \\frac { { a _ { + } ^ { \\dagge...  3f37131cacf0642.png   \n",
       "66  { \\cal O } _ { 2 } ^ { i } { } _ { k } { \\cal ...  a31f964db6eda23.png   \n",
       "67  \\int d ^ { 2 } y \\, \\left( V _ { ( \\mu ) } ^ {...  b188007079ca183.png   \n",
       "68  e _ { \\mu } \\rightarrow e _ { \\mu } ^ { \\prime...  106d3fe3fc3274b.png   \n",
       "\n",
       "    height  width  formula_length  \n",
       "0       64    512             289  \n",
       "1       64    512             135  \n",
       "2       64    512             303  \n",
       "3       64    512              74  \n",
       "4       64    512             199  \n",
       "..     ...    ...             ...  \n",
       "64      64    512             155  \n",
       "65      64    512             159  \n",
       "66      64    512             622  \n",
       "67      64    512             166  \n",
       "68      64    512             181  \n",
       "\n",
       "[69 rows x 5 columns]"
      ]
     },
     "execution_count": 6,
     "metadata": {},
     "output_type": "execute_result"
    }
   ],
   "source": [
    "df.raw_df"
   ]
  },
  {
   "cell_type": "code",
   "execution_count": null,
   "id": "2b893bdd",
   "metadata": {},
   "outputs": [],
   "source": []
  },
  {
   "cell_type": "code",
   "execution_count": null,
   "id": "8d88346d",
   "metadata": {},
   "outputs": [],
   "source": []
  },
  {
   "cell_type": "code",
   "execution_count": null,
   "id": "e3a32164",
   "metadata": {},
   "outputs": [],
   "source": []
  },
  {
   "cell_type": "code",
   "execution_count": null,
   "id": "445f6c12",
   "metadata": {},
   "outputs": [],
   "source": []
  },
  {
   "cell_type": "code",
   "execution_count": null,
   "id": "9e11305c",
   "metadata": {},
   "outputs": [],
   "source": []
  },
  {
   "cell_type": "code",
   "execution_count": null,
   "id": "b72622e5",
   "metadata": {},
   "outputs": [],
   "source": []
  },
  {
   "cell_type": "code",
   "execution_count": null,
   "id": "e56179c6",
   "metadata": {},
   "outputs": [],
   "source": []
  },
  {
   "cell_type": "code",
   "execution_count": null,
   "id": "d6e8c08b",
   "metadata": {},
   "outputs": [],
   "source": []
  },
  {
   "cell_type": "code",
   "execution_count": null,
   "id": "1beea5eb",
   "metadata": {},
   "outputs": [],
   "source": []
  },
  {
   "cell_type": "code",
   "execution_count": null,
   "id": "0f4478fe",
   "metadata": {},
   "outputs": [],
   "source": []
  },
  {
   "cell_type": "code",
   "execution_count": null,
   "id": "9d451c11",
   "metadata": {},
   "outputs": [],
   "source": []
  },
  {
   "cell_type": "code",
   "execution_count": null,
   "id": "b27ffb7b",
   "metadata": {},
   "outputs": [],
   "source": []
  },
  {
   "cell_type": "code",
   "execution_count": null,
   "id": "24e93af9",
   "metadata": {},
   "outputs": [],
   "source": []
  }
 ],
 "metadata": {
  "kernelspec": {
   "display_name": "Python 3 (ipykernel)",
   "language": "python",
   "name": "python3"
  },
  "language_info": {
   "codemirror_mode": {
    "name": "ipython",
    "version": 3
   },
   "file_extension": ".py",
   "mimetype": "text/x-python",
   "name": "python",
   "nbconvert_exporter": "python",
   "pygments_lexer": "ipython3",
   "version": "3.9.7"
  }
 },
 "nbformat": 4,
 "nbformat_minor": 5
}
